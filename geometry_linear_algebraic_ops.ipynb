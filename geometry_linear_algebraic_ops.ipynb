{
 "cells": [
  {
   "cell_type": "markdown",
   "metadata": {
    "id": "eu1U24dMtzRy"
   },
   "source": [
    "**Notebook credit**: Based on the original D2L notebook [here](https://github.com/d2l-ai/d2l-en-colab/blob/master/chapter_appendix-mathematics-for-deep-learning/geometry-linear-algebraic-ops.ipynb).\n",
    "\n",
    "\n",
    "General pre-lecture discussion: https://normaldeviate.wordpress.com/2012/06/12/statistics-versus-machine-learning-5-2/"
   ]
  },
  {
   "cell_type": "markdown",
   "metadata": {
    "id": "lIiOShzgtzR2",
    "origin_pos": 0
   },
   "source": [
    "# Geometry and Linear Algebraic Operations\n",
    "\n",
    "Linear algebra is one of the key mathematical pillars\n",
    "underlying much of the work that we do in deep learning\n",
    "and in machine learning more broadly.\n",
    "\n",
    "Here, we will go deeper,\n",
    "highlighting some geometric interpretations of linear algebra operations,\n",
    "and introducing a few fundamental concepts.\n",
    "\n",
    "## Geometry of Vectors\n",
    "First, we need to discuss the two common geometric interpretations of vectors,\n",
    "as either points or directions in space.\n",
    "Fundamentally, a vector is a list of numbers such as the Python list below.\n"
   ]
  },
  {
   "cell_type": "code",
   "execution_count": null,
   "metadata": {
    "id": "HfmmVaoKtzR3",
    "origin_pos": 1,
    "tab": [
     "mxnet"
    ]
   },
   "outputs": [],
   "source": [
    "v = [1, 7, 0, 1] # A Python list, comments in Pythn begin with the hash sign"
   ]
  },
  {
   "cell_type": "code",
   "execution_count": null,
   "metadata": {
    "colab": {
     "base_uri": "https://localhost:8080/"
    },
    "id": "wspA0NlXhUj0",
    "outputId": "6ecddf42-ad3e-4149-8bb2-2d3bd8ced125"
   },
   "outputs": [
    {
     "name": "stdout",
     "output_type": "stream",
     "text": [
      "[1, 7, 0, 1]\n"
     ]
    }
   ],
   "source": [
    "print(v) # print() does exactly what it says!"
   ]
  },
  {
   "cell_type": "code",
   "execution_count": null,
   "metadata": {
    "colab": {
     "base_uri": "https://localhost:8080/"
    },
    "id": "_EbgPkN9ieUp",
    "outputId": "37001669-e0e9-481d-cb23-65c8b24b2d0c"
   },
   "outputs": [
    {
     "name": "stdout",
     "output_type": "stream",
     "text": [
      "[2, 8, 9, 3]\n"
     ]
    }
   ],
   "source": [
    "u = [2, 8, 9, 3] # another list\n",
    "print(u)"
   ]
  },
  {
   "cell_type": "code",
   "execution_count": null,
   "metadata": {
    "colab": {
     "base_uri": "https://localhost:8080/"
    },
    "id": "cbVtBrySilCo",
    "outputId": "a721c55e-2ef9-43e2-a35d-079b4ec13659"
   },
   "outputs": [
    {
     "data": {
      "text/plain": [
       "[2, 8, 9, 3, 1, 7, 0, 1]"
      ]
     },
     "execution_count": 29,
     "metadata": {},
     "output_type": "execute_result"
    }
   ],
   "source": [
    "u + v # adding lists concatenates them; Python doesn't treat them as vectors"
   ]
  },
  {
   "cell_type": "code",
   "execution_count": null,
   "metadata": {
    "colab": {
     "base_uri": "https://localhost:8080/"
    },
    "id": "b1mwBY-PixXC",
    "outputId": "6ad2af72-43f1-4d97-e35e-0e6e246718d5"
   },
   "outputs": [
    {
     "name": "stdout",
     "output_type": "stream",
     "text": [
      "here and there\n"
     ]
    }
   ],
   "source": [
    "a = \"here \" # adding also concatenates strings\n",
    "b = \"and there\"\n",
    "print(a+b)"
   ]
  },
  {
   "cell_type": "markdown",
   "metadata": {
    "id": "11duoGw2tzR3",
    "origin_pos": 2
   },
   "source": [
    "Mathematicians most often write this as either a *column* or *row* vector, which is to say either as\n",
    "\n",
    "$$\n",
    "\\mathbf{x} = \\begin{bmatrix}1\\\\7\\\\0\\\\1\\end{bmatrix},\n",
    "$$\n",
    "\n",
    "or\n",
    "\n",
    "$$\n",
    "\\mathbf{x}^\\top = \\begin{bmatrix}1 & 7 & 0 & 1\\end{bmatrix}.\n",
    "$$\n",
    "\n",
    "These often have different interpretations,\n",
    "where data examples are column vectors\n",
    "and weights used to form weighted sums are row vectors.\n",
    "However, it can be beneficial to be flexible.\n",
    "Though a single vector's default orientation is a column vector,\n",
    "for any matrix representing a tabular dataset,\n",
    "treating each data example as a row vector\n",
    "in the matrix\n",
    "is more conventional.\n",
    "\n",
    "Given a vector, the first interpretation\n",
    "that we should give it is as a point in space.\n",
    "In two or three dimensions, we can visualize these points\n",
    "by using the components of the vectors to define\n",
    "the location of the points in space compared\n",
    "to a fixed reference called the *origin*.  This can be seen in the figure below.\n",
    "\n",
    "![An illustration of visualizing vectors as points in the plane.  The first component of the vector gives the $x$-coordinate, the second component gives the $y$-coordinate.  Higher dimensions are analogous, although much harder to visualize.](https://github.com/d2l-ai/d2l-en-colab/blob/master/img/grid-points.svg?raw=1)\n",
    "\n",
    "This geometric point of view allows us to consider the problem on a more abstract level.\n",
    "We can start considering tasks abstractly\n",
    "as collections of points in space and picturing the task\n",
    "as discovering how to separate two distinct clusters of points.\n",
    "\n",
    "In parallel, there is a second point of view\n",
    "that people often take of vectors: as directions in space.\n",
    "Not only can we think of the vector $\\mathbf{v} = [3,2]^\\top$\n",
    "as the location $3$ units to the right and $2$ units up from the origin,\n",
    "we can also think of it as the direction itself\n",
    "to take $3$ steps to the right and $2$ steps up.\n",
    "In this way, we consider all the vectors in figure below the same.\n",
    "\n",
    "![Any vector can be visualized as an arrow in the plane.  In this case, every vector drawn is a representation of the vector $(3,2)^\\top$.](https://github.com/d2l-ai/d2l-en-colab/blob/master/img/par-vec.svg?raw=1)\n",
    "\n",
    "\n",
    "One of the benefits of this shift is that\n",
    "we can make visual sense of the act of vector addition.\n",
    "In particular, we follow the directions given by one vector,\n",
    "and then follow the directions given by the other, as is seen below.\n",
    "\n",
    "![We can visualize vector addition by first following one vector, and then another.](https://github.com/d2l-ai/d2l-en-colab/blob/master/img/vec-add.svg?raw=1)\n",
    "\n",
    "\n",
    "Vector subtraction has a similar interpretation.\n",
    "By considering the identity that $\\mathbf{u} = \\mathbf{v} + (\\mathbf{u}-\\mathbf{v})$,\n",
    "we see that the vector $\\mathbf{u}-\\mathbf{v}$ is the direction\n",
    "that takes us from the point $\\mathbf{v}$ to the point $\\mathbf{u}$.\n",
    "\n",
    "\n",
    "## Dot Products and Angles\n",
    "If we take two column vectors $\\mathbf{u}$ and $\\mathbf{v}$,\n",
    "we can form their dot product by computing:\n",
    "\n",
    "$$\\mathbf{u}^\\top\\mathbf{v} = \\sum_i u_i\\cdot v_i.$$\n",
    "\n",
    "Because the dot product is symmetric, we will mirror the notation\n",
    "of classical multiplication and write\n",
    "\n",
    "$$\n",
    "\\mathbf{u}\\cdot\\mathbf{v} = \\mathbf{u}^\\top\\mathbf{v} = \\mathbf{v}^\\top\\mathbf{u},\n",
    "$$\n",
    "\n",
    "to highlight the fact that exchanging the order of the vectors will yield the same answer.\n",
    "\n",
    "The dot product also admits a geometric interpretation: it is closely related to the angle between two vectors.  Consider the angle shown below.\n",
    "\n",
    "![Between any two vectors in the plane there is a well defined angle $\\theta$.  We will see this angle is intimately tied to the dot product.](https://github.com/d2l-ai/d2l-en-colab/blob/master/img/vec-angle.svg?raw=1)\n",
    "\n",
    "\n",
    "To start, let us consider two specific vectors:\n",
    "\n",
    "$$\n",
    "\\mathbf{v} = (r,0) \\; \\text{and} \\; \\mathbf{w} = (s\\cos(\\theta), s \\sin(\\theta)).\n",
    "$$\n",
    "\n",
    "The vector $\\mathbf{v}$ is length $r$ and runs parallel to the $x$-axis,\n",
    "and the vector $\\mathbf{w}$ is of length $s$ and at angle $\\theta$ with the $x$-axis.\n",
    "If we compute the dot product of these two vectors, we see that\n",
    "\n",
    "$$\n",
    "\\mathbf{v}\\cdot\\mathbf{w} = rs\\cos(\\theta) = \\|\\mathbf{v}\\|\\|\\mathbf{w}\\|\\cos(\\theta).\n",
    "$$\n",
    "\n",
    "With some simple algebraic manipulation, we can rearrange terms to obtain\n",
    "\n",
    "$$\n",
    "\\theta = \\arccos\\left(\\frac{\\mathbf{v}\\cdot\\mathbf{w}}{\\|\\mathbf{v}\\|\\|\\mathbf{w}\\|}\\right).\n",
    "$$\n",
    "\n",
    "In short, for these two specific vectors,\n",
    "the dot product combined with the norms tell us the angle between the two vectors. This same fact is true in general. We will not derive the expression here, however,\n",
    "if we consider writing $\\|\\mathbf{v} - \\mathbf{w}\\|^2$ in two ways:\n",
    "one with the dot product, and the other geometrically using the law of cosines,\n",
    "we can obtain the full relationship.\n",
    "Indeed, for any two vectors $\\mathbf{v}$ and $\\mathbf{w}$,\n",
    "the angle between the two vectors is\n",
    "\n",
    "$$\\theta = \\arccos\\left(\\frac{\\mathbf{v}\\cdot\\mathbf{w}}{\\|\\mathbf{v}\\|\\|\\mathbf{w}\\|}\\right).$$\n",
    "\n",
    "This is a nice result since nothing in the computation references two-dimensions.\n",
    "Indeed, we can use this in three or three million dimensions without issue.\n",
    "\n",
    "As a simple example, let us see how to compute the angle between a pair of vectors:\n"
   ]
  },
  {
   "cell_type": "code",
   "execution_count": null,
   "metadata": {
    "colab": {
     "base_uri": "https://localhost:8080/"
    },
    "id": "8WCIRugOtzR4",
    "origin_pos": 3,
    "outputId": "9fc57bc2-10d7-440a-aef4-b7dc72ef3a28",
    "tab": [
     "mxnet"
    ]
   },
   "outputs": [
    {
     "data": {
      "text/plain": [
       "3.141592653589793"
      ]
     },
     "execution_count": 31,
     "metadata": {},
     "output_type": "execute_result"
    }
   ],
   "source": [
    "%matplotlib inline\n",
    "import numpy as np\n",
    "\n",
    "def angle(v, w):\n",
    "    return np.arccos(v.dot(w) / (np.sqrt(v.dot(v)) * np.sqrt(w.dot(w))))\n",
    "\n",
    "angle(np.array([0, 1]), np.array([0, -1]))"
   ]
  },
  {
   "cell_type": "code",
   "execution_count": null,
   "metadata": {
    "colab": {
     "base_uri": "https://localhost:8080/"
    },
    "id": "uh6GlEhWrVDo",
    "outputId": "bb1009e2-79e6-430d-e490-57d5e54b8fe2"
   },
   "outputs": [
    {
     "data": {
      "text/plain": [
       "3.141592653589793"
      ]
     },
     "execution_count": 32,
     "metadata": {},
     "output_type": "execute_result"
    }
   ],
   "source": [
    "np.pi # the constant pi"
   ]
  },
  {
   "cell_type": "code",
   "execution_count": null,
   "metadata": {
    "colab": {
     "base_uri": "https://localhost:8080/"
    },
    "id": "N0_tICJWo9zW",
    "outputId": "d3a2d05e-7592-4cdd-9796-5e40a3b768cc"
   },
   "outputs": [
    {
     "data": {
      "text/plain": [
       "array([[1., 1., 1.]])"
      ]
     },
     "execution_count": 33,
     "metadata": {},
     "output_type": "execute_result"
    }
   ],
   "source": [
    "np.ones((1, 3)) # matrix consisting of 1s of a given shape"
   ]
  },
  {
   "cell_type": "code",
   "execution_count": null,
   "metadata": {
    "id": "LnTa0OuUcX3q"
   },
   "outputs": [],
   "source": [
    "u = np.array(u)"
   ]
  },
  {
   "cell_type": "code",
   "execution_count": null,
   "metadata": {
    "id": "uLerzoKycfCn"
   },
   "outputs": [],
   "source": [
    "v = np.array(v)"
   ]
  },
  {
   "cell_type": "code",
   "execution_count": null,
   "metadata": {
    "colab": {
     "base_uri": "https://localhost:8080/"
    },
    "id": "tmEwqkOkchYv",
    "outputId": "10ddac17-e34d-496b-d988-5b869abe0558"
   },
   "outputs": [
    {
     "name": "stdout",
     "output_type": "stream",
     "text": [
      "[2 8 9 3] [1 7 0 1]\n"
     ]
    }
   ],
   "source": [
    "print(u, v)"
   ]
  },
  {
   "cell_type": "code",
   "execution_count": null,
   "metadata": {
    "colab": {
     "base_uri": "https://localhost:8080/"
    },
    "id": "MaJZ7jD1clmc",
    "outputId": "67b38869-69b0-4968-81ee-b3d974ae7764"
   },
   "outputs": [
    {
     "name": "stdout",
     "output_type": "stream",
     "text": [
      "[ 3 15  9  4]\n"
     ]
    }
   ],
   "source": [
    "print(u+v) # now addition works like vector addition!"
   ]
  },
  {
   "cell_type": "markdown",
   "metadata": {
    "id": "v2zs58MotzR5",
    "origin_pos": 6
   },
   "source": [
    "We will not use it right now, but it is useful to know\n",
    "that we will refer to vectors for which the angle is $\\pi/2$\n",
    "(or equivalently $90^{\\circ}$) as being *orthogonal*.\n",
    "By examining the equation above, we see that this happens when $\\theta = \\pi/2$,\n",
    "which is the same thing as $\\cos(\\theta) = 0$.\n",
    "The only way this can happen is if the dot product itself is zero,\n",
    "and two vectors are orthogonal if and only if $\\mathbf{v}\\cdot\\mathbf{w} = 0$.\n",
    "This will prove to be a helpful formula when understanding objects geometrically.\n",
    "\n",
    "It is reasonable to ask: why is computing the angle useful?\n",
    "The answer comes in the kind of invariance we expect data to have.\n",
    "Consider an image, and a duplicate image,\n",
    "where every pixel value is the same but $10\\%$ the brightness.\n",
    "The values of the individual pixels are in general far from the original values.\n",
    "Thus, if one computed the distance between the original image and the darker one,\n",
    "the distance can be large.\n",
    "However, for most ML applications, the *content* is the same---it is still\n",
    "an image of a cat as far as a cat/dog classifier is concerned.\n",
    "However, if we consider the angle, it is not hard to see\n",
    "that for any vector $\\mathbf{v}$, the angle\n",
    "between $\\mathbf{v}$ and $0.1\\cdot\\mathbf{v}$ is zero.\n",
    "This corresponds to the fact that scaling vectors\n",
    "keeps the same direction and just changes the length.\n",
    "The angle considers the darker image identical.\n",
    "\n",
    "Examples like this are everywhere.\n",
    "In text, we might want the topic being discussed\n",
    "to not change if we write twice as long of document that says the same thing.\n",
    "For some encoding (such as counting the number of occurrences of words in some vocabulary), this corresponds to a doubling of the vector encoding the document,\n",
    "so again we can use the angle.\n",
    "\n",
    "### Cosine Similarity\n",
    "In ML contexts where the angle is employed\n",
    "to measure the closeness of two vectors,\n",
    "practitioners adopt the term *cosine similarity*\n",
    "to refer to the portion\n",
    "$$\n",
    "\\cos(\\theta) = \\frac{\\mathbf{v}\\cdot\\mathbf{w}}{\\|\\mathbf{v}\\|\\|\\mathbf{w}\\|}.\n",
    "$$\n",
    "\n",
    "The cosine takes a maximum value of $1$\n",
    "when the two vectors point in the same direction,\n",
    "a minimum value of $-1$ when they point in opposite directions,\n",
    "and a value of $0$ when the two vectors are orthogonal.\n",
    "Note that if the components of high-dimensional vectors\n",
    "are sampled randomly with mean $0$,\n",
    "their cosine will nearly always be close to $0$.\n",
    "\n",
    "\n",
    "## Hyperplanes\n",
    "\n",
    "In addition to working with vectors, another key object\n",
    "that you must understand to go far in linear algebra\n",
    "is the *hyperplane*, a generalization to higher dimensions\n",
    "of a line (two dimensions) or of a plane (three dimensions).\n",
    "In an $d$-dimensional vector space, a hyperplane has $d-1$ dimensions\n",
    "and divides the space into two half-spaces.\n",
    "\n",
    "Let us start with an example.\n",
    "Suppose that we have a column vector $\\mathbf{w}=[2,1]^\\top$. We want to know, \"what are the points $\\mathbf{v}$ with $\\mathbf{w}\\cdot\\mathbf{v} = 1$?\"\n",
    "By recalling the connection between dot products and angles above,\n",
    "we can see that this is equivalent to\n",
    "$$\n",
    "\\|\\mathbf{v}\\|\\|\\mathbf{w}\\|\\cos(\\theta) = 1 \\; \\iff \\; \\|\\mathbf{v}\\|\\cos(\\theta) = \\frac{1}{\\|\\mathbf{w}\\|} = \\frac{1}{\\sqrt{5}}.\n",
    "$$\n",
    "\n",
    "![Recalling trigonometry, we see the formula $\\|\\mathbf{v}\\|\\cos(\\theta)$ is the length of the projection of the vector $\\mathbf{v}$ onto the direction of $\\mathbf{w}$](https://github.com/d2l-ai/d2l-en-colab/blob/master/img/proj-vec.svg?raw=1)\n",
    "\n",
    "If we consider the geometric meaning of this expression,\n",
    "we see that this is equivalent to saying\n",
    "that the length of the projection of $\\mathbf{v}$\n",
    "onto the direction of $\\mathbf{w}$ is exactly $1/\\|\\mathbf{w}\\|$, as is shown above.\n",
    "The set of all points where this is true is a line\n",
    "at right angles to the vector $\\mathbf{w}$.\n",
    "If we wanted, we could find the equation for this line\n",
    "and see that it is $2x + y = 1$ or equivalently $y = 1 - 2x$.\n",
    "\n",
    "If we now look at what happens when we ask about the set of points with\n",
    "$\\mathbf{w}\\cdot\\mathbf{v} > 1$ or $\\mathbf{w}\\cdot\\mathbf{v} < 1$,\n",
    "we can see that these are cases where the projections\n",
    "are longer or shorter than $1/\\|\\mathbf{w}\\|$, respectively.\n",
    "Thus, those two inequalities define either side of the line.\n",
    "In this way, we have found a way to cut our space into two halves,\n",
    "where all the points on one side have dot product below a threshold,\n",
    "and the other side above as we see below.\n",
    "\n",
    "![If we now consider the inequality version of the expression, we see that our hyperplane (in this case: just a line) separates the space into two halves.](https://github.com/d2l-ai/d2l-en-colab/blob/master/img/space-division.svg?raw=1)\n",
    "\n",
    "The story in higher dimension is much the same.\n",
    "If we now take $\\mathbf{w} = [1,2,3]^\\top$\n",
    "and ask about the points in three dimensions with $\\mathbf{w}\\cdot\\mathbf{v} = 1$,\n",
    "we obtain a plane at right angles to the given vector $\\mathbf{w}$.\n",
    "The two inequalities again define the two sides of the plane as is shown below.\n",
    "\n",
    "![Hyperplanes in any dimension separate the space into two halves.](https://github.com/d2l-ai/d2l-en-colab/blob/master/img/space-division-3d.svg?raw=1)\n",
    "\n",
    "\n",
    "While our ability to visualize runs out at this point,\n",
    "nothing stops us from doing this in tens, hundreds, or billions of dimensions.\n",
    "This occurs often when thinking about machine learned models.\n",
    "For instance, we can understand linear classification models\n",
    "as methods to find hyperplanes that separate the different target classes.\n",
    "In this context, such hyperplanes are often referred to as *decision planes*.\n",
    "The majority of deep learned classification models end\n",
    "with a linear layer fed into a softmax,\n",
    "so one can interpret the role of the deep neural network\n",
    "to be to find a non-linear embedding such that the target classes\n",
    "can be separated cleanly by hyperplanes.\n",
    "\n",
    "To give a hand-built example, notice that we can produce a reasonable model\n",
    "to classify tiny images of t-shirts and trousers from the Fashion MNIST dataset\n",
    "(seen in :numref:`sec_fashion_mnist`)\n",
    "by just taking the vector between their means to define the decision plane\n",
    "and eyeball a crude threshold.  First we will load the data and compute the averages.\n"
   ]
  },
  {
   "cell_type": "code",
   "execution_count": 1,
   "metadata": {
    "id": "b1bUEUUptzR6",
    "origin_pos": 7,
    "tab": [
     "mxnet"
    ]
   },
   "outputs": [
    {
     "ename": "ModuleNotFoundError",
     "evalue": "No module named 'tensorflow'",
     "output_type": "error",
     "traceback": [
      "\u001b[1;31m---------------------------------------------------------------------------\u001b[0m",
      "\u001b[1;31mModuleNotFoundError\u001b[0m                       Traceback (most recent call last)",
      "Cell \u001b[1;32mIn[1], line 2\u001b[0m\n\u001b[0;32m      1\u001b[0m \u001b[38;5;66;03m# Load in the dataset\u001b[39;00m\n\u001b[1;32m----> 2\u001b[0m \u001b[38;5;28;01mfrom\u001b[39;00m \u001b[38;5;21;01mtensorflow\u001b[39;00m\u001b[38;5;21;01m.\u001b[39;00m\u001b[38;5;21;01mkeras\u001b[39;00m\u001b[38;5;21;01m.\u001b[39;00m\u001b[38;5;21;01mdatasets\u001b[39;00m \u001b[38;5;28;01mimport\u001b[39;00m fashion_mnist\n\u001b[0;32m      4\u001b[0m (x_train, y_train), (x_test, y_test) \u001b[38;5;241m=\u001b[39m fashion_mnist\u001b[38;5;241m.\u001b[39mload_data()\n",
      "\u001b[1;31mModuleNotFoundError\u001b[0m: No module named 'tensorflow'"
     ]
    }
   ],
   "source": [
    "# Load in the dataset\n",
    "from tensorflow.keras.datasets import fashion_mnist\n",
    "\n",
    "(x_train, y_train), (x_test, y_test) = fashion_mnist.load_data()"
   ]
  },
  {
   "cell_type": "code",
   "execution_count": null,
   "metadata": {
    "colab": {
     "base_uri": "https://localhost:8080/"
    },
    "id": "B5xJ-HkG152k",
    "outputId": "ab961d5c-dd88-40bf-b36c-3fa0c7b05df6"
   },
   "outputs": [],
   "source": [
    "# keep only two classes each with 6,000 examples\n",
    "X_train_0 = x_train[y_train == 0] # label id 0 is for T-shirt/top\n",
    "X_train_1 = x_train[y_train == 1] # label id 1 is for Trouser\n",
    "X_train_0.shape, X_train_1.shape"
   ]
  },
  {
   "cell_type": "code",
   "execution_count": null,
   "metadata": {
    "colab": {
     "base_uri": "https://localhost:8080/"
    },
    "id": "CSORIERc2Oaq",
    "outputId": "6c423c72-096a-4059-f3da-b7b22be7efe0"
   },
   "outputs": [
    {
     "data": {
      "text/plain": [
       "((2000, 28, 28), (2000,))"
      ]
     },
     "execution_count": 40,
     "metadata": {},
     "output_type": "execute_result"
    }
   ],
   "source": [
    "# full test set has 10,000 images, we'll just keep the 2,000 that have labels 0 or 1\n",
    "X_test = x_test[(y_test == 0) | (y_test == 1)]\n",
    "Y_test = y_test[(y_test == 0) | (y_test == 1)]\n",
    "X_test.shape, Y_test.shape"
   ]
  },
  {
   "cell_type": "code",
   "execution_count": null,
   "metadata": {
    "id": "sZOfQES22fQh"
   },
   "outputs": [],
   "source": [
    "# Compute averages\n",
    "ave_0 = np.mean(X_train_0, axis=0)\n",
    "ave_1 = np.mean(X_train_1, axis=0)"
   ]
  },
  {
   "cell_type": "code",
   "execution_count": null,
   "metadata": {
    "colab": {
     "base_uri": "https://localhost:8080/"
    },
    "id": "vkuWNuUliZMr",
    "outputId": "892b6ae7-145d-40d5-c909-913e807942d6"
   },
   "outputs": [
    {
     "data": {
      "text/plain": [
       "((28, 28), (28, 28))"
      ]
     },
     "execution_count": 42,
     "metadata": {},
     "output_type": "execute_result"
    }
   ],
   "source": [
    "ave_0.shape, ave_1.shape"
   ]
  },
  {
   "cell_type": "markdown",
   "metadata": {
    "id": "RkqbROUrtzR7",
    "origin_pos": 10
   },
   "source": [
    "It can be informative to examine these averages in detail, so let us plot what they look like.  In this case, we see that the average indeed resembles a blurry image of a t-shirt.\n"
   ]
  },
  {
   "cell_type": "code",
   "execution_count": null,
   "metadata": {
    "colab": {
     "base_uri": "https://localhost:8080/",
     "height": 430
    },
    "id": "1UQyuIFetzR7",
    "origin_pos": 11,
    "outputId": "85764597-0640-48dd-dd14-067d469b42b0",
    "tab": [
     "mxnet"
    ]
   },
   "outputs": [
    {
     "data": {
      "image/png": "[encoded data removed]",
      "text/plain": [
       "<Figure size 640x480 with 1 Axes>"
      ]
     },
     "metadata": {},
     "output_type": "display_data"
    }
   ],
   "source": [
    "import matplotlib.pyplot as plt\n",
    "import matplotlib.cm\n",
    "\n",
    "my_cmap = matplotlib.cm.Greys.reversed()\n",
    "# Plot average t-shirt\n",
    "plt.imshow(ave_0.reshape(28, 28).tolist(), cmap=my_cmap)\n",
    "plt.show()"
   ]
  },
  {
   "cell_type": "markdown",
   "metadata": {
    "id": "X27sGQ5QtzR8",
    "origin_pos": 13
   },
   "source": [
    "In the second case, we again see that the average resembles a blurry image of trousers.\n"
   ]
  },
  {
   "cell_type": "code",
   "execution_count": null,
   "metadata": {
    "colab": {
     "base_uri": "https://localhost:8080/",
     "height": 430
    },
    "id": "3wBk1nmPtzR8",
    "origin_pos": 14,
    "outputId": "86d69f63-a15d-4854-dd54-8caca4852e18",
    "tab": [
     "mxnet"
    ]
   },
   "outputs": [
    {
     "data": {
      "image/png": "[encoded data removed]",
      "text/plain": [
       "<Figure size 640x480 with 1 Axes>"
      ]
     },
     "metadata": {},
     "output_type": "display_data"
    }
   ],
   "source": [
    "# Plot average trousers\n",
    "plt.imshow(ave_1.reshape(28, 28).tolist(), cmap=my_cmap)\n",
    "plt.show()"
   ]
  },
  {
   "cell_type": "markdown",
   "metadata": {
    "id": "RcrBnIeStzR8",
    "origin_pos": 16
   },
   "source": [
    "In a fully machine learned solution, we would learn the threshold from the dataset.  In this case, we simply use a threshold that looked good on the training data by human trial and error.\n"
   ]
  },
  {
   "cell_type": "code",
   "execution_count": null,
   "metadata": {
    "colab": {
     "base_uri": "https://localhost:8080/"
    },
    "id": "KWXHAiqstzR9",
    "origin_pos": 17,
    "outputId": "bae5268b-73fe-4a6c-8b72-24c414f8a9da",
    "tab": [
     "mxnet"
    ]
   },
   "outputs": [
    {
     "name": "stdout",
     "output_type": "stream",
     "text": [
      "-2081547.7085431388 -1237754.4727981945 -1659651.0906706667\n"
     ]
    }
   ],
   "source": [
    "# Vector pointing from mean on one class to the mean of the other class\n",
    "w = (ave_1 - ave_0).T\n",
    "\n",
    "# Compute mean inner prodicts of images in the two classes with w\n",
    "ip0 = X_train_0.reshape(6000, 28*28).dot(w.flatten()).mean()\n",
    "ip1 = X_train_1.reshape(6000, 28*28).dot(w.flatten()).mean()\n",
    "threshold = (ip0+ip1)/2\n",
    "print(ip0, ip1, threshold)"
   ]
  },
  {
   "cell_type": "code",
   "execution_count": null,
   "metadata": {
    "colab": {
     "base_uri": "https://localhost:8080/"
    },
    "id": "WS7cALSb4BO3",
    "outputId": "5c1bd283-30c2-48e9-e275-b0e6034ddf15"
   },
   "outputs": [
    {
     "data": {
      "text/plain": [
       "0.8115"
      ]
     },
     "execution_count": 46,
     "metadata": {},
     "output_type": "execute_result"
    }
   ],
   "source": [
    "# Compute predictions and their accuracy on test set\n",
    "predictions = X_test.reshape(2000, 28*28).dot(w.flatten()) > threshold\n",
    "np.mean(1.0*predictions == Y_test)"
   ]
  },
  {
   "cell_type": "markdown",
   "metadata": {
    "id": "MmdGuKbltzR9",
    "origin_pos": 20
   },
   "source": [
    "## Geometry of Linear Transformations\n",
    "\n",
    "Through the above discussions,\n",
    "we have a solid understanding of the geometry of vectors, lengths, and angles.\n",
    "However, there is one important object we have omitted discussing,\n",
    "and that is a geometric understanding of linear transformations represented by matrices.  Fully internalizing what matrices can do to transform data\n",
    "between two potentially different high dimensional spaces takes significant practice,\n",
    "and is beyond the scope of this notebook.\n",
    "However, we can start building up intuition in two dimensions.\n",
    "\n",
    "Suppose that we have some matrix:\n",
    "\n",
    "$$\n",
    "\\mathbf{A} = \\begin{bmatrix}\n",
    "a & b \\\\ c & d\n",
    "\\end{bmatrix}.\n",
    "$$\n",
    "\n",
    "If we want to apply this to an arbitrary vector\n",
    "$\\mathbf{v} = [x, y]^\\top$,\n",
    "we multiply and see that\n",
    "\n",
    "$$\n",
    "\\begin{aligned}\n",
    "\\mathbf{A}\\mathbf{v} & = \\begin{bmatrix}a & b \\\\ c & d\\end{bmatrix}\\begin{bmatrix}x \\\\ y\\end{bmatrix} \\\\\n",
    "& = \\begin{bmatrix}ax+by\\\\ cx+dy\\end{bmatrix} \\\\\n",
    "& = x\\begin{bmatrix}a \\\\ c\\end{bmatrix} + y\\begin{bmatrix}b \\\\d\\end{bmatrix} \\\\\n",
    "& = x\\left\\{\\mathbf{A}\\begin{bmatrix}1\\\\0\\end{bmatrix}\\right\\} + y\\left\\{\\mathbf{A}\\begin{bmatrix}0\\\\1\\end{bmatrix}\\right\\}.\n",
    "\\end{aligned}\n",
    "$$\n",
    "\n",
    "This may seem like an odd computation,\n",
    "where something clear became somewhat impenetrable.\n",
    "However, it tells us that we can write the way\n",
    "that a matrix transforms *any* vector\n",
    "in terms of how it transforms *two specific vectors*:\n",
    "$[1,0]^\\top$ and $[0,1]^\\top$.\n",
    "This is worth considering for a moment.\n",
    "We have essentially reduced an infinite problem\n",
    "(what happens to any pair of real numbers)\n",
    "to a finite one (what happens to these specific vectors).\n",
    "These vectors are an example a *basis*,\n",
    "where we can write any vector in our space\n",
    "as a weighted sum of these *basis vectors*.\n",
    "\n",
    "Let us draw what happens when we use the specific matrix\n",
    "\n",
    "$$\n",
    "\\mathbf{A} = \\begin{bmatrix}\n",
    "1 & 2 \\\\\n",
    "-1 & 3\n",
    "\\end{bmatrix}.\n",
    "$$\n",
    "\n",
    "If we look at the specific vector $\\mathbf{v} = [2, -1]^\\top$,\n",
    "we see this is $2\\cdot[1,0]^\\top + -1\\cdot[0,1]^\\top$,\n",
    "and thus we know that the matrix $A$ will send this to\n",
    "$2(\\mathbf{A}[1,0]^\\top) + -1(\\mathbf{A}[0,1])^\\top = 2[1, -1]^\\top - [2,3]^\\top = [0, -5]^\\top$.\n",
    "If we follow this logic through carefully,\n",
    "say by considering the grid of all integer pairs of points,\n",
    "we see that what happens is that the matrix multiplication\n",
    "can skew, rotate, and scale the grid,\n",
    "but the grid structure must remain as you see below.\n",
    "\n",
    "![The matrix $\\mathbf{A}$ acting on the given basis vectors.  Notice how the entire grid is transported along with it.](https://github.com/d2l-ai/d2l-en-colab/blob/master/img/grid-transform.svg?raw=1)\n",
    "\n",
    "\n",
    "This is the most important intuitive point\n",
    "to internalize about linear transformations represented by matrices.\n",
    "Matrices are incapable of distorting some parts of space differently than others.\n",
    "All they can do is take the original coordinates on our space\n",
    "and skew, rotate, and scale them.\n",
    "\n",
    "Some distortions can be severe.  For instance the matrix\n",
    "\n",
    "$$\n",
    "\\mathbf{B} = \\begin{bmatrix}\n",
    "2 & -1 \\\\ 4 & -2\n",
    "\\end{bmatrix},\n",
    "$$\n",
    "\n",
    "compresses the entire two-dimensional plane down to a single line.\n",
    "Identifying and working with such transformations are the topic of a later section,\n",
    "but geometrically we can see that this is fundamentally different\n",
    "from the types of transformations we saw above.\n",
    "For instance, the result from matrix $\\mathbf{A}$ can be \"bent back\" to the original grid.  The results from matrix $\\mathbf{B}$ cannot\n",
    "because we will never know where the vector $[1,2]^\\top$ came from---was\n",
    "it $[1,1]^\\top$ or $[0, -1]^\\top$?\n",
    "\n",
    "While this picture was for a $2\\times2$ matrix,\n",
    "nothing prevents us from taking the lessons learned into higher dimensions.\n",
    "If we take similar basis vectors like $[1,0, \\ldots,0]$\n",
    "and see where our matrix sends them,\n",
    "we can start to get a feeling for how the matrix multiplication\n",
    "distorts the entire space in whatever dimension space we are dealing with.\n"
   ]
  },
  {
   "cell_type": "markdown",
   "metadata": {
    "id": "VJFaEJ2D6qLO"
   },
   "source": [
    "\n",
    "## Linear Dependence\n",
    "\n",
    "Consider again the matrix\n",
    "\n",
    "$$\n",
    "\\mathbf{B} = \\begin{bmatrix}\n",
    "2 & -1 \\\\ 4 & -2\n",
    "\\end{bmatrix}.\n",
    "$$\n",
    "\n",
    "This compresses the entire plane down to live on the single line $y = 2x$.\n",
    "The question now arises: is there some way we can detect this\n",
    "just looking at the matrix itself?\n",
    "The answer is that indeed we can.\n",
    "Let us take $\\mathbf{b}_1 = [2,4]^\\top$ and $\\mathbf{b}_2 = [-1, -2]^\\top$\n",
    "be the two columns of $\\mathbf{B}$.\n",
    "Remember that we can write everything transformed by the matrix $\\mathbf{B}$\n",
    "as a weighted sum of the columns of the matrix:\n",
    "like $a_1\\mathbf{b}_1 + a_2\\mathbf{b}_2$.\n",
    "We call this a *linear combination*.\n",
    "The fact that $\\mathbf{b}_1 = -2\\cdot\\mathbf{b}_2$\n",
    "means that we can write any linear combination of those two columns\n",
    "entirely in terms of say $\\mathbf{b}_2$ since\n",
    "\n",
    "$$\n",
    "a_1\\mathbf{b}_1 + a_2\\mathbf{b}_2 = -2a_1\\mathbf{b}_2 + a_2\\mathbf{b}_2 = (a_2-2a_1)\\mathbf{b}_2.\n",
    "$$\n",
    "\n",
    "This means that one of the columns is, in a sense, redundant\n",
    "because it does not define a unique direction in space.\n",
    "This should not surprise us too much\n",
    "since we already saw that this matrix\n",
    "collapses the entire plane down into a single line.\n",
    "Moreover, we see that the linear dependence\n",
    "$\\mathbf{b}_1 = -2\\cdot\\mathbf{b}_2$ captures this.\n",
    "To make this more symmetrical between the two vectors, we will write this as\n",
    "\n",
    "$$\n",
    "\\mathbf{b}_1  + 2\\cdot\\mathbf{b}_2 = 0.\n",
    "$$\n",
    "\n",
    "In general, we will say that a collection of vectors\n",
    "$\\mathbf{v}_1, \\ldots, \\mathbf{v}_k$ are *linearly dependent*\n",
    "if there exist coefficients $a_1, \\ldots, a_k$ *not all equal to zero* so that\n",
    "\n",
    "$$\n",
    "\\sum_{i=1}^k a_i\\mathbf{v_i} = 0.\n",
    "$$\n",
    "\n",
    "In this case, we can solve for one of the vectors\n",
    "in terms of some combination of the others,\n",
    "and effectively render it redundant.\n",
    "Thus, a linear dependence in the columns of a matrix\n",
    "is a witness to the fact that our matrix\n",
    "is compressing the space down to some lower dimension.\n",
    "If there is no linear dependence we say the vectors are *linearly independent*.\n",
    "If the columns of a matrix are linearly independent,\n",
    "no compression occurs and the operation can be undone.\n"
   ]
  },
  {
   "cell_type": "markdown",
   "metadata": {
    "id": "_Bc6DmTv6uS6"
   },
   "source": [
    "\n",
    "## Rank\n",
    "\n",
    "If we have a general $n\\times m$ matrix,\n",
    "it is reasonable to ask what dimension space the matrix maps into.\n",
    "A concept known as the *rank* will be our answer.\n",
    "In the previous section, we noted that a linear dependence\n",
    "bears witness to compression of space into a lower dimension\n",
    "and so we will be able to use this to define the notion of rank.\n",
    "In particular, the rank of a matrix $\\mathbf{A}$\n",
    "is the largest number of linearly independent columns\n",
    "amongst all subsets of columns. For example, the matrix\n",
    "\n",
    "$$\n",
    "\\mathbf{B} = \\begin{bmatrix}\n",
    "2 & 4 \\\\ -1 & -2\n",
    "\\end{bmatrix},\n",
    "$$\n",
    "\n",
    "has $\\mathrm{rank}(B)=1$, since the two columns are linearly dependent,\n",
    "but either column by itself is not linearly dependent.\n"
   ]
  },
  {
   "cell_type": "code",
   "execution_count": null,
   "metadata": {
    "colab": {
     "base_uri": "https://localhost:8080/"
    },
    "id": "E0U_cwST6zLy",
    "outputId": "c443a848-dfe4-4bf5-9802-2e79901b7207"
   },
   "outputs": [
    {
     "data": {
      "text/plain": [
       "1"
      ]
     },
     "execution_count": 47,
     "metadata": {},
     "output_type": "execute_result"
    }
   ],
   "source": [
    "B = np.array(\n",
    "    [[ 2,  4],\n",
    "     [-1, -2]]\n",
    ")\n",
    "np.linalg.matrix_rank(B)"
   ]
  },
  {
   "cell_type": "markdown",
   "metadata": {
    "id": "7zrrZgRM6x1L"
   },
   "source": [
    "\n",
    "For a more challenging example, we can consider\n",
    "\n",
    "$$\n",
    "\\mathbf{C} = \\begin{bmatrix}\n",
    "1& 3 & 0 & -1 & 0 \\\\\n",
    "-1 & 0 & 1 & 1 & -1 \\\\\n",
    "0 & 3 & 1 & 0 & -1 \\\\\n",
    "2 & 3 & -1 & -2 & 1\n",
    "\\end{bmatrix},\n",
    "$$\n",
    "\n",
    "and show that $\\mathbf{C}$ has rank two since, for instance,\n",
    "the first two columns are linearly independent,\n",
    "however any of the four collections of three columns are dependent.\n",
    "\n",
    "This procedure, as described, is very inefficient.\n",
    "It requires looking at every subset of the columns of our given matrix,\n",
    "and thus is potentially exponential in the number of columns.\n",
    "Later we will see a more computationally efficient way\n",
    "to compute the rank of a matrix, but for now,\n",
    "this is sufficient to see that the concept\n",
    "is well defined and understand the meaning.\n"
   ]
  },
  {
   "cell_type": "code",
   "execution_count": null,
   "metadata": {
    "colab": {
     "base_uri": "https://localhost:8080/"
    },
    "id": "n9xP6k6l7NgU",
    "outputId": "4f53a83e-60f9-4745-9dfb-2bfaca295203"
   },
   "outputs": [
    {
     "data": {
      "text/plain": [
       "2"
      ]
     },
     "execution_count": 48,
     "metadata": {},
     "output_type": "execute_result"
    }
   ],
   "source": [
    "C = np.array(\n",
    "    [\n",
    "     [ 1,  3,  0, -1,  0],\n",
    "     [-1,  0,  1,  1, -1],\n",
    "     [ 0,  3,  1,  0, -1],\n",
    "     [ 2,  3, -1, -2,  1]\n",
    "    ]\n",
    ")\n",
    "np.linalg.matrix_rank(C)"
   ]
  },
  {
   "cell_type": "markdown",
   "metadata": {
    "id": "33IePr7n7MWj"
   },
   "source": [
    "\n",
    "## Invertibility\n",
    "\n",
    "We have seen above that multiplication by a matrix with linearly dependent columns\n",
    "cannot be undone, i.e., there is no inverse operation that can always recover the input.  However, multiplication by a full-rank matrix\n",
    "(i.e., some $\\mathbf{A}$ that is $n \\times n$ matrix with rank $n$),\n",
    "we should always be able to undo it.  Consider the matrix\n",
    "\n",
    "$$\n",
    "\\mathbf{I} = \\begin{bmatrix}\n",
    "1 & 0 & \\cdots & 0 \\\\\n",
    "0 & 1 & \\cdots & 0 \\\\\n",
    "\\vdots & \\vdots & \\ddots & \\vdots \\\\\n",
    "0 & 0 & \\cdots & 1\n",
    "\\end{bmatrix}.\n",
    "$$\n",
    "\n",
    "which is the matrix with ones along the diagonal, and zeros elsewhere.\n",
    "We call this the *identity* matrix.\n",
    "It is the matrix which leaves our data unchanged when applied.\n",
    "To find a matrix which undoes what our matrix $\\mathbf{A}$ has done,\n",
    "we want to find a matrix $\\mathbf{A}^{-1}$ such that\n",
    "\n",
    "$$\n",
    "\\mathbf{A}^{-1}\\mathbf{A} = \\mathbf{A}\\mathbf{A}^{-1} =  \\mathbf{I}.\n",
    "$$\n",
    "\n",
    "If we look at this as a system, we have $n \\times n$ unknowns\n",
    "(the entries of $\\mathbf{A}^{-1}$) and $n \\times n$ equations\n",
    "(the equality that needs to hold between every entry of the product $\\mathbf{A}^{-1}\\mathbf{A}$ and every entry of $\\mathbf{I}$)\n",
    "so we should generically expect a solution to exist.\n",
    "Indeed, in the next section we will see a quantity called the *determinant*,\n",
    "which has the property that as long as the determinant is not zero, we can find a solution.  We call such a matrix $\\mathbf{A}^{-1}$ the *inverse* matrix.\n",
    "As an example, if $\\mathbf{A}$ is the general $2 \\times 2$ matrix\n",
    "\n",
    "$$\n",
    "\\mathbf{A} = \\begin{bmatrix}\n",
    "a & b \\\\\n",
    "c & d\n",
    "\\end{bmatrix},\n",
    "$$\n",
    "\n",
    "then we can see that the inverse is\n",
    "\n",
    "$$\n",
    " \\frac{1}{ad-bc}  \\begin{bmatrix}\n",
    "d & -b \\\\\n",
    "-c & a\n",
    "\\end{bmatrix}.\n",
    "$$\n",
    "\n",
    "We can test to see this by seeing that multiplying\n",
    "by the inverse given by the formula above works in practice.\n"
   ]
  },
  {
   "cell_type": "code",
   "execution_count": null,
   "metadata": {
    "colab": {
     "base_uri": "https://localhost:8080/"
    },
    "id": "aOQzP2KrtzR-",
    "origin_pos": 21,
    "outputId": "2eff8890-f20c-4f25-93bb-e1ddc6809422",
    "tab": [
     "mxnet"
    ]
   },
   "outputs": [
    {
     "data": {
      "text/plain": [
       "array([[1., 0.],\n",
       "       [0., 1.]])"
      ]
     },
     "execution_count": 49,
     "metadata": {},
     "output_type": "execute_result"
    }
   ],
   "source": [
    "def two_by_two_inv(M):\n",
    "  a, b, c, d = M.flatten()\n",
    "  inv = np.array([\n",
    "      [ d, -b],\n",
    "      [-c,  a]\n",
    "  ])\n",
    "  inv = inv / (a*d - b*c)\n",
    "  return inv\n",
    "\n",
    "M = np.array([[1, 2], [1, 4]])\n",
    "M_inv = two_by_two_inv(M)\n",
    "M_inv.dot(M)"
   ]
  },
  {
   "cell_type": "markdown",
   "metadata": {
    "id": "rnU2YmtBHaeT"
   },
   "source": [
    "\n",
    "## Summary\n",
    "* Vectors can be interpreted geometrically as either points or directions in space.\n",
    "* Dot products define the notion of angle to arbitrarily high-dimensional spaces.\n",
    "* Hyperplanes are high-dimensional generalizations of lines and planes.  They can be used to define decision planes that are often used as the last step in a classification task.\n",
    "* Matrix multiplication can be geometrically interpreted as uniform distortions of the underlying coordinates. They represent a very restricted, but mathematically clean, way to transform vectors.\n",
    "* Linear dependence is a way to tell when a collection of vectors are in a lower dimensional space than we would expect (say you have $3$ vectors living in a $2$-dimensional space). The rank of a matrix is the size of the largest subset of its columns that are linearly independent.\n",
    "* When a matrix's inverse is defined, matrix inversion allows us to find another matrix that undoes the action of the first.\n"
   ]
  }
 ],
 "metadata": {
  "colab": {
   "provenance": []
  },
  "kernelspec": {
   "display_name": "Python 3 (ipykernel)",
   "language": "python",
   "name": "python3"
  },
  "language_info": {
   "codemirror_mode": {
    "name": "ipython",
    "version": 3
   },
   "file_extension": ".py",
   "mimetype": "text/x-python",
   "name": "python",
   "nbconvert_exporter": "python",
   "pygments_lexer": "ipython3",
   "version": "3.11.5"
  }
 },
 "nbformat": 4,
 "nbformat_minor": 1
}
