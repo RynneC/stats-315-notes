{
  "cells": [
    {
      "cell_type": "markdown",
      "metadata": {
        "id": "i5bJkbR6F65N"
      },
      "source": [
        "**Notebook credit**: based on the F. Chollet's original notebook [here](https://github.com/fchollet/deep-learning-with-python-notebooks/blob/master/chapter04_getting-started-with-neural-networks.ipynb)."
      ]
    },
    {
      "cell_type": "markdown",
      "source": [],
      "metadata": {
        "id": "ehaX9Bk3yYcb"
      }
    },
    {
      "cell_type": "markdown",
      "metadata": {
        "id": "FjIQ17OZF65d"
      },
      "source": [
        "## Predicting house prices: A regression example\n",
        "\n",
        "We have discussed _regression problems_ before\n",
        "These consist of predicting a continuous value instead of a discrete label:\n",
        "- predicting the temperature tomorrow, given meteorological data\n",
        "- predicting the time that a software project will take to complete, given its specifications\n",
        "\n",
        "However, we only discussed the linear regression case before where our predictions models were *linear*. Deep learning allows us to buil complex *non-linear* prediction models."
      ]
    },
    {
      "cell_type": "markdown",
      "metadata": {
        "id": "0Ti7sOmNF65d"
      },
      "source": [
        "## The Boston Housing Price dataset\n",
        "\n",
        "- we’ll predict the median price of homes in a given Boston suburb in the mid-1970s\n",
        "- features of the suburb include things like the crime rate, the local property tax rate, and so on\n",
        "- it has relatively few data points: only 506, split between 404 training samples and 102 test samples\n",
        "- each feature in the input data (for example, the crime rate) has a different scale\n",
        "  - some values are proportions, which take values between 0 and 1\n",
        "  - others take values between 1 and 12\n",
        "  - others between 0 and 100, and so on."
      ]
    },
    {
      "cell_type": "markdown",
      "metadata": {
        "id": "ahe_jhL5F65e"
      },
      "source": [
        "**Loading the Boston housing dataset**"
      ]
    },
    {
      "cell_type": "code",
      "execution_count": 1,
      "metadata": {
        "id": "5B84BsKnF65e"
      },
      "outputs": [],
      "source": [
        "import tensorflow as tf\n",
        "import numpy as np\n",
        "from tensorflow import keras\n",
        "from tensorflow.keras import layers\n",
        "from matplotlib import pyplot as plt"
      ]
    },
    {
      "cell_type": "code",
      "source": [
        "\n",
        "from tensorflow.keras.datasets import boston_housing\n",
        "(train_data, train_targets), (test_data, test_targets) = boston_housing.load_data()"
      ],
      "metadata": {
        "id": "J4obUJiunhQF",
        "colab": {
          "base_uri": "https://localhost:8080/"
        },
        "outputId": "81a02ae6-00c0-49f7-837e-703e056f1c7a"
      },
      "execution_count": 2,
      "outputs": [
        {
          "output_type": "stream",
          "name": "stdout",
          "text": [
            "Downloading data from https://storage.googleapis.com/tensorflow/tf-keras-datasets/boston_housing.npz\n",
            "57026/57026 [==============================] - 0s 1us/step\n"
          ]
        }
      ]
    },
    {
      "cell_type": "markdown",
      "source": [
        "### train data 的形状: 404 examples, 13 个 features each"
      ],
      "metadata": {
        "id": "sMEBE8H0yd5y"
      }
    },
    {
      "cell_type": "code",
      "execution_count": 3,
      "metadata": {
        "id": "hWdgxNq8F65e",
        "colab": {
          "base_uri": "https://localhost:8080/"
        },
        "outputId": "873087fd-4476-4e2a-bd27-39d5f58b1b62"
      },
      "outputs": [
        {
          "output_type": "execute_result",
          "data": {
            "text/plain": [
              "(404, 13)"
            ]
          },
          "metadata": {},
          "execution_count": 3
        }
      ],
      "source": [
        "train_data.shape # 404 training examples with 13 features each"
      ]
    },
    {
      "cell_type": "code",
      "source": [
        "train_data[0:5]"
      ],
      "metadata": {
        "colab": {
          "base_uri": "https://localhost:8080/"
        },
        "id": "0NRFWw_XySST",
        "outputId": "2a8ce1e3-8086-42c2-ad6d-b7e77b96a063"
      },
      "execution_count": 12,
      "outputs": [
        {
          "output_type": "execute_result",
          "data": {
            "text/plain": [
              "array([[-0.27224633, -0.48361547, -0.43576161, -0.25683275, -0.1652266 ,\n",
              "        -0.1764426 ,  0.81306188,  0.1166983 , -0.62624905, -0.59517003,\n",
              "         1.14850044,  0.44807713,  0.8252202 ],\n",
              "       [-0.40342651,  2.99178419, -1.33391162, -0.25683275, -1.21518188,\n",
              "         1.89434613, -1.91036058,  1.24758524, -0.85646254, -0.34843254,\n",
              "        -1.71818909,  0.43190599, -1.32920239],\n",
              "       [ 0.1249402 , -0.48361547,  1.0283258 , -0.25683275,  0.62864202,\n",
              "        -1.82968811,  1.11048828, -1.18743907,  1.67588577,  1.5652875 ,\n",
              "         0.78447637,  0.22061726, -1.30850006],\n",
              "       [-0.40149354, -0.48361547, -0.86940196, -0.25683275, -0.3615597 ,\n",
              "        -0.3245576 , -1.23667187,  1.10717989, -0.51114231, -1.094663  ,\n",
              "         0.78447637,  0.44807713, -0.65292624],\n",
              "       [-0.0056343 , -0.48361547,  1.0283258 , -0.25683275,  1.32861221,\n",
              "         0.15364225,  0.69480801, -0.57857203,  1.67588577,  1.5652875 ,\n",
              "         0.78447637,  0.3898823 ,  0.26349695]])"
            ]
          },
          "metadata": {},
          "execution_count": 12
        }
      ]
    },
    {
      "cell_type": "markdown",
      "source": [
        "There is quite a bit of variation in the ranges that the 13 features lie in. The features themselves are described [here](http://lib.stat.cmu.edu/datasets/boston)."
      ],
      "metadata": {
        "id": "ebsKqow1ZrXA"
      }
    },
    {
      "cell_type": "code",
      "source": [
        "tf.reduce_min(train_data, axis=0).numpy()"
      ],
      "metadata": {
        "colab": {
          "base_uri": "https://localhost:8080/"
        },
        "id": "sVTWJkVhZJIA",
        "outputId": "7690346f-2ade-420b-b0e1-f2d3484a1bf1"
      },
      "execution_count": 4,
      "outputs": [
        {
          "output_type": "execute_result",
          "data": {
            "text/plain": [
              "array([6.3200e-03, 0.0000e+00, 4.6000e-01, 0.0000e+00, 3.8500e-01,\n",
              "       3.5610e+00, 2.9000e+00, 1.1296e+00, 1.0000e+00, 1.8800e+02,\n",
              "       1.2600e+01, 3.2000e-01, 1.7300e+00])"
            ]
          },
          "metadata": {},
          "execution_count": 4
        }
      ]
    },
    {
      "cell_type": "code",
      "source": [
        "tf.reduce_max(train_data, axis=0).numpy()"
      ],
      "metadata": {
        "colab": {
          "base_uri": "https://localhost:8080/"
        },
        "id": "f0pinuwhZgwx",
        "outputId": "a2f044f4-e88c-4bad-a0ee-c5955e9b4bd7"
      },
      "execution_count": 5,
      "outputs": [
        {
          "output_type": "execute_result",
          "data": {
            "text/plain": [
              "array([ 88.9762, 100.    ,  27.74  ,   1.    ,   0.871 ,   8.725 ,\n",
              "       100.    ,  10.7103,  24.    , 711.    ,  22.    , 396.9   ,\n",
              "        37.97  ])"
            ]
          },
          "metadata": {},
          "execution_count": 5
        }
      ]
    },
    {
      "cell_type": "code",
      "execution_count": 6,
      "metadata": {
        "id": "hXb6oHhoF65e",
        "colab": {
          "base_uri": "https://localhost:8080/"
        },
        "outputId": "c20919d9-248e-4a68-d01d-4d123767c9bd"
      },
      "outputs": [
        {
          "output_type": "execute_result",
          "data": {
            "text/plain": [
              "(102, 13)"
            ]
          },
          "metadata": {},
          "execution_count": 6
        }
      ],
      "source": [
        "test_data.shape # 102 training examples with 13 features each"
      ]
    },
    {
      "cell_type": "code",
      "execution_count": 7,
      "metadata": {
        "id": "3B_XCGNGF65e",
        "colab": {
          "base_uri": "https://localhost:8080/"
        },
        "outputId": "ddf063cd-5435-4b55-e31f-f2eb7e5714d9"
      },
      "outputs": [
        {
          "output_type": "execute_result",
          "data": {
            "text/plain": [
              "array([15.2, 42.3, 50. , 21.1, 17.7, 18.5, 11.3, 15.6, 15.6, 14.4])"
            ]
          },
          "metadata": {},
          "execution_count": 7
        }
      ],
      "source": [
        "train_targets[:10] # prices in 1000s of dollar! good old days :)"
      ]
    },
    {
      "cell_type": "code",
      "source": [
        "[train_targets.min(), train_targets.max()] # prices range from 5K to 50K"
      ],
      "metadata": {
        "colab": {
          "base_uri": "https://localhost:8080/"
        },
        "id": "mZuZqzpeaE0x",
        "outputId": "acfd8cce-865f-4298-ee70-235000d32c2a"
      },
      "execution_count": 13,
      "outputs": [
        {
          "output_type": "execute_result",
          "data": {
            "text/plain": [
              "[5.0, 50.0]"
            ]
          },
          "metadata": {},
          "execution_count": 13
        }
      ]
    },
    {
      "cell_type": "markdown",
      "metadata": {
        "id": "rUFU_py4F65e"
      },
      "source": [
        "## 数据预处理: Feature-wise Normalization\n",
        "\n",
        "由于我们的数据有 13 个 features, 每个的数据尺度不同, 所以最后的结果可能会非常倾向于把大的权重赋给数据尺度大的 feature. 因而我们需要对数据进行一些 normalization.\n",
        "\n",
        "- widespread best practice is to do feature-wise normalization\n",
        "- for each feature in the input data (a column in the input data matrix):\n",
        "  - subtract the mean of the feature, and\n",
        "  - divide by the standard deviation\n",
        "- after this normalization, every feature is centered around 0 and has a unit standard deviation"
      ]
    },
    {
      "cell_type": "markdown",
      "metadata": {
        "id": "mBRzXtYHF65e"
      },
      "source": [
        "### **Normalizing the data**"
      ]
    },
    {
      "cell_type": "code",
      "execution_count": 15,
      "metadata": {
        "id": "0rDnTbfmF65e"
      },
      "outputs": [],
      "source": [
        "mean = train_data.mean(axis=0)   # compute column means means move along rows, i.e., axis=0\n",
        "train_data -= mean               # not same shape, broadcasting occurs\n",
        "std = train_data.std(axis=0)     # compute column std\n",
        "train_data /= std\n",
        "test_data -= mean                # we do NOT use test set mean and std!\n",
        "test_data /= std"
      ]
    },
    {
      "cell_type": "markdown",
      "metadata": {
        "id": "I1Gehu8PF65e"
      },
      "source": [
        "### Building your model\n",
        "\n",
        "- because few samples are available, we'll use a very small model\n",
        "- two intermediate layers, each with 64 units\n",
        "- the less training data you have, the worse overfitting will be\n",
        "- using a small model is one way to mitigate overfitting"
      ]
    },
    {
      "cell_type": "markdown",
      "metadata": {
        "id": "AGMQtqC7F65e"
      },
      "source": [
        "## **Model definition**. 新的 loss function 和 metrics\n",
        "\n",
        "`\"mse\"` = mean squared error\n",
        "\n",
        "`\"mae\"` = mean absolute error"
      ]
    },
    {
      "cell_type": "code",
      "execution_count": 16,
      "metadata": {
        "id": "IdDHKQDTF65f"
      },
      "outputs": [],
      "source": [
        "def build_model():\n",
        "    model = keras.Sequential([\n",
        "        layers.Dense(64, activation=\"relu\"),\n",
        "        layers.Dense(64, activation=\"relu\"),\n",
        "        layers.Dense(1) # final layer is linear, linear regression corresponds to just having this layer\n",
        "    ])\n",
        "    model.compile(optimizer=\"rmsprop\", loss=\"mse\", metrics=[\"mae\"]) # mse will be used a loss, but mae will also be monitored\n",
        "    return model"
      ]
    },
    {
      "cell_type": "markdown",
      "metadata": {
        "id": "4EmilwrkF65f"
      },
      "source": [
        "## K-fold validation\n",
        "\n",
        "K-fold validation 的意思是将数据集分成 K 个 folds;\n",
        "模型训练时将会进行 K 次, 每次选取其中一个不同的子集作为验证集, 其余的K-1个子集作为训练集; 通过这种方式, 每个数据点都会被用作验证集一次, 作为训练集K-1次;\n",
        "最终模型的性能是这K次训练验证中得到的性能指标的平均值.\n",
        "\n",
        "K-fold validation 可以提高数据利用率, 减少过拟合, 但是也有一些 drawbacks:\n",
        "\n",
        "- but we have so few data points\n",
        "- validation set would end up being very small (e.g., about 100 examples\n",
        "- validation scores might change a lot depending on which data points we chose for validation and which we chose for training\n",
        "- the validation scores might have a high variance with regard to the validation split\n",
        "- would prevent us from reliably evaluating our model.\n",
        "- best practice in such situations is to use K-fold cross-validation (see figure 4.8)\n",
        "\n",
        "<img src=\"https://github.com/ambujtewari/stats315-winter2022/raw/main/images/k-fold.png\" width=\"500\">"
      ]
    },
    {
      "cell_type": "markdown",
      "metadata": {
        "id": "chIRlckkF65f"
      },
      "source": [
        "**K-fold validation**"
      ]
    },
    {
      "cell_type": "code",
      "execution_count": 17,
      "metadata": {
        "id": "0dcT2kf3F65f",
        "colab": {
          "base_uri": "https://localhost:8080/"
        },
        "outputId": "5f6f919d-773c-4310-ed5d-39e70f63a84e"
      },
      "outputs": [
        {
          "output_type": "stream",
          "name": "stdout",
          "text": [
            "Processing fold #0\n",
            "Processing fold #1\n",
            "Processing fold #2\n",
            "Processing fold #3\n"
          ]
        }
      ],
      "source": [
        "k = 4\n",
        "num_val_samples = len(train_data) // k  # note: integer division\n",
        "num_epochs = 50 # don't know yet whether this is a good choice\n",
        "all_scores = []\n",
        "for i in range(k):\n",
        "    print(f\"Processing fold #{i}\")\n",
        "    val_data = train_data[i * num_val_samples: (i + 1) * num_val_samples]       # extract validation examples\n",
        "    val_targets = train_targets[i * num_val_samples: (i + 1) * num_val_samples] # extract validation labels\n",
        "    partial_train_data = np.concatenate(                                        # whatever is left after extraction becomes partial training data\n",
        "        [train_data[:i * num_val_samples],\n",
        "         train_data[(i + 1) * num_val_samples:]],\n",
        "        axis=0)\n",
        "    partial_train_targets = np.concatenate(                                     # partial training labels\n",
        "        [train_targets[:i * num_val_samples],\n",
        "         train_targets[(i + 1) * num_val_samples:]],\n",
        "        axis=0)\n",
        "    model = build_model()\n",
        "    model.fit(partial_train_data, partial_train_targets,\n",
        "              epochs=num_epochs, batch_size=16, verbose=0)                       # verbose=0 doesn't print anything while fitting\n",
        "    val_mse, val_mae = model.evaluate(val_data, val_targets, verbose=0)\n",
        "    all_scores.append(val_mae)"
      ]
    },
    {
      "cell_type": "code",
      "execution_count": null,
      "metadata": {
        "id": "CqRAVcXdF65f",
        "colab": {
          "base_uri": "https://localhost:8080/"
        },
        "outputId": "60afedfd-a57b-4e83-cb9b-e2e8cb08981b"
      },
      "outputs": [
        {
          "output_type": "execute_result",
          "data": {
            "text/plain": [
              "[2.075955629348755, 2.3421809673309326, 2.487363815307617, 2.453495979309082]"
            ]
          },
          "metadata": {},
          "execution_count": 12
        }
      ],
      "source": [
        "all_scores"
      ]
    },
    {
      "cell_type": "code",
      "execution_count": null,
      "metadata": {
        "id": "J80JjEmOF65f",
        "colab": {
          "base_uri": "https://localhost:8080/"
        },
        "outputId": "11aadc1f-dc9d-4a44-a5a1-576bc58b3add"
      },
      "outputs": [
        {
          "output_type": "execute_result",
          "data": {
            "text/plain": [
              "2.3397490978240967"
            ]
          },
          "metadata": {},
          "execution_count": 14
        }
      ],
      "source": [
        "np.mean(all_scores)"
      ]
    },
    {
      "cell_type": "markdown",
      "source": [
        "- different runs do indeed show rather different validation scores\n",
        "- average validation score is a much more reliable metric than any single score\n",
        "- how much are we off on average?\n",
        "- is it significant? (recall that prices range from 5k to 50k)"
      ],
      "metadata": {
        "id": "S94wnScTucUG"
      }
    },
    {
      "cell_type": "markdown",
      "metadata": {
        "id": "nSt-gYfsF65f"
      },
      "source": [
        "**Saving the validation logs at each fold**"
      ]
    },
    {
      "cell_type": "code",
      "execution_count": null,
      "metadata": {
        "id": "Iys_97zQF65g",
        "colab": {
          "base_uri": "https://localhost:8080/"
        },
        "outputId": "a8b20ab0-55e3-4460-82ab-424c007a070f"
      },
      "outputs": [
        {
          "output_type": "stream",
          "name": "stdout",
          "text": [
            "Processing fold #0\n",
            "Processing fold #1\n",
            "Processing fold #2\n",
            "Processing fold #3\n"
          ]
        }
      ],
      "source": [
        "num_epochs = 300 # increased this from 50 to 300\n",
        "all_mae_histories = [] # will store entire mae history as opposed to a single score\n",
        "for i in range(k):\n",
        "    print(f\"Processing fold #{i}\")\n",
        "    val_data = train_data[i * num_val_samples: (i + 1) * num_val_samples]\n",
        "    val_targets = train_targets[i * num_val_samples: (i + 1) * num_val_samples]\n",
        "    partial_train_data = np.concatenate(\n",
        "        [train_data[:i * num_val_samples],\n",
        "         train_data[(i + 1) * num_val_samples:]],\n",
        "        axis=0)\n",
        "    partial_train_targets = np.concatenate(\n",
        "        [train_targets[:i * num_val_samples],\n",
        "         train_targets[(i + 1) * num_val_samples:]],\n",
        "        axis=0)\n",
        "    model = build_model()\n",
        "    history = model.fit(partial_train_data, partial_train_targets,\n",
        "                        validation_data=(val_data, val_targets),                # we now use the validation_data argument\n",
        "                        epochs=num_epochs, batch_size=16, verbose=0)\n",
        "    mae_history = history.history[\"val_mae\"]                                    # store the entire history of the validation mae values\n",
        "    all_mae_histories.append(mae_history)"
      ]
    },
    {
      "cell_type": "code",
      "source": [
        "len(all_mae_histories) # is a list containing 4 lists, each containing the val_mae history for a fold"
      ],
      "metadata": {
        "colab": {
          "base_uri": "https://localhost:8080/"
        },
        "id": "xbEAcsGwfd-Q",
        "outputId": "92093b36-5db7-4a24-e5e4-ae53f65e3d35"
      },
      "execution_count": null,
      "outputs": [
        {
          "output_type": "execute_result",
          "data": {
            "text/plain": [
              "4"
            ]
          },
          "metadata": {},
          "execution_count": 16
        }
      ]
    },
    {
      "cell_type": "code",
      "source": [
        "for i in range(9): # the val_mae will typically be quite high for early epochs\n",
        "  mean = np.mean([x[i] for x in all_mae_histories]) # the average val_mae, over 4 folds, for epoch i\n",
        "  print(f\"{mean:.2f}\", end = \" \")"
      ],
      "metadata": {
        "colab": {
          "base_uri": "https://localhost:8080/"
        },
        "id": "gFSJ_Muuf3Yq",
        "outputId": "d70691d5-aa8c-44de-d8ac-e8ed6360ea74"
      },
      "execution_count": null,
      "outputs": [
        {
          "output_type": "stream",
          "name": "stdout",
          "text": [
            "19.40 15.97 11.85 8.08 5.92 4.96 4.29 3.91 3.64 "
          ]
        }
      ]
    },
    {
      "cell_type": "markdown",
      "metadata": {
        "id": "v37ieiXXF65g"
      },
      "source": [
        "**Building the history of successive mean K-fold validation scores**"
      ]
    },
    {
      "cell_type": "code",
      "execution_count": null,
      "metadata": {
        "id": "To-F0UUEF65g"
      },
      "outputs": [],
      "source": [
        "average_mae_history = [                        # list whose entry i is\n",
        "    np.mean([x[i] for x in all_mae_histories]) # the mean, over folds, of the val_mae\n",
        "    for i in range(num_epochs)                 # at epoch i\n",
        "    ]"
      ]
    },
    {
      "cell_type": "markdown",
      "metadata": {
        "id": "z6XaXFPqF65g"
      },
      "source": [
        "**Plotting validation scores**"
      ]
    },
    {
      "cell_type": "code",
      "execution_count": null,
      "metadata": {
        "id": "d-whD1ZNF65g",
        "colab": {
          "base_uri": "https://localhost:8080/",
          "height": 450
        },
        "outputId": "7c8b5a71-0308-42cc-c544-d837cc2498b1"
      },
      "outputs": [
        {
          "output_type": "display_data",
          "data": {
            "text/plain": [
              "<Figure size 640x480 with 1 Axes>"
            ],
            "image/png": "[encoded data removed]"
          },
          "metadata": {}
        }
      ],
      "source": [
        "plt.plot(range(len(average_mae_history)), average_mae_history)\n",
        "plt.xlabel(\"Epochs\")\n",
        "plt.ylabel(\"Validation MAE\")\n",
        "plt.show()"
      ]
    },
    {
      "cell_type": "markdown",
      "source": [
        "- as we saw earlier, the first 10 data points have high validation MAE\n",
        "- makes it a little difficult to read the plot\n",
        "- let's replot after omitting the first 10 points"
      ],
      "metadata": {
        "id": "THAWOSH4iN9q"
      }
    },
    {
      "cell_type": "markdown",
      "metadata": {
        "id": "VKeJ44glF65g"
      },
      "source": [
        "**Plotting validation scores, excluding the first 10 data points**"
      ]
    },
    {
      "cell_type": "code",
      "execution_count": null,
      "metadata": {
        "id": "1sIZLTgzF65g",
        "colab": {
          "base_uri": "https://localhost:8080/",
          "height": 449
        },
        "outputId": "0a251702-182e-46b6-edfc-015d934a02db"
      },
      "outputs": [
        {
          "output_type": "display_data",
          "data": {
            "text/plain": [
              "<Figure size 640x480 with 1 Axes>"
            ],
            "image/png": "[encoded data removed]"
          },
          "metadata": {}
        }
      ],
      "source": [
        "truncated_mae_history = average_mae_history[10:]\n",
        "plt.plot(range(10, len(average_mae_history)), truncated_mae_history)\n",
        "plt.xlabel(\"Epochs\")\n",
        "plt.ylabel(\"Validation MAE\")\n",
        "plt.show()"
      ]
    },
    {
      "cell_type": "markdown",
      "source": [
        "- validation MAE stops improving significantly after 120–140 epochs\n",
        "- past that point, we start *overfitting*\n"
      ],
      "metadata": {
        "id": "vGj7rNDiilCS"
      }
    },
    {
      "cell_type": "markdown",
      "metadata": {
        "id": "9c2kSlR7F65g"
      },
      "source": [
        "**Training the final model**\n",
        "\n",
        "- Here we only tuned number of epochs\n",
        "- you could also adjust the size of the intermediate layers\n",
        "- once you're finished tuning, you can train a final production model\n",
        "- this will use _all_ of the training data\n",
        "- it will use the best choices for tuning parameters (e.g., 130 for epochs in our case)\n",
        "- you will evaluate its performance on the test data (that we haven't touched at all so far)"
      ]
    },
    {
      "cell_type": "code",
      "execution_count": null,
      "metadata": {
        "id": "MlbzzypLF65g",
        "colab": {
          "base_uri": "https://localhost:8080/"
        },
        "outputId": "8d911366-5952-4c9b-b99e-b5d6a522077c"
      },
      "outputs": [
        {
          "output_type": "stream",
          "name": "stdout",
          "text": [
            "4/4 [==============================] - 0s 5ms/step - loss: 17.1215 - mae: 2.6025\n"
          ]
        }
      ],
      "source": [
        "model = build_model()\n",
        "model.fit(train_data, train_targets,\n",
        "          epochs=130, batch_size=16, verbose=0)\n",
        "test_mse_score, test_mae_score = model.evaluate(test_data, test_targets)"
      ]
    },
    {
      "cell_type": "code",
      "execution_count": null,
      "metadata": {
        "id": "9gdpCw-NF65h",
        "colab": {
          "base_uri": "https://localhost:8080/"
        },
        "outputId": "e793a4a4-b581-49e6-c232-815815b527f7"
      },
      "outputs": [
        {
          "output_type": "execute_result",
          "data": {
            "text/plain": [
              "2.6024649143218994"
            ]
          },
          "metadata": {},
          "execution_count": 22
        }
      ],
      "source": [
        "test_mae_score"
      ]
    },
    {
      "cell_type": "markdown",
      "metadata": {
        "id": "zw8R7Tj9F65h"
      },
      "source": [
        "### Generating predictions on new data"
      ]
    },
    {
      "cell_type": "code",
      "execution_count": null,
      "metadata": {
        "id": "SYomyUGEF65h",
        "colab": {
          "base_uri": "https://localhost:8080/"
        },
        "outputId": "6bba4623-ae9a-4fe9-9165-d3b9399224c9"
      },
      "outputs": [
        {
          "output_type": "execute_result",
          "data": {
            "text/plain": [
              "array([9.572728], dtype=float32)"
            ]
          },
          "metadata": {},
          "execution_count": 22
        }
      ],
      "source": [
        "predictions = model.predict(test_data)\n",
        "predictions[0] # price prediction for the first house in test set (in 1000s of dollars)"
      ]
    }
  ],
  "metadata": {
    "colab": {
      "provenance": [],
      "toc_visible": true
    },
    "kernelspec": {
      "display_name": "Python 3",
      "language": "python",
      "name": "python3"
    },
    "language_info": {
      "codemirror_mode": {
        "name": "ipython",
        "version": 3
      },
      "file_extension": ".py",
      "mimetype": "text/x-python",
      "name": "python",
      "nbconvert_exporter": "python",
      "pygments_lexer": "ipython3",
      "version": "3.7.0"
    }
  },
  "nbformat": 4,
  "nbformat_minor": 0
}