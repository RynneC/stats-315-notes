{
  "cells": [
    {
      "cell_type": "markdown",
      "metadata": {
        "id": "-cn6yjvNnEl4"
      },
      "source": [
        "**Notebook credit**: based on the F. Chollet's original notebook [here](https://github.com/fchollet/deep-learning-with-python-notebooks/blob/master/chapter04_getting-started-with-neural-networks.ipynb)."
      ]
    },
    {
      "cell_type": "markdown",
      "metadata": {
        "id": "L5h3Un9PnEl8"
      },
      "source": [
        "## IMDB, Classifying movie reviews: A binary classification example\n",
        "binary classification 是最常见的 ML 问题之一.\n",
        "\n",
        "我们将 classify IMDB movie reviews as positive or negative, based on the text content of the reviews."
      ]
    },
    {
      "cell_type": "markdown",
      "metadata": {
        "id": "6nTmQ8GanEl9"
      },
      "source": [
        "## The IMDB dataset 的介绍\n",
        "\n",
        "- this dataset has 50,000 highly polarized reviews from the Internet Movie Database\n",
        "- is split into 25,000 reviews for training and 25,000 reviews for testing\n",
        "- each set consisting of 50% negative and 50% positive reviews.\n",
        "- like MNIST, the IMDB dataset comes packaged with Keras\n",
        "- it's been preprocessed: the reviews (sequences of words) have been turned into sequences of integers, where each integer stands for a specific word in a dictionary\n",
        "- this enables us to focus on model building, training, and evaluation\n",
        "- later in the course, you’ll learn how to process raw text input from scratch."
      ]
    },
    {
      "cell_type": "markdown",
      "metadata": {
        "id": "k0riwVgbnEl9"
      },
      "source": [
        "**Loading the IMDB dataset**"
      ]
    },
    {
      "cell_type": "code",
      "execution_count": 1,
      "metadata": {
        "id": "ISZC2iqtnEl9",
        "colab": {
          "base_uri": "https://localhost:8080/"
        },
        "outputId": "87fa8993-604b-49eb-c9d6-c9374b03a4eb"
      },
      "outputs": [
        {
          "output_type": "stream",
          "name": "stdout",
          "text": [
            "Downloading data from https://storage.googleapis.com/tensorflow/tf-keras-datasets/imdb.npz\n",
            "17464789/17464789 [==============================] - 0s 0us/step\n"
          ]
        }
      ],
      "source": [
        "from tensorflow.keras.datasets import imdb\n",
        "(train_data, train_labels), (test_data, test_labels) = imdb.load_data(\n",
        "    num_words=10000)"
      ]
    },
    {
      "cell_type": "markdown",
      "source": [
        "- `num_words=10000` means you'll only keep the top 10,000 most frequently occurring words in the training data\n",
        "- discarding rare words allows us to work with vectors of manageable size\n",
        "- if we didnt set this limit, we'd be working with 88,585 unique words\n",
        "- rare words only occur in a few examples, and thus can't be meaningfully used for classification\n",
        "\n",
        "**Training and test data format**\n",
        "\n",
        "- variables `train_data` and `test_data` are lists of reviews\n",
        "- each review is a list of word indices (encoding a sequence of words)\n",
        "- `train_labels` and `test_labels` are lists of 0s and 1s, where 0 stands for negative and 1 stands for positive"
      ],
      "metadata": {
        "id": "gMS4AH9wqWRT"
      }
    },
    {
      "cell_type": "code",
      "execution_count": 3,
      "metadata": {
        "id": "JQ63AGZ8nEl_",
        "colab": {
          "base_uri": "https://localhost:8080/"
        },
        "outputId": "ed28f266-9da0-4844-d713-67551a8657f4"
      },
      "outputs": [
        {
          "output_type": "stream",
          "name": "stdout",
          "text": [
            "first training example has 218 integer-encoded words\n",
            "in the first example, the first ten feature values are: [1, 14, 22, 16, 43, 530, 973, 1622, 1385, 65]\n"
          ]
        }
      ],
      "source": [
        "print(f\"first training example has {len(train_data[0])} integer-encoded words\")\n",
        "print(f\"in the first example, the first ten feature values are: {train_data[0][:10]}\")"
      ]
    },
    {
      "cell_type": "code",
      "execution_count": 4,
      "metadata": {
        "id": "vSxXXVo-nEl_",
        "colab": {
          "base_uri": "https://localhost:8080/"
        },
        "outputId": "b05c72e9-b479-4544-fb28-a4516b9bcf3d"
      },
      "outputs": [
        {
          "output_type": "execute_result",
          "data": {
            "text/plain": [
              "1"
            ]
          },
          "metadata": {},
          "execution_count": 4
        }
      ],
      "source": [
        "train_labels[0] # first review has label 1, i.e., it is positive"
      ]
    },
    {
      "cell_type": "code",
      "execution_count": 5,
      "metadata": {
        "id": "Lo0JJ6uqnEmA",
        "colab": {
          "base_uri": "https://localhost:8080/"
        },
        "outputId": "8ed321e3-7730-4670-9906-2c4098d016f7"
      },
      "outputs": [
        {
          "output_type": "execute_result",
          "data": {
            "text/plain": [
              "9999"
            ]
          },
          "metadata": {},
          "execution_count": 5
        }
      ],
      "source": [
        "max([max(sequence) for sequence in train_data]) # check that word encoding integers are less than 10,000"
      ]
    },
    {
      "cell_type": "markdown",
      "source": [
        "### data form: 每个 data point 是一个被 encode 为 integer 的 word list."
      ],
      "metadata": {
        "id": "UtCTmTZA0Liv"
      }
    },
    {
      "cell_type": "code",
      "source": [
        "print(train_data[1:10])"
      ],
      "metadata": {
        "colab": {
          "base_uri": "https://localhost:8080/"
        },
        "id": "skAYMrup0Ap3",
        "outputId": "a4537892-52de-4235-93e7-47ccd1233c9c"
      },
      "execution_count": 9,
      "outputs": [
        {
          "output_type": "stream",
          "name": "stdout",
          "text": [
            "[list([1, 194, 1153, 194, 8255, 78, 228, 5, 6, 1463, 4369, 5012, 134, 26, 4, 715, 8, 118, 1634, 14, 394, 20, 13, 119, 954, 189, 102, 5, 207, 110, 3103, 21, 14, 69, 188, 8, 30, 23, 7, 4, 249, 126, 93, 4, 114, 9, 2300, 1523, 5, 647, 4, 116, 9, 35, 8163, 4, 229, 9, 340, 1322, 4, 118, 9, 4, 130, 4901, 19, 4, 1002, 5, 89, 29, 952, 46, 37, 4, 455, 9, 45, 43, 38, 1543, 1905, 398, 4, 1649, 26, 6853, 5, 163, 11, 3215, 2, 4, 1153, 9, 194, 775, 7, 8255, 2, 349, 2637, 148, 605, 2, 8003, 15, 123, 125, 68, 2, 6853, 15, 349, 165, 4362, 98, 5, 4, 228, 9, 43, 2, 1157, 15, 299, 120, 5, 120, 174, 11, 220, 175, 136, 50, 9, 4373, 228, 8255, 5, 2, 656, 245, 2350, 5, 4, 9837, 131, 152, 491, 18, 2, 32, 7464, 1212, 14, 9, 6, 371, 78, 22, 625, 64, 1382, 9, 8, 168, 145, 23, 4, 1690, 15, 16, 4, 1355, 5, 28, 6, 52, 154, 462, 33, 89, 78, 285, 16, 145, 95])\n",
            " list([1, 14, 47, 8, 30, 31, 7, 4, 249, 108, 7, 4, 5974, 54, 61, 369, 13, 71, 149, 14, 22, 112, 4, 2401, 311, 12, 16, 3711, 33, 75, 43, 1829, 296, 4, 86, 320, 35, 534, 19, 263, 4821, 1301, 4, 1873, 33, 89, 78, 12, 66, 16, 4, 360, 7, 4, 58, 316, 334, 11, 4, 1716, 43, 645, 662, 8, 257, 85, 1200, 42, 1228, 2578, 83, 68, 3912, 15, 36, 165, 1539, 278, 36, 69, 2, 780, 8, 106, 14, 6905, 1338, 18, 6, 22, 12, 215, 28, 610, 40, 6, 87, 326, 23, 2300, 21, 23, 22, 12, 272, 40, 57, 31, 11, 4, 22, 47, 6, 2307, 51, 9, 170, 23, 595, 116, 595, 1352, 13, 191, 79, 638, 89, 2, 14, 9, 8, 106, 607, 624, 35, 534, 6, 227, 7, 129, 113])\n",
            " list([1, 4, 2, 2, 33, 2804, 4, 2040, 432, 111, 153, 103, 4, 1494, 13, 70, 131, 67, 11, 61, 2, 744, 35, 3715, 761, 61, 5766, 452, 9214, 4, 985, 7, 2, 59, 166, 4, 105, 216, 1239, 41, 1797, 9, 15, 7, 35, 744, 2413, 31, 8, 4, 687, 23, 4, 2, 7339, 6, 3693, 42, 38, 39, 121, 59, 456, 10, 10, 7, 265, 12, 575, 111, 153, 159, 59, 16, 1447, 21, 25, 586, 482, 39, 4, 96, 59, 716, 12, 4, 172, 65, 9, 579, 11, 6004, 4, 1615, 5, 2, 7, 5168, 17, 13, 7064, 12, 19, 6, 464, 31, 314, 11, 2, 6, 719, 605, 11, 8, 202, 27, 310, 4, 3772, 3501, 8, 2722, 58, 10, 10, 537, 2116, 180, 40, 14, 413, 173, 7, 263, 112, 37, 152, 377, 4, 537, 263, 846, 579, 178, 54, 75, 71, 476, 36, 413, 263, 2504, 182, 5, 17, 75, 2306, 922, 36, 279, 131, 2895, 17, 2867, 42, 17, 35, 921, 2, 192, 5, 1219, 3890, 19, 2, 217, 4122, 1710, 537, 2, 1236, 5, 736, 10, 10, 61, 403, 9, 2, 40, 61, 4494, 5, 27, 4494, 159, 90, 263, 2311, 4319, 309, 8, 178, 5, 82, 4319, 4, 65, 15, 9225, 145, 143, 5122, 12, 7039, 537, 746, 537, 537, 15, 7979, 4, 2, 594, 7, 5168, 94, 9096, 3987, 2, 11, 2, 4, 538, 7, 1795, 246, 2, 9, 2, 11, 635, 14, 9, 51, 408, 12, 94, 318, 1382, 12, 47, 6, 2683, 936, 5, 6307, 2, 19, 49, 7, 4, 1885, 2, 1118, 25, 80, 126, 842, 10, 10, 2, 2, 4726, 27, 4494, 11, 1550, 3633, 159, 27, 341, 29, 2733, 19, 4185, 173, 7, 90, 2, 8, 30, 11, 4, 1784, 86, 1117, 8, 3261, 46, 11, 2, 21, 29, 9, 2841, 23, 4, 1010, 2, 793, 6, 2, 1386, 1830, 10, 10, 246, 50, 9, 6, 2750, 1944, 746, 90, 29, 2, 8, 124, 4, 882, 4, 882, 496, 27, 2, 2213, 537, 121, 127, 1219, 130, 5, 29, 494, 8, 124, 4, 882, 496, 4, 341, 7, 27, 846, 10, 10, 29, 9, 1906, 8, 97, 6, 236, 2, 1311, 8, 4, 2, 7, 31, 7, 2, 91, 2, 3987, 70, 4, 882, 30, 579, 42, 9, 12, 32, 11, 537, 10, 10, 11, 14, 65, 44, 537, 75, 2, 1775, 3353, 2, 1846, 4, 2, 7, 154, 5, 4, 518, 53, 2, 2, 7, 3211, 882, 11, 399, 38, 75, 257, 3807, 19, 2, 17, 29, 456, 4, 65, 7, 27, 205, 113, 10, 10, 2, 4, 2, 2, 9, 242, 4, 91, 1202, 2, 5, 2070, 307, 22, 7, 5168, 126, 93, 40, 2, 13, 188, 1076, 3222, 19, 4, 2, 7, 2348, 537, 23, 53, 537, 21, 82, 40, 2, 13, 2, 14, 280, 13, 219, 4, 2, 431, 758, 859, 4, 953, 1052, 2, 7, 5991, 5, 94, 40, 25, 238, 60, 2, 4, 2, 804, 2, 7, 4, 9941, 132, 8, 67, 6, 22, 15, 9, 283, 8, 5168, 14, 31, 9, 242, 955, 48, 25, 279, 2, 23, 12, 1685, 195, 25, 238, 60, 796, 2, 4, 671, 7, 2804, 5, 4, 559, 154, 888, 7, 726, 50, 26, 49, 7008, 15, 566, 30, 579, 21, 64, 2574])\n",
            " list([1, 249, 1323, 7, 61, 113, 10, 10, 13, 1637, 14, 20, 56, 33, 2401, 18, 457, 88, 13, 2626, 1400, 45, 3171, 13, 70, 79, 49, 706, 919, 13, 16, 355, 340, 355, 1696, 96, 143, 4, 22, 32, 289, 7, 61, 369, 71, 2359, 5, 13, 16, 131, 2073, 249, 114, 249, 229, 249, 20, 13, 28, 126, 110, 13, 473, 8, 569, 61, 419, 56, 429, 6, 1513, 18, 35, 534, 95, 474, 570, 5, 25, 124, 138, 88, 12, 421, 1543, 52, 725, 6397, 61, 419, 11, 13, 1571, 15, 1543, 20, 11, 4, 2, 5, 296, 12, 3524, 5, 15, 421, 128, 74, 233, 334, 207, 126, 224, 12, 562, 298, 2167, 1272, 7, 2601, 5, 516, 988, 43, 8, 79, 120, 15, 595, 13, 784, 25, 3171, 18, 165, 170, 143, 19, 14, 5, 7224, 6, 226, 251, 7, 61, 113])\n",
            " list([1, 778, 128, 74, 12, 630, 163, 15, 4, 1766, 7982, 1051, 2, 32, 85, 156, 45, 40, 148, 139, 121, 664, 665, 10, 10, 1361, 173, 4, 749, 2, 16, 3804, 8, 4, 226, 65, 12, 43, 127, 24, 2, 10, 10])\n",
            " list([1, 6740, 365, 1234, 5, 1156, 354, 11, 14, 5327, 6638, 7, 1016, 2, 5940, 356, 44, 4, 1349, 500, 746, 5, 200, 4, 4132, 11, 2, 9363, 1117, 1831, 7485, 5, 4831, 26, 6, 2, 4183, 17, 369, 37, 215, 1345, 143, 2, 5, 1838, 8, 1974, 15, 36, 119, 257, 85, 52, 486, 9, 6, 2, 8564, 63, 271, 6, 196, 96, 949, 4121, 4, 2, 7, 4, 2212, 2436, 819, 63, 47, 77, 7175, 180, 6, 227, 11, 94, 2494, 2, 13, 423, 4, 168, 7, 4, 22, 5, 89, 665, 71, 270, 56, 5, 13, 197, 12, 161, 5390, 99, 76, 23, 2, 7, 419, 665, 40, 91, 85, 108, 7, 4, 2084, 5, 4773, 81, 55, 52, 1901])\n",
            " list([1, 4, 2, 716, 4, 65, 7, 4, 689, 4367, 6308, 2343, 4804, 2, 2, 5270, 2, 2315, 2, 2, 2, 2, 4, 2, 628, 7685, 37, 9, 150, 4, 9820, 4069, 11, 2909, 4, 2, 847, 313, 6, 176, 2, 9, 6202, 138, 9, 4434, 19, 4, 96, 183, 26, 4, 192, 15, 27, 5842, 799, 7101, 2, 588, 84, 11, 4, 3231, 152, 339, 5206, 42, 4869, 2, 6293, 345, 4804, 2, 142, 43, 218, 208, 54, 29, 853, 659, 46, 4, 882, 183, 80, 115, 30, 4, 172, 174, 10, 10, 1001, 398, 1001, 1055, 526, 34, 3717, 2, 5262, 2, 17, 4, 6706, 1094, 871, 64, 85, 22, 2030, 1109, 38, 230, 9, 4, 4324, 2, 251, 5056, 1034, 195, 301, 14, 16, 31, 7, 4, 2, 8, 783, 2, 33, 4, 2945, 103, 465, 2, 42, 845, 45, 446, 11, 1895, 19, 184, 76, 32, 4, 5310, 207, 110, 13, 197, 4, 2, 16, 601, 964, 2152, 595, 13, 258, 4, 1730, 66, 338, 55, 5312, 4, 550, 728, 65, 1196, 8, 1839, 61, 1546, 42, 8361, 61, 602, 120, 45, 7304, 6, 320, 786, 99, 196, 2, 786, 5936, 4, 225, 4, 373, 1009, 33, 4, 130, 63, 69, 72, 1104, 46, 1292, 225, 14, 66, 194, 2, 1703, 56, 8, 803, 1004, 6, 2, 155, 11, 4, 2, 3231, 45, 853, 2029, 8, 30, 6, 117, 430, 19, 6, 8941, 9, 15, 66, 424, 8, 2337, 178, 9, 15, 66, 424, 8, 1465, 178, 9, 15, 66, 142, 15, 9, 424, 8, 28, 178, 662, 44, 12, 17, 4, 130, 898, 1686, 9, 6, 5623, 267, 185, 430, 4, 118, 2, 277, 15, 4, 1188, 100, 216, 56, 19, 4, 357, 114, 2, 367, 45, 115, 93, 788, 121, 4, 2, 79, 32, 68, 278, 39, 8, 818, 162, 4165, 237, 600, 7, 98, 306, 8, 157, 549, 628, 11, 6, 2, 13, 824, 15, 4104, 76, 42, 138, 36, 774, 77, 1059, 159, 150, 4, 229, 497, 8, 1493, 11, 175, 251, 453, 19, 8651, 189, 12, 43, 127, 6, 394, 292, 7, 8253, 4, 107, 8, 4, 2826, 15, 1082, 1251, 9, 906, 42, 1134, 6, 66, 78, 22, 15, 13, 244, 2519, 8, 135, 233, 52, 44, 10, 10, 466, 112, 398, 526, 34, 4, 1572, 4413, 6706, 1094, 225, 57, 599, 133, 225, 6, 227, 7, 541, 4323, 6, 171, 139, 7, 539, 2, 56, 11, 6, 3231, 21, 164, 25, 426, 81, 33, 344, 624, 19, 6, 4617, 7, 2, 2, 6, 5802, 4, 22, 9, 1082, 629, 237, 45, 188, 6, 55, 655, 707, 6371, 956, 225, 1456, 841, 42, 1310, 225, 6, 2493, 1467, 7722, 2828, 21, 4, 2, 9, 364, 23, 4, 2228, 2407, 225, 24, 76, 133, 18, 4, 189, 2293, 10, 10, 814, 11, 2, 11, 2642, 14, 47, 15, 682, 364, 352, 168, 44, 12, 45, 24, 913, 93, 21, 247, 2441, 4, 116, 34, 35, 1859, 8, 72, 177, 9, 164, 8, 901, 344, 44, 13, 191, 135, 13, 126, 421, 233, 18, 259, 10, 10, 4, 2, 6847, 4, 2, 3074, 7, 112, 199, 753, 357, 39, 63, 12, 115, 2, 763, 8, 15, 35, 3282, 1523, 65, 57, 599, 6, 1916, 277, 1730, 37, 25, 92, 202, 6, 8848, 44, 25, 28, 6, 22, 15, 122, 24, 4171, 72, 33, 32])\n",
            " list([1, 43, 188, 46, 5, 566, 264, 51, 6, 530, 664, 14, 9, 1713, 81, 25, 1135, 46, 7, 6, 20, 750, 11, 141, 4299, 5, 2, 4441, 102, 28, 413, 38, 120, 5533, 15, 4, 3974, 7, 5369, 142, 371, 318, 5, 955, 1713, 571, 2, 2, 122, 14, 8, 72, 54, 12, 86, 385, 46, 5, 14, 20, 9, 399, 8, 72, 150, 13, 161, 124, 6, 155, 44, 14, 159, 170, 83, 12, 5, 51, 6, 866, 48, 25, 842, 4, 1120, 25, 238, 79, 4, 547, 15, 14, 9, 31, 7, 148, 2, 102, 44, 35, 480, 3823, 2380, 19, 120, 4, 350, 228, 5, 269, 8, 28, 178, 1314, 2347, 7, 51, 6, 87, 65, 12, 9, 979, 21, 95, 24, 3186, 178, 11, 2, 14, 9, 24, 15, 20, 4, 84, 376, 4, 65, 14, 127, 141, 6, 52, 292, 7, 4751, 175, 561, 7, 68, 3866, 137, 75, 2541, 68, 182, 5, 235, 175, 333, 19, 98, 50, 9, 38, 76, 724, 4, 6750, 15, 166, 285, 36, 140, 143, 38, 76, 53, 3094, 1301, 4, 6991, 16, 82, 6, 87, 3578, 44, 2527, 7612, 5, 800, 4, 3033, 11, 35, 1728, 96, 21, 14, 22, 9, 76, 53, 7, 6, 406, 65, 13, 43, 219, 12, 639, 21, 13, 80, 140, 5, 135, 15, 14, 9, 31, 7, 4, 118, 3672, 13, 28, 126, 110])\n",
            " list([1, 14, 20, 47, 111, 439, 3445, 19, 12, 15, 166, 12, 216, 125, 40, 6, 364, 352, 707, 1187, 39, 294, 11, 22, 396, 13, 28, 8, 202, 12, 1109, 23, 94, 2, 151, 111, 211, 469, 4, 20, 13, 258, 546, 1104, 7273, 12, 16, 38, 78, 33, 211, 15, 12, 16, 2849, 63, 93, 12, 6, 253, 106, 10, 10, 48, 335, 267, 18, 6, 364, 1242, 1179, 20, 19, 6, 1009, 7, 1987, 189, 5, 6, 8419, 7, 2723, 2, 95, 1719, 6, 6035, 7, 3912, 7144, 49, 369, 120, 5, 28, 49, 253, 10, 10, 13, 1041, 19, 85, 795, 15, 4, 481, 9, 55, 78, 807, 9, 375, 8, 1167, 8, 794, 76, 7, 4, 58, 5, 4, 816, 9, 243, 7, 43, 50])]\n"
          ]
        }
      ]
    },
    {
      "cell_type": "markdown",
      "metadata": {
        "id": "ZMskHvdrnEmB"
      },
      "source": [
        "### **Decoding reviews back to text**"
      ]
    },
    {
      "cell_type": "code",
      "execution_count": 10,
      "metadata": {
        "id": "arjxfGfanEmB",
        "colab": {
          "base_uri": "https://localhost:8080/"
        },
        "outputId": "a5377db0-f13c-4d23-934d-671c6ced1e44"
      },
      "outputs": [
        {
          "output_type": "execute_result",
          "data": {
            "text/plain": [
              "[('fawn', 34701),\n",
              " ('tsukino', 52006),\n",
              " ('nunnery', 52007),\n",
              " ('sonja', 16816),\n",
              " ('vani', 63951),\n",
              " ('woods', 1408),\n",
              " ('spiders', 16115),\n",
              " ('hanging', 2345),\n",
              " ('woody', 2289),\n",
              " ('trawling', 52008)]"
            ]
          },
          "metadata": {},
          "execution_count": 10
        }
      ],
      "source": [
        "word_index = imdb.get_word_index()\n",
        "list(word_index.items())[:10]"
      ]
    },
    {
      "cell_type": "code",
      "source": [
        "reverse_word_index = dict(\n",
        "    [(value, key) for (key, value) in word_index.items()])\n",
        "list(reverse_word_index.items())[:10]"
      ],
      "metadata": {
        "colab": {
          "base_uri": "https://localhost:8080/"
        },
        "id": "rgDl48AGsg27",
        "outputId": "94d50c96-9d82-4c57-a2d1-88c880eb6000"
      },
      "execution_count": 11,
      "outputs": [
        {
          "output_type": "execute_result",
          "data": {
            "text/plain": [
              "[(34701, 'fawn'),\n",
              " (52006, 'tsukino'),\n",
              " (52007, 'nunnery'),\n",
              " (16816, 'sonja'),\n",
              " (63951, 'vani'),\n",
              " (1408, 'woods'),\n",
              " (16115, 'spiders'),\n",
              " (2345, 'hanging'),\n",
              " (2289, 'woody'),\n",
              " (52008, 'trawling')]"
            ]
          },
          "metadata": {},
          "execution_count": 11
        }
      ]
    },
    {
      "cell_type": "code",
      "source": [
        " # offset of 3 needed because 0, 1, and 2 are reserved indices for \"padding,\" \"start of sequence,\" and \"unknown.\"\n",
        "decoded_review = [reverse_word_index.get(i - 3, \"?\") for i in train_data[0]]\n",
        "\n",
        "print(train_data[0][:10])\n",
        "print(\" \".join(decoded_review[:10]))"
      ],
      "metadata": {
        "colab": {
          "base_uri": "https://localhost:8080/"
        },
        "id": "69mp-HJau0J7",
        "outputId": "115d01e8-eb2a-4a9f-95be-711c16a8e742"
      },
      "execution_count": 12,
      "outputs": [
        {
          "output_type": "stream",
          "name": "stdout",
          "text": [
            "[1, 14, 22, 16, 43, 530, 973, 1622, 1385, 65]\n",
            "? this film was just brilliant casting location scenery story\n"
          ]
        }
      ]
    },
    {
      "cell_type": "markdown",
      "source": [
        "## Preparing the data: 数据预处理"
      ],
      "metadata": {
        "id": "UP4W4pON3D3c"
      }
    },
    {
      "cell_type": "markdown",
      "metadata": {
        "id": "HXoVMjbenEmC"
      },
      "source": [
        "### multi-hot encode: 把这些长度不同的 vectors 转化为长度相同的 (0,1) vector\n",
        "- 我们无法直接把这些 lists of integers 放进 NN, 因为它们长度不同(不是同大小的 tensor). 因而我们需要把这些 lists 转化成大小相同的 tensors\n",
        "- 有两个方法:\n",
        "  1. **Pad(填充)** 这些 lists, 使得它们长度相同, 从而转化为 tensor of shape `(samples, max_length)`; 然后 start your model with a layer capable of handling such integer tensors (the `Embedding` layer). 这一方法我们会在之后的 CNN module 中 cover\n",
        "  2. **Multi-hot encode**: 把这些 lists 全部变成 vectors of 0s and 1s, 长度约为词汇量的数量(大概估计一下, 不需要所有词汇), 而 0/1表示这个 list 中有没有这个词汇. 比如: 如果一个 list 是`[8, 5]`, 那么它被变为一个 10,000-dimensional 的 vector, 其中所有 entry 的值都是 0, 除了 index 为 8 和 5 的 entry 值为 1s. Then you could use a `Dense` layer, capable of handling floating-point vector data, as the first layer in your model.\n"
      ]
    },
    {
      "cell_type": "markdown",
      "metadata": {
        "id": "qO8W8rfinEmC"
      },
      "source": [
        "#### 如何写一个 multi-hot encoding"
      ]
    },
    {
      "cell_type": "code",
      "source": [
        "len(train_data)"
      ],
      "metadata": {
        "colab": {
          "base_uri": "https://localhost:8080/"
        },
        "id": "aKvEkaWMIg59",
        "outputId": "541685ad-b1b3-49b3-e19e-6027a9bbfe97"
      },
      "execution_count": 13,
      "outputs": [
        {
          "output_type": "execute_result",
          "data": {
            "text/plain": [
              "25000"
            ]
          },
          "metadata": {},
          "execution_count": 13
        }
      ]
    },
    {
      "cell_type": "code",
      "execution_count": 15,
      "metadata": {
        "id": "i9a4r6bXnEmC"
      },
      "outputs": [],
      "source": [
        "import numpy as np\n",
        "def vectorize_sequences(sequences, dimension=10000):\n",
        "    results = np.zeros((len(sequences), dimension)) # initialize results to an np.array with appropriate size\n",
        "    for i, sequence in enumerate(sequences):\n",
        "        for j in sequence:\n",
        "            results[i, j] = 1. # if word with index j found in sequence then set jth entry to 1 in multi-hot encoding\n",
        "    return results\n",
        "x_train = vectorize_sequences(train_data) # convert training data\n",
        "x_test = vectorize_sequences(test_data)   # convert test data"
      ]
    },
    {
      "cell_type": "code",
      "source": [
        "x_train.shape"
      ],
      "metadata": {
        "colab": {
          "base_uri": "https://localhost:8080/"
        },
        "id": "7c3nmBCrIwzK",
        "outputId": "9e87dc21-40c6-4b89-811a-5805ac59b146"
      },
      "execution_count": 16,
      "outputs": [
        {
          "output_type": "execute_result",
          "data": {
            "text/plain": [
              "(25000, 10000)"
            ]
          },
          "metadata": {},
          "execution_count": 16
        }
      ]
    },
    {
      "cell_type": "code",
      "source": [
        "x_test.shape"
      ],
      "metadata": {
        "colab": {
          "base_uri": "https://localhost:8080/"
        },
        "id": "gVagfbiRI14I",
        "outputId": "e07caf77-64a2-4d97-d283-188e6a3536f5"
      },
      "execution_count": 17,
      "outputs": [
        {
          "output_type": "execute_result",
          "data": {
            "text/plain": [
              "(25000, 10000)"
            ]
          },
          "metadata": {},
          "execution_count": 17
        }
      ]
    },
    {
      "cell_type": "code",
      "execution_count": 18,
      "metadata": {
        "id": "Z5_y7kntnEmD",
        "colab": {
          "base_uri": "https://localhost:8080/"
        },
        "outputId": "2275f6f6-c9db-436d-ce4d-faa88f23f099"
      },
      "outputs": [
        {
          "output_type": "execute_result",
          "data": {
            "text/plain": [
              "array([1, 2, 4, 5, 6, 7, 8, 9])"
            ]
          },
          "metadata": {},
          "execution_count": 18
        }
      ],
      "source": [
        "example = np.array(train_data[0]) # list to np.array\n",
        "np.unique(example[example < 10]) # which words with index < 10 occur in this example?\n"
      ]
    },
    {
      "cell_type": "code",
      "source": [
        "x_train[0][:10] # the words that occur determine where we place ones in the multi-hot encoding"
      ],
      "metadata": {
        "colab": {
          "base_uri": "https://localhost:8080/"
        },
        "id": "aEwIPPXZdIhq",
        "outputId": "c98e305b-82c4-477a-d766-c45415f90987"
      },
      "execution_count": 19,
      "outputs": [
        {
          "output_type": "execute_result",
          "data": {
            "text/plain": [
              "array([0., 1., 1., 0., 1., 1., 1., 1., 1., 1.])"
            ]
          },
          "metadata": {},
          "execution_count": 19
        }
      ]
    },
    {
      "cell_type": "code",
      "execution_count": 20,
      "metadata": {
        "id": "U2aCaQvTnEmD"
      },
      "outputs": [],
      "source": [
        "y_train = np.array(train_labels).astype(\"float32\")\n",
        "y_test = np.array(test_labels).astype(\"float32\")"
      ]
    },
    {
      "cell_type": "markdown",
      "metadata": {
        "id": "A64MSYa7nEmD"
      },
      "source": [
        "## Building model\n",
        "\n",
        "- we will use a plain stack of densely connected (`Dense`) layers with `relu` activations\n",
        "- two key architecture decisions to be made:\n",
        "  - how many layers to use\n",
        "  - how many units to choose for each layer\n",
        "  \n",
        "Later you'll learn formal principles to guide you in making these choices. For the time being, you'll have to trust the following architecture choices:\n",
        "- two intermediate layers with 16 units each\n",
        "- a third layer that will output the scalar prediction\n",
        "\n",
        "This is what the model looks like.\n",
        "\n",
        "<img src=\"https://github.com/ambujtewari/stats315-winter2022/raw/main/images/IMDB_3_layers.png\" alt=\"picture\" height=\"300\">\n",
        "\n",
        "And note the similarity to the MNIST example you saw previously."
      ]
    },
    {
      "cell_type": "markdown",
      "metadata": {
        "id": "4PAEeV4RnEmE"
      },
      "source": [
        "**Model definition**\n",
        "\n",
        "- first argument being passed to each `Dense` layer is the number of units in the layer\n",
        "- that's the dimensionality of representation space of the layer\n",
        "- such a `Dense` layer with a `relu` activation implements the following chain of tensor operations:\n",
        "```\n",
        "output = relu(dot(input, W) + b)\n",
        "```\n",
        "- 16 units means the weight matrix `W` will have shape `(input_dimension, 16)`\n",
        "- the dot (matrix) product with `W` will project the input data onto a 16-dimensional representation space\n",
        "- Then the layer adds the bias vector `b` and applies the `relu` operation\n",
        "- dimensionality of representation = \"how much freedom you're allowing the model to have when learning internal representations\"\n",
        "- more units (a higher-dimensional representation space) means:\n",
        "  - your model can learn more-complex representations\n",
        "  - but it makes the model more computationally expensive and may lead to learning unwanted patterns (which can lead to overfitting)\n"
      ]
    },
    {
      "cell_type": "markdown",
      "source": [
        "### model 架构\n",
        "我们采用两层 relu 权重 + 最后一层 sigmoid 二分类.\n"
      ],
      "metadata": {
        "id": "_PZLiddt7yDx"
      }
    },
    {
      "cell_type": "code",
      "execution_count": 21,
      "metadata": {
        "id": "6ZIdyymwnEmE"
      },
      "outputs": [],
      "source": [
        "from tensorflow import keras\n",
        "from tensorflow.keras import layers\n",
        "\n",
        "model = keras.Sequential([\n",
        "    layers.Dense(16, activation=\"relu\"),\n",
        "    layers.Dense(16, activation=\"relu\"),\n",
        "    layers.Dense(1, activation=\"sigmoid\")\n",
        "])"
      ]
    },
    {
      "cell_type": "markdown",
      "source": [
        "- intermediate layers use `relu` as their activation function\n",
        "- the final layer uses a `sigmoid` activation so as to output a probability (a score between 0 and 1 indicating how likely the review is to be positive)\n",
        "- `relu` (rectified linear unit) is a function meant to zero out negative values (see figure 4.2)\n",
        "- `sigmoid` \"squashes\" arbitrary values into the `[0, 1]` interval (see figure 4.3), outputting a probability\n",
        "\n",
        "\n",
        "<img src=\"https://github.com/ambujtewari/stats315-winter2022/raw/main/images/relu.png\" height=\"300\">\n",
        "\n",
        "<img src=\"https://github.com/ambujtewari/stats315-winter2022/raw/main/images/sigmoid.png\" height=\"300\">"
      ],
      "metadata": {
        "id": "x-Vrl8W8kYd5"
      }
    },
    {
      "cell_type": "markdown",
      "metadata": {
        "id": "3ZI1xYYWnEmE"
      },
      "source": [
        "**Compiling the model**"
      ]
    },
    {
      "cell_type": "code",
      "execution_count": 22,
      "metadata": {
        "id": "FMpMKIWfnEmF"
      },
      "outputs": [],
      "source": [
        "model.compile(optimizer=\"rmsprop\",         # good default choice for optimizer\n",
        "              loss=\"binary_crossentropy\",  # since our model outputs probabilities, cross entropy is a good choice\n",
        "              metrics=[\"accuracy\"])"
      ]
    },
    {
      "cell_type": "markdown",
      "metadata": {
        "id": "8mg7O29TnEmF"
      },
      "source": [
        "### Validating your approach\n",
        "\n",
        "- a deep learning model (or any ML model) should never be evaluated on its training data\n",
        "- it’s standard practice to use a validation set to monitor the accuracy of the model during training\n",
        "- we’ll create a validation set by setting apart 10,000 samples from the original training data"
      ]
    },
    {
      "cell_type": "markdown",
      "metadata": {
        "id": "uRhQT1IOnEmF"
      },
      "source": [
        "#### **Setting aside a validation set**"
      ]
    },
    {
      "cell_type": "code",
      "execution_count": 23,
      "metadata": {
        "id": "lTeTTRCrnEmF"
      },
      "outputs": [],
      "source": [
        "x_val = x_train[:10000]\n",
        "partial_x_train = x_train[10000:]\n",
        "y_val = y_train[:10000]\n",
        "partial_y_train = y_train[10000:]"
      ]
    },
    {
      "cell_type": "markdown",
      "source": [
        "- we will now train the model for 15 epochs\n",
        "- that's 15 iterations over all samples in the training data\n",
        "- we will use mini-batches of 512 samples\n",
        "- we will monitor loss and accuracy on the 10,000 samples that we set apart\n",
        "- we do so by passing the validation data as the `validation_data` argument"
      ],
      "metadata": {
        "id": "XtWqsHQ_radN"
      }
    },
    {
      "cell_type": "markdown",
      "metadata": {
        "id": "jWHqrBy0nEmG"
      },
      "source": [
        "**Training your model**"
      ]
    },
    {
      "cell_type": "code",
      "execution_count": 24,
      "metadata": {
        "id": "rh5KpXYSnEmG",
        "colab": {
          "base_uri": "https://localhost:8080/"
        },
        "outputId": "6d76e339-737e-470f-e644-d8eea208d1a7"
      },
      "outputs": [
        {
          "output_type": "stream",
          "name": "stdout",
          "text": [
            "Epoch 1/15\n",
            "30/30 [==============================] - 4s 105ms/step - loss: 0.5669 - accuracy: 0.7649 - val_loss: 0.4496 - val_accuracy: 0.8502\n",
            "Epoch 2/15\n",
            "30/30 [==============================] - 1s 50ms/step - loss: 0.3698 - accuracy: 0.8805 - val_loss: 0.3400 - val_accuracy: 0.8795\n",
            "Epoch 3/15\n",
            "30/30 [==============================] - 1s 46ms/step - loss: 0.2785 - accuracy: 0.9078 - val_loss: 0.3020 - val_accuracy: 0.8836\n",
            "Epoch 4/15\n",
            "30/30 [==============================] - 2s 54ms/step - loss: 0.2270 - accuracy: 0.9239 - val_loss: 0.2802 - val_accuracy: 0.8898\n",
            "Epoch 5/15\n",
            "30/30 [==============================] - 2s 61ms/step - loss: 0.1888 - accuracy: 0.9381 - val_loss: 0.2770 - val_accuracy: 0.8868\n",
            "Epoch 6/15\n",
            "30/30 [==============================] - 2s 65ms/step - loss: 0.1625 - accuracy: 0.9461 - val_loss: 0.2877 - val_accuracy: 0.8854\n",
            "Epoch 7/15\n",
            "30/30 [==============================] - 1s 47ms/step - loss: 0.1397 - accuracy: 0.9558 - val_loss: 0.2853 - val_accuracy: 0.8870\n",
            "Epoch 8/15\n",
            "30/30 [==============================] - 1s 38ms/step - loss: 0.1201 - accuracy: 0.9619 - val_loss: 0.3372 - val_accuracy: 0.8688\n",
            "Epoch 9/15\n",
            "30/30 [==============================] - 2s 54ms/step - loss: 0.1056 - accuracy: 0.9677 - val_loss: 0.3119 - val_accuracy: 0.8809\n",
            "Epoch 10/15\n",
            "30/30 [==============================] - 2s 55ms/step - loss: 0.0898 - accuracy: 0.9741 - val_loss: 0.3279 - val_accuracy: 0.8799\n",
            "Epoch 11/15\n",
            "30/30 [==============================] - 1s 36ms/step - loss: 0.0786 - accuracy: 0.9780 - val_loss: 0.3500 - val_accuracy: 0.8798\n",
            "Epoch 12/15\n",
            "30/30 [==============================] - 2s 54ms/step - loss: 0.0680 - accuracy: 0.9817 - val_loss: 0.4060 - val_accuracy: 0.8697\n",
            "Epoch 13/15\n",
            "30/30 [==============================] - 1s 38ms/step - loss: 0.0594 - accuracy: 0.9847 - val_loss: 0.3874 - val_accuracy: 0.8748\n",
            "Epoch 14/15\n",
            "30/30 [==============================] - 2s 52ms/step - loss: 0.0490 - accuracy: 0.9893 - val_loss: 0.3995 - val_accuracy: 0.8743\n",
            "Epoch 15/15\n",
            "30/30 [==============================] - 2s 55ms/step - loss: 0.0444 - accuracy: 0.9906 - val_loss: 0.4218 - val_accuracy: 0.8761\n"
          ]
        }
      ],
      "source": [
        "history = model.fit(partial_x_train,\n",
        "                    partial_y_train,\n",
        "                    epochs=15,\n",
        "                    batch_size=512,\n",
        "                    validation_data=(x_val, y_val))"
      ]
    },
    {
      "cell_type": "code",
      "source": [
        "model.summary()"
      ],
      "metadata": {
        "colab": {
          "base_uri": "https://localhost:8080/"
        },
        "id": "hB3JsspwsxOF",
        "outputId": "07c138e5-46df-4287-a84f-d33ba172251d"
      },
      "execution_count": 25,
      "outputs": [
        {
          "output_type": "stream",
          "name": "stdout",
          "text": [
            "Model: \"sequential\"\n",
            "_________________________________________________________________\n",
            " Layer (type)                Output Shape              Param #   \n",
            "=================================================================\n",
            " dense (Dense)               (None, 16)                160016    \n",
            "                                                                 \n",
            " dense_1 (Dense)             (None, 16)                272       \n",
            "                                                                 \n",
            " dense_2 (Dense)             (None, 1)                 17        \n",
            "                                                                 \n",
            "=================================================================\n",
            "Total params: 160305 (626.19 KB)\n",
            "Trainable params: 160305 (626.19 KB)\n",
            "Non-trainable params: 0 (0.00 Byte)\n",
            "_________________________________________________________________\n"
          ]
        }
      ]
    },
    {
      "cell_type": "markdown",
      "source": [
        "- call to `model.fit()` returns a `History` object\n",
        "- this object has a member `history`\n",
        "- `history` is a dictionary containing data about everything that happened during training"
      ],
      "metadata": {
        "id": "xW--4KsUssQD"
      }
    },
    {
      "cell_type": "code",
      "execution_count": 27,
      "metadata": {
        "id": "e2vz_PPEnEmG",
        "colab": {
          "base_uri": "https://localhost:8080/"
        },
        "outputId": "58387d7f-7361-4791-ed1e-b42f28d3f3a5"
      },
      "outputs": [
        {
          "output_type": "execute_result",
          "data": {
            "text/plain": [
              "dict_keys(['loss', 'accuracy', 'val_loss', 'val_accuracy'])"
            ]
          },
          "metadata": {},
          "execution_count": 27
        }
      ],
      "source": [
        "history_dict = history.history\n",
        "history_dict.keys()"
      ]
    },
    {
      "cell_type": "markdown",
      "source": [
        "The dictionary contains four entries: one per metric that was being monitored during training and during validation"
      ],
      "metadata": {
        "id": "dEVcke2itNBx"
      }
    },
    {
      "cell_type": "markdown",
      "metadata": {
        "id": "_SRDByt-nEmG"
      },
      "source": [
        "#### **Plotting the training and validation loss**"
      ]
    },
    {
      "cell_type": "code",
      "execution_count": 28,
      "metadata": {
        "id": "gWRYDr6TnEmG",
        "colab": {
          "base_uri": "https://localhost:8080/",
          "height": 472
        },
        "outputId": "02ab5982-7c60-4251-f720-b35dc5300c1b"
      },
      "outputs": [
        {
          "output_type": "display_data",
          "data": {
            "text/plain": [
              "<Figure size 640x480 with 1 Axes>"
            ],
            "image/png": "[encoded data removed]"
          },
          "metadata": {}
        }
      ],
      "source": [
        "import matplotlib.pyplot as plt\n",
        "history_dict = history.history\n",
        "loss_values = history_dict[\"loss\"]\n",
        "val_loss_values = history_dict[\"val_loss\"]\n",
        "epochs = range(1, len(loss_values) + 1)\n",
        "plt.plot(epochs, loss_values, \"bo\", label=\"Training loss\")\n",
        "plt.plot(epochs, val_loss_values, \"b\", label=\"Validation loss\")\n",
        "plt.title(\"Training and validation loss\")\n",
        "plt.xlabel(\"Epochs\")\n",
        "plt.ylabel(\"Loss\")\n",
        "plt.legend()\n",
        "plt.show()"
      ]
    },
    {
      "cell_type": "markdown",
      "metadata": {
        "id": "Vtqqos6EnEmH"
      },
      "source": [
        "#### **Plotting the training and validation accuracy**"
      ]
    },
    {
      "cell_type": "code",
      "execution_count": 29,
      "metadata": {
        "id": "Qt4Zu2lDnEmH",
        "colab": {
          "base_uri": "https://localhost:8080/",
          "height": 472
        },
        "outputId": "defe71f8-86f4-494e-f778-26785286f220"
      },
      "outputs": [
        {
          "output_type": "display_data",
          "data": {
            "text/plain": [
              "<Figure size 640x480 with 1 Axes>"
            ],
            "image/png": "[encoded data removed]"
          },
          "metadata": {}
        }
      ],
      "source": [
        "plt.clf()\n",
        "acc = history_dict[\"accuracy\"]\n",
        "val_acc = history_dict[\"val_accuracy\"]\n",
        "plt.plot(epochs, acc, \"bo\", label=\"Training acc\")\n",
        "plt.plot(epochs, val_acc, \"b\", label=\"Validation acc\")\n",
        "plt.title(\"Training and validation accuracy\")\n",
        "plt.xlabel(\"Epochs\")\n",
        "plt.ylabel(\"Accuracy\")\n",
        "plt.legend()\n",
        "plt.show()"
      ]
    },
    {
      "cell_type": "markdown",
      "source": [
        "- training loss decreases with every epoch\n",
        "- training accuracy increases with every epoch\n",
        "- we're running gradient-descent optimization—the quantity we're trying to minimize should be less with every iteration\n",
        "- but that isn't the case for the validation loss/accuracy: they seem to peak at the fourth epoch\n",
        "- what we're seeing is *overfitting*: after the fourth epoch, we're overoptimizing on the training data\n",
        "- we end up learning representations that are specific to the training data and don't generalize to data outside of the training set\n",
        "- we could stop training after four epochs (early stopping)\n",
        "- we will later see a range of techniques to mitigate overfitting\n",
        "\n",
        "Let’s train a new model from scratch for four epochs and then evaluate it on the test data.\n"
      ],
      "metadata": {
        "id": "soUI0B6ytnhT"
      }
    },
    {
      "cell_type": "markdown",
      "metadata": {
        "id": "oa72-dE_nEmH"
      },
      "source": [
        "**Retraining a model from scratch**"
      ]
    },
    {
      "cell_type": "code",
      "execution_count": 30,
      "metadata": {
        "id": "dcHfAo4bnEmH",
        "colab": {
          "base_uri": "https://localhost:8080/"
        },
        "outputId": "c6c15815-3d80-47a8-9882-209e14c0dcb8"
      },
      "outputs": [
        {
          "output_type": "stream",
          "name": "stdout",
          "text": [
            "Epoch 1/4\n",
            "49/49 [==============================] - 2s 32ms/step - loss: 0.4669 - accuracy: 0.8159\n",
            "Epoch 2/4\n",
            "49/49 [==============================] - 2s 38ms/step - loss: 0.2744 - accuracy: 0.9010\n",
            "Epoch 3/4\n",
            "49/49 [==============================] - 2s 45ms/step - loss: 0.2162 - accuracy: 0.9221\n",
            "Epoch 4/4\n",
            "49/49 [==============================] - 2s 32ms/step - loss: 0.1833 - accuracy: 0.9342\n",
            "Now evaluating the model on test set...\n",
            "782/782 [==============================] - 2s 3ms/step - loss: 0.2903 - accuracy: 0.8843\n"
          ]
        }
      ],
      "source": [
        "model = keras.Sequential([\n",
        "    layers.Dense(16, activation=\"relu\"),\n",
        "    layers.Dense(16, activation=\"relu\"),\n",
        "    layers.Dense(1, activation=\"sigmoid\")\n",
        "])\n",
        "model.compile(optimizer=\"rmsprop\",\n",
        "              loss=\"binary_crossentropy\",\n",
        "              metrics=[\"accuracy\"])\n",
        "model.fit(x_train, y_train, epochs=4, batch_size=512)\n",
        "print(\"Now evaluating the model on test set...\")\n",
        "results = model.evaluate(x_test, y_test)"
      ]
    },
    {
      "cell_type": "code",
      "execution_count": 31,
      "metadata": {
        "id": "6f68_J-AnEmI",
        "colab": {
          "base_uri": "https://localhost:8080/"
        },
        "outputId": "c9d56138-f1b0-46bf-f0b9-52e3db33815d"
      },
      "outputs": [
        {
          "output_type": "execute_result",
          "data": {
            "text/plain": [
              "[0.29025453329086304, 0.8842800259590149]"
            ]
          },
          "metadata": {},
          "execution_count": 31
        }
      ],
      "source": [
        "results # gives us the loss and accuracy on the test set"
      ]
    },
    {
      "cell_type": "markdown",
      "metadata": {
        "id": "kOVdA-nVnEmI"
      },
      "source": [
        "### Using a trained model to generate predictions on new data"
      ]
    },
    {
      "cell_type": "code",
      "execution_count": 32,
      "metadata": {
        "id": "miAEW5mcnEmI",
        "colab": {
          "base_uri": "https://localhost:8080/"
        },
        "outputId": "0a881e19-e924-413f-c1af-edd7894b55e6"
      },
      "outputs": [
        {
          "output_type": "stream",
          "name": "stdout",
          "text": [
            "782/782 [==============================] - 2s 3ms/step\n"
          ]
        },
        {
          "output_type": "execute_result",
          "data": {
            "text/plain": [
              "array([[0.23204851],\n",
              "       [0.99919087],\n",
              "       [0.92084867],\n",
              "       ...,\n",
              "       [0.10426106],\n",
              "       [0.10246832],\n",
              "       [0.6336483 ]], dtype=float32)"
            ]
          },
          "metadata": {},
          "execution_count": 32
        }
      ],
      "source": [
        "predictions = model.predict(x_test)\n",
        "predictions"
      ]
    },
    {
      "cell_type": "code",
      "source": [
        "# for visualization purposes only\n",
        "predictions_for_positives = predictions[y_test == 1]\n",
        "predictions_for_negatives = predictions[y_test == 0]\n",
        "fig, (ax1, ax2) = plt.subplots(1, 2)\n",
        "ax1.set_title('Predictions for positive reviews')\n",
        "ax1.violinplot(predictions_for_positives)\n",
        "ax2.set_title('Predictions for negative reviews')\n",
        "ax2.violinplot(predictions_for_negatives)\n",
        "fig.tight_layout()\n",
        "fig.show()"
      ],
      "metadata": {
        "colab": {
          "base_uri": "https://localhost:8080/",
          "height": 487
        },
        "id": "TZD5Sw-8vasn",
        "outputId": "3ac10a94-54a1-433d-a444-ccdf1732e908"
      },
      "execution_count": 33,
      "outputs": [
        {
          "output_type": "display_data",
          "data": {
            "text/plain": [
              "<Figure size 640x480 with 2 Axes>"
            ],
            "image/png": "[encoded data removed]"
          },
          "metadata": {}
        }
      ]
    },
    {
      "cell_type": "markdown",
      "metadata": {
        "id": "JVeeVov3nEmI"
      },
      "source": [
        "### Further experiments\n",
        "\n",
        "Feel free to play with the code above by making one or more of the following changes:\n",
        "- Try using one or three representation layers, and see how doing so affects validation and test accuracy.\n",
        "- Try using layers with more units or fewer units: 32 units, 64 units, and so on.\n",
        "- Try using the `mse` loss function instead of `binary_crossentropy`.\n",
        "- Try using the `tanh` activation (an activation that was popular in the early days of neural networks) instead of `relu`."
      ]
    },
    {
      "cell_type": "markdown",
      "source": [
        "### 打印出** first few mistakes**"
      ],
      "metadata": {
        "id": "NakPpWYQuXpR"
      }
    },
    {
      "cell_type": "code",
      "source": [
        "mistakes = 1*(predictions > 0.5).squeeze() != y_test"
      ],
      "metadata": {
        "id": "s3q7jP-zW5fF"
      },
      "execution_count": 34,
      "outputs": []
    },
    {
      "cell_type": "code",
      "source": [
        "for i in range(100): # look at incorrect predictions in the first 100 test set examples\n",
        "  if mistakes[i]:\n",
        "    decoded_review = [reverse_word_index.get(i - 3, \"?\") for i in test_data[i]]\n",
        "    print(\" \".join(decoded_review))\n",
        "    print(f\"model probability: {predictions[i][0]:.2f}, true label: {y_test[i]}\")"
      ],
      "metadata": {
        "colab": {
          "base_uri": "https://localhost:8080/"
        },
        "id": "psxU06BuY-ep",
        "outputId": "d36676ec-0d49-4aab-81b7-a142c361a1f5"
      },
      "execution_count": 35,
      "outputs": [
        {
          "output_type": "stream",
          "name": "stdout",
          "text": [
            "? i generally love this type of movie however this time i found myself wanting to kick the screen since i can't do that i will just complain about it this was absolutely idiotic the things that happen with the dead kids are very cool but the alive people are absolute idiots i am a grown man pretty big and i can defend myself well however i would not do half the stuff the little girl does in this movie also the mother in this movie is reckless with her children to the point of neglect i wish i wasn't so angry about her and her actions because i would have otherwise enjoyed the flick what a number she was take my advise and fast forward through everything you see her do until the end also is anyone else getting sick of watching movies that are filmed so dark anymore one can hardly see what is being filmed as an audience we are ? involved with the actions on the screen so then why the hell can't we have night vision\n",
            "model probability: 0.84, true label: 0.0\n",
            "? hollywood had a long love affair with bogus ? nights tales but few of these products have stood the test of time the most memorable were the jon hall maria ? films which have long since become camp this one is filled with dubbed songs ? ? and slapstick it's a truly crop of corn and pretty near ? today it was nominated for its imaginative special effects which are almost ? in this day and age ? mainly of trick photography the only outstanding positive feature which survives is its beautiful color and clarity sad to say of the many films made in this genre few of them come up to alexander ? original thief of ? almost any other ? nights film is superior to this one though it's a loser\n",
            "model probability: 0.97, true label: 0.0\n",
            "? ed ? mitchell is a teenager who lives for his job at good ? a small but friendly neighborhood ? stand while his buddy ? thompson also works there but lack ? single minded devotion to his job he's there because he accidentally destroyed the car of his teacher mr ? ? and has to raise money to pay the ? when ? ? a ? fast foot chain opens across the street it looks like good ? is history until ed ? a secret ? that brings hundreds of new customers to their door however the ? manager of ? ? kurt jan is determined to get his hands on the ? and put good ? out of business meanwhile ed and ? must rescue ? ? ? the world's oldest fast food employee from the demented hills asylum and ed might just find love with ? jackson if he could take his mind off the ? long enough to pay attention to her good ? is a comedy directed for kids decent story acting and overall a pretty harmless kids movie\n",
            "model probability: 0.77, true label: 0.0\n",
            "? how managed to avoid attention remains a mystery a potent mix of comedy and crime this one takes chances where tarantino plays it safe with the hollywood formula the risks don't always pay off one character in one sequence comes off ? silly and falls flat in the lead role thomas jane gives a wonderful and complex performance and two brief appearances by mickey rourke hint at the high potential of this much under and ? used actor here's a director one should keep one's eye on\n",
            "model probability: 0.30, true label: 1.0\n",
            "? if you expect that this movie is full of action and grabbing you from the start then don't watch it but if you like those kind of ? movies which stick in your mind for a while until you get the details then you will love it now don't get me wrong there is action and there are things going on just not in the usual way br br basically the plot is in a post apocalyptic world where anyone fights in his or their way for survival in this fight they lost the ability to speak i don't want to write more to not spoil the movie for you but trust me if you like sf authors like or or even some from orson scott card you will love this movie\n",
            "model probability: 0.26, true label: 1.0\n",
            "? if you have never read the classic science fiction novel this mini series is based on it may actually be good unfortunately if you are a fan of the book you probably won't be able to watch more than the first hour or two all of the political intrigue has been taken out of the film the most important scenes from the book have been taken out characters motivations have been changed completely and words from the wrong characters mouths where in the novel paul was a teen age boy with incredible political skill and a great understanding of the way the world worked in this film he is hot headed and and frustrated avoid this movie at all costs\n",
            "model probability: 0.90, true label: 0.0\n",
            "? this is a special film if you know the context antonioni in his eighties had been crippled by a stroke mute and half ? his friends who incidentally are the best the film world has arranged for him to a last significant film the idea is that he can ? a story into being by just looking at it so we have a film about a director who ? stories by simple observation and the matter of the four stories is about how the visual imagination ? love br br the film emerges by giving us the tools to bring it into being through our own imagination the result is pure movie world every person except the director is lovely in aspect or movement some of these women are and they exist in a dreamy misty world of sensual encounter there is no nuance no hint that anything exists but what we see no desire is at work other than what we create br br i know of no other film that so successfully ? our own visual yearning to have us create the world we see he understands something about not touching no one understands van ? visually like he does ? ? space music is ? on precisely the same notion the sensual touch that implies but doesn't physically touch br br ? ? wife appears appropriately as the ? and she also directs a lackluster ? ? film that is on the dvd br br ted's ? 3 of 4 worth watching\n",
            "model probability: 0.33, true label: 1.0\n",
            "? oh how awfully this movie is i don't know if it is a horror film or a drama cause the story and the both genres are not established very well the story is not moving it is slow boring and sleepy from the beginning to end this movie really ? me but i really liked the camera work it is authentic fresh and clear the acting is great too the little boy was the great performer in this movie but it hasn't made me to jump from my seat but this movie makes me grab a ? lay on the bed and sleep until the credits roll br br boring not worth watching i tell you this movie sucked br br 1 10\n",
            "model probability: 0.69, true label: 0.0\n",
            "? there seems to be a spectrum of cinema on the left there are movies made mostly for entertainment and or commercial purposes in the middle there are movies that are both entertaining and artistic on the right are movies that are not as commercial but are focused more on cinema as art than cinema as product br br i'm not here to say any one part of the spectrum is better than any other but that when a movie goes too far to either end it's rarely good such is the case with ? br br i had no idea what to expect when i saw it advertised a few friends were going and asked if i wanted to come along none of us knew what to expect and by the end none of us were pleased br br yes there are breathtaking images yes i'm amazed at the ? the filmmakers went to in searching through ? footage yes the soundtrack is enjoyable to listen to and probably the best part of the experience the thing is this goes so far to the right side of the spectrum i mentioned that i can't say anything nice about the movie as a whole br br it's preachy it's a ? of symbolism and obvious morality it's not saying anything new or forcing the viewer to examine life in a new way it's just telling us things we already know that is if we can even figure out what it's saying br br this movie is simply art for ? sake an attempt to say look at how deep and thought provoking we can be by using montage when a film becomes more about how clever or intelligent its creators are than about its subject it ? to be a film and simply becomes celluloid self ?\n",
            "model probability: 0.89, true label: 0.0\n",
            "? at initial thought the concept of this show seemed to be a joke and a gag just for stan lee's amusement i expected nothing more than a sleazy animated version of ? wire with low production values much like those short pieces of crap you see on adult swim for short term amusement but can never taken too seriously boy was i wrong br br has even better production values than similar marvel ? the animation is very good and it seems that they've taken this series very seriously and given it a full effort to make it a professional production as possible br br the humor is good too on the sexy suggestive and sleazy side it is very similar if not exactly like the simpsons style you may encounter clichés and a lot of predictable humor but its still fun nevertheless if this were running today i'd surely see it regularly its surprisingly one of the better ? ever made\n",
            "model probability: 0.44, true label: 1.0\n"
          ]
        }
      ]
    }
  ],
  "metadata": {
    "colab": {
      "provenance": [],
      "toc_visible": true
    },
    "kernelspec": {
      "display_name": "Python 3",
      "language": "python",
      "name": "python3"
    },
    "language_info": {
      "codemirror_mode": {
        "name": "ipython",
        "version": 3
      },
      "file_extension": ".py",
      "mimetype": "text/x-python",
      "name": "python",
      "nbconvert_exporter": "python",
      "pygments_lexer": "ipython3",
      "version": "3.7.0"
    }
  },
  "nbformat": 4,
  "nbformat_minor": 0
}