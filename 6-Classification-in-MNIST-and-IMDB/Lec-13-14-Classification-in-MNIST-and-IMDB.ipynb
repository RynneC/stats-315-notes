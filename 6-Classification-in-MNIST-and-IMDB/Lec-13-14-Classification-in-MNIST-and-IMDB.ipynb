{
  "cells": [
    {
      "cell_type": "markdown",
      "metadata": {
        "id": "VfIweEhQ0E3g"
      },
      "source": [
        "**Notebook credit**: based on the F. Chollet's original notebook [here](https://github.com/fchollet/deep-learning-with-python-notebooks/blob/master/chapter02_mathematical-building-blocks.ipynb)."
      ]
    },
    {
      "cell_type": "markdown",
      "metadata": {
        "id": "aOWjaa1B0E3k"
      },
      "source": [
        "## A 10 class classification problem\n",
        "\n",
        "\n",
        "- We will classify grayscale images of handwritten digits (28 × 28 pixels) into 10 categories (0 through 9)\n",
        "- We’ll use the MNIST dataset, a classic in the machine learning community\n",
        "- Has 60,000 training images, plus 10,000 test images\n",
        "- Was assembled by the National Institute of Standards and Technology (the NIST in MNIST) in the 1980s\n",
        "- You can think of working with MNIST as the “Hello World” of deep learning"
      ]
    },
    {
      "cell_type": "markdown",
      "metadata": {
        "id": "QV0IFlNU0E3k"
      },
      "source": [
        "**Loading the MNIST dataset in Keras**"
      ]
    },
    {
      "cell_type": "code",
      "source": [
        "import tensorflow as tf\n",
        "import numpy as np\n",
        "import matplotlib.pyplot as plt"
      ],
      "metadata": {
        "id": "sqfqM4NV2Hh-"
      },
      "execution_count": null,
      "outputs": []
    },
    {
      "cell_type": "markdown",
      "source": [
        "The MNIST dataset comes preloaded in Keras in four NumPy\n",
        "arrays."
      ],
      "metadata": {
        "id": "-CYdO70oL-z_"
      }
    },
    {
      "cell_type": "code",
      "execution_count": null,
      "metadata": {
        "id": "oSN53pld0E3l",
        "colab": {
          "base_uri": "https://localhost:8080/"
        },
        "outputId": "56c545db-4a99-4470-a1f8-fd6974dbda7e"
      },
      "outputs": [
        {
          "output_type": "stream",
          "name": "stdout",
          "text": [
            "Downloading data from https://storage.googleapis.com/tensorflow/tf-keras-datasets/mnist.npz\n",
            "11490434/11490434 [==============================] - 1s 0us/step\n"
          ]
        }
      ],
      "source": [
        "from tensorflow.keras.datasets import mnist\n",
        "(train_images, train_labels), (test_images, test_labels) = mnist.load_data()"
      ]
    },
    {
      "cell_type": "markdown",
      "source": [
        "- `train_images` and `train_labels` form the *training set*, the data that the model will learn from\n",
        "- model will then be tested on the *test set*, `test_images` and `test_labels`\n",
        "- images are encoded as NumPy arrays\n",
        "- labels are an array of digits, ranging from 0 to 9."
      ],
      "metadata": {
        "id": "bDsa7tB8MFB6"
      }
    },
    {
      "cell_type": "code",
      "execution_count": null,
      "metadata": {
        "colab": {
          "base_uri": "https://localhost:8080/"
        },
        "id": "1PXzQU9i0E3m",
        "outputId": "42fcbb24-7663-4e74-ffa0-8c10ff8655ea"
      },
      "outputs": [
        {
          "output_type": "execute_result",
          "data": {
            "text/plain": [
              "(60000, 28, 28)"
            ]
          },
          "metadata": {},
          "execution_count": 3
        }
      ],
      "source": [
        "train_images.shape"
      ]
    },
    {
      "cell_type": "code",
      "execution_count": null,
      "metadata": {
        "colab": {
          "base_uri": "https://localhost:8080/"
        },
        "id": "fgLQ_aht0E3m",
        "outputId": "66b9f58e-fc00-4e8d-bfc1-7c4b08f758d1"
      },
      "outputs": [
        {
          "output_type": "execute_result",
          "data": {
            "text/plain": [
              "60000"
            ]
          },
          "metadata": {},
          "execution_count": 4
        }
      ],
      "source": [
        "len(train_labels)"
      ]
    },
    {
      "cell_type": "code",
      "execution_count": null,
      "metadata": {
        "colab": {
          "base_uri": "https://localhost:8080/"
        },
        "id": "d9mCNLSW0E3n",
        "outputId": "d1d6a134-de6a-40af-88ed-6bab64ef490b"
      },
      "outputs": [
        {
          "output_type": "execute_result",
          "data": {
            "text/plain": [
              "array([5, 0, 4, ..., 5, 6, 8], dtype=uint8)"
            ]
          },
          "metadata": {},
          "execution_count": 5
        }
      ],
      "source": [
        "train_labels"
      ]
    },
    {
      "cell_type": "code",
      "execution_count": null,
      "metadata": {
        "colab": {
          "base_uri": "https://localhost:8080/"
        },
        "id": "jy6GuBjV0E3n",
        "outputId": "9b945e47-a02b-4cf2-b478-1f840d497681"
      },
      "outputs": [
        {
          "output_type": "execute_result",
          "data": {
            "text/plain": [
              "(10000, 28, 28)"
            ]
          },
          "metadata": {},
          "execution_count": 6
        }
      ],
      "source": [
        "test_images.shape"
      ]
    },
    {
      "cell_type": "code",
      "execution_count": null,
      "metadata": {
        "colab": {
          "base_uri": "https://localhost:8080/"
        },
        "id": "s0tIZn0e0E3o",
        "outputId": "cdcc4130-ab2e-4388-de2f-b7c38dc12f88"
      },
      "outputs": [
        {
          "output_type": "execute_result",
          "data": {
            "text/plain": [
              "10000"
            ]
          },
          "metadata": {},
          "execution_count": 7
        }
      ],
      "source": [
        "len(test_labels)"
      ]
    },
    {
      "cell_type": "code",
      "execution_count": null,
      "metadata": {
        "colab": {
          "base_uri": "https://localhost:8080/"
        },
        "id": "oJuN4SDf0E3p",
        "outputId": "fd206fc4-94ed-4e00-9898-03dbe08fece6"
      },
      "outputs": [
        {
          "output_type": "execute_result",
          "data": {
            "text/plain": [
              "array([7, 2, 1, ..., 4, 5, 6], dtype=uint8)"
            ]
          },
          "metadata": {},
          "execution_count": 8
        }
      ],
      "source": [
        "test_labels"
      ]
    },
    {
      "cell_type": "markdown",
      "source": [
        "**Workflow** will be as follows:\n",
        "- we’ll feed the neural network the training data, `train_images` and `train_labels`\n",
        "- network will then learn to associate images and labels\n",
        "- we’ll ask the network to produce predictions for `test_images`\n",
        "- we’ll verify whether these predictions match the labels from `test_labels`"
      ],
      "metadata": {
        "id": "rwOS-jhGMlqs"
      }
    },
    {
      "cell_type": "code",
      "source": [
        "# Don't worry about the details of the plotting commands below. You won't be tested on this stuff.\n",
        "plt.figure(figsize=(10,10))\n",
        "for i in range(25):\n",
        "    plt.subplot(5,5,i+1)\n",
        "    plt.xticks([])\n",
        "    plt.yticks([])\n",
        "    plt.grid(False)\n",
        "    plt.imshow(train_images[i], cmap=plt.cm.binary)\n",
        "    plt.xlabel(train_labels[i])\n",
        "plt.show()"
      ],
      "metadata": {
        "colab": {
          "base_uri": "https://localhost:8080/",
          "height": 592
        },
        "id": "6To209GK2QMW",
        "outputId": "d24dbd91-aea8-4665-d170-9baa25258700"
      },
      "execution_count": null,
      "outputs": [
        {
          "output_type": "display_data",
          "data": {
            "text/plain": [
              "<Figure size 720x720 with 25 Axes>"
            ],
            "image/png": "[encoded data removed]"
          },
          "metadata": {}
        }
      ]
    },
    {
      "cell_type": "markdown",
      "metadata": {
        "id": "U1Szq22X0E3p"
      },
      "source": [
        "**The network architecture**\n",
        "\n",
        "- core building block of neural networks is the *layer*\n",
        "- data goes into a layer, and it comes out in a more useful form\n",
        "- layers extract representations out of the data fed into them—hopefully, representations that are more meaningful for the problem at hand\n",
        "- most deep learning consists of chaining together simple layers\n",
        "\n"
      ]
    },
    {
      "cell_type": "code",
      "execution_count": null,
      "metadata": {
        "id": "j9UPKiMf0E3p"
      },
      "outputs": [],
      "source": [
        "from tensorflow import keras\n",
        "from tensorflow.keras import layers\n",
        "model = keras.Sequential([\n",
        "    layers.Flatten(input_shape=(28, 28)),\n",
        "    layers.Dense(512, activation=\"relu\"),\n",
        "    layers.Dense(10, activation=\"softmax\")\n",
        "])"
      ]
    },
    {
      "cell_type": "markdown",
      "source": [
        "Our model consists of:\n",
        "\n",
        "- a layer that simply reshapes the input (therefore has no parameters)\n",
        "- followed by a sequence of two `Dense` layers\n",
        "- these are densely connected (also called *fully connected*) neural layers\n",
        "- the last layer is a 10-way softmax classification layer\n",
        "  - it will return an array of 10 probability scores (summing to 1)\n",
        "  - each score will be the probability that the current digit image belongs to one of our 10 digit classes\n",
        "\n",
        "Let's look at our model's summary. Can you compute the number of trainable parameters in each layer yourself?"
      ],
      "metadata": {
        "id": "rH8cQ_1DNSSl"
      }
    },
    {
      "cell_type": "code",
      "source": [
        "model.summary()"
      ],
      "metadata": {
        "colab": {
          "base_uri": "https://localhost:8080/"
        },
        "id": "iP3R9mmy2lq9",
        "outputId": "7253a02b-0427-401e-919a-3a5350310f36"
      },
      "execution_count": null,
      "outputs": [
        {
          "output_type": "stream",
          "name": "stdout",
          "text": [
            "Model: \"sequential\"\n",
            "_________________________________________________________________\n",
            " Layer (type)                Output Shape              Param #   \n",
            "=================================================================\n",
            " flatten (Flatten)           (None, 784)               0         \n",
            "                                                                 \n",
            " dense (Dense)               (None, 512)               401920    \n",
            "                                                                 \n",
            " dense_1 (Dense)             (None, 10)                5130      \n",
            "                                                                 \n",
            "=================================================================\n",
            "Total params: 407,050\n",
            "Trainable params: 407,050\n",
            "Non-trainable params: 0\n",
            "_________________________________________________________________\n"
          ]
        }
      ]
    },
    {
      "cell_type": "markdown",
      "metadata": {
        "id": "fxfTKrt10E3q"
      },
      "source": [
        "**The compilation step**\n",
        "\n",
        "This step involves choosing:\n",
        "- An *optimizer*—The mechanism through which the model will update itself based on the training data it sees, so as to improve its performance\n",
        "- A *loss function*—How the model will be able to measure its performance on the training data, and thus how it will be able to steer itself in the right direction.\n",
        "-*Metrics to monitor during training and testing*—Here, we’ll only care about accuracy (the fraction of the images that were correctly classified)."
      ]
    },
    {
      "cell_type": "code",
      "execution_count": null,
      "metadata": {
        "id": "Ei4q4gHi0E3q"
      },
      "outputs": [],
      "source": [
        "model.compile(optimizer=\"rmsprop\",\n",
        "              loss=\"sparse_categorical_crossentropy\",\n",
        "              metrics=[\"accuracy\"])"
      ]
    },
    {
      "cell_type": "markdown",
      "metadata": {
        "id": "PXjbJIzC0E3q"
      },
      "source": [
        "**Preparing the image data**\n",
        "\n",
        "- we’ll preprocess the data by scaling it so that all values are in the [0, 1] interval\n",
        "- previously, our training images were stored in an array of shape (60000, 28, 28) of type `uint8` with values in the [0, 255] interval\n",
        "- we’ll transform it into a `float64` array of shape (60000, 28, 28) with values between 0 and 1."
      ]
    },
    {
      "cell_type": "code",
      "execution_count": null,
      "metadata": {
        "id": "Cqvcsscu0E3q",
        "colab": {
          "base_uri": "https://localhost:8080/"
        },
        "outputId": "1b158468-07a7-4efe-fee1-307840606161"
      },
      "outputs": [
        {
          "output_type": "stream",
          "name": "stdout",
          "text": [
            "previously, train_images was of type uint8\n",
            "now, train_images is of type float64\n"
          ]
        }
      ],
      "source": [
        "print(f\"previously, train_images was of type {train_images.dtype}\")\n",
        "train_images = train_images / 255\n",
        "test_images = test_images / 255\n",
        "print(f\"now, train_images is of type {train_images.dtype}\")"
      ]
    },
    {
      "cell_type": "markdown",
      "metadata": {
        "id": "DaXyToC50E3r"
      },
      "source": [
        "**\"Fitting\" the model**"
      ]
    },
    {
      "cell_type": "code",
      "execution_count": null,
      "metadata": {
        "colab": {
          "base_uri": "https://localhost:8080/"
        },
        "id": "U33DhB-c0E3r",
        "outputId": "fc8d9cc4-4fcd-429a-a33c-bc7894f63664"
      },
      "outputs": [
        {
          "output_type": "stream",
          "name": "stdout",
          "text": [
            "Epoch 1/5\n",
            "469/469 [==============================] - 20s 38ms/step - loss: 0.2647 - accuracy: 0.9234\n",
            "Epoch 2/5\n",
            "469/469 [==============================] - 8s 16ms/step - loss: 0.1071 - accuracy: 0.9687\n",
            "Epoch 3/5\n",
            "469/469 [==============================] - 5s 11ms/step - loss: 0.0705 - accuracy: 0.9786\n",
            "Epoch 4/5\n",
            "469/469 [==============================] - 6s 13ms/step - loss: 0.0509 - accuracy: 0.9849\n",
            "Epoch 5/5\n",
            "469/469 [==============================] - 5s 11ms/step - loss: 0.0388 - accuracy: 0.9883\n"
          ]
        },
        {
          "output_type": "execute_result",
          "data": {
            "text/plain": [
              "<keras.callbacks.History at 0x7f25c9bd2df0>"
            ]
          },
          "metadata": {},
          "execution_count": 14
        }
      ],
      "source": [
        "model.fit(train_images, train_labels, epochs=5, batch_size=128)"
      ]
    },
    {
      "cell_type": "markdown",
      "source": [
        "\n",
        "- Two quantities are displayed during training:\n",
        "  - the loss of the model over the training data\n",
        "  - the accuracy of the model over the training data\n",
        "- We quickly reach an accuracy of 0.989 (98.9%) on the training data."
      ],
      "metadata": {
        "id": "7tTafSqMOrSv"
      }
    },
    {
      "cell_type": "markdown",
      "metadata": {
        "id": "7M06oKFz0E3r"
      },
      "source": [
        "**Using the model to make predictions**\n",
        "\n",
        "We can use out trained model to predict class probabilities for new digits—images in the test set (these were _not_ part of the training set)"
      ]
    },
    {
      "cell_type": "code",
      "execution_count": null,
      "metadata": {
        "colab": {
          "base_uri": "https://localhost:8080/"
        },
        "id": "Nv9g3r9b0E3r",
        "outputId": "e6e81339-40e4-4ce1-d2f9-872bcb9d93cb"
      },
      "outputs": [
        {
          "output_type": "stream",
          "name": "stdout",
          "text": [
            "313/313 [==============================] - 1s 3ms/step\n"
          ]
        },
        {
          "output_type": "execute_result",
          "data": {
            "text/plain": [
              "array([5.6230903e-07, 4.7791451e-09, 7.4389086e-06, 3.5511600e-04,\n",
              "       1.4530801e-12, 2.9874377e-07, 1.9160582e-12, 9.9963582e-01,\n",
              "       1.7664669e-07, 5.5959777e-07], dtype=float32)"
            ]
          },
          "metadata": {},
          "execution_count": 15
        }
      ],
      "source": [
        "predictions = model.predict(test_images)\n",
        "predictions[0]"
      ]
    },
    {
      "cell_type": "markdown",
      "source": [
        "- Each number of index `i` in that array corresponds to the probability that digit image test_digits[0] belongs to class `i`.\n",
        "- This first test digit has the highest probability score (almost 1) at index 7, so according to our model, it must be a 7"
      ],
      "metadata": {
        "id": "7KUnTmaKPG8R"
      }
    },
    {
      "cell_type": "code",
      "execution_count": null,
      "metadata": {
        "colab": {
          "base_uri": "https://localhost:8080/"
        },
        "id": "5pkYqIyA0E3r",
        "outputId": "7da6c05d-c3b3-403a-8e86-16c5f629d674"
      },
      "outputs": [
        {
          "output_type": "execute_result",
          "data": {
            "text/plain": [
              "7"
            ]
          },
          "metadata": {},
          "execution_count": 16
        }
      ],
      "source": [
        "predictions[0].argmax()"
      ]
    },
    {
      "cell_type": "code",
      "execution_count": null,
      "metadata": {
        "colab": {
          "base_uri": "https://localhost:8080/"
        },
        "id": "UfCRIw9Y0E3s",
        "outputId": "4bda0af1-982e-4c93-99c0-153dd6c6555e"
      },
      "outputs": [
        {
          "output_type": "execute_result",
          "data": {
            "text/plain": [
              "0.9996358"
            ]
          },
          "metadata": {},
          "execution_count": 17
        }
      ],
      "source": [
        "predictions[0][7]"
      ]
    },
    {
      "cell_type": "markdown",
      "source": [
        "Our prediction agrees with the true test label."
      ],
      "metadata": {
        "id": "tyN1a1JiPT4Y"
      }
    },
    {
      "cell_type": "code",
      "execution_count": null,
      "metadata": {
        "colab": {
          "base_uri": "https://localhost:8080/"
        },
        "id": "nTx00C200E3s",
        "outputId": "5f456531-9c1d-4880-edd7-5ca2475f49b2"
      },
      "outputs": [
        {
          "output_type": "execute_result",
          "data": {
            "text/plain": [
              "7"
            ]
          },
          "metadata": {},
          "execution_count": 18
        }
      ],
      "source": [
        "test_labels[0]"
      ]
    },
    {
      "cell_type": "markdown",
      "metadata": {
        "id": "tQe7_edf0E3s"
      },
      "source": [
        "**Evaluating the model on new data**\n",
        "\n",
        "Let's compute average accuracy over the entire test set."
      ]
    },
    {
      "cell_type": "code",
      "execution_count": null,
      "metadata": {
        "colab": {
          "base_uri": "https://localhost:8080/"
        },
        "id": "9_p6ZXmb0E3s",
        "outputId": "c5a3306d-d00d-4d06-dd5d-683810c07ca7"
      },
      "outputs": [
        {
          "output_type": "stream",
          "name": "stdout",
          "text": [
            "313/313 [==============================] - 1s 4ms/step - loss: 0.0623 - accuracy: 0.9801\n",
            "test_acc: 0.9800999760627747\n"
          ]
        }
      ],
      "source": [
        "test_loss, test_acc = model.evaluate(test_images, test_labels)\n",
        "print(f\"test_acc: {test_acc}\")"
      ]
    },
    {
      "cell_type": "markdown",
      "source": [
        "- test-set accuracy turns out to be around 98%\n",
        "- that's a bit lower than the training-set accuracy (98.9%)\n",
        "- gap between training accuracy and test accuracy is an example of *overfitting*:\n",
        "  - ML models tend to perform worse on new data than on their training data\n",
        "  - We will talk more about overfitting later in this course"
      ],
      "metadata": {
        "id": "UprgELx2PeoR"
      }
    },
    {
      "cell_type": "markdown",
      "source": [
        "**Visualizing first few predictions and first few mistakes**\n",
        "\n",
        "_Note: this section is for visualization purposes only. You will not be tested on this stuff_"
      ],
      "metadata": {
        "id": "ajukZaOC9Rj1"
      }
    },
    {
      "cell_type": "code",
      "source": [
        "def plot_image(i, predictions_array, true_label, img):\n",
        "  true_label, img = true_label[i], img[i]\n",
        "  plt.grid(False)\n",
        "  plt.xticks([])\n",
        "  plt.yticks([])\n",
        "\n",
        "  plt.imshow(img, cmap=plt.cm.binary)\n",
        "\n",
        "  predicted_label = np.argmax(predictions_array)\n",
        "  if predicted_label == true_label:\n",
        "    color = 'blue'\n",
        "  else:\n",
        "    color = 'red'\n",
        "\n",
        "  plt.xlabel(\"{} {:2.0f}% ({})\".format(predicted_label,\n",
        "                                100*np.max(predictions_array),\n",
        "                                true_label),\n",
        "                                color=color)\n",
        "\n",
        "def plot_value_array(i, predictions_array, true_label):\n",
        "  true_label = true_label[i]\n",
        "  plt.grid(False)\n",
        "  plt.xticks(range(10))\n",
        "  plt.yticks([])\n",
        "  thisplot = plt.bar(range(10), predictions_array, color=\"#777777\")\n",
        "  plt.ylim([0, 1])\n",
        "  predicted_label = np.argmax(predictions_array)\n",
        "\n",
        "  thisplot[predicted_label].set_color('red')\n",
        "  thisplot[true_label].set_color('blue')"
      ],
      "metadata": {
        "id": "-pdncE6o9iRu"
      },
      "execution_count": null,
      "outputs": []
    },
    {
      "cell_type": "code",
      "source": [
        "# plot first few predictions\n",
        "\n",
        "num_rows = 5\n",
        "num_cols = 3\n",
        "num_images = num_rows*num_cols\n",
        "plt.figure(figsize=(2*2*num_cols, 2*num_rows))\n",
        "for i in range(num_images):\n",
        "  plt.subplot(num_rows, 2*num_cols, 2*i+1)\n",
        "  plot_image(i, predictions[i], test_labels, test_images)\n",
        "  plt.subplot(num_rows, 2*num_cols, 2*i+2)\n",
        "  plot_value_array(i, predictions[i], test_labels)\n",
        "plt.tight_layout()\n",
        "plt.show()"
      ],
      "metadata": {
        "colab": {
          "base_uri": "https://localhost:8080/",
          "height": 729
        },
        "id": "2aOvIsUc9vt5",
        "outputId": "513a0bac-e8d2-4e1d-fab4-ff5620d848f0"
      },
      "execution_count": null,
      "outputs": [
        {
          "output_type": "display_data",
          "data": {
            "text/plain": [
              "<Figure size 864x720 with 30 Axes>"
            ],
            "image/png": "[encoded data removed]"
          },
          "metadata": {
            "needs_background": "light"
          }
        }
      ]
    },
    {
      "cell_type": "code",
      "source": [
        "# plot first few mistakes\n",
        "\n",
        "num_rows = 5\n",
        "num_cols = 3\n",
        "i, mistakes = 0, 0\n",
        "num_images = num_rows*num_cols\n",
        "plt.figure(figsize=(2*2*num_cols, 2*num_rows))\n",
        "while mistakes < num_rows*num_cols:\n",
        "  if predictions[i].argmax() != test_labels[i]: # plot only if prediction incorrect\n",
        "    plt.subplot(num_rows, 2*num_cols, 2*mistakes+1)\n",
        "    plot_image(i, predictions[i], test_labels, test_images)\n",
        "    plt.subplot(num_rows, 2*num_cols, 2*mistakes+2)\n",
        "    plot_value_array(i, predictions[i], test_labels)\n",
        "    mistakes += 1\n",
        "  i = i + 1\n",
        "plt.tight_layout()\n",
        "plt.show()"
      ],
      "metadata": {
        "colab": {
          "base_uri": "https://localhost:8080/",
          "height": 729
        },
        "id": "ltnqZ_g0-wxC",
        "outputId": "6a863915-45d5-400a-f8dc-250f34e22ebd"
      },
      "execution_count": null,
      "outputs": [
        {
          "output_type": "display_data",
          "data": {
            "text/plain": [
              "<Figure size 864x720 with 30 Axes>"
            ],
            "image/png": "[encoded data removed]"
          },
          "metadata": {
            "needs_background": "light"
          }
        }
      ]
    },
    {
      "cell_type": "markdown",
      "source": [
        "**Training a single layer network and visualizing network weights**"
      ],
      "metadata": {
        "id": "a7CUJk9PK8Bx"
      }
    },
    {
      "cell_type": "code",
      "source": [
        "model = keras.Sequential([\n",
        "    layers.Flatten(input_shape=(28, 28)),\n",
        "    layers.Dense(10, activation=\"softmax\")\n",
        "])\n",
        "model.compile(optimizer=\"rmsprop\",\n",
        "              loss=\"sparse_categorical_crossentropy\",\n",
        "              metrics=[\"accuracy\"])\n",
        "model.fit(train_images, train_labels, epochs=10, batch_size=128)"
      ],
      "metadata": {
        "colab": {
          "base_uri": "https://localhost:8080/"
        },
        "id": "bgFJ1FCRFT0w",
        "outputId": "0e2421cf-cad1-4932-bdf7-40934e499914"
      },
      "execution_count": null,
      "outputs": [
        {
          "output_type": "stream",
          "name": "stdout",
          "text": [
            "Epoch 1/10\n",
            "469/469 [==============================] - 3s 5ms/step - loss: 0.6008 - accuracy: 0.8517\n",
            "Epoch 2/10\n",
            "469/469 [==============================] - 2s 4ms/step - loss: 0.3330 - accuracy: 0.9078\n",
            "Epoch 3/10\n",
            "469/469 [==============================] - 2s 3ms/step - loss: 0.3044 - accuracy: 0.9152\n",
            "Epoch 4/10\n",
            "469/469 [==============================] - 2s 3ms/step - loss: 0.2908 - accuracy: 0.9191\n",
            "Epoch 5/10\n",
            "469/469 [==============================] - 2s 3ms/step - loss: 0.2827 - accuracy: 0.9213\n",
            "Epoch 6/10\n",
            "469/469 [==============================] - 2s 4ms/step - loss: 0.2772 - accuracy: 0.9231\n",
            "Epoch 7/10\n",
            "469/469 [==============================] - 2s 4ms/step - loss: 0.2732 - accuracy: 0.9239\n",
            "Epoch 8/10\n",
            "469/469 [==============================] - 2s 4ms/step - loss: 0.2697 - accuracy: 0.9255\n",
            "Epoch 9/10\n",
            "469/469 [==============================] - 2s 5ms/step - loss: 0.2669 - accuracy: 0.9264\n",
            "Epoch 10/10\n",
            "469/469 [==============================] - 2s 4ms/step - loss: 0.2647 - accuracy: 0.9275\n"
          ]
        },
        {
          "output_type": "execute_result",
          "data": {
            "text/plain": [
              "<keras.callbacks.History at 0x7f25c687c7f0>"
            ]
          },
          "metadata": {},
          "execution_count": 23
        }
      ]
    },
    {
      "cell_type": "code",
      "source": [
        "test_loss, test_acc = model.evaluate(test_images, test_labels)\n",
        "print(f\"test_acc: {test_acc}\")"
      ],
      "metadata": {
        "colab": {
          "base_uri": "https://localhost:8080/"
        },
        "id": "2gVNt6vwG11u",
        "outputId": "a598dec9-da6a-42e0-bf63-b6b6f1c2d37c"
      },
      "execution_count": null,
      "outputs": [
        {
          "output_type": "stream",
          "name": "stdout",
          "text": [
            "313/313 [==============================] - 1s 2ms/step - loss: 0.2666 - accuracy: 0.9267\n",
            "test_acc: 0.9266999959945679\n"
          ]
        }
      ]
    },
    {
      "cell_type": "code",
      "source": [
        "plt.figure(figsize=(10,4))\n",
        "for i in range(10):\n",
        "  w = model.layers[1].get_weights()[0][:,i].reshape([28, 28])\n",
        "  plt.subplot(2,5,i+1)\n",
        "  plt.grid(False)\n",
        "  plt.xticks([])\n",
        "  plt.yticks([])\n",
        "  plt.imshow(w, cmap=plt.cm.binary) # larger values get darker shade\n",
        "  plt.xlabel(i)\n",
        "plt.show()"
      ],
      "metadata": {
        "colab": {
          "base_uri": "https://localhost:8080/",
          "height": 263
        },
        "id": "jjLOfCNmHCqX",
        "outputId": "a2895232-4a46-43f8-b6ee-ef0e1853fd7d"
      },
      "execution_count": null,
      "outputs": [
        {
          "output_type": "display_data",
          "data": {
            "text/plain": [
              "<Figure size 720x288 with 10 Axes>"
            ],
            "image/png": "[encoded data removed]"
          },
          "metadata": {}
        }
      ]
    },
    {
      "cell_type": "markdown",
      "source": [
        "**Finding the training images that maximize the activation of outputs (before softmax)**"
      ],
      "metadata": {
        "id": "GjwKiB5h1uHK"
      }
    },
    {
      "cell_type": "code",
      "source": [
        "reshaped_images = train_images.reshape([60000, 784])\n",
        "reshaped_images.shape # now in a shape that is compatible with multiplication with a 784 dim vector of weights"
      ],
      "metadata": {
        "colab": {
          "base_uri": "https://localhost:8080/"
        },
        "id": "qqKzrQb10HhL",
        "outputId": "4d0d2523-d6e4-4b0c-efcd-1f3d83f93e8f"
      },
      "execution_count": null,
      "outputs": [
        {
          "output_type": "execute_result",
          "data": {
            "text/plain": [
              "(60000, 784)"
            ]
          },
          "metadata": {},
          "execution_count": 26
        }
      ]
    },
    {
      "cell_type": "code",
      "source": [
        "plt.figure(figsize=(10,4))\n",
        "for i in range(10):\n",
        "  w = model.layers[1].get_weights()[0][:,i]     # weight for digit i\n",
        "  image_id = np.argmax(reshaped_images.dot(w))  # compute dot product with 60,000 images and find the image with maximum dot product\n",
        "  plt.subplot(2,5,i+1)\n",
        "  plt.grid(False)\n",
        "  plt.xticks([])\n",
        "  plt.yticks([])\n",
        "  plt.imshow(train_images[image_id], cmap=plt.cm.binary) # larger values get darker shade\n",
        "  plt.xlabel(i)\n",
        "plt.show()"
      ],
      "metadata": {
        "colab": {
          "base_uri": "https://localhost:8080/",
          "height": 263
        },
        "id": "tNfIgBgT0Z_v",
        "outputId": "5fe5521c-1a5d-43cc-d028-31c6a89a79e1"
      },
      "execution_count": null,
      "outputs": [
        {
          "output_type": "display_data",
          "data": {
            "text/plain": [
              "<Figure size 720x288 with 10 Axes>"
            ],
            "image/png": "[encoded data removed]"
          },
          "metadata": {}
        }
      ]
    }
  ],
  "metadata": {
    "colab": {
      "provenance": []
    },
    "kernelspec": {
      "display_name": "Python 3",
      "language": "python",
      "name": "python3"
    },
    "language_info": {
      "codemirror_mode": {
        "name": "ipython",
        "version": 3
      },
      "file_extension": ".py",
      "mimetype": "text/x-python",
      "name": "python",
      "nbconvert_exporter": "python",
      "pygments_lexer": "ipython3",
      "version": "3.7.0"
    }
  },
  "nbformat": 4,
  "nbformat_minor": 0
}