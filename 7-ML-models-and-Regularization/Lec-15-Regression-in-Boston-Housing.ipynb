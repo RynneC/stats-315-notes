{
  "cells": [
    {
      "cell_type": "markdown",
      "metadata": {
        "id": "i5bJkbR6F65N"
      },
      "source": [
        "**Notebook credit**: based on the F. Chollet's original notebook [here](https://github.com/fchollet/deep-learning-with-python-notebooks/blob/master/chapter04_getting-started-with-neural-networks.ipynb)."
      ]
    },
    {
      "cell_type": "markdown",
      "metadata": {
        "id": "FjIQ17OZF65d"
      },
      "source": [
        "## Predicting house prices: A regression example\n",
        "\n",
        "We have discussed _regression problems_ before\n",
        "These consist of predicting a continuous value instead of a discrete label:\n",
        "- predicting the temperature tomorrow, given meteorological data\n",
        "- predicting the time that a software project will take to complete, given its specifications\n",
        "\n",
        "However, we only discussed the linear regression case before where our predictions models were *linear*. Deep learning allows us to buil complex *non-linear* prediction models."
      ]
    },
    {
      "cell_type": "markdown",
      "metadata": {
        "id": "0Ti7sOmNF65d"
      },
      "source": [
        "### The Boston Housing Price dataset\n",
        "\n",
        "- we’ll predict the median price of homes in a given Boston suburb in the mid-1970s\n",
        "- features of the suburb include things like the crime rate, the local property tax rate, and so on\n",
        "- it has relatively few data points: only 506, split between 404 training samples and 102 test samples\n",
        "- each feature in the input data (for example, the crime rate) has a different scale\n",
        "  - some values are proportions, which take values between 0 and 1\n",
        "  - others take values between 1 and 12\n",
        "  - others between 0 and 100, and so on."
      ]
    },
    {
      "cell_type": "markdown",
      "metadata": {
        "id": "ahe_jhL5F65e"
      },
      "source": [
        "**Loading the Boston housing dataset**"
      ]
    },
    {
      "cell_type": "code",
      "execution_count": null,
      "metadata": {
        "id": "5B84BsKnF65e"
      },
      "outputs": [],
      "source": [
        "import tensorflow as tf\n",
        "import numpy as np\n",
        "from tensorflow import keras\n",
        "from tensorflow.keras import layers\n",
        "from matplotlib import pyplot as plt"
      ]
    },
    {
      "cell_type": "code",
      "source": [
        "\n",
        "from tensorflow.keras.datasets import boston_housing\n",
        "(train_data, train_targets), (test_data, test_targets) = boston_housing.load_data()"
      ],
      "metadata": {
        "id": "J4obUJiunhQF",
        "colab": {
          "base_uri": "https://localhost:8080/"
        },
        "outputId": "452d426a-5da3-4e56-e0e4-d73111d8ccee"
      },
      "execution_count": null,
      "outputs": [
        {
          "output_type": "stream",
          "name": "stdout",
          "text": [
            "Downloading data from https://storage.googleapis.com/tensorflow/tf-keras-datasets/boston_housing.npz\n",
            "57026/57026 [==============================] - 0s 0us/step\n"
          ]
        }
      ]
    },
    {
      "cell_type": "code",
      "execution_count": null,
      "metadata": {
        "id": "hWdgxNq8F65e",
        "colab": {
          "base_uri": "https://localhost:8080/"
        },
        "outputId": "c72d4d47-b4d6-44b6-e52e-d69db893e640"
      },
      "outputs": [
        {
          "output_type": "execute_result",
          "data": {
            "text/plain": [
              "(404, 13)"
            ]
          },
          "metadata": {},
          "execution_count": 3
        }
      ],
      "source": [
        "train_data.shape # 404 training examples with 13 features each"
      ]
    },
    {
      "cell_type": "markdown",
      "source": [
        "There is quite a bit of variation in the ranges that the 13 features lie in. The features themselves are described [here](http://lib.stat.cmu.edu/datasets/boston)."
      ],
      "metadata": {
        "id": "ebsKqow1ZrXA"
      }
    },
    {
      "cell_type": "code",
      "source": [
        "tf.reduce_min(train_data, axis=0).numpy()"
      ],
      "metadata": {
        "colab": {
          "base_uri": "https://localhost:8080/"
        },
        "id": "sVTWJkVhZJIA",
        "outputId": "7b455430-2dae-4020-d6cf-5506f2982ff5"
      },
      "execution_count": null,
      "outputs": [
        {
          "output_type": "execute_result",
          "data": {
            "text/plain": [
              "array([6.3200e-03, 0.0000e+00, 4.6000e-01, 0.0000e+00, 3.8500e-01,\n",
              "       3.5610e+00, 2.9000e+00, 1.1296e+00, 1.0000e+00, 1.8800e+02,\n",
              "       1.2600e+01, 3.2000e-01, 1.7300e+00])"
            ]
          },
          "metadata": {},
          "execution_count": 4
        }
      ]
    },
    {
      "cell_type": "code",
      "source": [
        "tf.reduce_max(train_data, axis=0).numpy()"
      ],
      "metadata": {
        "colab": {
          "base_uri": "https://localhost:8080/"
        },
        "id": "f0pinuwhZgwx",
        "outputId": "ec005ed0-ee64-4db3-c5a4-80d7f59f8603"
      },
      "execution_count": null,
      "outputs": [
        {
          "output_type": "execute_result",
          "data": {
            "text/plain": [
              "array([ 88.9762, 100.    ,  27.74  ,   1.    ,   0.871 ,   8.725 ,\n",
              "       100.    ,  10.7103,  24.    , 711.    ,  22.    , 396.9   ,\n",
              "        37.97  ])"
            ]
          },
          "metadata": {},
          "execution_count": 5
        }
      ]
    },
    {
      "cell_type": "code",
      "execution_count": null,
      "metadata": {
        "id": "hXb6oHhoF65e",
        "colab": {
          "base_uri": "https://localhost:8080/"
        },
        "outputId": "279796f3-e329-4b4e-f007-e6eeb15d7fbc"
      },
      "outputs": [
        {
          "output_type": "execute_result",
          "data": {
            "text/plain": [
              "(102, 13)"
            ]
          },
          "metadata": {},
          "execution_count": 6
        }
      ],
      "source": [
        "test_data.shape # 102 training examples with 13 features each"
      ]
    },
    {
      "cell_type": "code",
      "execution_count": null,
      "metadata": {
        "id": "3B_XCGNGF65e",
        "colab": {
          "base_uri": "https://localhost:8080/"
        },
        "outputId": "3487f382-0080-4b45-f066-30b3c90e8f21"
      },
      "outputs": [
        {
          "output_type": "execute_result",
          "data": {
            "text/plain": [
              "array([15.2, 42.3, 50. , 21.1, 17.7, 18.5, 11.3, 15.6, 15.6, 14.4])"
            ]
          },
          "metadata": {},
          "execution_count": 7
        }
      ],
      "source": [
        "train_targets[:10] # prices in 1000s of dollar! good old days :)"
      ]
    },
    {
      "cell_type": "code",
      "source": [
        "[train_targets.min(), train_targets.max()] # prices range from 5K to 50K"
      ],
      "metadata": {
        "colab": {
          "base_uri": "https://localhost:8080/"
        },
        "id": "mZuZqzpeaE0x",
        "outputId": "b1453772-e879-437c-caac-268afb342514"
      },
      "execution_count": null,
      "outputs": [
        {
          "output_type": "execute_result",
          "data": {
            "text/plain": [
              "[5.0, 50.0]"
            ]
          },
          "metadata": {},
          "execution_count": 8
        }
      ]
    },
    {
      "cell_type": "markdown",
      "metadata": {
        "id": "rUFU_py4F65e"
      },
      "source": [
        "### Preparing the data\n",
        "\n",
        "- widespread best practice is to do feature-wise normalization\n",
        "- for each feature in the input data (a column in the input data matrix):\n",
        "  - subtract the mean of the feature, and\n",
        "  - divide by the standard deviation\n",
        "- after this normalization, every feature is centered around 0 and has a unit standard deviation"
      ]
    },
    {
      "cell_type": "markdown",
      "metadata": {
        "id": "mBRzXtYHF65e"
      },
      "source": [
        "**Normalizing the data**"
      ]
    },
    {
      "cell_type": "code",
      "execution_count": null,
      "metadata": {
        "id": "0rDnTbfmF65e"
      },
      "outputs": [],
      "source": [
        "mean = train_data.mean(axis=0)   # compute column means means move along rows, i.e., axis=0\n",
        "train_data -= mean               # not same shape, broadcasting occurs\n",
        "std = train_data.std(axis=0)     # compute column std\n",
        "train_data /= std\n",
        "test_data -= mean                # we do NOT use test set mean and std!\n",
        "test_data /= std"
      ]
    },
    {
      "cell_type": "markdown",
      "metadata": {
        "id": "I1Gehu8PF65e"
      },
      "source": [
        "### Building your model\n",
        "\n",
        "- because few samples are available, we'll use a very small model\n",
        "- two intermediate layers, each with 64 units\n",
        "- the less training data you have, the worse overfitting will be\n",
        "- using a small model is one way to mitigate overfitting"
      ]
    },
    {
      "cell_type": "markdown",
      "metadata": {
        "id": "AGMQtqC7F65e"
      },
      "source": [
        "**Model definition**\n",
        "\n",
        "`\"mse\"` = mean squared error\n",
        "\n",
        "`\"mae\"` = mean absolute error"
      ]
    },
    {
      "cell_type": "code",
      "execution_count": null,
      "metadata": {
        "id": "IdDHKQDTF65f"
      },
      "outputs": [],
      "source": [
        "def build_model():\n",
        "    model = keras.Sequential([\n",
        "        layers.Dense(64, activation=\"relu\"),\n",
        "        layers.Dense(64, activation=\"relu\"),\n",
        "        layers.Dense(1) # final layer is linear, linear regression corresponds to just having this layer\n",
        "    ])\n",
        "    model.compile(optimizer=\"rmsprop\", loss=\"mse\", metrics=[\"mae\"]) # mse will be used a loss, but mae will also be monitored\n",
        "    return model"
      ]
    },
    {
      "cell_type": "markdown",
      "metadata": {
        "id": "4EmilwrkF65f"
      },
      "source": [
        "### Validating your approach using K-fold validation\n",
        "\n",
        "\n",
        "- to select number of epochs used for training, we could split the data into a training set and a validation set, as we did in the IMDB example\n",
        "- but we have so few data points\n",
        "- validation set would end up being very small (e.g., about 100 examples\n",
        "- validation scores might change a lot depending on which data points we chose for validation and which we chose for training\n",
        "- the validation scores might have a high variance with regard to the validation split\n",
        "- would prevent us from reliably evaluating our model.\n",
        "- best practice in such situations is to use K-fold cross-validation (see figure 4.8)\n",
        "\n",
        "<img src=\"https://github.com/ambujtewari/stats315-winter2022/raw/main/images/k-fold.png\" width=\"500\">"
      ]
    },
    {
      "cell_type": "markdown",
      "metadata": {
        "id": "chIRlckkF65f"
      },
      "source": [
        "**K-fold validation**"
      ]
    },
    {
      "cell_type": "code",
      "execution_count": null,
      "metadata": {
        "id": "0dcT2kf3F65f",
        "colab": {
          "base_uri": "https://localhost:8080/"
        },
        "outputId": "96d2934e-0f95-4594-e995-e3c5739c8fbb"
      },
      "outputs": [
        {
          "output_type": "stream",
          "name": "stdout",
          "text": [
            "Processing fold #0\n",
            "Processing fold #1\n",
            "Processing fold #2\n",
            "Processing fold #3\n"
          ]
        }
      ],
      "source": [
        "k = 4\n",
        "num_val_samples = len(train_data) // k  # note: integer division\n",
        "num_epochs = 50 # don't know yet whether this is a good choice\n",
        "all_scores = []\n",
        "for i in range(k):\n",
        "    print(f\"Processing fold #{i}\")\n",
        "    val_data = train_data[i * num_val_samples: (i + 1) * num_val_samples]       # extract validation examples\n",
        "    val_targets = train_targets[i * num_val_samples: (i + 1) * num_val_samples] # extract validation labels\n",
        "    partial_train_data = np.concatenate(                                        # whatever is left after extraction becomes partial training data\n",
        "        [train_data[:i * num_val_samples],\n",
        "         train_data[(i + 1) * num_val_samples:]],\n",
        "        axis=0)\n",
        "    partial_train_targets = np.concatenate(                                     # partial training labels\n",
        "        [train_targets[:i * num_val_samples],\n",
        "         train_targets[(i + 1) * num_val_samples:]],\n",
        "        axis=0)\n",
        "    model = build_model()\n",
        "    model.fit(partial_train_data, partial_train_targets,\n",
        "              epochs=num_epochs, batch_size=16, verbose=0)                       # verbose=0 doesn't print anything while fitting\n",
        "    val_mse, val_mae = model.evaluate(val_data, val_targets, verbose=0)\n",
        "    all_scores.append(val_mae)"
      ]
    },
    {
      "cell_type": "code",
      "execution_count": null,
      "metadata": {
        "id": "CqRAVcXdF65f",
        "colab": {
          "base_uri": "https://localhost:8080/"
        },
        "outputId": "473bae99-4b03-4d9b-8430-2f3a37af70cc"
      },
      "outputs": [
        {
          "output_type": "execute_result",
          "data": {
            "text/plain": [
              "[13.299071311950684, 4.0128374099731445, 3.7737441062927246, 5.250263690948486]"
            ]
          },
          "metadata": {},
          "execution_count": 8
        }
      ],
      "source": [
        "all_scores"
      ]
    },
    {
      "cell_type": "code",
      "execution_count": null,
      "metadata": {
        "id": "J80JjEmOF65f",
        "colab": {
          "base_uri": "https://localhost:8080/"
        },
        "outputId": "b817f181-0ae6-4caa-99cf-038e26fdcb98"
      },
      "outputs": [
        {
          "output_type": "execute_result",
          "data": {
            "text/plain": [
              "6.58397912979126"
            ]
          },
          "metadata": {},
          "execution_count": 9
        }
      ],
      "source": [
        "np.mean(all_scores)"
      ]
    },
    {
      "cell_type": "markdown",
      "source": [
        "- different runs do indeed show rather different validation scores\n",
        "- average validation score is a much more reliable metric than any single score\n",
        "- how much are we off on average?\n",
        "- is it significant? (recall that prices range from 5k to 50k)"
      ],
      "metadata": {
        "id": "S94wnScTucUG"
      }
    },
    {
      "cell_type": "markdown",
      "metadata": {
        "id": "nSt-gYfsF65f"
      },
      "source": [
        "**Saving the validation logs at each fold**"
      ]
    },
    {
      "cell_type": "code",
      "execution_count": null,
      "metadata": {
        "id": "Iys_97zQF65g",
        "colab": {
          "base_uri": "https://localhost:8080/"
        },
        "outputId": "a22f04a2-5a55-4d20-ec18-78988b5b4abe"
      },
      "outputs": [
        {
          "output_type": "stream",
          "name": "stdout",
          "text": [
            "Processing fold #0\n",
            "Processing fold #1\n",
            "Processing fold #2\n",
            "Processing fold #3\n"
          ]
        }
      ],
      "source": [
        "num_epochs = 300 # increased this from 50 to 300\n",
        "all_mae_histories = [] # will store entire mae history as opposed to a single score\n",
        "for i in range(k):\n",
        "    print(f\"Processing fold #{i}\")\n",
        "    val_data = train_data[i * num_val_samples: (i + 1) * num_val_samples]\n",
        "    val_targets = train_targets[i * num_val_samples: (i + 1) * num_val_samples]\n",
        "    partial_train_data = np.concatenate(\n",
        "        [train_data[:i * num_val_samples],\n",
        "         train_data[(i + 1) * num_val_samples:]],\n",
        "        axis=0)\n",
        "    partial_train_targets = np.concatenate(\n",
        "        [train_targets[:i * num_val_samples],\n",
        "         train_targets[(i + 1) * num_val_samples:]],\n",
        "        axis=0)\n",
        "    model = build_model()\n",
        "    history = model.fit(partial_train_data, partial_train_targets,\n",
        "                        validation_data=(val_data, val_targets),                # we now use the validation_data argument\n",
        "                        epochs=num_epochs, batch_size=16, verbose=0)\n",
        "    mae_history = history.history[\"val_mae\"]                                    # store the entire history of the validation mae values\n",
        "    all_mae_histories.append(mae_history)"
      ]
    },
    {
      "cell_type": "code",
      "source": [
        "len(all_mae_histories) # is a list containing 4 lists, each containing the val_mae history for a fold"
      ],
      "metadata": {
        "colab": {
          "base_uri": "https://localhost:8080/"
        },
        "id": "xbEAcsGwfd-Q",
        "outputId": "29cdc3e2-b069-490a-bd9b-4ab0539e351a"
      },
      "execution_count": null,
      "outputs": [
        {
          "output_type": "execute_result",
          "data": {
            "text/plain": [
              "4"
            ]
          },
          "metadata": {},
          "execution_count": 11
        }
      ]
    },
    {
      "cell_type": "code",
      "source": [
        "for i in range(9): # the val_mae will typically be quite high for early epochs\n",
        "  mean = np.mean([x[i] for x in all_mae_histories]) # the average val_mae, over 4 folds, for epoch i\n",
        "  print(f\"{mean:.2f}\", end = \" \")"
      ],
      "metadata": {
        "colab": {
          "base_uri": "https://localhost:8080/"
        },
        "id": "gFSJ_Muuf3Yq",
        "outputId": "802dc27d-4d6e-455a-cd1c-3e29d4b80f80"
      },
      "execution_count": null,
      "outputs": [
        {
          "output_type": "stream",
          "name": "stdout",
          "text": [
            "10.00 8.42 7.63 8.84 8.20 7.67 5.51 7.88 7.03 "
          ]
        }
      ]
    },
    {
      "cell_type": "markdown",
      "metadata": {
        "id": "v37ieiXXF65g"
      },
      "source": [
        "**Building the history of successive mean K-fold validation scores**"
      ]
    },
    {
      "cell_type": "code",
      "execution_count": null,
      "metadata": {
        "id": "To-F0UUEF65g"
      },
      "outputs": [],
      "source": [
        "average_mae_history = [                        # list whose entry i is\n",
        "    np.mean([x[i] for x in all_mae_histories]) # the mean, over folds, of the val_mae\n",
        "    for i in range(num_epochs)                 # at epoch i\n",
        "    ]"
      ]
    },
    {
      "cell_type": "markdown",
      "metadata": {
        "id": "z6XaXFPqF65g"
      },
      "source": [
        "**Plotting validation scores**"
      ]
    },
    {
      "cell_type": "code",
      "execution_count": null,
      "metadata": {
        "id": "d-whD1ZNF65g",
        "colab": {
          "base_uri": "https://localhost:8080/",
          "height": 279
        },
        "outputId": "77090368-578d-49b1-b7db-1d8993452553"
      },
      "outputs": [
        {
          "output_type": "display_data",
          "data": {
            "text/plain": [
              "<Figure size 432x288 with 1 Axes>"
            ],
            "image/png": "[encoded data removed]"
          },
          "metadata": {
            "needs_background": "light"
          }
        }
      ],
      "source": [
        "plt.plot(range(len(average_mae_history)), average_mae_history)\n",
        "plt.xlabel(\"Epochs\")\n",
        "plt.ylabel(\"Validation MAE\")\n",
        "plt.show()"
      ]
    },
    {
      "cell_type": "markdown",
      "source": [
        "- as we saw earlier, the first 10 data points have high validation MAE\n",
        "- makes it a little difficult to read the plot\n",
        "- let's replot after omitting the first 10 points"
      ],
      "metadata": {
        "id": "THAWOSH4iN9q"
      }
    },
    {
      "cell_type": "markdown",
      "metadata": {
        "id": "VKeJ44glF65g"
      },
      "source": [
        "**Plotting validation scores, excluding the first 10 data points**"
      ]
    },
    {
      "cell_type": "code",
      "execution_count": null,
      "metadata": {
        "id": "1sIZLTgzF65g",
        "colab": {
          "base_uri": "https://localhost:8080/",
          "height": 279
        },
        "outputId": "d1426346-658a-4ff2-df22-7040a2559e1c"
      },
      "outputs": [
        {
          "output_type": "display_data",
          "data": {
            "text/plain": [
              "<Figure size 432x288 with 1 Axes>"
            ],
            "image/png": "[encoded data removed]"
          },
          "metadata": {
            "needs_background": "light"
          }
        }
      ],
      "source": [
        "truncated_mae_history = average_mae_history[10:]\n",
        "plt.plot(range(10, len(average_mae_history)), truncated_mae_history)\n",
        "plt.xlabel(\"Epochs\")\n",
        "plt.ylabel(\"Validation MAE\")\n",
        "plt.show()"
      ]
    },
    {
      "cell_type": "markdown",
      "source": [
        "- validation MAE stops improving significantly after 120–140 epochs\n",
        "- past that point, we start *overfitting*\n"
      ],
      "metadata": {
        "id": "vGj7rNDiilCS"
      }
    },
    {
      "cell_type": "markdown",
      "metadata": {
        "id": "9c2kSlR7F65g"
      },
      "source": [
        "**Training the final model**\n",
        "\n",
        "- Here we only tuned number of epochs\n",
        "- you could also adjust the size of the intermediate layers\n",
        "- once you're finished tuning, you can train a final production model\n",
        "- this will use _all_ of the training data\n",
        "- it will use the best choices for tuning parameters (e.g., 130 for epochs in our case)\n",
        "- you will evaluate its performance on the test data (that we haven't touched at all so far)"
      ]
    },
    {
      "cell_type": "code",
      "execution_count": null,
      "metadata": {
        "id": "MlbzzypLF65g",
        "colab": {
          "base_uri": "https://localhost:8080/"
        },
        "outputId": "4b0485c0-d415-4992-914b-d79b4f73bfe1"
      },
      "outputs": [
        {
          "output_type": "stream",
          "name": "stdout",
          "text": [
            "4/4 [==============================] - 1s 9ms/step - loss: 47.7948 - mae: 5.3358\n"
          ]
        }
      ],
      "source": [
        "model = build_model()\n",
        "model.fit(train_data, train_targets,\n",
        "          epochs=130, batch_size=16, verbose=0)\n",
        "test_mse_score, test_mae_score = model.evaluate(test_data, test_targets)"
      ]
    },
    {
      "cell_type": "code",
      "execution_count": null,
      "metadata": {
        "id": "9gdpCw-NF65h",
        "colab": {
          "base_uri": "https://localhost:8080/"
        },
        "outputId": "e5f60618-9112-4d11-8009-dad72fe47266"
      },
      "outputs": [
        {
          "output_type": "execute_result",
          "data": {
            "text/plain": [
              "5.335843086242676"
            ]
          },
          "metadata": {},
          "execution_count": 18
        }
      ],
      "source": [
        "test_mae_score"
      ]
    },
    {
      "cell_type": "markdown",
      "metadata": {
        "id": "zw8R7Tj9F65h"
      },
      "source": [
        "### Generating predictions on new data"
      ]
    },
    {
      "cell_type": "code",
      "execution_count": null,
      "metadata": {
        "id": "SYomyUGEF65h",
        "colab": {
          "base_uri": "https://localhost:8080/"
        },
        "outputId": "6bba4623-ae9a-4fe9-9165-d3b9399224c9"
      },
      "outputs": [
        {
          "output_type": "execute_result",
          "data": {
            "text/plain": [
              "array([9.572728], dtype=float32)"
            ]
          },
          "metadata": {},
          "execution_count": 22
        }
      ],
      "source": [
        "predictions = model.predict(test_data)\n",
        "predictions[0] # price prediction for the first house in test set (in 1000s of dollars)"
      ]
    }
  ],
  "metadata": {
    "colab": {
      "provenance": []
    },
    "kernelspec": {
      "display_name": "Python 3",
      "language": "python",
      "name": "python3"
    },
    "language_info": {
      "codemirror_mode": {
        "name": "ipython",
        "version": 3
      },
      "file_extension": ".py",
      "mimetype": "text/x-python",
      "name": "python",
      "nbconvert_exporter": "python",
      "pygments_lexer": "ipython3",
      "version": "3.7.0"
    }
  },
  "nbformat": 4,
  "nbformat_minor": 0
}