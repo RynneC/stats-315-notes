{
  "cells": [
    {
      "cell_type": "markdown",
      "metadata": {
        "id": "99ZKU0qmxkRP"
      },
      "source": [
        "**Notebook credit**: based on the F. Chollet's original notebook [here](https://github.com/fchollet/deep-learning-with-python-notebooks/blob/master/chapter05_fundamentals-of-ml.ipynb)."
      ]
    },
    {
      "cell_type": "markdown",
      "metadata": {
        "id": "YmViXvCdxkRQ"
      },
      "source": [
        "# Fundamentals of machine learning"
      ]
    },
    {
      "cell_type": "markdown",
      "metadata": {
        "id": "kCP4uFAlxkRX"
      },
      "source": [
        "## Improving model fit\n",
        "\n",
        "Many DL projects will go through the following progression (also listed are ideas that help you make progress if you're stuck at a particular stage):\n",
        "\n",
        "- You're able to get training started: your training loss goes down over time.\n",
        "  - If not, try changing gradient descent parameters\n",
        "- Your model meaningfully generalizes: you can beat a common-sense baseline you set.\n",
        "  - If not, leverage better architecture priors\n",
        "- Your model is able to _overfit_, i.e., it can perfectly fit the training data (low training loss) but perhaps at the cost of high validation loss.\n",
        "  - If not, increase model capacity.\n",
        "\n",
        "At this point, you have reached a milestone and can start focusing on refining generalization by fighting overfitting."
      ]
    },
    {
      "cell_type": "markdown",
      "metadata": {
        "id": "gKeMOGLOxkRY"
      },
      "source": [
        "### Tuning key gradient descent parameters"
      ]
    },
    {
      "cell_type": "markdown",
      "metadata": {
        "id": "SD74jZbpxkRY"
      },
      "source": [
        "**Training a MNIST model with an incorrectly high learning rate**\n",
        "\n",
        "An inappropriately large learning rate( of value 1) can cause training to fail even on a simple problem like MNIST."
      ]
    },
    {
      "cell_type": "code",
      "execution_count": null,
      "metadata": {
        "id": "qqfo0J20xkRY"
      },
      "outputs": [],
      "source": [
        "import numpy as np\n",
        "import matplotlib.pyplot as plt\n",
        "import tensorflow as tf\n",
        "\n",
        "from tensorflow.keras.datasets import mnist\n",
        "from tensorflow import keras\n",
        "from tensorflow.keras import layers"
      ]
    },
    {
      "cell_type": "code",
      "source": [
        "(train_images, train_labels), _ = mnist.load_data()\n",
        "train_images = train_images.reshape((60000, 28 * 28))\n",
        "train_images = train_images.astype(\"float32\") / 255\n",
        "\n",
        "model = keras.Sequential([\n",
        "    layers.Dense(512, activation=\"relu\"),\n",
        "    layers.Dense(10, activation=\"softmax\")\n",
        "])\n",
        "model.compile(optimizer=keras.optimizers.RMSprop(1.),\n",
        "              loss=\"sparse_categorical_crossentropy\",\n",
        "              metrics=[\"accuracy\"])\n",
        "model.fit(train_images, train_labels,\n",
        "          epochs=10,\n",
        "          batch_size=128,\n",
        "          validation_split=0.2)"
      ],
      "metadata": {
        "colab": {
          "base_uri": "https://localhost:8080/"
        },
        "id": "XZg7i60VDE7s",
        "outputId": "8e656e26-8cc7-4890-c9b4-7f729132733f"
      },
      "execution_count": null,
      "outputs": [
        {
          "output_type": "stream",
          "name": "stdout",
          "text": [
            "Downloading data from https://storage.googleapis.com/tensorflow/tf-keras-datasets/mnist.npz\n",
            "11493376/11490434 [==============================] - 0s 0us/step\n",
            "11501568/11490434 [==============================] - 0s 0us/step\n",
            "Epoch 1/10\n",
            "375/375 [==============================] - 7s 16ms/step - loss: 992.7418 - accuracy: 0.3740 - val_loss: 2.4995 - val_accuracy: 0.2242\n",
            "Epoch 2/10\n",
            "375/375 [==============================] - 6s 15ms/step - loss: 4.6614 - accuracy: 0.2510 - val_loss: 2.2415 - val_accuracy: 0.2842\n",
            "Epoch 3/10\n",
            "375/375 [==============================] - 6s 16ms/step - loss: 2.7099 - accuracy: 0.2517 - val_loss: 2.5704 - val_accuracy: 0.2942\n",
            "Epoch 4/10\n",
            "375/375 [==============================] - 4s 10ms/step - loss: 3.8257 - accuracy: 0.2789 - val_loss: 2.4318 - val_accuracy: 0.2013\n",
            "Epoch 5/10\n",
            "375/375 [==============================] - 3s 9ms/step - loss: 2.5422 - accuracy: 0.2546 - val_loss: 2.1017 - val_accuracy: 0.2611\n",
            "Epoch 6/10\n",
            "375/375 [==============================] - 3s 8ms/step - loss: 2.6077 - accuracy: 0.2844 - val_loss: 2.6175 - val_accuracy: 0.2828\n",
            "Epoch 7/10\n",
            "375/375 [==============================] - 3s 8ms/step - loss: 2.5746 - accuracy: 0.2923 - val_loss: 2.2485 - val_accuracy: 0.2994\n",
            "Epoch 8/10\n",
            "375/375 [==============================] - 3s 8ms/step - loss: 2.7779 - accuracy: 0.2885 - val_loss: 2.2012 - val_accuracy: 0.3099\n",
            "Epoch 9/10\n",
            "375/375 [==============================] - 3s 8ms/step - loss: 3.2852 - accuracy: 0.3020 - val_loss: 3.1830 - val_accuracy: 0.3181\n",
            "Epoch 10/10\n",
            "375/375 [==============================] - 3s 8ms/step - loss: 2.7384 - accuracy: 0.3144 - val_loss: 1.9382 - val_accuracy: 0.2998\n"
          ]
        },
        {
          "output_type": "execute_result",
          "data": {
            "text/plain": [
              "<keras.callbacks.History at 0x7f6b3599c090>"
            ]
          },
          "metadata": {},
          "execution_count": 2
        }
      ]
    },
    {
      "cell_type": "markdown",
      "metadata": {
        "id": "ZcUESHzVxkRY"
      },
      "source": [
        "**The same model with a more appropriate learning rate**"
      ]
    },
    {
      "cell_type": "code",
      "execution_count": null,
      "metadata": {
        "id": "7rxcT78HxkRY",
        "colab": {
          "base_uri": "https://localhost:8080/"
        },
        "outputId": "2a7d1cbe-9a8c-4230-eb89-8fab8c4d6b82"
      },
      "outputs": [
        {
          "output_type": "stream",
          "name": "stdout",
          "text": [
            "Epoch 1/10\n",
            "375/375 [==============================] - 4s 9ms/step - loss: 0.3476 - accuracy: 0.9110 - val_loss: 0.1604 - val_accuracy: 0.9592\n",
            "Epoch 2/10\n",
            "375/375 [==============================] - 3s 8ms/step - loss: 0.1349 - accuracy: 0.9646 - val_loss: 0.1371 - val_accuracy: 0.9674\n",
            "Epoch 3/10\n",
            "375/375 [==============================] - 3s 8ms/step - loss: 0.1118 - accuracy: 0.9730 - val_loss: 0.1824 - val_accuracy: 0.9637\n",
            "Epoch 4/10\n",
            "375/375 [==============================] - 3s 8ms/step - loss: 0.0976 - accuracy: 0.9776 - val_loss: 0.1838 - val_accuracy: 0.9656\n",
            "Epoch 5/10\n",
            "375/375 [==============================] - 3s 8ms/step - loss: 0.0816 - accuracy: 0.9819 - val_loss: 0.2463 - val_accuracy: 0.9663\n",
            "Epoch 6/10\n",
            "375/375 [==============================] - 3s 8ms/step - loss: 0.0770 - accuracy: 0.9843 - val_loss: 0.2247 - val_accuracy: 0.9686\n",
            "Epoch 7/10\n",
            "375/375 [==============================] - 3s 8ms/step - loss: 0.0660 - accuracy: 0.9870 - val_loss: 0.2495 - val_accuracy: 0.9707\n",
            "Epoch 8/10\n",
            "375/375 [==============================] - 3s 8ms/step - loss: 0.0609 - accuracy: 0.9885 - val_loss: 0.2305 - val_accuracy: 0.9758\n",
            "Epoch 9/10\n",
            "375/375 [==============================] - 3s 8ms/step - loss: 0.0563 - accuracy: 0.9896 - val_loss: 0.2937 - val_accuracy: 0.9714\n",
            "Epoch 10/10\n",
            "375/375 [==============================] - 3s 8ms/step - loss: 0.0646 - accuracy: 0.9892 - val_loss: 0.2784 - val_accuracy: 0.9737\n"
          ]
        },
        {
          "output_type": "execute_result",
          "data": {
            "text/plain": [
              "<keras.callbacks.History at 0x7f6b31151dd0>"
            ]
          },
          "metadata": {},
          "execution_count": 3
        }
      ],
      "source": [
        "model = keras.Sequential([\n",
        "    layers.Dense(512, activation=\"relu\"),\n",
        "    layers.Dense(10, activation=\"softmax\")\n",
        "])\n",
        "model.compile(optimizer=keras.optimizers.RMSprop(1e-2),\n",
        "              loss=\"sparse_categorical_crossentropy\",\n",
        "              metrics=[\"accuracy\"])\n",
        "model.fit(train_images, train_labels,\n",
        "          epochs=10,\n",
        "          batch_size=128,\n",
        "          validation_split=0.2)"
      ]
    },
    {
      "cell_type": "markdown",
      "source": [
        "If training appears to get stuck, you can try the following:\n",
        "\n",
        "- Lowering or increasing the learning rate. A learning rate that is too high may lead to updates that vastly overshoot a proper fit, like in the preceding example, and a learning rate that is too low may make training so slow that it appears to stall.\n",
        "- Increasing the batch size. A batch with more samples will lead to gradients that are more informative and less noisy (lower variance)."
      ],
      "metadata": {
        "id": "onn2b8J4BsvD"
      }
    },
    {
      "cell_type": "markdown",
      "metadata": {
        "id": "LTodrskAxkRY"
      },
      "source": [
        "### Leveraging better architecture priors\n",
        "\n",
        "You are able to get training started, but for some reason your validation metrics aren't improving at all. They remain no better than what a random classifier would achieve: your model trains but doesn't generalize. There might be several reasons why this might be happening. Two common ones are:\n",
        "\n",
        "**Input data simply doesn't contain sufficient information to predict your targets**\n",
        "\n",
        "- what happened when we tried to fit an MNIST model where the labels were shuffled\n",
        "- the model would train just fine, but validation accuracy would stay stuck at 10%\n",
        "- it was plainly impossible to generalize with such a dataset\n",
        "\n",
        "**The kind of model you're using is not suited for the problem at hand**\n",
        "\n",
        "- In a timeseries prediction problem, a densely connected architecture may be less appropriate: a _recurrent_ architecture might generalize better\n",
        "- Using a model that makes the right assumptions about the problem is essential to achieve generalization: you should leverage the right architecture priors\n",
        "- We willl learn about the best architectures to use for a variety of data modalities—images, text, timeseries, and so on"
      ]
    },
    {
      "cell_type": "markdown",
      "metadata": {
        "id": "Dbr_S_nFxkRZ"
      },
      "source": [
        "### Increasing model capacity"
      ]
    },
    {
      "cell_type": "markdown",
      "metadata": {
        "id": "zmWkvxAxxkRZ"
      },
      "source": [
        "**A simple logistic regression on MNIST**"
      ]
    },
    {
      "cell_type": "code",
      "execution_count": null,
      "metadata": {
        "id": "pZEVEKjNxkRZ",
        "colab": {
          "base_uri": "https://localhost:8080/"
        },
        "outputId": "cffd75b4-34ff-40cd-c413-1ffdc8438403"
      },
      "outputs": [
        {
          "output_type": "stream",
          "name": "stdout",
          "text": [
            "Epoch 1/20\n",
            "375/375 [==============================] - 1s 3ms/step - loss: 0.6675 - accuracy: 0.8377 - val_loss: 0.3589 - val_accuracy: 0.9029\n",
            "Epoch 2/20\n",
            "375/375 [==============================] - 1s 2ms/step - loss: 0.3520 - accuracy: 0.9030 - val_loss: 0.3088 - val_accuracy: 0.9130\n",
            "Epoch 3/20\n",
            "375/375 [==============================] - 1s 2ms/step - loss: 0.3156 - accuracy: 0.9130 - val_loss: 0.2918 - val_accuracy: 0.9198\n",
            "Epoch 4/20\n",
            "375/375 [==============================] - 1s 2ms/step - loss: 0.2995 - accuracy: 0.9159 - val_loss: 0.2818 - val_accuracy: 0.9210\n",
            "Epoch 5/20\n",
            "375/375 [==============================] - 1s 2ms/step - loss: 0.2896 - accuracy: 0.9190 - val_loss: 0.2759 - val_accuracy: 0.9236\n",
            "Epoch 6/20\n",
            "375/375 [==============================] - 1s 2ms/step - loss: 0.2830 - accuracy: 0.9213 - val_loss: 0.2740 - val_accuracy: 0.9226\n",
            "Epoch 7/20\n",
            "375/375 [==============================] - 1s 2ms/step - loss: 0.2782 - accuracy: 0.9220 - val_loss: 0.2688 - val_accuracy: 0.9263\n",
            "Epoch 8/20\n",
            "375/375 [==============================] - 1s 2ms/step - loss: 0.2743 - accuracy: 0.9231 - val_loss: 0.2689 - val_accuracy: 0.9268\n",
            "Epoch 9/20\n",
            "375/375 [==============================] - 1s 2ms/step - loss: 0.2713 - accuracy: 0.9247 - val_loss: 0.2658 - val_accuracy: 0.9271\n",
            "Epoch 10/20\n",
            "375/375 [==============================] - 1s 2ms/step - loss: 0.2687 - accuracy: 0.9255 - val_loss: 0.2647 - val_accuracy: 0.9278\n",
            "Epoch 11/20\n",
            "375/375 [==============================] - 1s 2ms/step - loss: 0.2665 - accuracy: 0.9258 - val_loss: 0.2642 - val_accuracy: 0.9278\n",
            "Epoch 12/20\n",
            "375/375 [==============================] - 1s 2ms/step - loss: 0.2645 - accuracy: 0.9266 - val_loss: 0.2629 - val_accuracy: 0.9278\n",
            "Epoch 13/20\n",
            "375/375 [==============================] - 1s 2ms/step - loss: 0.2630 - accuracy: 0.9270 - val_loss: 0.2637 - val_accuracy: 0.9283\n",
            "Epoch 14/20\n",
            "375/375 [==============================] - 1s 2ms/step - loss: 0.2615 - accuracy: 0.9283 - val_loss: 0.2661 - val_accuracy: 0.9285\n",
            "Epoch 15/20\n",
            "375/375 [==============================] - 1s 2ms/step - loss: 0.2603 - accuracy: 0.9286 - val_loss: 0.2611 - val_accuracy: 0.9293\n",
            "Epoch 16/20\n",
            "375/375 [==============================] - 1s 2ms/step - loss: 0.2594 - accuracy: 0.9287 - val_loss: 0.2612 - val_accuracy: 0.9299\n",
            "Epoch 17/20\n",
            "375/375 [==============================] - 1s 2ms/step - loss: 0.2582 - accuracy: 0.9301 - val_loss: 0.2627 - val_accuracy: 0.9296\n",
            "Epoch 18/20\n",
            "375/375 [==============================] - 1s 2ms/step - loss: 0.2570 - accuracy: 0.9292 - val_loss: 0.2612 - val_accuracy: 0.9309\n",
            "Epoch 19/20\n",
            "375/375 [==============================] - 1s 2ms/step - loss: 0.2566 - accuracy: 0.9296 - val_loss: 0.2615 - val_accuracy: 0.9307\n",
            "Epoch 20/20\n",
            "375/375 [==============================] - 1s 2ms/step - loss: 0.2557 - accuracy: 0.9302 - val_loss: 0.2612 - val_accuracy: 0.9308\n"
          ]
        }
      ],
      "source": [
        "model = keras.Sequential([layers.Dense(10, activation=\"softmax\")])\n",
        "model.compile(optimizer=\"rmsprop\",\n",
        "              loss=\"sparse_categorical_crossentropy\",\n",
        "              metrics=[\"accuracy\"])\n",
        "history_small_model = model.fit(\n",
        "    train_images, train_labels,\n",
        "    epochs=20,\n",
        "    batch_size=128,\n",
        "    validation_split=0.2)"
      ]
    },
    {
      "cell_type": "code",
      "execution_count": null,
      "metadata": {
        "id": "2dUc-DV4xkRZ",
        "colab": {
          "base_uri": "https://localhost:8080/",
          "height": 313
        },
        "outputId": "78961e5b-f390-4fef-bab1-efbb9be023d0"
      },
      "outputs": [
        {
          "output_type": "execute_result",
          "data": {
            "text/plain": [
              "<matplotlib.legend.Legend at 0x7f6b356ab2d0>"
            ]
          },
          "metadata": {},
          "execution_count": 5
        },
        {
          "output_type": "display_data",
          "data": {
            "image/png": "[encoded data removed]",
            "text/plain": [
              "<Figure size 432x288 with 1 Axes>"
            ]
          },
          "metadata": {
            "needs_background": "light"
          }
        }
      ],
      "source": [
        "val_loss = history_small_model.history[\"val_loss\"]\n",
        "epochs = range(1, 21)\n",
        "plt.plot(epochs, val_loss, \"b--\",\n",
        "         label=\"Validation loss\")\n",
        "plt.title(\"Effect of insufficient model capacity on validation loss\")\n",
        "plt.xlabel(\"Epochs\")\n",
        "plt.ylabel(\"Loss\")\n",
        "plt.legend()"
      ]
    },
    {
      "cell_type": "markdown",
      "source": [
        "- Validation metrics seem to stall, or to improve very slowly, instead of peaking and reversing course.\n",
        "- You can fit, but you can’t clearly overfit, even after many iterations over the training data.\n",
        "\n",
        "**It should always be possible to overfit**\n",
        "\n",
        "- If you can’t seem to be able to overfit, it’s likely a problem with the representational power of your model\n",
        "- You’re going to need a bigger model, one with more capacity, that is to say, one able to store more information\n",
        "- You can increase representational power by\n",
        "  - adding more layers\n",
        "  - using bigger layers (layers with more parameters)\n",
        "  - using kinds of layers that are more appropriate for the problem at hand (better architecture priors).\n",
        "\n",
        "Let’s try training a bigger model, one with two intermediate layers with 96 units each:"
      ],
      "metadata": {
        "id": "c7aFv-X-E7Co"
      }
    },
    {
      "cell_type": "code",
      "execution_count": null,
      "metadata": {
        "id": "Jbr2ArTPxkRZ",
        "colab": {
          "base_uri": "https://localhost:8080/"
        },
        "outputId": "d1ad0d97-5401-4501-a525-eefcba077cea"
      },
      "outputs": [
        {
          "output_type": "stream",
          "name": "stdout",
          "text": [
            "Epoch 1/20\n",
            "375/375 [==============================] - 2s 4ms/step - loss: 0.3636 - accuracy: 0.8974 - val_loss: 0.1878 - val_accuracy: 0.9473\n",
            "Epoch 2/20\n",
            "375/375 [==============================] - 2s 4ms/step - loss: 0.1601 - accuracy: 0.9532 - val_loss: 0.1470 - val_accuracy: 0.9570\n",
            "Epoch 3/20\n",
            "375/375 [==============================] - 2s 4ms/step - loss: 0.1129 - accuracy: 0.9672 - val_loss: 0.1262 - val_accuracy: 0.9634\n",
            "Epoch 4/20\n",
            "375/375 [==============================] - 1s 4ms/step - loss: 0.0884 - accuracy: 0.9736 - val_loss: 0.1033 - val_accuracy: 0.9697\n",
            "Epoch 5/20\n",
            "375/375 [==============================] - 1s 4ms/step - loss: 0.0703 - accuracy: 0.9790 - val_loss: 0.1015 - val_accuracy: 0.9712\n",
            "Epoch 6/20\n",
            "375/375 [==============================] - 2s 4ms/step - loss: 0.0578 - accuracy: 0.9823 - val_loss: 0.1063 - val_accuracy: 0.9711\n",
            "Epoch 7/20\n",
            "375/375 [==============================] - 2s 4ms/step - loss: 0.0468 - accuracy: 0.9860 - val_loss: 0.0928 - val_accuracy: 0.9753\n",
            "Epoch 8/20\n",
            "375/375 [==============================] - 1s 4ms/step - loss: 0.0391 - accuracy: 0.9884 - val_loss: 0.1049 - val_accuracy: 0.9725\n",
            "Epoch 9/20\n",
            "375/375 [==============================] - 2s 4ms/step - loss: 0.0326 - accuracy: 0.9896 - val_loss: 0.1042 - val_accuracy: 0.9739\n",
            "Epoch 10/20\n",
            "375/375 [==============================] - 1s 4ms/step - loss: 0.0276 - accuracy: 0.9915 - val_loss: 0.0969 - val_accuracy: 0.9750\n",
            "Epoch 11/20\n",
            "375/375 [==============================] - 2s 4ms/step - loss: 0.0232 - accuracy: 0.9930 - val_loss: 0.1070 - val_accuracy: 0.9743\n",
            "Epoch 12/20\n",
            "375/375 [==============================] - 1s 4ms/step - loss: 0.0202 - accuracy: 0.9940 - val_loss: 0.1124 - val_accuracy: 0.9744\n",
            "Epoch 13/20\n",
            "375/375 [==============================] - 2s 4ms/step - loss: 0.0160 - accuracy: 0.9953 - val_loss: 0.1067 - val_accuracy: 0.9754\n",
            "Epoch 14/20\n",
            "375/375 [==============================] - 1s 4ms/step - loss: 0.0136 - accuracy: 0.9959 - val_loss: 0.1186 - val_accuracy: 0.9767\n",
            "Epoch 15/20\n",
            "375/375 [==============================] - 1s 4ms/step - loss: 0.0123 - accuracy: 0.9963 - val_loss: 0.1274 - val_accuracy: 0.9752\n",
            "Epoch 16/20\n",
            "375/375 [==============================] - 2s 6ms/step - loss: 0.0099 - accuracy: 0.9969 - val_loss: 0.1265 - val_accuracy: 0.9766\n",
            "Epoch 17/20\n",
            "375/375 [==============================] - 2s 4ms/step - loss: 0.0082 - accuracy: 0.9975 - val_loss: 0.1330 - val_accuracy: 0.9756\n",
            "Epoch 18/20\n",
            "375/375 [==============================] - 2s 4ms/step - loss: 0.0082 - accuracy: 0.9975 - val_loss: 0.1398 - val_accuracy: 0.9758\n",
            "Epoch 19/20\n",
            "375/375 [==============================] - 1s 4ms/step - loss: 0.0065 - accuracy: 0.9980 - val_loss: 0.1407 - val_accuracy: 0.9753\n",
            "Epoch 20/20\n",
            "375/375 [==============================] - 1s 4ms/step - loss: 0.0060 - accuracy: 0.9979 - val_loss: 0.1491 - val_accuracy: 0.9756\n"
          ]
        }
      ],
      "source": [
        "model = keras.Sequential([\n",
        "    layers.Dense(96, activation=\"relu\"),\n",
        "    layers.Dense(96, activation=\"relu\"),\n",
        "    layers.Dense(10, activation=\"softmax\"),\n",
        "])\n",
        "model.compile(optimizer=\"rmsprop\",\n",
        "              loss=\"sparse_categorical_crossentropy\",\n",
        "              metrics=[\"accuracy\"])\n",
        "history_large_model = model.fit(\n",
        "    train_images, train_labels,\n",
        "    epochs=20,\n",
        "    batch_size=128,\n",
        "    validation_split=0.2)"
      ]
    },
    {
      "cell_type": "code",
      "source": [
        "val_loss = history_large_model.history[\"val_loss\"]\n",
        "epochs = range(1, 21)\n",
        "plt.plot(epochs, val_loss, \"b--\",\n",
        "         label=\"Validation loss\")\n",
        "plt.title(\"Validation loss for a model with appropriate capacity\")\n",
        "plt.xlabel(\"Epochs\")\n",
        "plt.ylabel(\"Loss\")\n",
        "plt.legend()"
      ],
      "metadata": {
        "colab": {
          "base_uri": "https://localhost:8080/",
          "height": 313
        },
        "id": "4ZvE-_h_FqK-",
        "outputId": "1b112f0f-1e0b-4726-a815-ac1e1278d542"
      },
      "execution_count": null,
      "outputs": [
        {
          "output_type": "execute_result",
          "data": {
            "text/plain": [
              "<matplotlib.legend.Legend at 0x7f6b31824d50>"
            ]
          },
          "metadata": {},
          "execution_count": 7
        },
        {
          "output_type": "display_data",
          "data": {
            "image/png": "[encoded data removed]",
            "text/plain": [
              "<Figure size 432x288 with 1 Axes>"
            ]
          },
          "metadata": {
            "needs_background": "light"
          }
        }
      ]
    },
    {
      "cell_type": "markdown",
      "metadata": {
        "id": "XDTvap3jxkRZ"
      },
      "source": [
        "## Improving generalization"
      ]
    },
    {
      "cell_type": "markdown",
      "metadata": {
        "id": "_PwJf1vvxkRa"
      },
      "source": [
        "### Regularizing your model\n",
        "\n",
        "Regularization: actively impeding the model’s ability to fit perfectly to the training data, with the goal of making the model perform better during validation.\n",
        "\n",
        "- regularizing a model is a process that should always be guided by an accurate evaluation procedure\n",
        "- you will only achieve generalization if you can measure it!\n",
        "\n",
        "Let’s review some of the most common regularization techniques in the context of IMDB movie reviews problem\n"
      ]
    },
    {
      "cell_type": "markdown",
      "metadata": {
        "id": "M7QX5ec2xkRa"
      },
      "source": [
        "#### Reducing the network's size\n",
        "\n",
        "- a model that is too small will not overfit\n",
        "- simplest way to mitigate overfitting is to reduce the size of the model\n",
        "- number of learnable parameters in the model is determined by the number of layers and the number of units per layer\n",
        "- however, you should use models that have enough parameters that they don’t underfit!\n",
        "- compromise is to be found between too much capacity and not enough capacity\n",
        "- no magical formula to determine the right number of layers or the right size for each layer\n",
        "- evaluate an array of different architectures (on your validation set, not on your test set, of course) in order to find the correct model size for your data\n",
        "- general workflow for finding an appropriate model size:\n",
        "  - start with relatively few layers and parameters\n",
        "  - increase the size of the layers or add new layers until you see diminishing returns with regard to validation loss"
      ]
    },
    {
      "cell_type": "markdown",
      "metadata": {
        "id": "b5i9bdQ_xkRa"
      },
      "source": [
        "**Original model**"
      ]
    },
    {
      "cell_type": "code",
      "execution_count": null,
      "metadata": {
        "id": "ItsGommyxkRa",
        "outputId": "661b3592-91bd-4cf9-cfd2-10d327ad3f72",
        "colab": {
          "base_uri": "https://localhost:8080/"
        }
      },
      "outputs": [
        {
          "output_type": "stream",
          "name": "stdout",
          "text": [
            "Downloading data from https://storage.googleapis.com/tensorflow/tf-keras-datasets/imdb.npz\n",
            "17465344/17464789 [==============================] - 0s 0us/step\n",
            "17473536/17464789 [==============================] - 0s 0us/step\n",
            "Epoch 1/20\n",
            "30/30 [==============================] - 2s 41ms/step - loss: 0.5219 - accuracy: 0.7872 - val_loss: 0.3957 - val_accuracy: 0.8520\n",
            "Epoch 2/20\n",
            "30/30 [==============================] - 1s 29ms/step - loss: 0.3081 - accuracy: 0.8985 - val_loss: 0.3227 - val_accuracy: 0.8678\n",
            "Epoch 3/20\n",
            "30/30 [==============================] - 1s 28ms/step - loss: 0.2203 - accuracy: 0.9279 - val_loss: 0.2807 - val_accuracy: 0.8902\n",
            "Epoch 4/20\n",
            "30/30 [==============================] - 1s 29ms/step - loss: 0.1746 - accuracy: 0.9444 - val_loss: 0.2798 - val_accuracy: 0.8877\n",
            "Epoch 5/20\n",
            "30/30 [==============================] - 1s 29ms/step - loss: 0.1391 - accuracy: 0.9559 - val_loss: 0.2923 - val_accuracy: 0.8840\n",
            "Epoch 6/20\n",
            "30/30 [==============================] - 1s 29ms/step - loss: 0.1155 - accuracy: 0.9633 - val_loss: 0.2936 - val_accuracy: 0.8881\n",
            "Epoch 7/20\n",
            "30/30 [==============================] - 1s 28ms/step - loss: 0.0941 - accuracy: 0.9719 - val_loss: 0.3159 - val_accuracy: 0.8862\n",
            "Epoch 8/20\n",
            "30/30 [==============================] - 1s 29ms/step - loss: 0.0767 - accuracy: 0.9784 - val_loss: 0.3353 - val_accuracy: 0.8835\n",
            "Epoch 9/20\n",
            "30/30 [==============================] - 1s 30ms/step - loss: 0.0613 - accuracy: 0.9829 - val_loss: 0.3881 - val_accuracy: 0.8741\n",
            "Epoch 10/20\n",
            "30/30 [==============================] - 1s 29ms/step - loss: 0.0501 - accuracy: 0.9884 - val_loss: 0.3843 - val_accuracy: 0.8800\n",
            "Epoch 11/20\n",
            "30/30 [==============================] - 1s 29ms/step - loss: 0.0397 - accuracy: 0.9903 - val_loss: 0.4148 - val_accuracy: 0.8760\n",
            "Epoch 12/20\n",
            "30/30 [==============================] - 1s 29ms/step - loss: 0.0313 - accuracy: 0.9932 - val_loss: 0.4763 - val_accuracy: 0.8718\n",
            "Epoch 13/20\n",
            "30/30 [==============================] - 1s 29ms/step - loss: 0.0265 - accuracy: 0.9946 - val_loss: 0.5088 - val_accuracy: 0.8689\n",
            "Epoch 14/20\n",
            "30/30 [==============================] - 1s 29ms/step - loss: 0.0212 - accuracy: 0.9959 - val_loss: 0.5133 - val_accuracy: 0.8732\n",
            "Epoch 15/20\n",
            "30/30 [==============================] - 1s 29ms/step - loss: 0.0175 - accuracy: 0.9961 - val_loss: 0.5429 - val_accuracy: 0.8734\n",
            "Epoch 16/20\n",
            "30/30 [==============================] - 1s 29ms/step - loss: 0.0097 - accuracy: 0.9991 - val_loss: 0.5893 - val_accuracy: 0.8689\n",
            "Epoch 17/20\n",
            "30/30 [==============================] - 1s 29ms/step - loss: 0.0126 - accuracy: 0.9973 - val_loss: 0.6130 - val_accuracy: 0.8702\n",
            "Epoch 18/20\n",
            "30/30 [==============================] - 1s 29ms/step - loss: 0.0060 - accuracy: 0.9993 - val_loss: 0.7598 - val_accuracy: 0.8514\n",
            "Epoch 19/20\n",
            "30/30 [==============================] - 1s 29ms/step - loss: 0.0065 - accuracy: 0.9988 - val_loss: 0.6765 - val_accuracy: 0.8675\n",
            "Epoch 20/20\n",
            "30/30 [==============================] - 1s 28ms/step - loss: 0.0067 - accuracy: 0.9987 - val_loss: 0.7129 - val_accuracy: 0.8677\n"
          ]
        }
      ],
      "source": [
        "from tensorflow.keras.datasets import imdb\n",
        "(train_data, train_labels), _ = imdb.load_data(num_words=10000)\n",
        "\n",
        "def vectorize_sequences(sequences, dimension=10000):\n",
        "    results = np.zeros((len(sequences), dimension))\n",
        "    for i, sequence in enumerate(sequences):\n",
        "        results[i, sequence] = 1.\n",
        "    return results\n",
        "train_data = vectorize_sequences(train_data)\n",
        "\n",
        "model = keras.Sequential([\n",
        "    layers.Dense(16, activation=\"relu\"),\n",
        "    layers.Dense(16, activation=\"relu\"),\n",
        "    layers.Dense(1, activation=\"sigmoid\")\n",
        "])\n",
        "model.compile(optimizer=\"rmsprop\",\n",
        "              loss=\"binary_crossentropy\",\n",
        "              metrics=[\"accuracy\"])\n",
        "history_original = model.fit(train_data, train_labels,\n",
        "                             epochs=20, batch_size=512, validation_split=0.4)"
      ]
    },
    {
      "cell_type": "markdown",
      "metadata": {
        "id": "rRU9U_RcxkRb"
      },
      "source": [
        "**Version of the model with lower capacity**"
      ]
    },
    {
      "cell_type": "code",
      "execution_count": null,
      "metadata": {
        "id": "OvVhW6PPxkRb",
        "outputId": "b0de18eb-3d49-469f-8f9b-43324c980502",
        "colab": {
          "base_uri": "https://localhost:8080/"
        }
      },
      "outputs": [
        {
          "output_type": "stream",
          "name": "stdout",
          "text": [
            "Epoch 1/20\n",
            "30/30 [==============================] - 2s 39ms/step - loss: 0.6381 - accuracy: 0.6441 - val_loss: 0.5899 - val_accuracy: 0.7186\n",
            "Epoch 2/20\n",
            "30/30 [==============================] - 1s 26ms/step - loss: 0.5477 - accuracy: 0.7877 - val_loss: 0.5318 - val_accuracy: 0.8344\n",
            "Epoch 3/20\n",
            "30/30 [==============================] - 1s 27ms/step - loss: 0.4879 - accuracy: 0.8550 - val_loss: 0.4918 - val_accuracy: 0.8325\n",
            "Epoch 4/20\n",
            "30/30 [==============================] - 1s 27ms/step - loss: 0.4400 - accuracy: 0.8878 - val_loss: 0.4580 - val_accuracy: 0.8581\n",
            "Epoch 5/20\n",
            "30/30 [==============================] - 1s 27ms/step - loss: 0.3976 - accuracy: 0.9108 - val_loss: 0.4273 - val_accuracy: 0.8800\n",
            "Epoch 6/20\n",
            "30/30 [==============================] - 1s 31ms/step - loss: 0.3571 - accuracy: 0.9263 - val_loss: 0.3986 - val_accuracy: 0.8838\n",
            "Epoch 7/20\n",
            "30/30 [==============================] - 1s 26ms/step - loss: 0.3058 - accuracy: 0.9410 - val_loss: 0.3468 - val_accuracy: 0.8833\n",
            "Epoch 8/20\n",
            "30/30 [==============================] - 1s 26ms/step - loss: 0.2305 - accuracy: 0.9499 - val_loss: 0.3025 - val_accuracy: 0.8864\n",
            "Epoch 9/20\n",
            "30/30 [==============================] - 1s 26ms/step - loss: 0.1853 - accuracy: 0.9549 - val_loss: 0.2876 - val_accuracy: 0.8875\n",
            "Epoch 10/20\n",
            "30/30 [==============================] - 1s 26ms/step - loss: 0.1572 - accuracy: 0.9600 - val_loss: 0.2776 - val_accuracy: 0.8873\n",
            "Epoch 11/20\n",
            "30/30 [==============================] - 1s 28ms/step - loss: 0.1374 - accuracy: 0.9649 - val_loss: 0.2872 - val_accuracy: 0.8870\n",
            "Epoch 12/20\n",
            "30/30 [==============================] - 1s 26ms/step - loss: 0.1217 - accuracy: 0.9682 - val_loss: 0.3006 - val_accuracy: 0.8840\n",
            "Epoch 13/20\n",
            "30/30 [==============================] - 1s 27ms/step - loss: 0.1086 - accuracy: 0.9710 - val_loss: 0.2924 - val_accuracy: 0.8873\n",
            "Epoch 14/20\n",
            "30/30 [==============================] - 1s 27ms/step - loss: 0.0969 - accuracy: 0.9749 - val_loss: 0.3022 - val_accuracy: 0.8862\n",
            "Epoch 15/20\n",
            "30/30 [==============================] - 1s 27ms/step - loss: 0.0863 - accuracy: 0.9785 - val_loss: 0.3136 - val_accuracy: 0.8849\n",
            "Epoch 16/20\n",
            "30/30 [==============================] - 1s 26ms/step - loss: 0.0770 - accuracy: 0.9813 - val_loss: 0.3307 - val_accuracy: 0.8820\n",
            "Epoch 17/20\n",
            "30/30 [==============================] - 1s 32ms/step - loss: 0.0686 - accuracy: 0.9842 - val_loss: 0.3449 - val_accuracy: 0.8807\n",
            "Epoch 18/20\n",
            "30/30 [==============================] - 1s 31ms/step - loss: 0.0614 - accuracy: 0.9859 - val_loss: 0.3557 - val_accuracy: 0.8813\n",
            "Epoch 19/20\n",
            "30/30 [==============================] - 1s 26ms/step - loss: 0.0554 - accuracy: 0.9877 - val_loss: 0.3697 - val_accuracy: 0.8794\n",
            "Epoch 20/20\n",
            "30/30 [==============================] - 1s 26ms/step - loss: 0.0489 - accuracy: 0.9892 - val_loss: 0.3861 - val_accuracy: 0.8793\n"
          ]
        }
      ],
      "source": [
        "model = keras.Sequential([\n",
        "    layers.Dense(4, activation=\"relu\"),\n",
        "    layers.Dense(4, activation=\"relu\"),\n",
        "    layers.Dense(1, activation=\"sigmoid\")\n",
        "])\n",
        "model.compile(optimizer=\"rmsprop\",\n",
        "              loss=\"binary_crossentropy\",\n",
        "              metrics=[\"accuracy\"])\n",
        "history_smaller_model = model.fit(\n",
        "    train_data, train_labels,\n",
        "    epochs=20, batch_size=512, validation_split=0.4)"
      ]
    },
    {
      "cell_type": "code",
      "source": [
        "val_loss_original = history_original.history[\"val_loss\"]\n",
        "val_loss_smaller = history_smaller_model.history[\"val_loss\"]\n",
        "epochs = range(1, 21)\n",
        "plt.plot(epochs, val_loss_original, \"b--\",\n",
        "         label=\"Validation loss of original model\")\n",
        "plt.plot(epochs, val_loss_smaller, \"b-\",\n",
        "         label=\"Validation loss of smaller model\")\n",
        "plt.title(\"Original model vs. smaller model on IMDB review classification\")\n",
        "plt.xlabel(\"Epochs\")\n",
        "plt.ylabel(\"Loss\")\n",
        "plt.legend()"
      ],
      "metadata": {
        "id": "xBRt-B8ry4YD",
        "outputId": "09764c06-d17d-4128-812c-edc6452c961c",
        "colab": {
          "base_uri": "https://localhost:8080/",
          "height": 313
        }
      },
      "execution_count": null,
      "outputs": [
        {
          "output_type": "execute_result",
          "data": {
            "text/plain": [
              "<matplotlib.legend.Legend at 0x7f6b25ce6610>"
            ]
          },
          "metadata": {},
          "execution_count": 10
        },
        {
          "output_type": "display_data",
          "data": {
            "image/png": "[encoded data removed]",
            "text/plain": [
              "<Figure size 432x288 with 1 Axes>"
            ]
          },
          "metadata": {
            "needs_background": "light"
          }
        }
      ]
    },
    {
      "cell_type": "markdown",
      "source": [
        "- the smaller model starts overfitting later than the reference model\n",
        "- its performance degrades more slowly once it starts overfitting"
      ],
      "metadata": {
        "id": "sZnVeDC9zxPB"
      }
    },
    {
      "cell_type": "markdown",
      "metadata": {
        "id": "ffNLmM2pxkRb"
      },
      "source": [
        "**Version of the model with higher capacity**"
      ]
    },
    {
      "cell_type": "code",
      "execution_count": null,
      "metadata": {
        "id": "XSgl_g0xxkRb",
        "outputId": "0a9431f4-07de-4dd9-fcf1-c4f8b54e0ae0",
        "colab": {
          "base_uri": "https://localhost:8080/"
        }
      },
      "outputs": [
        {
          "output_type": "stream",
          "name": "stdout",
          "text": [
            "Epoch 1/20\n",
            "30/30 [==============================] - 9s 270ms/step - loss: 0.5367 - accuracy: 0.7453 - val_loss: 0.3917 - val_accuracy: 0.8290\n",
            "Epoch 2/20\n",
            "30/30 [==============================] - 8s 257ms/step - loss: 0.2613 - accuracy: 0.8948 - val_loss: 0.2931 - val_accuracy: 0.8844\n",
            "Epoch 3/20\n",
            "30/30 [==============================] - 8s 257ms/step - loss: 0.1512 - accuracy: 0.9448 - val_loss: 0.2978 - val_accuracy: 0.8925\n",
            "Epoch 4/20\n",
            "30/30 [==============================] - 8s 256ms/step - loss: 0.0946 - accuracy: 0.9703 - val_loss: 0.3611 - val_accuracy: 0.8872\n",
            "Epoch 5/20\n",
            "30/30 [==============================] - 8s 257ms/step - loss: 0.0096 - accuracy: 0.9983 - val_loss: 0.4970 - val_accuracy: 0.8878\n",
            "Epoch 6/20\n",
            "30/30 [==============================] - 8s 257ms/step - loss: 0.2019 - accuracy: 0.9733 - val_loss: 0.4053 - val_accuracy: 0.8879\n",
            "Epoch 7/20\n",
            "30/30 [==============================] - 8s 257ms/step - loss: 0.0018 - accuracy: 1.0000 - val_loss: 0.5348 - val_accuracy: 0.8865\n",
            "Epoch 8/20\n",
            "30/30 [==============================] - 8s 268ms/step - loss: 3.4429e-04 - accuracy: 1.0000 - val_loss: 0.6438 - val_accuracy: 0.8862\n",
            "Epoch 9/20\n",
            "30/30 [==============================] - 8s 257ms/step - loss: 7.3185e-05 - accuracy: 1.0000 - val_loss: 0.7440 - val_accuracy: 0.8860\n",
            "Epoch 10/20\n",
            "30/30 [==============================] - 8s 258ms/step - loss: 1.6491e-05 - accuracy: 1.0000 - val_loss: 0.8285 - val_accuracy: 0.8875\n",
            "Epoch 11/20\n",
            "30/30 [==============================] - 8s 257ms/step - loss: 4.1329e-06 - accuracy: 1.0000 - val_loss: 0.9234 - val_accuracy: 0.8873\n",
            "Epoch 12/20\n",
            "30/30 [==============================] - 8s 258ms/step - loss: 1.1299e-06 - accuracy: 1.0000 - val_loss: 1.0262 - val_accuracy: 0.8858\n",
            "Epoch 13/20\n",
            "30/30 [==============================] - 8s 257ms/step - loss: 3.6939e-07 - accuracy: 1.0000 - val_loss: 1.0872 - val_accuracy: 0.8866\n",
            "Epoch 14/20\n",
            "30/30 [==============================] - 8s 258ms/step - loss: 1.3738e-07 - accuracy: 1.0000 - val_loss: 1.1523 - val_accuracy: 0.8862\n",
            "Epoch 15/20\n",
            "30/30 [==============================] - 13s 445ms/step - loss: 5.8445e-08 - accuracy: 1.0000 - val_loss: 1.2053 - val_accuracy: 0.8860\n",
            "Epoch 16/20\n",
            "30/30 [==============================] - 8s 259ms/step - loss: 3.1249e-08 - accuracy: 1.0000 - val_loss: 1.2401 - val_accuracy: 0.8865\n",
            "Epoch 17/20\n",
            "30/30 [==============================] - 8s 257ms/step - loss: 2.0607e-08 - accuracy: 1.0000 - val_loss: 1.2641 - val_accuracy: 0.8862\n",
            "Epoch 18/20\n",
            "30/30 [==============================] - 8s 257ms/step - loss: 1.5202e-08 - accuracy: 1.0000 - val_loss: 1.2813 - val_accuracy: 0.8860\n",
            "Epoch 19/20\n",
            "30/30 [==============================] - 8s 257ms/step - loss: 1.2087e-08 - accuracy: 1.0000 - val_loss: 1.2964 - val_accuracy: 0.8863\n",
            "Epoch 20/20\n",
            "30/30 [==============================] - 8s 257ms/step - loss: 1.0041e-08 - accuracy: 1.0000 - val_loss: 1.3052 - val_accuracy: 0.8857\n"
          ]
        }
      ],
      "source": [
        "model = keras.Sequential([\n",
        "    layers.Dense(512, activation=\"relu\"),\n",
        "    layers.Dense(512, activation=\"relu\"),\n",
        "    layers.Dense(1, activation=\"sigmoid\")\n",
        "])\n",
        "model.compile(optimizer=\"rmsprop\",\n",
        "              loss=\"binary_crossentropy\",\n",
        "              metrics=[\"accuracy\"])\n",
        "history_larger_model = model.fit(\n",
        "    train_data, train_labels,\n",
        "    epochs=20, batch_size=512, validation_split=0.4)"
      ]
    },
    {
      "cell_type": "code",
      "source": [
        "val_loss_larger = history_larger_model.history[\"val_loss\"]\n",
        "epochs = range(1, 21)\n",
        "plt.plot(epochs, val_loss_original, \"b--\",\n",
        "         label=\"Validation loss of original model\")\n",
        "plt.plot(epochs, val_loss_larger, \"b-\",\n",
        "         label=\"Validation loss of larger model\")\n",
        "plt.title(\"Original model vs. much larger model on IMDB review classification\")\n",
        "plt.xlabel(\"Epochs\")\n",
        "plt.ylabel(\"Loss\")\n",
        "plt.legend()"
      ],
      "metadata": {
        "colab": {
          "base_uri": "https://localhost:8080/",
          "height": 313
        },
        "id": "rW5iyjAX5VNs",
        "outputId": "391682c0-68fb-407d-909e-a46daa2da34b"
      },
      "execution_count": null,
      "outputs": [
        {
          "output_type": "execute_result",
          "data": {
            "text/plain": [
              "<matplotlib.legend.Legend at 0x7f6b2b03eb10>"
            ]
          },
          "metadata": {},
          "execution_count": 12
        },
        {
          "output_type": "display_data",
          "data": {
            "image/png": "[encoded data removed]",
            "text/plain": [
              "<Figure size 432x288 with 1 Axes>"
            ]
          },
          "metadata": {
            "needs_background": "light"
          }
        }
      ]
    },
    {
      "cell_type": "markdown",
      "source": [
        "- bigger model starts overfitting almost immediately\n",
        "- it overfits much more severely\n",
        "- its validation loss is also noisier\n",
        "- it gets training loss near zero very quickly\n",
        "- a very high capacity model will\n",
        "  - fit the the training data quickly (resulting in a low training loss)\n",
        "  - but will be more susceptible it is to overfitting (resulting in a large difference between the training and validation loss)"
      ],
      "metadata": {
        "id": "QEIy3-1b5rm3"
      }
    },
    {
      "cell_type": "markdown",
      "metadata": {
        "id": "wkte-rfJxkRb"
      },
      "source": [
        "#### Adding weight regularization"
      ]
    },
    {
      "cell_type": "markdown",
      "metadata": {
        "id": "3PQoX50OxkRb"
      },
      "source": [
        "**Adding L2 weight regularization to the model**\n",
        "\n",
        "Regularization can be applied to:\n",
        "- weights using `kernel_regularizer`\n",
        "- biases using `bias_regularizer`\n",
        "- output of the layer using `activity_regularizer`\n",
        "\n",
        "We will use weight regularization below."
      ]
    },
    {
      "cell_type": "code",
      "execution_count": null,
      "metadata": {
        "id": "JVnwkqCDxkRc",
        "outputId": "c05712cc-1977-4d89-8722-d8a03bd6429c",
        "colab": {
          "base_uri": "https://localhost:8080/"
        }
      },
      "outputs": [
        {
          "output_type": "stream",
          "name": "stdout",
          "text": [
            "Epoch 1/20\n",
            "30/30 [==============================] - 2s 41ms/step - loss: 0.6070 - accuracy: 0.7675 - val_loss: 0.4807 - val_accuracy: 0.8712\n",
            "Epoch 2/20\n",
            "30/30 [==============================] - 1s 30ms/step - loss: 0.4128 - accuracy: 0.8929 - val_loss: 0.3955 - val_accuracy: 0.8879\n",
            "Epoch 3/20\n",
            "30/30 [==============================] - 1s 30ms/step - loss: 0.3467 - accuracy: 0.9133 - val_loss: 0.3710 - val_accuracy: 0.8905\n",
            "Epoch 4/20\n",
            "30/30 [==============================] - 1s 31ms/step - loss: 0.3092 - accuracy: 0.9222 - val_loss: 0.3710 - val_accuracy: 0.8828\n",
            "Epoch 5/20\n",
            "30/30 [==============================] - 1s 30ms/step - loss: 0.2882 - accuracy: 0.9309 - val_loss: 0.3671 - val_accuracy: 0.8827\n",
            "Epoch 6/20\n",
            "30/30 [==============================] - 1s 29ms/step - loss: 0.2724 - accuracy: 0.9325 - val_loss: 0.3595 - val_accuracy: 0.8855\n",
            "Epoch 7/20\n",
            "30/30 [==============================] - 1s 29ms/step - loss: 0.2563 - accuracy: 0.9422 - val_loss: 0.3670 - val_accuracy: 0.8812\n",
            "Epoch 8/20\n",
            "30/30 [==============================] - 1s 30ms/step - loss: 0.2510 - accuracy: 0.9414 - val_loss: 0.3675 - val_accuracy: 0.8826\n",
            "Epoch 9/20\n",
            "30/30 [==============================] - 1s 30ms/step - loss: 0.2445 - accuracy: 0.9428 - val_loss: 0.3836 - val_accuracy: 0.8779\n",
            "Epoch 10/20\n",
            "30/30 [==============================] - 1s 30ms/step - loss: 0.2389 - accuracy: 0.9446 - val_loss: 0.3683 - val_accuracy: 0.8821\n",
            "Epoch 11/20\n",
            "30/30 [==============================] - 1s 30ms/step - loss: 0.2292 - accuracy: 0.9499 - val_loss: 0.3856 - val_accuracy: 0.8761\n",
            "Epoch 12/20\n",
            "30/30 [==============================] - 1s 29ms/step - loss: 0.2309 - accuracy: 0.9478 - val_loss: 0.4060 - val_accuracy: 0.8710\n",
            "Epoch 13/20\n",
            "30/30 [==============================] - 1s 31ms/step - loss: 0.2218 - accuracy: 0.9529 - val_loss: 0.3811 - val_accuracy: 0.8801\n",
            "Epoch 14/20\n",
            "30/30 [==============================] - 1s 31ms/step - loss: 0.2240 - accuracy: 0.9513 - val_loss: 0.3889 - val_accuracy: 0.8783\n",
            "Epoch 15/20\n",
            "30/30 [==============================] - 1s 30ms/step - loss: 0.2170 - accuracy: 0.9540 - val_loss: 0.3891 - val_accuracy: 0.8793\n",
            "Epoch 16/20\n",
            "30/30 [==============================] - 1s 30ms/step - loss: 0.2125 - accuracy: 0.9557 - val_loss: 0.4018 - val_accuracy: 0.8748\n",
            "Epoch 17/20\n",
            "30/30 [==============================] - 1s 30ms/step - loss: 0.2113 - accuracy: 0.9553 - val_loss: 0.4340 - val_accuracy: 0.8662\n",
            "Epoch 18/20\n",
            "30/30 [==============================] - 1s 29ms/step - loss: 0.2096 - accuracy: 0.9561 - val_loss: 0.4037 - val_accuracy: 0.8763\n",
            "Epoch 19/20\n",
            "30/30 [==============================] - 1s 30ms/step - loss: 0.2054 - accuracy: 0.9572 - val_loss: 0.4044 - val_accuracy: 0.8769\n",
            "Epoch 20/20\n",
            "30/30 [==============================] - 1s 29ms/step - loss: 0.2049 - accuracy: 0.9569 - val_loss: 0.4747 - val_accuracy: 0.8585\n"
          ]
        }
      ],
      "source": [
        "from tensorflow.keras import regularizers\n",
        "model = keras.Sequential([\n",
        "    # every coefficient in the weight matrix of the layer will add\n",
        "    # 0.002 * weight_coefficient_value ** 2\n",
        "    # to the total loss of the model\n",
        "    layers.Dense(16,\n",
        "                 kernel_regularizer=regularizers.l2(0.002),\n",
        "                 activation=\"relu\"),\n",
        "    layers.Dense(16,\n",
        "                 kernel_regularizer=regularizers.l2(0.002),\n",
        "                 activation=\"relu\"),\n",
        "    layers.Dense(1, activation=\"sigmoid\")\n",
        "])\n",
        "model.compile(optimizer=\"rmsprop\",\n",
        "              loss=\"binary_crossentropy\",\n",
        "              metrics=[\"accuracy\"])\n",
        "history_l2_reg = model.fit(\n",
        "    train_data, train_labels,\n",
        "    epochs=20, batch_size=512, validation_split=0.4)"
      ]
    },
    {
      "cell_type": "code",
      "source": [
        "val_loss_l2_reg = history_l2_reg.history[\"val_loss\"]\n",
        "epochs = range(1, 21)\n",
        "plt.plot(epochs, val_loss_original, \"b--\",\n",
        "         label=\"Validation loss of original model\")\n",
        "plt.plot(epochs, val_loss_l2_reg, \"b-\",\n",
        "         label=\"Validation loss of L2-regularized model\")\n",
        "plt.title(\"Effect of L2 weight regularization on validation loss\")\n",
        "plt.xlabel(\"Epochs\")\n",
        "plt.ylabel(\"Loss\")\n",
        "plt.legend()"
      ],
      "metadata": {
        "colab": {
          "base_uri": "https://localhost:8080/",
          "height": 313
        },
        "id": "2t_qA4D7rjOr",
        "outputId": "f0640375-260b-4166-a225-bf8012104512"
      },
      "execution_count": null,
      "outputs": [
        {
          "output_type": "execute_result",
          "data": {
            "text/plain": [
              "<matplotlib.legend.Legend at 0x7f6b31365ed0>"
            ]
          },
          "metadata": {},
          "execution_count": 14
        },
        {
          "output_type": "display_data",
          "data": {
            "image/png": "[encoded data removed]",
            "text/plain": [
              "<Figure size 432x288 with 1 Axes>"
            ]
          },
          "metadata": {
            "needs_background": "light"
          }
        }
      ]
    },
    {
      "cell_type": "markdown",
      "source": [
        "- model with L2 regularization has become much more resistant to overfitting than the reference model\n",
        "- both models have the same number of parameters"
      ],
      "metadata": {
        "id": "C4-w0BDEswHB"
      }
    },
    {
      "cell_type": "markdown",
      "source": [
        "**Total loss when using weight regularization includes prediction losses as well as layer losses**\n",
        "\n",
        "- \"loss\" as a metric changes meaning when you have weight regularization\n",
        "- without regularization, loss is simply the average of the prediction loss function over the dataset\n",
        "- with weight regularization, loss includes *both* prediction losses as well as regularization losses for regularized layers"
      ],
      "metadata": {
        "id": "YwuoH_p8r2S8"
      }
    },
    {
      "cell_type": "markdown",
      "metadata": {
        "id": "kPfDStSCxkRc"
      },
      "source": [
        "**Different weight regularizers available in Keras**"
      ]
    },
    {
      "cell_type": "code",
      "execution_count": null,
      "metadata": {
        "id": "z48GceflxkRc",
        "outputId": "f42c6c0f-7a43-4518-d877-0da5c9799304",
        "colab": {
          "base_uri": "https://localhost:8080/"
        }
      },
      "outputs": [
        {
          "output_type": "execute_result",
          "data": {
            "text/plain": [
              "<keras.regularizers.L1L2 at 0x7f6b2b90add0>"
            ]
          },
          "metadata": {},
          "execution_count": 15
        }
      ],
      "source": [
        "from tensorflow.keras import regularizers\n",
        "regularizers.l1(0.001)\n",
        "regularizers.l1_l2(l1=0.001, l2=0.001)"
      ]
    },
    {
      "cell_type": "markdown",
      "source": [
        "- weight regularization is more typically used for smaller deep learning models\n",
        "- large deep learning models tend to be so overparameterized that imposing constraints on weight values hasn’t much impact on model capacity and generalization\n",
        "- in these cases, a different regularization technique is preferred: **dropout**"
      ],
      "metadata": {
        "id": "u-fbniD-uVyL"
      }
    },
    {
      "cell_type": "markdown",
      "metadata": {
        "id": "LZ2AwnAwxkRc"
      },
      "source": [
        "#### Adding dropout"
      ]
    },
    {
      "cell_type": "markdown",
      "metadata": {
        "id": "GWzYz3BRxkRc"
      },
      "source": [
        "**Adding dropout to the IMDB model**"
      ]
    },
    {
      "cell_type": "code",
      "execution_count": null,
      "metadata": {
        "id": "Lwks5JZDxkRc",
        "outputId": "c9971572-03be-4d25-f9d0-e8f245b47d3d",
        "colab": {
          "base_uri": "https://localhost:8080/"
        }
      },
      "outputs": [
        {
          "output_type": "stream",
          "name": "stdout",
          "text": [
            "Epoch 1/20\n",
            "30/30 [==============================] - 2s 40ms/step - loss: 0.6315 - accuracy: 0.6429 - val_loss: 0.5293 - val_accuracy: 0.8284\n",
            "Epoch 2/20\n",
            "30/30 [==============================] - 1s 29ms/step - loss: 0.5077 - accuracy: 0.7844 - val_loss: 0.4224 - val_accuracy: 0.8726\n",
            "Epoch 3/20\n",
            "30/30 [==============================] - 1s 29ms/step - loss: 0.4287 - accuracy: 0.8341 - val_loss: 0.3636 - val_accuracy: 0.8755\n",
            "Epoch 4/20\n",
            "30/30 [==============================] - 1s 30ms/step - loss: 0.3633 - accuracy: 0.8701 - val_loss: 0.3236 - val_accuracy: 0.8848\n",
            "Epoch 5/20\n",
            "30/30 [==============================] - 1s 29ms/step - loss: 0.3141 - accuracy: 0.8933 - val_loss: 0.2992 - val_accuracy: 0.8881\n",
            "Epoch 6/20\n",
            "30/30 [==============================] - 1s 29ms/step - loss: 0.2737 - accuracy: 0.9095 - val_loss: 0.2856 - val_accuracy: 0.8850\n",
            "Epoch 7/20\n",
            "30/30 [==============================] - 1s 30ms/step - loss: 0.2426 - accuracy: 0.9189 - val_loss: 0.2947 - val_accuracy: 0.8896\n",
            "Epoch 8/20\n",
            "30/30 [==============================] - 1s 29ms/step - loss: 0.2167 - accuracy: 0.9329 - val_loss: 0.2966 - val_accuracy: 0.8893\n",
            "Epoch 9/20\n",
            "30/30 [==============================] - 1s 29ms/step - loss: 0.1891 - accuracy: 0.9394 - val_loss: 0.3167 - val_accuracy: 0.8895\n",
            "Epoch 10/20\n",
            "30/30 [==============================] - 1s 29ms/step - loss: 0.1699 - accuracy: 0.9449 - val_loss: 0.3462 - val_accuracy: 0.8882\n",
            "Epoch 11/20\n",
            "30/30 [==============================] - 1s 29ms/step - loss: 0.1492 - accuracy: 0.9525 - val_loss: 0.3397 - val_accuracy: 0.8878\n",
            "Epoch 12/20\n",
            "30/30 [==============================] - 1s 29ms/step - loss: 0.1372 - accuracy: 0.9567 - val_loss: 0.3614 - val_accuracy: 0.8855\n",
            "Epoch 13/20\n",
            "30/30 [==============================] - 1s 29ms/step - loss: 0.1261 - accuracy: 0.9590 - val_loss: 0.3892 - val_accuracy: 0.8849\n",
            "Epoch 14/20\n",
            "30/30 [==============================] - 1s 29ms/step - loss: 0.1138 - accuracy: 0.9640 - val_loss: 0.4460 - val_accuracy: 0.8874\n",
            "Epoch 15/20\n",
            "30/30 [==============================] - 1s 29ms/step - loss: 0.1031 - accuracy: 0.9683 - val_loss: 0.4591 - val_accuracy: 0.8845\n",
            "Epoch 16/20\n",
            "30/30 [==============================] - 1s 29ms/step - loss: 0.0965 - accuracy: 0.9703 - val_loss: 0.4904 - val_accuracy: 0.8846\n",
            "Epoch 17/20\n",
            "30/30 [==============================] - 1s 29ms/step - loss: 0.0933 - accuracy: 0.9712 - val_loss: 0.4927 - val_accuracy: 0.8805\n",
            "Epoch 18/20\n",
            "30/30 [==============================] - 1s 29ms/step - loss: 0.0829 - accuracy: 0.9704 - val_loss: 0.5309 - val_accuracy: 0.8826\n",
            "Epoch 19/20\n",
            "30/30 [==============================] - 1s 29ms/step - loss: 0.0786 - accuracy: 0.9763 - val_loss: 0.5790 - val_accuracy: 0.8822\n",
            "Epoch 20/20\n",
            "30/30 [==============================] - 1s 30ms/step - loss: 0.0738 - accuracy: 0.9773 - val_loss: 0.6504 - val_accuracy: 0.8805\n"
          ]
        }
      ],
      "source": [
        "model = keras.Sequential([\n",
        "    layers.Dense(16, activation=\"relu\"),\n",
        "    layers.Dropout(0.5),\n",
        "    layers.Dense(16, activation=\"relu\"),\n",
        "    layers.Dropout(0.5),\n",
        "    layers.Dense(1, activation=\"sigmoid\")\n",
        "])\n",
        "model.compile(optimizer=\"rmsprop\",\n",
        "              loss=\"binary_crossentropy\",\n",
        "              metrics=[\"accuracy\"])\n",
        "history_dropout = model.fit(\n",
        "    train_data, train_labels,\n",
        "    epochs=20, batch_size=512, validation_split=0.4)"
      ]
    },
    {
      "cell_type": "code",
      "source": [
        "val_loss_dropout = history_dropout.history[\"val_loss\"]\n",
        "epochs = range(1, 21)\n",
        "plt.plot(epochs, val_loss_original, \"b--\",\n",
        "         label=\"Validation loss of original model\")\n",
        "plt.plot(epochs, val_loss_dropout, \"b-\",\n",
        "         label=\"Validation loss of dropout-regularized model\")\n",
        "plt.title(\"Effect of dropout on validation loss\")\n",
        "plt.xlabel(\"Epochs\")\n",
        "plt.ylabel(\"Loss\")\n",
        "plt.legend()"
      ],
      "metadata": {
        "colab": {
          "base_uri": "https://localhost:8080/",
          "height": 313
        },
        "id": "TUKqFPrfxfXe",
        "outputId": "0564f888-f834-43d8-d267-a6708f398137"
      },
      "execution_count": null,
      "outputs": [
        {
          "output_type": "execute_result",
          "data": {
            "text/plain": [
              "<matplotlib.legend.Legend at 0x7f6b2b08ffd0>"
            ]
          },
          "metadata": {},
          "execution_count": 17
        },
        {
          "output_type": "display_data",
          "data": {
            "image/png": "[encoded data removed]",
            "text/plain": [
              "<Figure size 432x288 with 1 Axes>"
            ]
          },
          "metadata": {
            "needs_background": "light"
          }
        }
      ]
    },
    {
      "cell_type": "markdown",
      "source": [
        "- dropout achieves clear improvement over the reference model\n",
        "- it also seems to be working much better than L2 regularization (lowest validation loss reached has improved)"
      ],
      "metadata": {
        "id": "qYMwGkZ3yRG8"
      }
    },
    {
      "cell_type": "markdown",
      "source": [
        "**How does dropout work?**"
      ],
      "metadata": {
        "id": "hlI58XZAHHFB"
      }
    },
    {
      "cell_type": "markdown",
      "source": [
        "- dropout, **applied to a layer**, consists of randomly dropping out (setting to zero) a number of output features of the layer **during training**\n",
        "- after applying dropout, the layer output will have a few zero entries distributed at random\n",
        "- the dropout rate is the fraction of the features that are zeroed out; it’s usually set between 0.2 and 0.5."
      ],
      "metadata": {
        "id": "b6U0RxbuH45Y"
      }
    },
    {
      "cell_type": "code",
      "source": [
        "batch_size = 4\n",
        "feature_dim = 5\n",
        "layer_output = tf.random.uniform((batch_size, feature_dim)) # in reality, layer_output will not be random\n",
        "layer_output.numpy()"
      ],
      "metadata": {
        "colab": {
          "base_uri": "https://localhost:8080/"
        },
        "id": "ECYXe42QHJVg",
        "outputId": "0197f87e-002c-4100-ff32-c09629365442"
      },
      "execution_count": null,
      "outputs": [
        {
          "output_type": "execute_result",
          "data": {
            "text/plain": [
              "array([[0.905645  , 0.8570291 , 0.7257302 , 0.95755136, 0.74638176],\n",
              "       [0.16765738, 0.06710732, 0.8286674 , 0.2801174 , 0.74845433],\n",
              "       [0.21975768, 0.6561687 , 0.06725407, 0.74947083, 0.29422402],\n",
              "       [0.15977025, 0.91589606, 0.28260374, 0.26349282, 0.33665097]],\n",
              "      dtype=float32)"
            ]
          },
          "metadata": {},
          "execution_count": 18
        }
      ]
    },
    {
      "cell_type": "code",
      "source": [
        "dropout = 0.2 # dropout probability\n",
        "mask = tf.random.uniform(shape=layer_output.shape) < 1 - dropout # random boolean array where True occurs with prob 1-dropout\n",
        "mask = tf.cast(mask, tf.float32) # convert True/False to 1/0\n",
        "mask.numpy()"
      ],
      "metadata": {
        "colab": {
          "base_uri": "https://localhost:8080/"
        },
        "id": "Tcg8NxaBH0SC",
        "outputId": "4951a003-c9b3-40a9-e7ed-5e7bb6f23e3b"
      },
      "execution_count": null,
      "outputs": [
        {
          "output_type": "execute_result",
          "data": {
            "text/plain": [
              "array([[1., 1., 1., 0., 1.],\n",
              "       [1., 0., 1., 1., 1.],\n",
              "       [0., 1., 1., 0., 1.],\n",
              "       [1., 0., 1., 0., 1.]], dtype=float32)"
            ]
          },
          "metadata": {},
          "execution_count": 19
        }
      ]
    },
    {
      "cell_type": "code",
      "source": [
        "layer_output_dropout = layer_output * mask\n",
        "layer_output_dropout.numpy() # roughly half of the entries will have been zeroed out"
      ],
      "metadata": {
        "colab": {
          "base_uri": "https://localhost:8080/"
        },
        "id": "qhijdA6aMJVx",
        "outputId": "aef1147a-7ec8-4b66-a924-dc88fed17080"
      },
      "execution_count": null,
      "outputs": [
        {
          "output_type": "execute_result",
          "data": {
            "text/plain": [
              "array([[0.905645  , 0.8570291 , 0.7257302 , 0.        , 0.74638176],\n",
              "       [0.16765738, 0.        , 0.8286674 , 0.2801174 , 0.74845433],\n",
              "       [0.        , 0.6561687 , 0.06725407, 0.        , 0.29422402],\n",
              "       [0.15977025, 0.        , 0.28260374, 0.        , 0.33665097]],\n",
              "      dtype=float32)"
            ]
          },
          "metadata": {},
          "execution_count": 20
        }
      ]
    },
    {
      "cell_type": "code",
      "source": [
        "layer_output_dropout /= 1 - dropout # keep the random layer output unbiased!"
      ],
      "metadata": {
        "id": "juZdYjXbIbHQ"
      },
      "execution_count": null,
      "outputs": []
    },
    {
      "cell_type": "markdown",
      "source": [
        "**Simulation to check for unbiased property**\n",
        "\n",
        "Suppose we have a weight $w$ and we zero it out with probability $p$ as follows:\n",
        "\n",
        "$$\n",
        "w_D = w \\cdot 1[U < 1-p]\n",
        "$$\n",
        "\n",
        "where random variable $U$ distributed as Uniform$(0,1)$. Can you verify the following unbiasedness property?\n",
        "\n",
        "$$\n",
        "E\\left[ \\frac{w_D}{1-p} \\right] = w\n",
        "$$\n",
        "\n",
        "Note that $w_D$ is either $w$ (with prob $1-p$) or $0$ (with prob $p$) and therefore\n",
        "\n",
        "$$\n",
        "E\\left[ w_D \\right] = w \\cdot (1-p) + 0 \\cdot p = w(1-p)\n",
        "$$"
      ],
      "metadata": {
        "id": "IYBGr4TzNoAl"
      }
    },
    {
      "cell_type": "code",
      "source": [
        "num_iters = 1000\n",
        "sum = tf.zeros_like(layer_output)\n",
        "for i in range(num_iters):\n",
        "  mask = tf.random.uniform(shape=layer_output.shape) < 1 - dropout\n",
        "  mask = tf.cast(mask, tf.float32)\n",
        "  layer_output_dropout = layer_output * mask\n",
        "  layer_output_dropout /= 1 - dropout\n",
        "  sum += layer_output_dropout\n",
        "average = sum/num_iters\n",
        "print(\"original layer output:\\n\", layer_output.numpy())  # original layer output\n",
        "print(f\"average over {num_iters} applications of dropout:\\n\", average.numpy()) # the average of zeroed out layer outputs will be close to the original output"
      ],
      "metadata": {
        "colab": {
          "base_uri": "https://localhost:8080/"
        },
        "id": "hRhdqVnFI7vD",
        "outputId": "5ea359c8-637c-4fdc-d421-1794a5534eeb"
      },
      "execution_count": null,
      "outputs": [
        {
          "output_type": "stream",
          "name": "stdout",
          "text": [
            "original layer output:\n",
            " [[0.905645   0.8570291  0.7257302  0.95755136 0.74638176]\n",
            " [0.16765738 0.06710732 0.8286674  0.2801174  0.74845433]\n",
            " [0.21975768 0.6561687  0.06725407 0.74947083 0.29422402]\n",
            " [0.15977025 0.91589606 0.28260374 0.26349282 0.33665097]]\n",
            "average over 1000 applications of dropout:\n",
            " [[0.90904737 0.875243   0.7121247  0.9611487  0.72959197]\n",
            " [0.1695421  0.06844977 0.8224481  0.28081676 0.7419022 ]\n",
            " [0.22278143 0.6496061  0.06759074 0.74946624 0.29495952]\n",
            " [0.16176727 0.90331066 0.27836478 0.26085648 0.3374894 ]]\n"
          ]
        }
      ]
    },
    {
      "cell_type": "markdown",
      "source": [
        "**The paper that introduced dropout**\n",
        "\n",
        "If you're interested in learning more about dropout including the motivation behind it and connections to deterministic forms of regularization, see the paper:\n",
        "\n",
        "Srivastava, N., Hinton, G., Krizhevsky, A., Sutskever, I., & Salakhutdinov, R. (2014).  \n",
        "Dropout: a simple way to prevent neural networks from overfitting.  \n",
        "The Journal of Machine Learning Research, 15(1), 1929-1958.  \n",
        "https://www.jmlr.org/papers/volume15/srivastava14a/srivastava14a.pdf"
      ],
      "metadata": {
        "id": "ysuiifeWQeeG"
      }
    }
  ],
  "metadata": {
    "colab": {
      "provenance": []
    },
    "kernelspec": {
      "display_name": "Python 3",
      "language": "python",
      "name": "python3"
    },
    "language_info": {
      "codemirror_mode": {
        "name": "ipython",
        "version": 3
      },
      "file_extension": ".py",
      "mimetype": "text/x-python",
      "name": "python",
      "nbconvert_exporter": "python",
      "pygments_lexer": "ipython3",
      "version": "3.7.0"
    }
  },
  "nbformat": 4,
  "nbformat_minor": 0
}