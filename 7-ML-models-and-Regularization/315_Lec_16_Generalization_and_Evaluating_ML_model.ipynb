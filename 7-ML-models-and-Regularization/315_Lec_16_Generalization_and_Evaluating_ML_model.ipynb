{
  "cells": [
    {
      "cell_type": "markdown",
      "metadata": {
        "id": "ZLQvAtfBHskH"
      },
      "source": [
        "**Notebook credit**: based on the F. Chollet's original notebook [here](https://github.com/fchollet/deep-learning-with-python-notebooks/blob/master/chapter05_fundamentals-of-ml.ipynb)."
      ]
    },
    {
      "cell_type": "markdown",
      "metadata": {
        "id": "mZQPCT8HHskI"
      },
      "source": [
        "# Fundamentals of machine learning"
      ]
    },
    {
      "cell_type": "markdown",
      "metadata": {
        "id": "Xz-njyBsHskI"
      },
      "source": [
        "## Generalization: The goal of machine learning\n",
        "\n",
        "- we have looked at predicting movie reviews and house-price regression\n",
        "- we split the data into a training set, a validation set, and a test set\n",
        "- we should not evaluate the models on the same data they\n",
        "were trained\n",
        "- after just a few epochs, performance on never-before-seen data started diverging from performance on the training data\n",
        "- training data performance always improves as training progresses\n",
        "- at some point, the models started to **overfit**\n"
      ]
    },
    {
      "cell_type": "markdown",
      "source": [
        "\n",
        "**The fundamental issue in ML is the tension between optimization and generalization**\n",
        "\n",
        "- optimization: process of adjusting a model to get the best performance possible on the training data\n",
        "- generalization: how well the trained model performs on data it has never seen before\n",
        "- key challenge: our *goal* is good generalization we can't directly control generalization\n",
        "- can only fit the model to its training data\n",
        "- do that too well: overfitting kicks in and generalization suffers"
      ],
      "metadata": {
        "id": "oppnCwrfoVj8"
      }
    },
    {
      "cell_type": "markdown",
      "metadata": {
        "id": "FEtXNyF7HskI"
      },
      "source": [
        "### Underfitting and overfitting\n",
        "\n",
        "<img src=\"https://github.com/ambujtewari/stats315-winter2022/raw/main/images/overfitting.png\" width=\"500\">\n"
      ]
    },
    {
      "cell_type": "markdown",
      "source": [
        "### 什么时候容易发生 Overfitting\n",
        "Overfitting is particularly likely to occur when your data:\n",
        "- is noisy\n",
        "- involves uncertainty\n",
        "- includes rare features"
      ],
      "metadata": {
        "id": "YBF6pGUQvERB"
      }
    },
    {
      "cell_type": "markdown",
      "metadata": {
        "id": "HvZLntsAHskJ"
      },
      "source": [
        "**Adding white-noise channels or all-zeros channels to MNIST**\n",
        "\n",
        "- we will create new training set by concatenating 784 white noise dimensions to the existing 784 dimensions of the data\n",
        "- we will also create an equivalent dataset by concatenating 784 all-zeros dimensions\n",
        "- concatenation of meaningless features does not at all affect the information content of the data\n",
        "- human classification accuracy wouldn't be affected by these transformations at all\n"
      ]
    },
    {
      "cell_type": "code",
      "execution_count": 4,
      "metadata": {
        "id": "P9arjPLyHskK"
      },
      "outputs": [],
      "source": [
        "from tensorflow.keras.datasets import mnist\n",
        "import numpy as np\n",
        "\n",
        "(train_images, train_labels), _ = mnist.load_data()\n",
        "train_images = train_images.reshape((60000, 28 * 28))\n",
        "train_images = train_images.astype(\"float32\") / 255\n",
        "\n",
        "train_images_with_noise_channels = np.concatenate( # add 784 features that are pure noise\n",
        "    [train_images, np.random.random((len(train_images), 784))], axis=1)\n",
        "\n",
        "train_images_with_zeros_channels = np.concatenate( # add 784 features that are all-zeros\n",
        "    [train_images, np.zeros((len(train_images), 784))], axis=1)"
      ]
    },
    {
      "cell_type": "markdown",
      "metadata": {
        "id": "HrfHwiGsHskL"
      },
      "source": [
        "**Training the same model on MNIST data with noise channels or all-zero channels**"
      ]
    },
    {
      "cell_type": "code",
      "execution_count": 5,
      "metadata": {
        "id": "7yfw7e5rHskL",
        "colab": {
          "base_uri": "https://localhost:8080/",
          "height": 0
        },
        "outputId": "3b9dab6f-3928-40ed-f95c-818ccc41e299"
      },
      "outputs": [
        {
          "output_type": "stream",
          "name": "stdout",
          "text": [
            "Epoch 1/10\n",
            "375/375 [==============================] - 8s 19ms/step - loss: 0.6128 - accuracy: 0.8105 - val_loss: 0.3098 - val_accuracy: 0.9064\n",
            "Epoch 2/10\n",
            "375/375 [==============================] - 6s 17ms/step - loss: 0.2537 - accuracy: 0.9210 - val_loss: 0.2237 - val_accuracy: 0.9277\n",
            "Epoch 3/10\n",
            "375/375 [==============================] - 7s 19ms/step - loss: 0.1640 - accuracy: 0.9493 - val_loss: 0.1750 - val_accuracy: 0.9493\n",
            "Epoch 4/10\n",
            "375/375 [==============================] - 6s 17ms/step - loss: 0.1184 - accuracy: 0.9634 - val_loss: 0.1351 - val_accuracy: 0.9622\n",
            "Epoch 5/10\n",
            "375/375 [==============================] - 7s 19ms/step - loss: 0.0865 - accuracy: 0.9726 - val_loss: 0.1215 - val_accuracy: 0.9642\n",
            "Epoch 6/10\n",
            "375/375 [==============================] - 6s 16ms/step - loss: 0.0652 - accuracy: 0.9797 - val_loss: 0.1308 - val_accuracy: 0.9626\n",
            "Epoch 7/10\n",
            "375/375 [==============================] - 7s 19ms/step - loss: 0.0487 - accuracy: 0.9849 - val_loss: 0.1345 - val_accuracy: 0.9625\n",
            "Epoch 8/10\n",
            "375/375 [==============================] - 6s 16ms/step - loss: 0.0341 - accuracy: 0.9892 - val_loss: 0.1178 - val_accuracy: 0.9677\n",
            "Epoch 9/10\n",
            "375/375 [==============================] - 7s 19ms/step - loss: 0.0252 - accuracy: 0.9921 - val_loss: 0.1263 - val_accuracy: 0.9663\n",
            "Epoch 10/10\n",
            "375/375 [==============================] - 6s 16ms/step - loss: 0.0192 - accuracy: 0.9943 - val_loss: 0.1157 - val_accuracy: 0.9714\n",
            "Epoch 1/10\n",
            "375/375 [==============================] - 8s 20ms/step - loss: 0.2962 - accuracy: 0.9154 - val_loss: 0.1551 - val_accuracy: 0.9549\n",
            "Epoch 2/10\n",
            "375/375 [==============================] - 7s 18ms/step - loss: 0.1234 - accuracy: 0.9633 - val_loss: 0.1068 - val_accuracy: 0.9688\n",
            "Epoch 3/10\n",
            "375/375 [==============================] - 7s 19ms/step - loss: 0.0794 - accuracy: 0.9762 - val_loss: 0.0881 - val_accuracy: 0.9740\n",
            "Epoch 4/10\n",
            "375/375 [==============================] - 7s 20ms/step - loss: 0.0580 - accuracy: 0.9823 - val_loss: 0.0829 - val_accuracy: 0.9760\n",
            "Epoch 5/10\n",
            "375/375 [==============================] - 6s 16ms/step - loss: 0.0422 - accuracy: 0.9878 - val_loss: 0.0842 - val_accuracy: 0.9754\n",
            "Epoch 6/10\n",
            "375/375 [==============================] - 9s 23ms/step - loss: 0.0317 - accuracy: 0.9905 - val_loss: 0.0821 - val_accuracy: 0.9762\n",
            "Epoch 7/10\n",
            "375/375 [==============================] - 6s 16ms/step - loss: 0.0237 - accuracy: 0.9934 - val_loss: 0.0781 - val_accuracy: 0.9780\n",
            "Epoch 8/10\n",
            "375/375 [==============================] - 7s 19ms/step - loss: 0.0185 - accuracy: 0.9949 - val_loss: 0.0755 - val_accuracy: 0.9786\n",
            "Epoch 9/10\n",
            "375/375 [==============================] - 6s 16ms/step - loss: 0.0138 - accuracy: 0.9963 - val_loss: 0.0794 - val_accuracy: 0.9777\n",
            "Epoch 10/10\n",
            "375/375 [==============================] - 8s 23ms/step - loss: 0.0099 - accuracy: 0.9979 - val_loss: 0.0744 - val_accuracy: 0.9806\n"
          ]
        }
      ],
      "source": [
        "from tensorflow import keras\n",
        "from tensorflow.keras import layers\n",
        "\n",
        "def get_model():\n",
        "    model = keras.Sequential([\n",
        "        layers.Dense(512, activation=\"relu\"),\n",
        "        layers.Dense(10, activation=\"softmax\")\n",
        "    ])\n",
        "    model.compile(optimizer=\"rmsprop\",\n",
        "                  loss=\"sparse_categorical_crossentropy\",\n",
        "                  metrics=[\"accuracy\"])\n",
        "    return model\n",
        "\n",
        "model = get_model()\n",
        "history_noise = model.fit(\n",
        "    train_images_with_noise_channels, train_labels,\n",
        "    epochs=10,\n",
        "    batch_size=128,\n",
        "    validation_split=0.2) # use first 80% as training, rest 20% as validation\n",
        "\n",
        "model = get_model()\n",
        "history_zeros = model.fit(\n",
        "    train_images_with_zeros_channels, train_labels,\n",
        "    epochs=10,\n",
        "    batch_size=128,\n",
        "    validation_split=0.2)"
      ]
    },
    {
      "cell_type": "markdown",
      "metadata": {
        "id": "aFDz3HEFHskL"
      },
      "source": [
        "**Plotting a validation accuracy comparison**"
      ]
    },
    {
      "cell_type": "code",
      "execution_count": 7,
      "metadata": {
        "id": "3tkVf8EFHskM",
        "colab": {
          "base_uri": "https://localhost:8080/",
          "height": 490
        },
        "outputId": "bc4002d4-130a-4d93-a5b8-6c4682cdcb8a"
      },
      "outputs": [
        {
          "output_type": "execute_result",
          "data": {
            "text/plain": [
              "<matplotlib.legend.Legend at 0x7889c949ef50>"
            ]
          },
          "metadata": {},
          "execution_count": 7
        },
        {
          "output_type": "display_data",
          "data": {
            "text/plain": [
              "<Figure size 640x480 with 1 Axes>"
            ],
            "image/png": "[encoded data removed]"
          },
          "metadata": {}
        }
      ],
      "source": [
        "import matplotlib.pyplot as plt\n",
        "val_acc_noise = history_noise.history[\"val_accuracy\"]\n",
        "val_acc_zeros = history_zeros.history[\"val_accuracy\"]\n",
        "epochs = range(1, 11)\n",
        "plt.plot(epochs, val_acc_noise, \"b-\",\n",
        "         label=\"Validation accuracy with noise channels\")\n",
        "plt.plot(epochs, val_acc_zeros, \"b--\",\n",
        "         label=\"Validation accuracy with zeros channels\")\n",
        "plt.title(\"Effect of noise channels on validation accuracy\")\n",
        "plt.xlabel(\"Epochs\")\n",
        "plt.ylabel(\"Accuracy\")\n",
        "plt.legend()"
      ]
    },
    {
      "cell_type": "markdown",
      "metadata": {
        "id": "IyTLraN6HskM"
      },
      "source": [
        "## The nature of generalization in deep learning\n",
        "\n",
        "- deep learning models can be trained to fit anything, as long as they have enough representational power\n",
        "- we will look at this \"universal approximation\" property later on in the course\n",
        "- for now we will see a particular manifestation of this power\n",
        "- 我们 shuffle the MNIST labels 然后基于这个乱七八糟的数据集来训练一个模型. 现在 inputs 和 shuffled labels 之间没有任何关系了.\n",
        "- 即便如此, 并且即使模型相对较小, training loss 也会 decrease over time\n",
        "- 但是自然地, the validation loss 不会随着 training loss 有任何改进."
      ]
    },
    {
      "cell_type": "markdown",
      "metadata": {
        "id": "eAVl3OYiHskM"
      },
      "source": [
        "#### **Fitting a MNIST model with randomly shuffled labels**"
      ]
    },
    {
      "cell_type": "code",
      "execution_count": 9,
      "metadata": {
        "id": "vnLwoi5dHskM",
        "colab": {
          "base_uri": "https://localhost:8080/",
          "height": 0
        },
        "outputId": "fae13184-0be6-43ba-ca2f-11de7408f465"
      },
      "outputs": [
        {
          "output_type": "stream",
          "name": "stdout",
          "text": [
            "Epoch 1/10\n",
            "375/375 [==============================] - 10s 23ms/step - loss: 2.3166 - accuracy: 0.1044 - val_loss: 2.3051 - val_accuracy: 0.1076\n",
            "Epoch 2/10\n",
            "375/375 [==============================] - 8s 21ms/step - loss: 2.2993 - accuracy: 0.1174 - val_loss: 2.3114 - val_accuracy: 0.1052\n",
            "Epoch 3/10\n",
            "375/375 [==============================] - 5s 12ms/step - loss: 2.2921 - accuracy: 0.1269 - val_loss: 2.3135 - val_accuracy: 0.1024\n",
            "Epoch 4/10\n",
            "375/375 [==============================] - 7s 18ms/step - loss: 2.2801 - accuracy: 0.1386 - val_loss: 2.3263 - val_accuracy: 0.1007\n",
            "Epoch 5/10\n",
            "375/375 [==============================] - 4s 12ms/step - loss: 2.2648 - accuracy: 0.1501 - val_loss: 2.3315 - val_accuracy: 0.1078\n",
            "Epoch 6/10\n",
            "375/375 [==============================] - 7s 17ms/step - loss: 2.2448 - accuracy: 0.1653 - val_loss: 2.3474 - val_accuracy: 0.1028\n",
            "Epoch 7/10\n",
            "375/375 [==============================] - 8s 20ms/step - loss: 2.2217 - accuracy: 0.1811 - val_loss: 2.3622 - val_accuracy: 0.1011\n",
            "Epoch 8/10\n",
            "375/375 [==============================] - 7s 20ms/step - loss: 2.1946 - accuracy: 0.1983 - val_loss: 2.3764 - val_accuracy: 0.1057\n",
            "Epoch 9/10\n",
            "375/375 [==============================] - 5s 15ms/step - loss: 2.1643 - accuracy: 0.2136 - val_loss: 2.3947 - val_accuracy: 0.1093\n",
            "Epoch 10/10\n",
            "375/375 [==============================] - 5s 14ms/step - loss: 2.1312 - accuracy: 0.2321 - val_loss: 2.4179 - val_accuracy: 0.1057\n"
          ]
        },
        {
          "output_type": "execute_result",
          "data": {
            "text/plain": [
              "<keras.src.callbacks.History at 0x7889ca1ebf70>"
            ]
          },
          "metadata": {},
          "execution_count": 9
        }
      ],
      "source": [
        "(train_images, train_labels), _ = mnist.load_data()\n",
        "train_images = train_images.reshape((60000, 28 * 28))\n",
        "train_images = train_images.astype(\"float32\") / 255\n",
        "\n",
        "random_train_labels = train_labels[:]\n",
        "np.random.shuffle(random_train_labels)\n",
        "\n",
        "model = keras.Sequential([\n",
        "    layers.Dense(512, activation=\"relu\"),\n",
        "    layers.Dense(10, activation=\"softmax\")\n",
        "])\n",
        "model.compile(optimizer=\"rmsprop\",\n",
        "              loss=\"sparse_categorical_crossentropy\",\n",
        "              metrics=[\"accuracy\"])\n",
        "model.fit(train_images, random_train_labels,\n",
        "          epochs=10,                         # increasing this will further increase the gap between training and validation accuracies\n",
        "          batch_size=128,\n",
        "          validation_split=0.2)"
      ]
    },
    {
      "cell_type": "markdown",
      "metadata": {
        "id": "qj0fzVrUHskN"
      },
      "source": [
        "### The manifold hypothesis(流形假设): deep learning 生效的根本原因\n",
        "\n",
        "首先 manifold 的定义:(非严谨, 严谨定义参照 manifolds)\n",
        "A \"manifold\" is a lower-dimensional subspace of some parent space that is locally similar to a linear (Euclidean) space.\n",
        "\n",
        "例如: a smooth curve in the plane is a 1D manifold within a 2D space, because for every point of the curve, you can draw a tangent. 又例如 a smooth surface within a 3D space is a 2D manifold\n",
        "\n",
        "我们看到 MNIST 数据集.\n",
        "- The space of 28 x 28 images with integer pixel values between 0 and 255 是一个比较大的 space, 而 MNIST samples 中的 handwritten digits 则是它的一个 tiny subspace.\n",
        "\n",
        "- 这个 subspace 是 highly structured 的:\n",
        "  - 它是 continuous 的: if you take a sample and modify it a little, it will still be recognizable as the same handwritten digit.\n",
        "  - **这个 subspace 中的所有 samples 都是 connected by smooth paths that run through the subspace.** 即: 任取两个 random MNIST digits A and B, 都存在一系列的 “intermediate” images that morph A into B.\n",
        "\n",
        "- 因而我们称: handwritten digits form a **manifold** within the space of possible 28 × 28 `uint8` arrays\n",
        "\n",
        "<img src=\"https://github.com/ambujtewari/stats315-winter2022/raw/main/images/MNIST_morphing.png\" width=\"500\">"
      ]
    },
    {
      "cell_type": "markdown",
      "source": [
        "#### The manifold hypothesis 的具体内容: All natural data lies on a low-dimensional manifold within the high-dimensional space where it is encoded.\n",
        "\n",
        "这是一个关于这个世界的信息结构的一个非常强的 statement. 并且我们认为这是 accurate 的, and it's the reason why deep learning works\n",
        "  - MNIST digits\n",
        "  - human faces\n",
        "  - tree morphology\n",
        "  - sounds of the human voice\n",
        "  - natural language\n",
        "\n",
        "The manifold hypothesis implies:\n",
        "- Machine learning models 只能把 relatively simple, low-dimensional, highly structured subspaces 给 fit 进它们的 potential input space (latent manifolds).\n",
        "- 我们总是能够 *interpolate* between two inputs, that is to say, morph one into another via a continuous path along which all points fall on the manifold.\n",
        "- The ability to interpolate between samples is the key to understanding generalization in deep learning.\n",
        "\n",
        "`begin side note`\n",
        "\n",
        "(*) it is natural to wonder what is the empirical evidence in favor of the manifold hypothesis. there is theoretical work on testing the manifold hypothesis:\n",
        "\n",
        "[Testing the Manifold Hypothesis](https://arxiv.org/abs/1310.0425) by Charles Fefferman, Sanjoy Mitter, Hariharan Narayanan\n",
        "\n",
        "but don't know if anyone has actually tested the hypothesis on empirical data. possible undergraduate thesis topic here?\n",
        "\n",
        "`end side note`"
      ],
      "metadata": {
        "id": "t9Wbw07Zjis2"
      }
    },
    {
      "cell_type": "markdown",
      "metadata": {
        "id": "DcUmwSPTHskN"
      },
      "source": [
        "#### Interpolation(插值) as a source of generalization\n",
        "\n",
        "- if you have data points that can be interpolated, you can start making sense of points you've never seen before\n",
        "- you can relate new points to other points that lie close on the manifold\n",
        "- you can make sense of the totality of the space using only a sample of the space\n",
        "- you can use interpolation to fill in the blanks\n",
        "- interpolation on the latent manifold is different from linear interpolation in the parent space\n",
        "\n",
        "<img src=\"https://github.com/ambujtewari/stats315-winter2022/raw/main/images/manifold_interpolation.png\" width=\"500\">"
      ]
    },
    {
      "cell_type": "markdown",
      "metadata": {
        "id": "WZ78kQ9PHskN"
      },
      "source": [
        "#### Why deep learning works: fit 和 overfit 的形象化\n",
        "\n",
        "<img src=\"https://github.com/ambujtewari/stats315-winter2022/raw/main/images/why_deep_learning_works.png\" height=\"500\">"
      ]
    },
    {
      "cell_type": "markdown",
      "metadata": {
        "id": "KBJUpYhKHskN"
      },
      "source": [
        "#### Training data is paramount\n",
        "\n",
        "<img src=\"https://github.com/ambujtewari/stats315-winter2022/raw/main/images/training_data_paramount.png\" height=\"300\">\n",
        "\n",
        "- suppose getting more data isn't possible\n",
        "- the next best solution is to control model complexity\n",
        "- or to add constraints on the smoothness of the model curve\n",
        "- the process of fighting overfitting this way is called *regularization*\n",
        "- we will review regularization techniques soon\n",
        "- before you can start tweaking your model to help it generalize better, you'll need a way to assess how your model is currently doing\n",
        "- therefore we next look at _model evaluation_"
      ]
    },
    {
      "cell_type": "markdown",
      "metadata": {
        "id": "r4k2gfjAHskO"
      },
      "source": [
        "## Evaluating machine-learning models"
      ]
    },
    {
      "cell_type": "markdown",
      "metadata": {
        "id": "ul2JrZHMHskO"
      },
      "source": [
        "### Training, validation, and test sets\n",
        "\n",
        "\n",
        "- evaluating a model always boils down to splitting the available data into three sets: training, validation, and test\n",
        "- train on the training data and evaluate your model on the validation data\n",
        "- once your model is ready for prime time, you test it one final time on the test data, which is meant to be as similar as possible to production data\n",
        "- then you can deploy the model in production\n",
        "\n",
        "_Why not have two sets: a training set and a test set? You’d train on the training data and evaluate on the test data. Much simpler!_\n",
        "\n",
        "- developing a model always involves tuning its configuration:\n",
        "  - choosing the number of layers\n",
        "  - the size of the layers\n",
        "- these are called *hyperparameters* to distinguish them from the parameters (which are the network’s weights)\n",
        "- this tuning is done by using as a feedback signal the performance of the model on the validation data"
      ]
    },
    {
      "cell_type": "markdown",
      "metadata": {
        "id": "3t2jD0e1HskO"
      },
      "source": [
        "#### Simple hold-out validation\n",
        "\n",
        "<img src=\"https://github.com/ambujtewari/stats315-winter2022/raw/main/images/holdout_validation.png\" width=\"500\">"
      ]
    },
    {
      "cell_type": "markdown",
      "metadata": {
        "id": "E2KtzE85HskO"
      },
      "source": [
        "#### K-fold validation\n",
        "\n",
        "<img src=\"https://github.com/ambujtewari/stats315-winter2022/raw/main/images/K-fold_validation.png\" width=\"600\">"
      ]
    },
    {
      "cell_type": "markdown",
      "metadata": {
        "id": "SGHXUaDfHskO"
      },
      "source": [
        "#### Iterated K-fold validation with shuffling\n",
        "\n",
        "- this is for situations in which you have relatively little data available and you need to evaluate your model as precisely as possible\n",
        "- consists of applying K-fold validation multiple times\n",
        "- shuffle the data every time before splitting it `K` ways\n",
        "- final score is the average of the scores obtained at each run of K-fold validation\n",
        "- you end up training and evaluating `P * K` models (where `P` is the number of iterations you use), which can be very expensive."
      ]
    },
    {
      "cell_type": "markdown",
      "metadata": {
        "id": "LnoZjvEoHskO"
      },
      "source": [
        "### Beating a common-sense baseline\n",
        "\n",
        "Important to ensure yor trained network is doing better than some simple baseline\n",
        "\n",
        "- in the MNIST digit-classification example, a simple baseline would be a validation accuracy greater than 0.1 (random classifier)\n",
        "- in the IMDB example, it would be a validation accuracy greater than 0.5\n",
        "- **class imbalance**: you have a binary classification problem where 90% of samples belong to class A and 10% belong to class B\n",
        "  - a classifier that always predicts A already achieves 0.9 in validation accuracy\n",
        "  - you’ll need to do better than that"
      ]
    }
  ],
  "metadata": {
    "colab": {
      "provenance": [],
      "toc_visible": true
    },
    "kernelspec": {
      "display_name": "Python 3",
      "language": "python",
      "name": "python3"
    },
    "language_info": {
      "codemirror_mode": {
        "name": "ipython",
        "version": 3
      },
      "file_extension": ".py",
      "mimetype": "text/x-python",
      "name": "python",
      "nbconvert_exporter": "python",
      "pygments_lexer": "ipython3",
      "version": "3.7.0"
    }
  },
  "nbformat": 4,
  "nbformat_minor": 0
}