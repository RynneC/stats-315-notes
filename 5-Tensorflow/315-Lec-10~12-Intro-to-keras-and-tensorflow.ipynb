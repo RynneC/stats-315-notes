{
  "cells": [
    {
      "cell_type": "markdown",
      "metadata": {
        "id": "MhIU9gBro-7S"
      },
      "source": [
        "**Notebook credit**: based on the F. Chollet's original notebook [here](https://github.com/fchollet/deep-learning-with-python-notebooks/blob/master/chapter03_introduction-to-keras-and-tf.ipynb)."
      ]
    },
    {
      "cell_type": "markdown",
      "metadata": {
        "id": "TYRiFDWLoPv2"
      },
      "source": [
        "# Introduction to Keras and TensorFlow"
      ]
    },
    {
      "cell_type": "markdown",
      "metadata": {
        "id": "8kiYnjerqz7q"
      },
      "source": [
        "## Numpy, Matplotlib, Scikit-learn, TensorFlow 和 Keras 的关系\n",
        "- 1. [Python](https://www.python.org/) 是一个 interpreted high-level general-purpose programming language.\n",
        "- 2. [NumPy](https://numpy.org/) 是一个 Python library, 用于 manipulate 高维度数组和矩阵 (用于 numerical computing).\n",
        "- 3. [Matplotlib](https://matplotlib.org/) 是一个 Python library, 用于绘图像, 和 numpy 很适配. **它的一个 module `pyplot` 提供了一个和 MATLAB 很像的 interface.**\n",
        "- 4. [Scikit-learn](https://scikit-learn.org/) 是一个**建立在 numpy 和 Matplotlib 之上的 Python library.** This is the main library for **machine learning**, 尤其是并不基于神经网络的 ML(也就是说和深度学习关系不大).\n",
        "- 5. [TensorFlow](https://www.tensorflow.org/) 是一个由 google 研发的 Python library, 用以研发 deep learning models on CPUs, GPUs, and TPUs. TF2 was released in 2019.\n",
        "- 6. [Keras](https://keras.io/) 是一个 **built on top of TensorFlow** 的 Python library. 它(1) 提供 consistent & simple APIs, (2) 最大程度地简化了 common use cases, 并且(3) 提供了清晰的 actionable error messages. \\\\\n",
        "Keras 的作者名叫 Francois Chollet, 他也是 *Deep Learning with Python* 的作者.\n",
        "\n",
        "\n"
      ]
    },
    {
      "cell_type": "markdown",
      "metadata": {
        "id": "GRZBeVwkoPv3"
      },
      "source": [
        "## TensorFlow 比起 numpy 有什么优势\n",
        "\n",
        "Like NumPy, TF's main purpose is to enable engineers/researchers to manipulate numerical tensors. But TensorFlow goes far beyond the scope of NumPy:\n",
        "\n",
        "\\\\TensorFlow 比起 Numpy 好在这些地方.\n",
        "\n",
        "- 1. 不用手算梯度, 可以**自动计算任何 differentiable expression 的 gradient**, 非常适合 machine learning.\n",
        "- 2. 不仅可以在 CPU 上运行, 还可以在 GPUs 和 TPUs 这两个 highly parallel hardware accelerators 上运行, 跑大模型更快.\n",
        "- 3. Computation defined in TensorFlow 可轻松地分布在多台机器上, 这样就可以分工计算, 速度会快很多.\n",
        "- 4. TensorFlow programs 可以被 **exported to other runtimes**, 比如 C++, JavaScript (for browser-based applications), or TensorFlow Lite (for applications running on mobile devices or embedded devices), etc. 因而 TensorFlow applications 更容易投入实际应用.\n",
        "\n",
        "TF 不仅仅是一个 library, 而且是 ecosystem. \\\\\n",
        "For example, there is:\n",
        "- TF-Agents for reinforcement learning research\n",
        "- TensorFlow Hub for pretrained models\n",
        "- TensorFlow Quantum for quantum machine learning"
      ]
    },
    {
      "cell_type": "markdown",
      "metadata": {
        "id": "6bn7FF4moPv3"
      },
      "source": [
        "## Keras 是什么\n",
        "\n",
        "<img src=\"https://github.com/ambujtewari/stats315-winter2022/raw/main/images/keras_and_tf.png\" alt=\"picture\" width=\"800\">"
      ]
    },
    {
      "cell_type": "markdown",
      "metadata": {
        "id": "JO50Df0joPv4"
      },
      "source": [
        "## Keras and TensorFlow 的发展历史 history\n",
        "\n",
        "- Keras first released March 2015\n",
        "- TF first released November 2015\n",
        "- Keras originally built on top of Theano, a precursor of TF\n",
        "- In late 2015, Keras refactored to allow multiple backend: Theano or TF\n",
        "- In 2017, CNTK (Microsoft) and MXNet (Amazon) were added as backends\n",
        "- 2016-2017: Keras becomes well-known as a user-friendly way to develop TF applications\n",
        "- By late 2017, majority of TF users are using Kera\n",
        "- In 2018, TF leadership decides to pick Keras as TF's official high-level API\n",
        "- Keras API is front and center in TensorFlow 2.0, released in September 2019\n",
        "\n",
        "\n",
        "Nowadays, both Theano and CNTK are out of development, and MXNet is not widely used outside of Amazon. Keras is back to being a single-backend API—on top of TensorFlow."
      ]
    },
    {
      "cell_type": "markdown",
      "metadata": {
        "id": "k_o7WyoLoPv4"
      },
      "source": [
        "## 如何 set up deep-learning workspace\n",
        "\n",
        "最好有一个 modern NVIDIA GPU, 在 GPU 上跑. 因为比 CPU 快 5x-10x 倍. 而且 CPU 有些应用跑得非常慢.\n",
        "\n",
        "为了用 GPU 做 DL, 有三个选项\n",
        "1. Buy and install a physical NVIDIA GPU on your workstation.\n",
        "2. Use GPU instances on Google Cloud or AWS EC2.\n",
        "3. Use the free GPU runtime from Colaboratory (Colab), a hosted notebook service offered by Google\n",
        "\n",
        "In 315, we will use option no. 3.\n",
        "\n",
        "- 不用配置环境\n",
        "- 不用买硬件\n",
        "- Colab 只对 small workloads 免费, 恰好我们是 small workloads."
      ]
    },
    {
      "cell_type": "markdown",
      "metadata": {
        "id": "tB9_iEEZoPv4"
      },
      "source": [
        "### Jupyter notebooks 为什么是 DL exvironment 的 preferred way\n",
        "\n",
        "- 1. They’re widely used in the data science and machine learning communities.\n",
        "- 2. 同时可以运行 Python, R 和 Julia, 并支持丰富的 md, html 文本编辑.\n",
        "- 3. 把 long experiments 切分为可以独立运行的 smaller pieces, 以至于\n",
        "  - makes development interactive\n",
        "  - 如果有东西错误了, 不需要 rerun all previous code.\n",
        "\n",
        "\n",
        "> (\"Jupyter\" 名字的来源: The name “Jupyter” is a strong reference to Galileo, who detailed his discovery of the Moons of Jupiter in his astronomical notebooks. The name is also a play on the languages Julia, Python, and R, which are pillars of the modern scientific world. [source](https://blog.jupyter.org/i-python-you-r-we-julia-baf064ca1fb6))\n",
        "\n"
      ]
    },
    {
      "cell_type": "markdown",
      "metadata": {
        "id": "WAv41tgSoPv5"
      },
      "source": [
        "### 如何使用 Colaboratory"
      ]
    },
    {
      "cell_type": "markdown",
      "metadata": {
        "id": "ZKzpdcK0oPv5"
      },
      "source": [
        "#### Shift+Enter 运行 Code / 渲染 Text\n",
        "\n",
        "- Code cells: Shift+Enter will execute them\n",
        "- Text cells: Shift+Enter will render them. Can use [markdown and HTML](https://jupyter-notebook.readthedocs.io/en/stable/examples/Notebook/Working%20With%20Markdown%20Cells.html). Plus you can use LaTeX to typeset equations like $e^{i \\pi} + 1 = 0$"
      ]
    },
    {
      "cell_type": "markdown",
      "metadata": {
        "id": "zZ26qzY4oPv6"
      },
      "source": [
        "#### 在 Code 块用 !pip 起头, 在线安装额外的 library(一次性使用)\n",
        "\n",
        "Colab has many packages including TensorFlow and Keras. A command in a code cell that begins with an exclamation mark passes the command to the shell."
      ]
    },
    {
      "cell_type": "code",
      "execution_count": 1,
      "metadata": {
        "colab": {
          "base_uri": "https://localhost:8080/"
        },
        "id": "QnVpX5-pZ1-L",
        "outputId": "cfe86b03-b5a4-45a0-bd84-4b0367471194"
      },
      "outputs": [
        {
          "name": "stdout",
          "output_type": "stream",
          "text": [
            "keras                            2.15.0                /usr/local/lib/python3.10/dist-packages pip\n",
            "tensorflow                       2.15.0                /usr/local/lib/python3.10/dist-packages pip\n",
            "tensorflow-datasets              4.9.4                 /usr/local/lib/python3.10/dist-packages pip\n",
            "tensorflow-estimator             2.15.0                /usr/local/lib/python3.10/dist-packages pip\n",
            "tensorflow-gcs-config            2.15.0                /usr/local/lib/python3.10/dist-packages pip\n",
            "tensorflow-hub                   0.16.1                /usr/local/lib/python3.10/dist-packages pip\n",
            "tensorflow-io-gcs-filesystem     0.36.0                /usr/local/lib/python3.10/dist-packages pip\n",
            "tensorflow-metadata              1.14.0                /usr/local/lib/python3.10/dist-packages pip\n",
            "tensorflow-probability           0.23.0                /usr/local/lib/python3.10/dist-packages pip\n",
            "tf-keras                         2.15.0                /usr/local/lib/python3.10/dist-packages pip\n"
          ]
        }
      ],
      "source": [
        "!pip list -v | grep \"keras\\|tensorflow\""
      ]
    },
    {
      "cell_type": "markdown",
      "metadata": {
        "id": "u5SHDAh8ai7x"
      },
      "source": [
        "If a package you need isn't installed you can install it using\n",
        "```\n",
        "!pip install <package-name>\n",
        "```\n",
        "but note that the installation will have to be repeated each time the notebook is run."
      ]
    },
    {
      "cell_type": "markdown",
      "metadata": {
        "id": "A0wg3xv5oPv9"
      },
      "source": [
        "#### 使用 GPU 跑代码\n",
        "\n",
        "To use the GPU runtime with Colab, select `Runtime > Change Runtime Type` in the menu and select GPU for the Hardware Accelerator"
      ]
    },
    {
      "cell_type": "code",
      "execution_count": 2,
      "metadata": {
        "colab": {
          "base_uri": "https://localhost:8080/"
        },
        "id": "BVJsqzVk6j4T",
        "outputId": "f710a4dc-31be-4acd-b317-beca153750cc"
      },
      "outputs": [
        {
          "name": "stdout",
          "output_type": "stream",
          "text": [
            "Num GPUs Available:  1\n"
          ]
        },
        {
          "data": {
            "text/plain": [
              "PhysicalDevice(name='/physical_device:GPU:0', device_type='GPU')"
            ]
          },
          "execution_count": 2,
          "metadata": {},
          "output_type": "execute_result"
        }
      ],
      "source": [
        "import tensorflow as tf\n",
        "print(\"Num GPUs Available: \", len(tf.config.list_physical_devices('GPU')))\n",
        "GPUs = tf.config.list_physical_devices('GPU')\n",
        "gpu = [GPU for GPU in GPUs]\n",
        "gpu[0]"
      ]
    },
    {
      "cell_type": "markdown",
      "metadata": {
        "id": "Xuld6yLBoPv-"
      },
      "source": [
        "## TensorFlow 和 Keras 的 training 的关键成分\n",
        "\n",
        "Training a neural network revolves around the following concepts:\n",
        "\n",
        "First, low-level tensor manipulations which translate to TensorFlow APIs:\n",
        "- *Tensors*, including special tensors that store the network’s state (variables)\n",
        "- *Tensor operations* such as addition, `relu`, `matmul`\n",
        "- *Backpropagation*, a way to compute the gradient of mathematical expressions (handled in TensorFlow via the `GradientTape` object)\n",
        "\n",
        "Second, high-level deep learning concepts which translate to Keras APIs:\n",
        "- *Layers*, which are combined into a *model*\n",
        "- A *loss function*, which is used by the optimizer to assess how good a model is\n",
        "- An *optimizer*, which determines how learning proceeds\n",
        "- *Metrics* to evaluate model performance, such as accuracy\n",
        "- A *training loop* that performs mini-batch stochastic gradient descent"
      ]
    },
    {
      "cell_type": "markdown",
      "metadata": {
        "id": "lZEBqulloPv-"
      },
      "source": [
        "## Constant tensors"
      ]
    },
    {
      "cell_type": "markdown",
      "metadata": {
        "id": "Y9gImRXMoPv-"
      },
      "source": [
        "#### 创建全0和全1 tensors**"
      ]
    },
    {
      "cell_type": "code",
      "execution_count": 3,
      "metadata": {
        "colab": {
          "base_uri": "https://localhost:8080/"
        },
        "id": "GpYd9w9ioPv_",
        "outputId": "1a2fd94c-a197-4ddb-832c-401a9b104f65"
      },
      "outputs": [
        {
          "name": "stdout",
          "output_type": "stream",
          "text": [
            "tf.Tensor(\n",
            "[[1. 1. 1.]\n",
            " [1. 1. 1.]], shape=(2, 3), dtype=float32)\n"
          ]
        }
      ],
      "source": [
        "x = tf.ones(shape=(2, 3)) # NumPy equivalent: np.ones(shape=(2, 3))\n",
        "print(x)"
      ]
    },
    {
      "cell_type": "code",
      "execution_count": 4,
      "metadata": {
        "colab": {
          "base_uri": "https://localhost:8080/"
        },
        "id": "6D7Uu0GIoPwA",
        "outputId": "435843a1-acb7-4e88-ab50-32382ffd142e"
      },
      "outputs": [
        {
          "name": "stdout",
          "output_type": "stream",
          "text": [
            "tf.Tensor(\n",
            "[[0.]\n",
            " [0.]], shape=(2, 1), dtype=float32)\n"
          ]
        }
      ],
      "source": [
        "x = tf.zeros(shape=(2, 1)) # NumPy equivalent: np.zeros(shape=(2, 1))\n",
        "print(x)"
      ]
    },
    {
      "cell_type": "markdown",
      "metadata": {
        "id": "w4gqhXOyoPwA"
      },
      "source": [
        "#### 创建**Random tensors**"
      ]
    },
    {
      "cell_type": "code",
      "execution_count": 5,
      "metadata": {
        "colab": {
          "base_uri": "https://localhost:8080/"
        },
        "id": "W0Cy91nKoPwA",
        "outputId": "f597ad47-2d56-41ec-bac4-5ec1c69c9dfb"
      },
      "outputs": [
        {
          "name": "stdout",
          "output_type": "stream",
          "text": [
            "tf.Tensor(\n",
            "[[0.17085923]\n",
            " [1.235519  ]\n",
            " [1.2031974 ]], shape=(3, 1), dtype=float32)\n"
          ]
        }
      ],
      "source": [
        "x = tf.random.normal(shape=(3, 1), mean=0., stddev=1.)\n",
        "print(x)"
      ]
    },
    {
      "cell_type": "code",
      "execution_count": 6,
      "metadata": {
        "colab": {
          "base_uri": "https://localhost:8080/"
        },
        "id": "hn2-26sSoPwB",
        "outputId": "9739c5d1-852c-42f2-c410-64784b8431d2"
      },
      "outputs": [
        {
          "name": "stdout",
          "output_type": "stream",
          "text": [
            "tf.Tensor(\n",
            "[[0.66221464]\n",
            " [0.69043124]\n",
            " [0.88149273]], shape=(3, 1), dtype=float32)\n"
          ]
        }
      ],
      "source": [
        "x = tf.random.uniform(shape=(3, 1), minval=0., maxval=1.)\n",
        "print(x)"
      ]
    },
    {
      "cell_type": "markdown",
      "metadata": {
        "id": "QhFr8xx49Asg"
      },
      "source": [
        "### 在 tensor 和 numpy array 之间转换\n",
        "\n",
        "Converting between a TensorFlow tf.Tensors and a NumPy ndarray is easy:\n",
        "\n",
        "- TensorFlow operations 会**自动转化 NumPy ndarrays 为 Tensors.**\n",
        "- NumPy operations **也会自动转化 Tensors 为 NumPy ndarrays**.\n",
        "- Tensors 可以被 explicitly 转化为 NumPy ndarrays, 通过 **`.numpy()`** method."
      ]
    },
    {
      "cell_type": "code",
      "execution_count": 7,
      "metadata": {
        "colab": {
          "base_uri": "https://localhost:8080/"
        },
        "id": "DHmr9Itk9Pfh",
        "outputId": "26ec441d-7e79-4030-ec19-edd47059b017"
      },
      "outputs": [
        {
          "name": "stdout",
          "output_type": "stream",
          "text": [
            "TensorFlow operations convert numpy arrays to Tensors automatically\n",
            "tf.Tensor(\n",
            "[[42. 42. 42.]\n",
            " [42. 42. 42.]\n",
            " [42. 42. 42.]], shape=(3, 3), dtype=float64)\n",
            "And NumPy operations convert Tensors to numpy arrays automatically\n",
            "[[43. 43. 43.]\n",
            " [43. 43. 43.]\n",
            " [43. 43. 43.]]\n",
            "The .numpy() method explicitly converts a Tensor to a numpy array\n",
            "[[42. 42. 42.]\n",
            " [42. 42. 42.]\n",
            " [42. 42. 42.]]\n"
          ]
        }
      ],
      "source": [
        "import numpy as np\n",
        "\n",
        "ndarray = np.ones([3, 3])\n",
        "\n",
        "print(\"TensorFlow operations convert numpy arrays to Tensors automatically\")\n",
        "tensor = tf.multiply(ndarray, 42)\n",
        "print(tensor)\n",
        "\n",
        "print(\"And NumPy operations convert Tensors to numpy arrays automatically\")\n",
        "print(np.add(tensor, 1))\n",
        "\n",
        "print(\"The .numpy() method explicitly converts a Tensor to a numpy array\")\n",
        "print(tensor.numpy())"
      ]
    },
    {
      "cell_type": "markdown",
      "metadata": {
        "id": "x9PtOlYToPwB"
      },
      "source": [
        "### **NumPy arrays are assignable, 但是 tensor 却不是 assignable 的.**"
      ]
    },
    {
      "cell_type": "code",
      "execution_count": 8,
      "metadata": {
        "colab": {
          "base_uri": "https://localhost:8080/"
        },
        "id": "Md2wWBtIoPwB",
        "outputId": "710e287b-500f-45d6-aebe-4afb7a6e012f"
      },
      "outputs": [
        {
          "name": "stdout",
          "output_type": "stream",
          "text": [
            "[[1. 1.]\n",
            " [1. 1.]]\n",
            "[[0. 1.]\n",
            " [1. 1.]]\n"
          ]
        }
      ],
      "source": [
        "import numpy as np\n",
        "x = np.ones(shape=(2, 2))\n",
        "print(x)\n",
        "x[0, 0] = 0.\n",
        "print(x)"
      ]
    },
    {
      "cell_type": "markdown",
      "metadata": {
        "id": "BX8ULxgx9wbO"
      },
      "source": [
        "**TensorFlow tensors are not assignable**"
      ]
    },
    {
      "cell_type": "code",
      "execution_count": 9,
      "metadata": {
        "colab": {
          "base_uri": "https://localhost:8080/"
        },
        "id": "mJAwYiJh9y-7",
        "outputId": "f6cdcd99-4c19-4ed6-8863-16bc75948bb8"
      },
      "outputs": [
        {
          "name": "stdout",
          "output_type": "stream",
          "text": [
            "'tensorflow.python.framework.ops.EagerTensor' object does not support item assignment\n"
          ]
        }
      ],
      "source": [
        "try:\n",
        "  x = tf.ones(shape=(2, 2))\n",
        "  x[0, 0] = 0\n",
        "except Exception as e:\n",
        "  print(e)"
      ]
    },
    {
      "cell_type": "markdown",
      "metadata": {
        "id": "_i5zJJk0j0WX"
      },
      "source": [
        "在 tensorflow 中, tensor 就是 constant 的. 对于变量的操作, 我们采用 tf.Variable."
      ]
    },
    {
      "cell_type": "markdown",
      "metadata": {
        "id": "nBVQbEmHoPwB"
      },
      "source": [
        "## **TensorFlow variable**"
      ]
    },
    {
      "cell_type": "markdown",
      "metadata": {
        "id": "1oONdFe9rmoQ"
      },
      "source": [
        "### 创建一个 tensorflow variable"
      ]
    },
    {
      "cell_type": "code",
      "execution_count": 10,
      "metadata": {
        "colab": {
          "base_uri": "https://localhost:8080/"
        },
        "id": "AIdTiStnoPwB",
        "outputId": "5e79a891-7f54-4123-b3b9-5c63906f0ea1"
      },
      "outputs": [
        {
          "name": "stdout",
          "output_type": "stream",
          "text": [
            "<tf.Variable 'Variable:0' shape=(3, 1) dtype=float32, numpy=\n",
            "array([[-1.1514548 ],\n",
            "       [-1.411351  ],\n",
            "       [-0.26656958]], dtype=float32)>\n"
          ]
        }
      ],
      "source": [
        "v = tf.Variable(initial_value=tf.random.normal(shape=(3, 1)))\n",
        "print(v)"
      ]
    },
    {
      "cell_type": "markdown",
      "metadata": {
        "id": "DdLQQk9aoPwC"
      },
      "source": [
        "### **给 TensorFlow variable 赋值**"
      ]
    },
    {
      "cell_type": "code",
      "execution_count": 16,
      "metadata": {
        "colab": {
          "base_uri": "https://localhost:8080/"
        },
        "id": "fcBW3xCZoPwC",
        "outputId": "71872fb4-f635-4677-f2ac-a334bf7e0b76"
      },
      "outputs": [
        {
          "data": {
            "text/plain": [
              "<tf.Variable 'UnreadVariable' shape=(3, 1) dtype=float32, numpy=\n",
              "array([[1.],\n",
              "       [1.],\n",
              "       [1.]], dtype=float32)>"
            ]
          },
          "execution_count": 16,
          "metadata": {},
          "output_type": "execute_result"
        }
      ],
      "source": [
        "v.assign(tf.ones((3, 1)))"
      ]
    },
    {
      "cell_type": "markdown",
      "metadata": {
        "id": "KTrZFGqpoPwC"
      },
      "source": [
        "### **给 TensorFlow variable 的一部分赋值**"
      ]
    },
    {
      "cell_type": "code",
      "execution_count": 17,
      "metadata": {
        "colab": {
          "base_uri": "https://localhost:8080/"
        },
        "id": "oQb7xB-FoPwC",
        "outputId": "fb4235ae-390c-41fb-b1a8-e9bbf14b5ebe"
      },
      "outputs": [
        {
          "data": {
            "text/plain": [
              "<tf.Variable 'UnreadVariable' shape=(3, 1) dtype=float32, numpy=\n",
              "array([[3.],\n",
              "       [3.],\n",
              "       [1.]], dtype=float32)>"
            ]
          },
          "execution_count": 17,
          "metadata": {},
          "output_type": "execute_result"
        }
      ],
      "source": [
        "v[0:2, 0].assign(3.)"
      ]
    },
    {
      "cell_type": "markdown",
      "metadata": {
        "id": "f8O-h1KVoPwC"
      },
      "source": [
        "#### **`assign_add`**(形状必须和本来一样)"
      ]
    },
    {
      "cell_type": "code",
      "execution_count": 21,
      "metadata": {
        "colab": {
          "base_uri": "https://localhost:8080/"
        },
        "id": "3GIvdBisoPwC",
        "outputId": "95e4c4bb-2614-4088-d399-1f29434e96e3"
      },
      "outputs": [
        {
          "data": {
            "text/plain": [
              "<tf.Variable 'UnreadVariable' shape=(3, 1) dtype=float32, numpy=\n",
              "array([[2.],\n",
              "       [2.],\n",
              "       [2.]], dtype=float32)>"
            ]
          },
          "execution_count": 21,
          "metadata": {},
          "output_type": "execute_result"
        }
      ],
      "source": [
        "v.assign(tf.ones((3, 1)))\n",
        "v.assign_add(tf.ones((3, 1)))"
      ]
    },
    {
      "cell_type": "markdown",
      "metadata": {
        "id": "HJJhIhMQ-lXq"
      },
      "source": [
        "#### **`assign_sub`** (可以对于任何形状的一部分)"
      ]
    },
    {
      "cell_type": "code",
      "execution_count": 22,
      "metadata": {
        "colab": {
          "base_uri": "https://localhost:8080/"
        },
        "id": "8jVv4CLa-lfj",
        "outputId": "45784d8d-6c44-4211-f2f2-ffdba3f60661"
      },
      "outputs": [
        {
          "data": {
            "text/plain": [
              "<tf.Variable 'UnreadVariable' shape=(3, 1) dtype=float32, numpy=\n",
              "array([[1.],\n",
              "       [1.],\n",
              "       [1.]], dtype=float32)>"
            ]
          },
          "execution_count": 22,
          "metadata": {},
          "output_type": "execute_result"
        }
      ],
      "source": [
        "v.assign_sub(tf.ones((3, 1)))"
      ]
    },
    {
      "cell_type": "markdown",
      "metadata": {
        "id": "GImF32-5oPwC"
      },
      "source": [
        "### Tensor operations\n",
        "\n",
        "Like NumPy, TensorFlow offers many math operations on tensors"
      ]
    },
    {
      "cell_type": "markdown",
      "metadata": {
        "id": "iIC6_XqLoPwD"
      },
      "source": [
        "**A few basic math operations**"
      ]
    },
    {
      "cell_type": "code",
      "execution_count": 15,
      "metadata": {
        "colab": {
          "base_uri": "https://localhost:8080/"
        },
        "id": "6CYejKWBoPwD",
        "outputId": "51fe916b-a6db-4fbe-e01a-8cec5f4da285"
      },
      "outputs": [
        {
          "name": "stdout",
          "output_type": "stream",
          "text": [
            "a=\n",
            " tf.Tensor(\n",
            "[[1. 1.]\n",
            " [1. 1.]], shape=(2, 2), dtype=float32)\n",
            "b=\n",
            " tf.Tensor(\n",
            "[[1. 1.]\n",
            " [1. 1.]], shape=(2, 2), dtype=float32)\n",
            "c=\n",
            " tf.Tensor(\n",
            "[[1. 1.]\n",
            " [1. 1.]], shape=(2, 2), dtype=float32)\n",
            "d=\n",
            " tf.Tensor(\n",
            "[[2. 2.]\n",
            " [2. 2.]], shape=(2, 2), dtype=float32)\n",
            "e=\n",
            " tf.Tensor(\n",
            "[[2. 2.]\n",
            " [2. 2.]], shape=(2, 2), dtype=float32)\n",
            "e=\n",
            " tf.Tensor(\n",
            "[[4. 4.]\n",
            " [4. 4.]], shape=(2, 2), dtype=float32)\n"
          ]
        }
      ],
      "source": [
        "a = tf.ones((2, 2))\n",
        "print(\"a=\\n\", a)\n",
        "b = tf.square(a)    # elementwise square\n",
        "print(\"b=\\n\", b)\n",
        "c = tf.sqrt(a)      # elementwise square root\n",
        "print(\"c=\\n\", c)\n",
        "d = b + c           # elementwise sum\n",
        "print(\"d=\\n\", d)\n",
        "e = tf.matmul(a, b) # matrix multiplication\n",
        "print(\"e=\\n\", e)\n",
        "e *= d              # elementwise multiplication\n",
        "print(\"e=\\n\", e)"
      ]
    },
    {
      "cell_type": "markdown",
      "metadata": {
        "id": "GoslTSOsoPwD"
      },
      "source": [
        "## The GradientTape API: 自动运算梯度\n",
        "\n",
        "API: Application Programming Interface, 用于不同软件程序之间的交互, 允许不同的软件应用程序或系统共享数据和功能，而无需开发者深入了解它们的内部工作原理."
      ]
    },
    {
      "cell_type": "markdown",
      "metadata": {
        "id": "dTuM___VAnoH"
      },
      "source": [
        "### **Backpropagation(后向传播)**"
      ]
    },
    {
      "cell_type": "markdown",
      "metadata": {
        "id": "HlguoYgWXG48"
      },
      "source": [
        "Training a model via (minibatch stochastic) gradient descent involves computing gradients of the loss function w.r.t. model parameters.\n",
        "\n",
        "比如下面这个 two dense layer architecture (之后会介绍Keras)\n",
        "\n",
        "```\n",
        "from tensorflow import keras\n",
        "from tensorflow.keras import layers\n",
        "model = keras.Sequential([\n",
        "    layers.Dense(512, activation=\"relu\"),\n",
        "    layers.Dense(10, activation=\"softmax\")\n",
        "])\n",
        "```\n",
        "\n",
        "如果使用 `W1, b1, W2, b2` 来表示这两个 layer 之间的 weights and biases, 那么 loss value 可以用下面这段代码表示:\n",
        "\n",
        "```\n",
        "loss_value = loss(y_true, softmax(dot(relu(dot(inputs, W1) + b1), W2) + b2))\n",
        "```\n",
        "\n",
        "因为这些 functions `loss`, `softmax`, `dot`(matrix multiplication) 以及 `relu` ($f(x) = max(0,x)$, derivative 在 $x>0$ 时为1, $x< 0$ 时为0, $x = 0$ 时需设置) 都是 differentiable的, 我们可以使用 _chain rule_ 来计算 derivate of `loss_value` w.r.t. model parameters.\n",
        "\n",
        "**Backpropagation** 就是使用 chain rule 计算一个 neural network 的 gradient values."
      ]
    },
    {
      "cell_type": "markdown",
      "metadata": {
        "id": "EViJLjGialPB"
      },
      "source": [
        "### **Automatic differentiation with computation graphs**\n",
        "\n",
        "Below is the computation graph of the simple two layer NN we saw above.\n",
        "\n",
        "<img src=\"https://github.com/ambujtewari/stats315-winter2022/raw/main/images/computation_graph_example.png\" alt=\"picture\" height=\"500\">\n",
        "\n",
        "- _Computation graph_ 是 TensorFlow 的一种核心 **data structure.**\n",
        "- Computation graphs 使我们可以 **_treat computation as data_**.\n",
        "- 一个 _automatic differentiation_ program 接收一个 computation graph 作为 input 并且可以自动生成这个 computation graph 所代表的 expression 的 derivative."
      ]
    },
    {
      "cell_type": "markdown",
      "metadata": {
        "id": "oxqOcGOLfmjd"
      },
      "source": [
        "Let's consider a simplified version of the above figure:\n",
        "\n",
        "<img src=\"https://github.com/ambujtewari/stats315-winter2022/raw/main/images/computation_graph_simple.png\" alt=\"picture\" height=\"400\">\n",
        "\n",
        "```\n",
        "x1 = w * x\n",
        "x2 = x1 + b\n",
        "loss_val = abs(y_true - x2)\n",
        "```\n",
        "\n",
        "- we have only one layer\n",
        "- all variables are scalars\n",
        "- we will use absolute value error: `loss_val = abs(y_true - x2)`\n",
        "- we are interested in computing `grad(loss_val, b)` and `grad(loss _val, w)`\n",
        "\n",
        "Suppose `x = 2`, `y_true = 4` and we want to evaluate the derivatives at `w = 3` and `b = 1`.\n"
      ]
    },
    {
      "cell_type": "markdown",
      "metadata": {
        "id": "oig1sWtWgmPo"
      },
      "source": [
        "Let's first do it \"by hand\".\n",
        "\n",
        "$f(w,b) = |y_{true} - (wx + b)| = |4 - (2w + b)|$\n",
        "\n",
        "**Diff. w.r.t. w**\n",
        "\n",
        "$f(w) = |4 - (2w + 1)| = g(h(H(w)))$ where $g(u) = |4-u|, h(u) = u+1, H(u) = 2u$\n",
        "\n",
        "$ \\frac{\\partial f}{\\partial w} = g'(h(H(w))) \\times h'(H(w)) \\times H'(w) = g'(7) \\times h'(6) \\times H'(3) = 1 \\times 1 \\times 2 = 2$\n",
        "\n",
        "**Diff. w.r.t. b**\n",
        "\n",
        "$f(b) = |4 - (6 + b)| = g(h(b))$ where $g(u) = |4-u|, h(u) = 6+u$\n",
        "\n",
        "$ \\frac{\\partial f}{\\partial b} = g'(h(b)) \\times h'(b) = g'(7) \\times h'(1) = 1 \\times 1 = 1$"
      ]
    },
    {
      "cell_type": "markdown",
      "metadata": {
        "id": "GtSTdvulUxed"
      },
      "source": [
        "Forward pass:\n",
        "\n",
        "```\n",
        "x1 = w * x = 3 * 2 = 6\n",
        "x2 = x1 + b = 6 + 1 = 7\n",
        "loss_val = abs(y_true - x2) = abs(4-7) = 3\n",
        "```\n",
        "\n",
        "<img src=\"https://github.com/ambujtewari/stats315-winter2022/raw/main/images/forward_pass.png\" alt=\"picture\" height=\"400\">"
      ]
    },
    {
      "cell_type": "markdown",
      "metadata": {
        "id": "zVs0BC-PW-JJ"
      },
      "source": [
        "\n",
        "Backward pass:\n",
        "\n",
        "- `grad(loss_val, x2) = 1` because $\\frac{\\partial|4-x_2|}{\\partial x_2} = 1$ at $x_2 = 7$\n",
        "- `grad(x2,x1)=1` because $\\frac{\\partial (x_1+b)}{\\partial x_1} = 1$ at $x_1 = 6$\n",
        "- `grad(x2,b)=1` because $\\frac{\\partial (x_1+b)}{\\partial b} = 1$ at $b = 1$\n",
        "- `grad(x1,w)=2` because $\\frac{\\partial (w*2)}{\\partial w} = 2$ at $w = 3$\n",
        "\n",
        "<img src=\"https://github.com/ambujtewari/stats315-winter2022/raw/main/images/backward_pass.png\" alt=\"picture\" height=\"400\">"
      ]
    },
    {
      "cell_type": "markdown",
      "metadata": {
        "id": "7sN_ABzrYcMN"
      },
      "source": [
        "`grad(loss_val,w) = grad(loss_val, x2)*grad(x2,x1)*grad(x1,w) = 1 * 1 * 2 = 2`\n",
        "\n",
        "`grad(loss_val,b) = grad(loss_val, x2)*grad(x2,b) = 1*1 = 1`\n",
        "\n",
        "<img src=\"https://github.com/ambujtewari/stats315-winter2022/raw/main/images/path_to_w.png\" alt=\"picture\" height=\"400\">"
      ]
    },
    {
      "cell_type": "markdown",
      "metadata": {
        "id": "Lpr4C-fIoPwD"
      },
      "source": [
        "### **使用`GradientTape`** 自动计算梯度\n",
        "\n"
      ]
    },
    {
      "cell_type": "code",
      "execution_count": 25,
      "metadata": {
        "colab": {
          "base_uri": "https://localhost:8080/"
        },
        "id": "Y7xSi8Gyadjr",
        "outputId": "a35419d5-4bcc-4613-8a25-a11c733f2f21"
      },
      "outputs": [
        {
          "name": "stdout",
          "output_type": "stream",
          "text": [
            "deriv of loss_val w.r.t. w =  2.0\n",
            "deriv of loss_val w.r.t. b =  1.0\n",
            "deriv of loss_val w.r.t. x1 =  1.0\n",
            "deriv of loss_val w.r.t. x2 =  1.0\n"
          ]
        }
      ],
      "source": [
        "w = tf.Variable(3.)\n",
        "b = tf.Variable(1.)\n",
        "x = tf.constant(2.)\n",
        "y_true = tf.constant(4.)\n",
        "\n",
        "with tf.GradientTape() as tape:\n",
        "  x1 = w*x\n",
        "  x2 = x1 + b\n",
        "  loss_val = tf.abs(y_true - x2)\n",
        "\n",
        "grad_w, grad_b, grad_x1, grad_x2 = tape.gradient(loss_val, [w, b, x1, x2]) # getting gradients w.r.t. both w and b\n",
        "print(\"deriv of loss_val w.r.t. w = \", grad_w.numpy())\n",
        "print(\"deriv of loss_val w.r.t. b = \", grad_b.numpy())\n",
        "print(\"deriv of loss_val w.r.t. x1 = \", grad_x1.numpy())\n",
        "print(\"deriv of loss_val w.r.t. x2 = \", grad_x2.numpy())"
      ]
    },
    {
      "cell_type": "markdown",
      "metadata": {
        "id": "qIuHlwikcZbY"
      },
      "source": [
        "$r = x^2$\n",
        "\n",
        "$\\frac{dr}{dx} = 2x = 6$ at $x=3$"
      ]
    },
    {
      "cell_type": "code",
      "execution_count": 26,
      "metadata": {
        "colab": {
          "base_uri": "https://localhost:8080/"
        },
        "id": "bTopza7boPwD",
        "outputId": "2c316a05-09f7-4d06-a892-2a570f89fa44"
      },
      "outputs": [
        {
          "name": "stdout",
          "output_type": "stream",
          "text": [
            "deriv of r w.r.t. x =  6.0\n"
          ]
        }
      ],
      "source": [
        "x = tf.Variable(3.)\n",
        "with tf.GradientTape() as tape:\n",
        "   r = tf.square(x)\n",
        "gradient = tape.gradient(r, x)\n",
        "print(\"deriv of r w.r.t. x = \", gradient.numpy())"
      ]
    },
    {
      "cell_type": "markdown",
      "metadata": {
        "id": "tajGZkbdoPwD"
      },
      "source": [
        "#### 针对 constant tensor inputs 的 `GradientTape`\n",
        "\n",
        "- **GradientTape 默认只会 track trainable _variables_**, 为了防止 wasting resources\n",
        "- 如果要使用 _constant_ tensor 作为 inputs, 需要call  `tape.watch()`"
      ]
    },
    {
      "cell_type": "code",
      "execution_count": 27,
      "metadata": {
        "colab": {
          "base_uri": "https://localhost:8080/"
        },
        "id": "3Qf3r9PhoPwD",
        "outputId": "012393bd-867d-487f-b884-d75bab3e854c"
      },
      "outputs": [
        {
          "name": "stdout",
          "output_type": "stream",
          "text": [
            "deriv of result w.r.t. input_const =  6.0\n"
          ]
        }
      ],
      "source": [
        "input_const = tf.constant(3.)\n",
        "with tf.GradientTape() as tape:\n",
        "   tape.watch(input_const)\n",
        "   result = tf.square(input_const)\n",
        "gradient = tape.gradient(result, input_const)\n",
        "print(\"deriv of result w.r.t. input_const = \", gradient.numpy())"
      ]
    },
    {
      "cell_type": "markdown",
      "metadata": {
        "id": "oJurpyqtoPwE"
      },
      "source": [
        "### An end-to-end example: A linear classifier in pure TensorFlow"
      ]
    },
    {
      "cell_type": "markdown",
      "metadata": {
        "id": "q2asERcioPwE"
      },
      "source": [
        "#### **生成两个 2-D classes of random points**"
      ]
    },
    {
      "cell_type": "code",
      "execution_count": 33,
      "metadata": {
        "id": "HcqvKL6MoPwE"
      },
      "outputs": [],
      "source": [
        "num_samples_per_class = 1000\n",
        "negative_samples = np.random.multivariate_normal(\n",
        "    mean=[0, 3],\n",
        "    cov=[[1, 0.5],[0.5, 1]],\n",
        "    size=num_samples_per_class)\n",
        "positive_samples = np.random.multivariate_normal(\n",
        "    mean=[3, 0],\n",
        "    cov=[[1, 0.5],[0.5, 1]],\n",
        "    size=num_samples_per_class)"
      ]
    },
    {
      "cell_type": "markdown",
      "metadata": {
        "id": "klap3gDboPwE"
      },
      "source": [
        "#### 通过 **np.stack** 把两个 classes 叠起来"
      ]
    },
    {
      "cell_type": "code",
      "execution_count": 34,
      "metadata": {
        "colab": {
          "base_uri": "https://localhost:8080/"
        },
        "id": "PTELfL9joPwE",
        "outputId": "1a2a440f-3f10-42a0-f8be-106e6a4551cc"
      },
      "outputs": [
        {
          "data": {
            "text/plain": [
              "(2000, 2)"
            ]
          },
          "execution_count": 34,
          "metadata": {},
          "output_type": "execute_result"
        }
      ],
      "source": [
        "inputs = np.vstack((negative_samples, positive_samples)).astype(np.float32)\n",
        "inputs.shape"
      ]
    },
    {
      "cell_type": "markdown",
      "metadata": {
        "id": "1509kksyoPwF"
      },
      "source": [
        "**Generating the corresponding targets (0 and 1)**"
      ]
    },
    {
      "cell_type": "code",
      "execution_count": 35,
      "metadata": {
        "colab": {
          "base_uri": "https://localhost:8080/"
        },
        "id": "vpmIpVJ0oPwF",
        "outputId": "6b12bd4b-c503-44fb-9e8d-5e41657b0d18"
      },
      "outputs": [
        {
          "data": {
            "text/plain": [
              "(2000, 1)"
            ]
          },
          "execution_count": 35,
          "metadata": {},
          "output_type": "execute_result"
        }
      ],
      "source": [
        "targets = np.vstack((np.zeros((num_samples_per_class, 1), dtype=\"float32\"),\n",
        "                     np.ones((num_samples_per_class, 1), dtype=\"float32\")))\n",
        "targets.shape"
      ]
    },
    {
      "cell_type": "markdown",
      "metadata": {
        "id": "ohEc6zG-oPwF"
      },
      "source": [
        "#### 绘制 2-D 图像"
      ]
    },
    {
      "cell_type": "code",
      "execution_count": 36,
      "metadata": {
        "colab": {
          "base_uri": "https://localhost:8080/",
          "height": 430
        },
        "id": "Wht4PDt0oPwF",
        "outputId": "579abee5-d3c5-4ddd-c4c6-119cc03d4b89"
      },
      "outputs": [
        {
          "data": {
            "image/png": "[encoded data removed]",
            "text/plain": [
              "<Figure size 640x480 with 1 Axes>"
            ]
          },
          "metadata": {},
          "output_type": "display_data"
        }
      ],
      "source": [
        "import matplotlib.pyplot as plt\n",
        "plt.scatter(inputs[:, 0], inputs[:, 1], c=targets[:, 0])\n",
        "plt.show()"
      ]
    },
    {
      "cell_type": "markdown",
      "metadata": {
        "id": "hwD5xwY1oPwF"
      },
      "source": [
        "#### **创建 linear classifier variables**"
      ]
    },
    {
      "cell_type": "code",
      "execution_count": 43,
      "metadata": {
        "id": "iPospICioPwF"
      },
      "outputs": [],
      "source": [
        "input_dim = 2\n",
        "output_dim = 1\n",
        "W = tf.Variable(initial_value=tf.random.uniform(shape=(input_dim, output_dim)))\n",
        "b = tf.Variable(initial_value=tf.zeros(shape=(output_dim,)))"
      ]
    },
    {
      "cell_type": "markdown",
      "metadata": {
        "id": "wc6qH76BoPwF"
      },
      "source": [
        "#### 定义**forward pass function** (前向传播, 也就是计算 $\\hat{y}$)"
      ]
    },
    {
      "cell_type": "code",
      "execution_count": 44,
      "metadata": {
        "id": "yauA6xIXoPwF"
      },
      "outputs": [],
      "source": [
        "def model(inputs):\n",
        "    return tf.matmul(inputs, W) + b"
      ]
    },
    {
      "cell_type": "markdown",
      "metadata": {
        "id": "8-PCXudRoPwG"
      },
      "source": [
        "#### 使用 **logistic loss function** 的分类\n",
        "\n",
        "Note that book's example uses the squared loss function. For true label $y \\in {0,1}$ and model output $o \\in \\mathbb{R}$, squared loss is defined as:\n",
        "\n",
        "$$(y - o)^2 \\ .$$\n",
        "\n",
        "_Question: We studied squared loss in a regression problem. Why is it meaningful to use squared loss in a classification problem?_\n",
        "\n",
        "We will instead use the logistic loss which is defined as\n",
        "\n",
        "$$\\log(1+\\exp(o)) - y \\cdot o \\ .$$\n",
        "\n",
        "This is nothing but the cross-entropy loss in the binary classification case where we use a linear model $o = \\mathbf{w}^T \\mathbf{x} + b$ and convert this output $o$ into a probability using the nonlinear standard logistic map:\n",
        "\n",
        "$$\n",
        "\\hat{y} = \\frac{\\exp(o)}{1 + \\exp(o)} = \\frac{1}{1+\\exp(-o)}\n",
        "$$\n",
        "\n",
        "We can then interpret our overall model as modelling the probability of $y = 1$ given $\\mathbf{x}$ as\n",
        "\n",
        "$$\n",
        "P(y = 1| \\mathbf{x}) = \\frac{\\exp(\\mathbf{w}^T \\mathbf{x}+b)}{1 + \\exp(\\mathbf{w}^T \\mathbf{x}+b)}\n",
        "$$"
      ]
    },
    {
      "cell_type": "code",
      "execution_count": 37,
      "metadata": {
        "colab": {
          "base_uri": "https://localhost:8080/",
          "height": 452
        },
        "id": "skMzOgNttTBB",
        "outputId": "5d374638-2602-4deb-895d-e139e8c681d6"
      },
      "outputs": [
        {
          "data": {
            "image/png": "[encoded data removed]",
            "text/plain": [
              "<Figure size 640x480 with 1 Axes>"
            ]
          },
          "metadata": {},
          "output_type": "display_data"
        }
      ],
      "source": [
        "o = np.linspace(-6, 6, 100)\n",
        "y_hat = 1./(1 + np.exp(-o))\n",
        "plt.plot(o, y_hat, \"-r\")\n",
        "plt.grid()\n",
        "plt.title(\"The standard logistic function\")\n",
        "plt.show()"
      ]
    },
    {
      "cell_type": "markdown",
      "metadata": {
        "id": "QcIfsyHiL3ty"
      },
      "source": [
        "#### 使用 tf 变量的 logistic loss function"
      ]
    },
    {
      "cell_type": "code",
      "execution_count": 38,
      "metadata": {
        "id": "W7YUv_wPoPwG"
      },
      "outputs": [],
      "source": [
        "def logistic_loss(targets, predictions):\n",
        "    per_sample_losses = tf.math.log(1.0 + tf.math.exp(predictions)) - targets * predictions\n",
        "    return tf.reduce_mean(per_sample_losses)"
      ]
    },
    {
      "cell_type": "markdown",
      "metadata": {
        "id": "0QgDKf8ioPwG"
      },
      "source": [
        "#### 使用 `GradientTape` 的 training step function"
      ]
    },
    {
      "cell_type": "code",
      "execution_count": 41,
      "metadata": {
        "id": "xy3FP1gHoPwG"
      },
      "outputs": [],
      "source": [
        "def training_step(inputs, targets, learning_rate):\n",
        "    with tf.GradientTape() as tape:\n",
        "        predictions = model(inputs)\n",
        "        loss = logistic_loss(targets, predictions)\n",
        "    grad_loss_wrt_W, grad_loss_wrt_b = tape.gradient(loss, [W, b])\n",
        "    W.assign_sub(grad_loss_wrt_W * learning_rate)\n",
        "    b.assign_sub(grad_loss_wrt_b * learning_rate)\n",
        "    return loss"
      ]
    },
    {
      "cell_type": "markdown",
      "metadata": {
        "id": "gOkShbzooPwG"
      },
      "source": [
        "**The batch training loop**"
      ]
    },
    {
      "cell_type": "code",
      "execution_count": 45,
      "metadata": {
        "colab": {
          "base_uri": "https://localhost:8080/"
        },
        "id": "MVK-Lx4ToPwG",
        "outputId": "1344376e-11fc-486e-a5f4-e216e3225626"
      },
      "outputs": [
        {
          "name": "stdout",
          "output_type": "stream",
          "text": [
            "Loss at step 9: 0.2128\n",
            "Loss at step 19: 0.1332\n",
            "Loss at step 29: 0.1007\n",
            "Loss at step 39: 0.0824\n",
            "Loss at step 49: 0.0704\n",
            "Loss at step 59: 0.0619\n",
            "Loss at step 69: 0.0555\n",
            "Loss at step 79: 0.0506\n",
            "Loss at step 89: 0.0465\n",
            "Loss at step 99: 0.0432\n"
          ]
        }
      ],
      "source": [
        "learning_rate = 0.1\n",
        "for step in range(100): # increase this to get better results\n",
        "    loss = training_step(inputs, targets, learning_rate)\n",
        "    if (step+1) % 10 == 0:\n",
        "        print(f\"Loss at step {step}: {loss:.4f}\")"
      ]
    },
    {
      "cell_type": "code",
      "execution_count": 46,
      "metadata": {
        "colab": {
          "base_uri": "https://localhost:8080/",
          "height": 430
        },
        "id": "WUx3JRpcoPwG",
        "outputId": "f82e772a-2843-4894-cb3d-4e9310168398"
      },
      "outputs": [
        {
          "data": {
            "image/png": "[encoded data removed]",
            "text/plain": [
              "<Figure size 640x480 with 1 Axes>"
            ]
          },
          "metadata": {},
          "output_type": "display_data"
        }
      ],
      "source": [
        "predictions = model(inputs)\n",
        "plt.scatter(inputs[:, 0], inputs[:, 1], c=predictions[:, 0] > 0)\n",
        "plt.show()"
      ]
    },
    {
      "cell_type": "code",
      "execution_count": 47,
      "metadata": {
        "colab": {
          "base_uri": "https://localhost:8080/",
          "height": 430
        },
        "id": "4gAPlvPfoPwG",
        "outputId": "2a390d3d-04fe-4916-bb2c-0034c4788c31"
      },
      "outputs": [
        {
          "data": {
            "image/png": "[encoded data removed]",
            "text/plain": [
              "<Figure size 640x480 with 1 Axes>"
            ]
          },
          "metadata": {},
          "output_type": "display_data"
        }
      ],
      "source": [
        "x = np.linspace(-3, 5, 100)\n",
        "y = - W[0] /  W[1] * x - b / W[1]\n",
        "plt.scatter(inputs[:, 0], inputs[:, 1], c=predictions[:, 0] > 0)\n",
        "plt.plot(x, y, \"-r\")\n",
        "plt.show()"
      ]
    }
  ],
  "metadata": {
    "accelerator": "GPU",
    "colab": {
      "gpuType": "T4",
      "provenance": [],
      "toc_visible": true
    },
    "kernelspec": {
      "display_name": "Python 3",
      "name": "python3"
    },
    "language_info": {
      "codemirror_mode": {
        "name": "ipython",
        "version": 3
      },
      "file_extension": ".py",
      "mimetype": "text/x-python",
      "name": "python",
      "nbconvert_exporter": "python",
      "pygments_lexer": "ipython3",
      "version": "3.7.0"
    }
  },
  "nbformat": 4,
  "nbformat_minor": 0
}
