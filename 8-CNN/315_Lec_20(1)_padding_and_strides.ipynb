{
  "cells": [
    {
      "cell_type": "markdown",
      "source": [
        "**Notebook credit**: Based on the original D2L notebook [here](https://github.com/d2l-ai/d2l-tensorflow-colab/blob/master/chapter_convolutional-neural-networks/padding-and-strides.ipynb).\n",
        "# Padding and Stride"
      ],
      "metadata": {
        "id": "9GJmKaTwnVCH"
      }
    },
    {
      "cell_type": "markdown",
      "source": [
        "- **Padding** 是指在输入数据的边缘周围添加额外的、通常是零值的像素，以调整数据的空间尺寸。这样做的目的有几个：\n",
        "  1. **保持空间尺寸**：卷积操作通常会缩小数据的空间尺寸，添加Padding可以保持输出图像的尺寸不变，这对于设计深层网络特别有用，因为可以防止过早的尺寸缩小。\n",
        "  2. **改善性能**：通过Padding，可以确保网络中更深层的卷积层能够接触到输入图像边缘的信息。\n",
        "  3. **两种常见的Padding方式**：\n",
        "     - **Valid Padding**（无Padding）：不添加任何Padding，导致输出尺寸小于输入尺寸。\n",
        "     - **Same Padding**：添加足够的Padding以确保输出和输入具有相同的空间尺寸。"
      ],
      "metadata": {
        "id": "T_Wpa4QAR8DM"
      }
    },
    {
      "cell_type": "markdown",
      "source": [
        "- **Stride** 指的是在执行卷积操作时，卷积核沿着输入数据滑动的步幅。Stride决定了卷积核覆盖输入数据的方式。\n",
        "  1. **减少输出尺寸**：较大的Stride会减少卷积操作后输出的空间维度，这有助于降低数据的空间分辨率，从而减少计算量。\n",
        "  2. **加快计算速度**：通过增大Stride，可以在覆盖整个输入图像的同时减少所需的卷积操作数，从而加快整体的计算速度。\n",
        "  3. **常见的Stride设置**：\n",
        "     - **Stride为1**：卷积核每次移动一个像素。\n",
        "     - **Stride大于1**：卷积核跳过中间的像素，每次移动超过一个像素。\n",
        "\n",
        "这两个参数对CNN的性能和效率有着直接的影响，通过合理的设置可以优化网络的结构和学习能力。"
      ],
      "metadata": {
        "id": "vgpCGs9kSEQK"
      }
    },
    {
      "cell_type": "markdown",
      "metadata": {
        "origin_pos": 0,
        "id": "TKkOhPJCl4Iy"
      },
      "source": [
        "![Two-dimensional cross-correlation operation. The shaded portions are the first output element as well as the input and kernel tensor elements used for the output computation: $0\\times0+1\\times1+3\\times2+4\\times3=19$.](http://d2l.ai/_images/correlation.svg)\n",
        "\n",
        "In the above example,\n",
        "our input had both a height and width of 3\n",
        "and our convolution kernel had both a height and width of 2,\n",
        "yielding an output representation with dimension $2\\times2$.\n",
        "Assuming that\n",
        "the input shape is $n_h\\times n_w$\n",
        "and the convolution kernel shape is $k_h\\times k_w$,\n",
        "then the output shape will be\n",
        "$(n_h-k_h+1) \\times (n_w-k_w+1)$.\n",
        "Therefore, the output shape of the convolutional layer\n",
        "is determined by the shape of the input\n",
        "and the shape of the convolution kernel.\n",
        "\n",
        "In several cases, we incorporate techniques,\n",
        "including padding and strided convolutions,\n",
        "that affect the size of the output.\n",
        "As motivation, note that since kernels generally\n",
        "have width and height greater than $1$,\n",
        "after applying many successive convolutions,\n",
        "we tend to wind up with outputs that are\n",
        "considerably smaller than our input.\n",
        "If we start with a $240 \\times 240$ pixel image,\n",
        "$10$ layers of $5 \\times 5$ convolutions\n",
        "reduce the image to $200 \\times 200$ pixels,\n",
        "slicing off $30 \\%$ of the image and with it\n",
        "obliterating any interesting information\n",
        "on the boundaries of the original image.\n",
        "*Padding* is the most popular tool for handling this issue.\n",
        "\n",
        "In other cases, we may want to reduce the dimensionality drastically,\n",
        "e.g., if we find the original input resolution to be unwieldy.\n",
        "*Strided convolutions* are a popular technique that can help in these instances.\n"
      ]
    },
    {
      "cell_type": "markdown",
      "source": [
        "## Padding ()\n",
        "\n",
        "As described above, one tricky issue when applying convolutional layers\n",
        "is that we tend to lose pixels on the perimeter of our image.\n",
        "Since we typically use small kernels,\n",
        "for any given convolution,\n",
        "we might only lose a few pixels,\n",
        "but this can add up as we apply\n",
        "many successive convolutional layers.\n",
        "One straightforward solution to this problem\n",
        "is to add extra pixels of filler around the boundary of our input image,\n",
        "thus increasing the effective size of the image.\n",
        "Typically, we set the values of the extra pixels to zero.\n",
        "In the figure below, we pad a $3 \\times 3$ input,\n",
        "increasing its size to $5 \\times 5$.\n",
        "The corresponding output then increases to a $4 \\times 4$ matrix.\n",
        "The shaded portions are the first output element as well as the input and kernel tensor elements used for the output computation: $0\\times0+0\\times1+0\\times2+0\\times3=0$.\n",
        "\n",
        "![Two-dimensional cross-correlation with padding.](https://github.com/d2l-ai/d2l-tensorflow-colab/blob/master/img/conv-pad.svg?raw=1)\n"
      ],
      "metadata": {
        "id": "ZnghqHBVzP1a"
      }
    },
    {
      "cell_type": "markdown",
      "source": [
        "### Padding 后 output shape 的公式\n",
        "In general, if we add a total of $p_h$ rows of padding\n",
        "(roughly half on top and half on bottom)\n",
        "and a total of $p_w$ columns of padding\n",
        "(roughly half on the left and half on the right),\n",
        "the output shape will be\n",
        "\n",
        "$$(n_h-k_h+p_h+1)\\times(n_w-k_w+p_w+1).$$\n",
        "\n",
        "This means that the height and width of the output\n",
        "will increase by $p_h$ and $p_w$, respectively.\n",
        "\n",
        "很多时候我们会设置 $p_h=k_h-1$ and $p_w=k_w-1$ 来使得 input 和 output 有相同的 height and width.\n",
        "This will make it easier to predict the output shape of each layer\n",
        "when constructing the network.\n",
        "Assuming that $k_h$ is odd here,\n",
        "we will pad $p_h/2$ rows on both sides of the height.\n",
        "If $k_h$ is even, one possibility is to\n",
        "pad $\\lceil p_h/2\\rceil$ rows on the top of the input\n",
        "and $\\lfloor p_h/2\\rfloor$ rows on the bottom.\n",
        "We will pad both sides of the width in the same way.\n",
        "\n",
        "CNNs commonly use convolution kernels\n",
        "with odd height and width values, such as 1, 3, 5, or 7.\n",
        "Choosing odd kernel sizes has the benefit\n",
        "that we can preserve the spatial dimensionality\n",
        "while padding with the same number of rows on top and bottom,\n",
        "and the same number of columns on left and right.\n",
        "\n",
        "Moreover, this practice of using odd kernels\n",
        "and padding to precisely preserve dimensionality\n",
        "offers a clerical benefit.\n",
        "For any two-dimensional tensor `X`,\n",
        "when the kernel's size is odd\n",
        "and the number of padding rows and columns\n",
        "on all sides are the same,\n",
        "producing an output with the same height and width as the input,\n",
        "we know that the output `Y[i, j]` is calculated\n",
        "by cross-correlation of the input and convolution kernel\n",
        "with the window centered on `X[i, j]`.\n",
        "\n",
        "In the following example, we create a two-dimensional convolutional layer\n",
        "with a height and width of 3\n",
        "and (**apply 1 pixel of padding on all sides.**)\n",
        "Given an input with a height and width of 8,\n",
        "we find that the height and width of the output is also 8."
      ],
      "metadata": {
        "id": "2dbjaxPkqonz"
      }
    },
    {
      "cell_type": "code",
      "execution_count": null,
      "metadata": {
        "origin_pos": 3,
        "tab": [
          "tensorflow"
        ],
        "id": "Um-K00vwl4I4",
        "outputId": "f6d7ed65-dcab-4c2d-8737-dfb27855d5d5",
        "colab": {
          "base_uri": "https://localhost:8080/"
        }
      },
      "outputs": [
        {
          "output_type": "execute_result",
          "data": {
            "text/plain": [
              "TensorShape([8, 8])"
            ]
          },
          "metadata": {},
          "execution_count": 1
        }
      ],
      "source": [
        "import tensorflow as tf\n",
        "from math import floor\n",
        "\n",
        "\n",
        "# We define a convenience function to calculate the convolutional layer. This\n",
        "# function initializes the convolutional layer weights and performs\n",
        "# corresponding dimensionality elevations and reductions on the input and\n",
        "# output\n",
        "def comp_conv2d(conv2d, X):\n",
        "    # Here (1, 1) indicates that the batch size and the number of channels\n",
        "    # are both 1\n",
        "    X = tf.reshape(X, (1, ) + X.shape + (1, ))\n",
        "    Y = conv2d(X)\n",
        "    # Exclude the first two dimensions that do not interest us: examples and\n",
        "    # channels\n",
        "    return tf.reshape(Y, Y.shape[1:3])\n",
        "# Note that here 1 row or column is padded on either side, so a total of 2\n",
        "# rows or columns are added\n",
        "conv2d = tf.keras.layers.Conv2D(1, kernel_size=3, padding='same')\n",
        "X = tf.random.uniform(shape=(8, 8))\n",
        "comp_conv2d(conv2d, X).shape"
      ]
    },
    {
      "cell_type": "markdown",
      "metadata": {
        "origin_pos": 4,
        "id": "6ZFHNQchl4I7"
      },
      "source": [
        "When the height and width of the convolution kernel are different,\n",
        "we can make the output and input have the same height and width\n",
        "by [**setting different padding numbers for height and width.**]\n"
      ]
    },
    {
      "cell_type": "code",
      "execution_count": null,
      "metadata": {
        "origin_pos": 7,
        "tab": [
          "tensorflow"
        ],
        "id": "HQ11IHHkl4I8",
        "outputId": "013c9656-6268-46bd-c32b-d441044d837e",
        "colab": {
          "base_uri": "https://localhost:8080/"
        }
      },
      "outputs": [
        {
          "output_type": "execute_result",
          "data": {
            "text/plain": [
              "TensorShape([8, 8])"
            ]
          },
          "metadata": {},
          "execution_count": 2
        }
      ],
      "source": [
        "# Here, we use a convolution kernel with a height of 5 and a width of 3. The\n",
        "# padding numbers on either side of the height and width are 2 and 1,\n",
        "# respectively\n",
        "conv2d = tf.keras.layers.Conv2D(1, kernel_size=(5, 3), padding='same')\n",
        "comp_conv2d(conv2d, X).shape"
      ]
    },
    {
      "cell_type": "markdown",
      "metadata": {
        "origin_pos": 8,
        "id": "IINTzzj-l4I8"
      },
      "source": [
        "## Stride (改变 kernel 滑动步长)\n",
        "\n",
        "When computing the cross-correlation,\n",
        "we start with the convolution window\n",
        "at the upper-left corner of the input tensor,\n",
        "and then slide it over all locations both down and to the right.\n",
        "In previous examples, we default to sliding one element at a time.\n",
        "However, sometimes, either for computational efficiency\n",
        "or because we wish to downsample,\n",
        "we move our window more than one element at a time,\n",
        "skipping the intermediate locations.\n",
        "\n",
        "We refer to the number of rows and columns traversed per slide as the *stride*.\n",
        "So far, we have used strides of 1, both for height and width.\n",
        "Sometimes, we may want to use a larger stride.\n",
        "The figure below shows a two-dimensional cross-correlation operation\n",
        "with a stride of 3 vertically and 2 horizontally.\n",
        "The shaded portions are the output elements as well as the input and kernel tensor elements used for the output computation: $0\\times0+0\\times1+1\\times2+2\\times3=8$, $0\\times0+6\\times1+0\\times2+0\\times3=6$.\n",
        "We can see that when the second element of the first column is outputted,\n",
        "the convolution window slides down three rows.\n",
        "The convolution window slides two columns to the right\n",
        "when the second element of the first row is outputted.\n",
        "When the convolution window continues to slide two columns to the right on the input,\n",
        "there is no output because the input element cannot fill the window\n",
        "(unless we add another column of padding).\n",
        "\n",
        "![Cross-correlation with strides of 3 and 2 for height and width, respectively.](https://github.com/d2l-ai/d2l-tensorflow-colab/blob/master/img/conv-stride.svg?raw=1)\n"
      ]
    },
    {
      "cell_type": "markdown",
      "source": [
        "### 改变 strides 后 output shape 的公式\n",
        "In general, when the stride for the height is $s_h$\n",
        "and the stride for the width is $s_w$, the output shape is\n",
        "\n",
        "$$\\lfloor(n_h-k_h+p_h+s_h)/s_h\\rfloor \\times \\lfloor(n_w-k_w+p_w+s_w)/s_w\\rfloor.$$\n",
        "\n",
        "If we set $p_h=k_h-1$ and $p_w=k_w-1$,\n",
        "then the output shape will be simplified to\n",
        "$\\lfloor(n_h+s_h-1)/s_h\\rfloor \\times \\lfloor(n_w+s_w-1)/s_w\\rfloor$.\n",
        "Going a step further, if the input height and width\n",
        "are divisible by the strides on the height and width,\n",
        "then the output shape will be $(n_h/s_h) \\times (n_w/s_w)$.\n",
        "\n",
        "Below, we [**set the strides on both the height and width to 2**],\n",
        "thus halving the input height and width.\n"
      ],
      "metadata": {
        "id": "tMkwuGP0s-cP"
      }
    },
    {
      "cell_type": "code",
      "execution_count": null,
      "metadata": {
        "origin_pos": 11,
        "tab": [
          "tensorflow"
        ],
        "id": "VyJayiPUl4I9",
        "outputId": "7cb7286b-934a-4d10-9d92-e50e2747e9a0",
        "colab": {
          "base_uri": "https://localhost:8080/"
        }
      },
      "outputs": [
        {
          "output_type": "execute_result",
          "data": {
            "text/plain": [
              "TensorShape([4, 4])"
            ]
          },
          "metadata": {},
          "execution_count": 3
        }
      ],
      "source": [
        "conv2d = tf.keras.layers.Conv2D(1, kernel_size=3, padding='same', strides=2)\n",
        "comp_conv2d(conv2d, X).shape"
      ]
    },
    {
      "cell_type": "markdown",
      "metadata": {
        "origin_pos": 12,
        "id": "leVSY0e6l4I9"
      },
      "source": [
        "Next, we will look at (**a slightly more complicated example**).\n"
      ]
    },
    {
      "cell_type": "code",
      "execution_count": null,
      "metadata": {
        "origin_pos": 15,
        "tab": [
          "tensorflow"
        ],
        "id": "FURcMl9Ll4I-",
        "outputId": "77936052-9251-4968-97a7-fd8e1cb6a5db",
        "colab": {
          "base_uri": "https://localhost:8080/"
        }
      },
      "outputs": [
        {
          "output_type": "stream",
          "name": "stdout",
          "text": [
            "predicted shape: (2, 1)\n",
            "actual shape: (2, 1)\n"
          ]
        }
      ],
      "source": [
        "n_w, n_h = X.shape\n",
        "k_w, k_h = 3, 5\n",
        "s_w, s_h = 3, 4\n",
        "\n",
        "conv2d = tf.keras.layers.Conv2D(1, kernel_size=(k_w,k_h), padding='valid',\n",
        "                                strides=(s_w, s_h))\n",
        "\n",
        "out_w = floor((n_w - k_w + 1)/s_w)\n",
        "out_h = floor((n_h - k_h + 1)/s_h)\n",
        "\n",
        "print(f\"predicted shape: {(out_w, out_h)}\")\n",
        "print(f\"actual shape: {comp_conv2d(conv2d, X).shape}\")"
      ]
    },
    {
      "cell_type": "markdown",
      "metadata": {
        "origin_pos": 16,
        "id": "FBmNVihEl4I-"
      },
      "source": [
        "For the sake of brevity, when the padding number\n",
        "on both sides of the input height and width are $p_h$ and $p_w$ respectively, we call the padding $(p_h, p_w)$.\n",
        "Specifically, when $p_h = p_w = p$, the padding is $p$.\n",
        "When the strides on the height and width are $s_h$ and $s_w$, respectively,\n",
        "we call the stride $(s_h, s_w)$.\n",
        "Specifically, when $s_h = s_w = s$, the stride is $s$.\n",
        "By default, the padding is 0 and the stride is 1.\n",
        "In practice, we rarely use inhomogeneous strides or padding,\n",
        "i.e., we usually have $p_h = p_w$ and $s_h = s_w$.\n"
      ]
    },
    {
      "cell_type": "markdown",
      "source": [
        "\n",
        "## Summary\n",
        "\n",
        "* Padding can increase the height and width of the output. This is often used to give the output the same height and width as the input.\n",
        "* The stride can reduce the resolution of the output, for example reducing the height and width of the output to only $1/n$ of the height and width of the input ($n$ is an integer greater than $1$).\n",
        "* Padding and stride can be used to adjust the dimensionality of the data effectively.\n"
      ],
      "metadata": {
        "id": "9yzCzkM31FI2"
      }
    }
  ],
  "metadata": {
    "kernelspec": {
      "display_name": "Python 3",
      "name": "python3"
    },
    "language_info": {
      "name": "python"
    },
    "colab": {
      "provenance": [],
      "toc_visible": true
    }
  },
  "nbformat": 4,
  "nbformat_minor": 0
}