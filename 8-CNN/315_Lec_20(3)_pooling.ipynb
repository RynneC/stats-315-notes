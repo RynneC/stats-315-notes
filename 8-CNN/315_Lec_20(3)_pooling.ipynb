{
  "cells": [
    {
      "cell_type": "markdown",
      "source": [
        "**Notebook credit**: Based on the original D2L notebook [here](https://github.com/d2l-ai/d2l-tensorflow-colab/blob/master/chapter_convolutional-neural-networks/pooling.ipynb).\n",
        "\n"
      ],
      "metadata": {
        "id": "lAgQneXMpLwY"
      }
    },
    {
      "cell_type": "markdown",
      "metadata": {
        "origin_pos": 0,
        "id": "jt9YaLWSl-Oz"
      },
      "source": [
        "# Pooling(池化)\n",
        "下面是CNN的几个关键组成部分:(可以重复, 且并不是严格顺序)\n",
        "\n",
        "1. 卷积层 (Convolutional Layer):\n",
        "  这是CNN的核心层, 主要负责从输入图像中提取特征. 通过使用一系列的过滤器(或称为核), 每个卷积层可以捕捉输入数据的局部依赖性和空间层级结构. 每个过滤器负责从输入图像中提取不同的特征, 例如边缘、角点或更复杂的纹理等。\n",
        "\n",
        "2. 激活函数 (Activation Function):\n",
        "  激活函数通常应用在卷积层的输出上, 用于引入非线性, 使得网络可以学习更复杂的模式。最常用的激活函数是ReLU.\n",
        "\n",
        "3. 池化层 (Pooling Layer):\n",
        "  池化层主要用于减少数据的空间大小 (即降采样)，这有助于减少参数数量和计算量，同时还能使特征检测器具有一定程度的位置不变性。常见的池化操作包括最大池化(Max Pooling) 和平均池化 (Average Pooling), 其中最大池化是提取特定窗口内的最大值，平均池化则是计算窗口内的平均值。\n",
        "\n",
        "4. 全连接层 (Fully Connected Layer):\n",
        "  在多个卷积层和池化层之后, 全连接层用于将网络学习到的特征转化为最终的输出, 如分类标签 (softmax等)。在传统的CNN架构中, 全连接层通常位于网络的末端. 通过这些层, 可以将前面层次提取到的特征整合起来, 进行最终的决策。\n",
        "\n",
        "5. 归一化层 (Normalization Layer):\n",
        "  归一化层, 如批量归一化(Batch Normalization), 被用于网络中以稳定学习过程，通过规范化层的输入来加速训练并提高性能。\n",
        "\n",
        "6. 丢弃层 (Dropout Layer):\n",
        "  在训练过程中，丢弃层随机地丢弃（即设置为零）一部分神经元的输出，这有助于防止模型过拟合。"
      ]
    },
    {
      "cell_type": "markdown",
      "source": [
        "\n",
        "\n",
        "通常, 在处理图像时, 我们希望逐渐降低 spatial resolution of our hidden representation, 将信息聚合在一起. 这样在网络中越往上层, 每个隐藏节点敏感的 receptive field 就越大.\n",
        "\n",
        "通常情况下，我们的最终任务会提出一些关于图像的全局性问题，例如，图像中是否有一只猫？因此，我们最终层的单元通常应该对整个输入都很敏感。通过逐步聚合信息，生成越来越粗糙的地图，我们就能实现最终学习全局表示的目标，同时保持卷积层在中间处理层的所有优点.\n",
        "\n",
        "此外，在检测边缘等较低层次的特征时，我们往往希望我们的 representations 在某种程度上不受平移的影响. 例如，如果我们将黑白分明的图像 `X` 向右移动一个像素，即 `Z[i, j] = X[i, j + 1]`，那么新图像 `Z` 的输出可能会大不相同。边缘将偏移一个像素。在现实中，物体几乎不会出现在完全相同的位置。事实上，即使使用三脚架和一个静止的物体，快门移动导致的相机振动也可能会使所有物体移动一个像素左右（高端相机具有解决这一问题的特殊功能）。\n",
        "\n",
        "本节将介绍池化层，池化层具有双重作用，一是减轻卷积层对位置的敏感性，二是对表示进行 spatially downsampling(降采样) representations..\n"
      ],
      "metadata": {
        "id": "9vHKs2PXwTH6"
      }
    },
    {
      "cell_type": "markdown",
      "source": [
        "\n",
        "## Maximum Pooling and Average Pooling\n",
        "\n",
        "Like convolutional layers, *pooling* operators\n",
        "consist of a fixed-shape window that is slid over\n",
        "all regions in the input according to its stride,\n",
        "computing a single output for each location traversed\n",
        "by the fixed-shape window (sometimes known as the *pooling window*).\n",
        "However, unlike the cross-correlation computation\n",
        "of the inputs and kernels in the convolutional layer,\n",
        "the pooling layer contains no parameters (there is no *kernel*).\n",
        "Instead, pooling operators are deterministic,\n",
        "typically calculating either the maximum or the average value\n",
        "of the elements in the pooling window.\n",
        "These operations are called *maximum pooling* (*max pooling* for short)\n",
        "and *average pooling*, respectively.\n",
        "\n",
        "\n",
        "In both cases, as with the cross-correlation operator,\n",
        "we can think of the pooling window\n",
        "as starting from the upper-left of the input tensor\n",
        "and sliding across the input tensor from left to right and top to bottom.\n",
        "At each location that the pooling window hits,\n",
        "it computes the maximum or average\n",
        "value of the input subtensor in the window,\n",
        "depending on whether max or average pooling is employed.\n",
        "\n",
        "\n",
        "![Maximum pooling with a pooling window shape of $2\\times 2$. The shaded portions are the first output element as well as the input tensor elements used for the output computation: $\\max(0, 1, 3, 4)=4$.](http://d2l.ai/_images/pooling.svg)\n",
        "\n",
        "\n",
        "The output tensor has a height of 2 and a width of 2.\n",
        "The four elements are derived from the maximum value in each pooling window:\n",
        "\n",
        "$$\n",
        "\\max(0, 1, 3, 4)=4,\\\\\n",
        "\\max(1, 2, 4, 5)=5,\\\\\n",
        "\\max(3, 4, 6, 7)=7,\\\\\n",
        "\\max(4, 5, 7, 8)=8.\\\\\n",
        "$$\n",
        "\n",
        "A pooling layer with a pooling window shape of $p \\times q$\n",
        "is called a $p \\times q$ pooling layer.\n",
        "The pooling operation is called $p \\times q$ pooling.\n",
        "\n",
        "Let us return to the object edge detection example\n",
        "mentioned at the beginning of this section.\n",
        "Now we will use the output of the convolutional layer\n",
        "as the input for $2\\times 2$ maximum pooling.\n",
        "Set the convolutional layer input as `X` and the pooling layer output as `Y`. Whether or not the values of `X[i, j]` and `X[i, j + 1]` are different,\n",
        "or `X[i, j + 1]` and `X[i, j + 2]` are different,\n",
        "the pooling layer always outputs `Y[i, j] = 1`.\n",
        "That is to say, using the $2\\times 2$ maximum pooling layer,\n",
        "we can still detect if the pattern recognized by the convolutional layer\n",
        "moves no more than one element in height or width.\n",
        "\n",
        "In the code below, we (**implement the forward propagation\n",
        "of the pooling layer**) in the `pool2d` function.\n",
        "This function is similar to the `corr2d` function.\n",
        "However, here we have no kernel, computing the output\n",
        "as either the maximum or the average of each region in the input.\n"
      ],
      "metadata": {
        "id": "cEJUaWxR-BEJ"
      }
    },
    {
      "cell_type": "code",
      "execution_count": 1,
      "metadata": {
        "origin_pos": 4,
        "tab": [
          "tensorflow"
        ],
        "id": "35oRwqYCl-O5"
      },
      "outputs": [],
      "source": [
        "import tensorflow as tf\n",
        "\n",
        "\n",
        "def pool2d(X, pool_size, mode='max'):\n",
        "    p_h, p_w = pool_size\n",
        "    Y = tf.Variable(tf.zeros((X.shape[0] - p_h + 1, X.shape[1] - p_w +1)))\n",
        "    for i in range(Y.shape[0]):\n",
        "        for j in range(Y.shape[1]):\n",
        "            if mode == 'max':\n",
        "                Y[i, j].assign(tf.reduce_max(X[i: i + p_h, j: j + p_w]))\n",
        "            elif mode =='avg':\n",
        "                Y[i, j].assign(tf.reduce_mean(X[i: i + p_h, j: j + p_w]))\n",
        "    return Y"
      ]
    },
    {
      "cell_type": "markdown",
      "metadata": {
        "origin_pos": 5,
        "id": "vXvqp2JDl-O7"
      },
      "source": [
        "We can construct the input tensor `X` in the figure above to [**validate the output of the two-dimensional maximum pooling layer**].\n"
      ]
    },
    {
      "cell_type": "code",
      "execution_count": 2,
      "metadata": {
        "origin_pos": 6,
        "tab": [
          "tensorflow"
        ],
        "id": "-sUKMxFWl-O8",
        "outputId": "a68e7ad1-8197-4815-8a62-7a7636bfc606",
        "colab": {
          "base_uri": "https://localhost:8080/"
        }
      },
      "outputs": [
        {
          "output_type": "execute_result",
          "data": {
            "text/plain": [
              "<tf.Variable 'Variable:0' shape=(2, 2) dtype=float32, numpy=\n",
              "array([[4., 5.],\n",
              "       [7., 8.]], dtype=float32)>"
            ]
          },
          "metadata": {},
          "execution_count": 2
        }
      ],
      "source": [
        "X = tf.constant([[0.0, 1.0, 2.0], [3.0, 4.0, 5.0], [6.0, 7.0, 8.0]])\n",
        "pool2d(X, (2, 2))"
      ]
    },
    {
      "cell_type": "markdown",
      "metadata": {
        "origin_pos": 7,
        "id": "5N9e7ZDdl-O8"
      },
      "source": [
        "Also, we experiment with (**the average pooling layer**).\n"
      ]
    },
    {
      "cell_type": "code",
      "execution_count": 3,
      "metadata": {
        "origin_pos": 8,
        "tab": [
          "tensorflow"
        ],
        "id": "BMZ9Jz93l-O9",
        "outputId": "32a8a018-3992-47cf-f4ee-1c9117c6a5be",
        "colab": {
          "base_uri": "https://localhost:8080/"
        }
      },
      "outputs": [
        {
          "output_type": "execute_result",
          "data": {
            "text/plain": [
              "<tf.Variable 'Variable:0' shape=(2, 2) dtype=float32, numpy=\n",
              "array([[2., 3.],\n",
              "       [5., 6.]], dtype=float32)>"
            ]
          },
          "metadata": {},
          "execution_count": 3
        }
      ],
      "source": [
        "pool2d(X, (2, 2), 'avg')"
      ]
    },
    {
      "cell_type": "markdown",
      "metadata": {
        "origin_pos": 9,
        "id": "agRFD1vIl-O9"
      },
      "source": [
        "## [**Padding and Stride**]\n",
        "\n",
        "As with convolutional layers, pooling layers\n",
        "can also change the output shape.\n",
        "And as before, we can alter the operation to achieve a desired output shape\n",
        "by padding the input and adjusting the stride.\n",
        "We can demonstrate the use of padding and strides\n",
        "in pooling layers via the built-in two-dimensional maximum pooling layer from the deep learning framework.\n",
        "We first construct an input tensor `X` whose shape has four dimensions,\n",
        "where the number of examples (batch size) and number of channels are both 1.\n"
      ]
    },
    {
      "cell_type": "markdown",
      "metadata": {
        "origin_pos": 10,
        "tab": [
          "tensorflow"
        ],
        "id": "zcy0Owqdl-O9"
      },
      "source": [
        "It is important to note that tensorflow\n",
        "prefers and is optimized for *channels-last* input.\n"
      ]
    },
    {
      "cell_type": "code",
      "execution_count": 4,
      "metadata": {
        "origin_pos": 12,
        "tab": [
          "tensorflow"
        ],
        "id": "ResMJ-S_l-O-",
        "outputId": "3c769bf4-196c-47a3-d8a1-db7344df33e6",
        "colab": {
          "base_uri": "https://localhost:8080/"
        }
      },
      "outputs": [
        {
          "output_type": "execute_result",
          "data": {
            "text/plain": [
              "<tf.Tensor: shape=(1, 4, 4, 1), dtype=float32, numpy=\n",
              "array([[[[ 0.],\n",
              "         [ 1.],\n",
              "         [ 2.],\n",
              "         [ 3.]],\n",
              "\n",
              "        [[ 4.],\n",
              "         [ 5.],\n",
              "         [ 6.],\n",
              "         [ 7.]],\n",
              "\n",
              "        [[ 8.],\n",
              "         [ 9.],\n",
              "         [10.],\n",
              "         [11.]],\n",
              "\n",
              "        [[12.],\n",
              "         [13.],\n",
              "         [14.],\n",
              "         [15.]]]], dtype=float32)>"
            ]
          },
          "metadata": {},
          "execution_count": 4
        }
      ],
      "source": [
        "X = tf.reshape(tf.range(16, dtype=tf.float32), (1, 4, 4, 1))\n",
        "X"
      ]
    },
    {
      "cell_type": "markdown",
      "metadata": {
        "origin_pos": 13,
        "id": "f5H8aZmkl-O-"
      },
      "source": [
        "By default, (**the stride and the pooling window in the instance from the framework's built-in class\n",
        "have the same shape.**)\n",
        "Below, we use a pooling window of shape `(3, 3)`,\n",
        "so we get a stride shape of `(3, 3)` by default.\n"
      ]
    },
    {
      "cell_type": "code",
      "execution_count": 5,
      "metadata": {
        "origin_pos": 16,
        "tab": [
          "tensorflow"
        ],
        "id": "ZVcqa6ipl-O_",
        "outputId": "1e7610d8-baae-4346-f2c4-a0c73dc4232f",
        "colab": {
          "base_uri": "https://localhost:8080/"
        }
      },
      "outputs": [
        {
          "output_type": "execute_result",
          "data": {
            "text/plain": [
              "<tf.Tensor: shape=(1, 1, 1, 1), dtype=float32, numpy=array([[[[10.]]]], dtype=float32)>"
            ]
          },
          "metadata": {},
          "execution_count": 5
        }
      ],
      "source": [
        "pool2d = tf.keras.layers.MaxPool2D(pool_size=[3, 3])\n",
        "pool2d(X)"
      ]
    },
    {
      "cell_type": "markdown",
      "metadata": {
        "origin_pos": 17,
        "id": "O6eaSGdKl-O_"
      },
      "source": [
        "[**The stride and padding can be manually specified.**]\n"
      ]
    },
    {
      "cell_type": "code",
      "execution_count": 6,
      "metadata": {
        "origin_pos": 20,
        "tab": [
          "tensorflow"
        ],
        "id": "Re3ZarMYl-O_",
        "outputId": "14f71e2c-2190-4092-d29d-871406e69f39",
        "colab": {
          "base_uri": "https://localhost:8080/"
        }
      },
      "outputs": [
        {
          "output_type": "execute_result",
          "data": {
            "text/plain": [
              "<tf.Tensor: shape=(1, 2, 2, 1), dtype=float32, numpy=\n",
              "array([[[[ 5.],\n",
              "         [ 7.]],\n",
              "\n",
              "        [[13.],\n",
              "         [15.]]]], dtype=float32)>"
            ]
          },
          "metadata": {},
          "execution_count": 6
        }
      ],
      "source": [
        "paddings = tf.constant([[0, 0], [1,0], [1,0], [0,0]])\n",
        "X_padded = tf.pad(X, paddings, \"CONSTANT\")\n",
        "pool2d = tf.keras.layers.MaxPool2D(pool_size=[3, 3], padding='valid',\n",
        "                                   strides=2)\n",
        "pool2d(X_padded)"
      ]
    },
    {
      "cell_type": "markdown",
      "metadata": {
        "origin_pos": 23,
        "tab": [
          "tensorflow"
        ],
        "id": "52ECs2Pxl-O_"
      },
      "source": [
        "Of course, we can specify an arbitrary rectangular pooling window\n",
        "and specify the padding and stride for height and width, respectively.\n"
      ]
    },
    {
      "cell_type": "code",
      "execution_count": 7,
      "metadata": {
        "origin_pos": 26,
        "tab": [
          "tensorflow"
        ],
        "id": "FAPBO-KTl-PA",
        "outputId": "56dddf26-8d8d-4b39-93f6-7a9e461191f3",
        "colab": {
          "base_uri": "https://localhost:8080/"
        }
      },
      "outputs": [
        {
          "output_type": "execute_result",
          "data": {
            "text/plain": [
              "<tf.Tensor: shape=(1, 2, 2, 1), dtype=float32, numpy=\n",
              "array([[[[ 5.],\n",
              "         [ 7.]],\n",
              "\n",
              "        [[13.],\n",
              "         [15.]]]], dtype=float32)>"
            ]
          },
          "metadata": {},
          "execution_count": 7
        }
      ],
      "source": [
        "paddings = tf.constant([[0, 0], [0, 0], [1, 1], [0, 0]])\n",
        "X_padded = tf.pad(X, paddings, \"CONSTANT\")\n",
        "\n",
        "pool2d = tf.keras.layers.MaxPool2D(pool_size=[2, 3], padding='valid',\n",
        "                                   strides=(2, 3))\n",
        "pool2d(X_padded)"
      ]
    },
    {
      "cell_type": "markdown",
      "metadata": {
        "origin_pos": 27,
        "id": "9n2fgZ1Ll-PA"
      },
      "source": [
        "## Multiple Channels\n",
        "\n",
        "在处理 multi-channel input data 时，pooling layer 会分开 pool 每个 input channel, 而不是像 convolutional layer 那样将各 channels 的 inputs 相加.\n",
        "这意味着 pooling layer 的 output channels 数量与 input channels 的数量相同.\n",
        "下面，我们将 concatenate tensors `X` and `X + 1`\n",
        "on the channel dimension to construct an input with 2 channels.\n"
      ]
    },
    {
      "cell_type": "markdown",
      "metadata": {
        "origin_pos": 28,
        "tab": [
          "tensorflow"
        ],
        "id": "d7XGq1Ecl-PA"
      },
      "source": [
        "Note that this will require a\n",
        "concatenation along the last dimension for TensorFlow due to the channels-last syntax.\n"
      ]
    },
    {
      "cell_type": "code",
      "execution_count": 8,
      "metadata": {
        "origin_pos": 30,
        "tab": [
          "tensorflow"
        ],
        "id": "ese0NZpRl-PA"
      },
      "outputs": [],
      "source": [
        "X = tf.concat([X, X + 1], 3)  # Concatenate along `dim=3` due to channels-last syntax"
      ]
    },
    {
      "cell_type": "markdown",
      "metadata": {
        "origin_pos": 31,
        "id": "S4kkcDXzl-PA"
      },
      "source": [
        "As we can see, the number of output channels is still 2 after pooling.\n"
      ]
    },
    {
      "cell_type": "code",
      "execution_count": 9,
      "metadata": {
        "origin_pos": 34,
        "tab": [
          "tensorflow"
        ],
        "id": "iX9lRdRml-PB",
        "outputId": "0c179735-8cdf-4c7a-cf6e-81bd2f2044d4",
        "colab": {
          "base_uri": "https://localhost:8080/"
        }
      },
      "outputs": [
        {
          "output_type": "execute_result",
          "data": {
            "text/plain": [
              "<tf.Tensor: shape=(1, 2, 2, 2), dtype=float32, numpy=\n",
              "array([[[[ 5.,  6.],\n",
              "         [ 7.,  8.]],\n",
              "\n",
              "        [[13., 14.],\n",
              "         [15., 16.]]]], dtype=float32)>"
            ]
          },
          "metadata": {},
          "execution_count": 9
        }
      ],
      "source": [
        "paddings = tf.constant([[0, 0], [1,0], [1,0], [0,0]])\n",
        "X_padded = tf.pad(X, paddings, \"CONSTANT\")\n",
        "pool2d = tf.keras.layers.MaxPool2D(pool_size=[3, 3], padding='valid',\n",
        "                                   strides=2)\n",
        "pool2d(X_padded)"
      ]
    },
    {
      "cell_type": "markdown",
      "metadata": {
        "origin_pos": 36,
        "id": "_4y-D80Gl-PB"
      },
      "source": [
        "## Summary\n",
        "\n",
        "- 对于池化窗口中的输入元素, maximum pooling operation 将最大值作为 output, average pooling operation 将平均值作为 output.\n",
        "- pooling layer 的主要好处之一是减轻 convolution layer 对位置的过度敏感性.\n",
        "- 我们可以指定 pooling layer 的 padding 和 stride.\n",
        "- Maximum pooling 结合 大于 1 的 stride 可用于减少 spatial dimensions (e.g., width and height).\n",
        "- pooling layer 的 output channels 数量与 input channels 的数量相同.\n",
        "\n"
      ]
    }
  ],
  "metadata": {
    "kernelspec": {
      "display_name": "Python 3",
      "name": "python3"
    },
    "language_info": {
      "name": "python"
    },
    "colab": {
      "provenance": [],
      "toc_visible": true
    }
  },
  "nbformat": 4,
  "nbformat_minor": 0
}