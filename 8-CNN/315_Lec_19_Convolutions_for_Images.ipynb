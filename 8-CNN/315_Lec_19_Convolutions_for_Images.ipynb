{
  "cells": [
    {
      "cell_type": "markdown",
      "metadata": {
        "id": "cifup1gR3_QH"
      },
      "source": [
        "**Notebook credit**: Based on the original D2L notebook [here](https://github.com/d2l-ai/d2l-en-colab/blob/master/chapter_convolutional-neural-networks/conv-layer.ipynb).\n"
      ]
    },
    {
      "cell_type": "markdown",
      "metadata": {
        "origin_pos": 0,
        "id": "eF7pcCKb3_QL"
      },
      "source": [
        "# Convolutions for Images\n",
        "\n"
      ]
    },
    {
      "cell_type": "markdown",
      "source": [
        "\n",
        "## The Cross-Correlation Operation (交叉相关)\n",
        "\n",
        "**严格意义上, 我们这里写的 convolutional layers 并不是严谨的, 实际上我们进行的操作在数学上不叫 convolution, 而是叫 cross-correlations(交叉相关).**\n",
        "\n",
        "Let us ignore channels for now and see how this works with two-dimensional data and hidden representations.\n",
        "In the figure below, the input is a two-dimensional tensor with a height of 3 and width of 3.\n",
        "We mark the shape of the tensor as $3 \\times 3$ or ($3$, $3$). The height and width of the kernel are both 2. The shape of the *kernel window* (or *convolution window*) is given by the height and width of the kernel.(here it is $2 \\times 2$).\n",
        "\n",
        "![Two-dimensional cross-correlation operation. The shaded portions are the first output element as well as the input and kernel tensor elements used for the output computation: $0\\times0+1\\times1+3\\times2+4\\times3=19$.](http://d2l.ai/_images/correlation.svg)\n",
        "\n",
        "\n",
        "在 2d cross-correlation operation 运算中，我们首先将conv kernel 置于 input tensor 的左上角, 然后在 input tensor 上从左到右, 从上到下滑动. 当 conv kernel 滑动到某个位置时, 该窗口中包含的每个 entry 与 conv kernel 重合的部分进行元素相乘, 然后将结果相加, 得到一个单一的标量值, 这个结果就是 output tensor 相应位置的值.\n",
        "\n",
        "这个例子中这里, input tensor 的 height 为 2, width 为 2, 于是 output tensor 的每个 entry 的值:\n",
        "\n",
        "$$\n",
        "0\\times0+1\\times1+3\\times2+4\\times3=19,\\\\\n",
        "1\\times0+2\\times1+4\\times2+5\\times3=25,\\\\\n",
        "3\\times0+4\\times1+6\\times2+7\\times3=37,\\\\\n",
        "4\\times0+5\\times1+7\\times2+8\\times3=43.\n",
        "$$\n"
      ],
      "metadata": {
        "id": "atD7jf1N5ePF"
      }
    },
    {
      "cell_type": "markdown",
      "source": [
        "### output size 的计算公式\n",
        "Note that along each axis, the output size\n",
        "is slightly smaller than the input size.\n",
        "Because the kernel has width and height greater than one,\n",
        "we can only properly compute the cross-correlation\n",
        "for locations where the kernel fits wholly within the image,\n",
        "the output size is given by the input size $n_h \\times n_w$\n",
        "minus the size of the convolution kernel $k_h \\times k_w$\n",
        "via\n",
        "\n",
        "$$(n_h-k_h+1) \\times (n_w-k_w+1).$$\n",
        "\n",
        "This is the case since we need enough space\n",
        "to \"shift\" the convolution kernel across the image.\n",
        "Later we will see how to keep the size unchanged\n",
        "by padding the image with zeros around its boundary\n",
        "so that there is enough space to shift the kernel.\n",
        "Next, we implement this process in the `corr2d` function,\n",
        "which accepts an input tensor `X` and a kernel tensor `K`\n",
        "and returns an output tensor `Y`.\n",
        "\n",
        "这个公式还是很自然的. 因为 kernel 在一个方向上越大, 滑动结束的就越早.\n"
      ],
      "metadata": {
        "id": "wFjTIeWPP0Ax"
      }
    },
    {
      "cell_type": "code",
      "execution_count": 1,
      "metadata": {
        "origin_pos": 1,
        "tab": [
          "mxnet"
        ],
        "id": "7R7baCJb3_QM"
      },
      "outputs": [],
      "source": [
        "import numpy as np\n",
        "import tensorflow as tf"
      ]
    },
    {
      "cell_type": "markdown",
      "source": [
        "### `corr2d` Cross-Correlation 运算的 implementation"
      ],
      "metadata": {
        "id": "whOO_NXz_kEF"
      }
    },
    {
      "cell_type": "code",
      "execution_count": 2,
      "metadata": {
        "origin_pos": 3,
        "tab": [
          "mxnet"
        ],
        "id": "IzbwCLp53_QN"
      },
      "outputs": [],
      "source": [
        "def corr2d(X, K):\n",
        "    \"\"\"Compute 2D cross-correlation.\"\"\"\n",
        "    h, w = K.shape\n",
        "    Y = tf.Variable(tf.zeros((X.shape[0] - h + 1, X.shape[1] - w + 1)))\n",
        "    for i in range(Y.shape[0]):\n",
        "        for j in range(Y.shape[1]):\n",
        "            Y[i, j].assign(tf.reduce_sum(\n",
        "                X[i: i + h, j: j + w] * K)) # * 表示逐元素 multiple,\n",
        "    return Y"
      ]
    },
    {
      "cell_type": "markdown",
      "metadata": {
        "origin_pos": 5,
        "id": "aPFoNKgB3_QN"
      },
      "source": [
        "We can construct the input tensor `X` and the kernel tensor `K`\n",
        "from the figure above\n",
        "to **validate the output of the above implementation**\n",
        "of the two-dimensional cross-correlation operation.\n"
      ]
    },
    {
      "cell_type": "code",
      "execution_count": 3,
      "metadata": {
        "origin_pos": 6,
        "tab": [
          "mxnet"
        ],
        "id": "kxgLLuQY3_QN",
        "outputId": "e252162a-7c35-485f-c596-c2de0ec2426c",
        "colab": {
          "base_uri": "https://localhost:8080/"
        }
      },
      "outputs": [
        {
          "output_type": "execute_result",
          "data": {
            "text/plain": [
              "array([[19., 25.],\n",
              "       [37., 43.]], dtype=float32)"
            ]
          },
          "metadata": {},
          "execution_count": 3
        }
      ],
      "source": [
        "X = tf.constant([[0.0, 1.0, 2.0], [3.0, 4.0, 5.0], [6.0, 7.0, 8.0]])\n",
        "K = tf.constant([[0.0, 1.0], [2.0, 3.0]])\n",
        "corr2d(X, K).numpy()"
      ]
    },
    {
      "cell_type": "markdown",
      "metadata": {
        "origin_pos": 7,
        "id": "pYR8fpA13_QO"
      },
      "source": [
        "## Convolutional Layers 的 python implementation\n",
        "\n",
        "A convolutional layer cross-correlates the input and kernel and adds a scalar bias to produce an output.\n",
        "\n",
        "The two parameters of a convolutional layer\n",
        "are the kernel and the scalar bias. When training models based on convolutional layers, we typically initialize the kernels randomly, just as we would with a fully-connected layer.\n",
        "\n",
        "We are now ready to **implement a two-dimensional convolutional layer** based on the `corr2d` function defined above.\n",
        "\n",
        "In the `build()` method, we set `weight` and `bias` as the two model parameters.\n",
        "\n",
        "The `call()` method calls the `corr2d` function and adds the bias.\n"
      ]
    },
    {
      "cell_type": "code",
      "execution_count": 16,
      "metadata": {
        "origin_pos": 8,
        "tab": [
          "mxnet"
        ],
        "id": "rSgUOUPO3_QP"
      },
      "outputs": [],
      "source": [
        "# member vairable: weight 和 bias. weight 也就是 kernel\n",
        "# build 方法是 initialize weight 和 bias 为固定形状的随机 tensor (值随机, 形状要自己定)\n",
        "# call 方法是把 input 喂进来输出 Convolutional Layer 的 Output.\n",
        "class Conv2D(tf.keras.layers.Layer):\n",
        "    def __init__(self):\n",
        "        super().__init__()\n",
        "\n",
        "    def build(self, kernel_size):\n",
        "        initializer = tf.random_normal_initializer()\n",
        "        self.weight = self.add_weight(name='w', shape=kernel_size,\n",
        "                                      initializer=initializer)\n",
        "        self.bias = self.add_weight(name='b', shape=(1, ),\n",
        "                                    initializer=initializer)\n",
        "\n",
        "    def call(self, inputs):\n",
        "        return corr2d(inputs, self.weight) + self.bias"
      ]
    },
    {
      "cell_type": "markdown",
      "metadata": {
        "origin_pos": 11,
        "id": "UsRjcAKl3_QP"
      },
      "source": [
        "In\n",
        "$h \\times w$ convolution\n",
        "or a $h \\times w$ convolution kernel,\n",
        "the height and width of the convolution kernel are $h$ and $w$, respectively.\n",
        "We also refer to\n",
        "a convolutional layer with a $h \\times w$\n",
        "convolution kernel simply as a $h \\times w$ convolutional layer.\n",
        "\n",
        "\n",
        "## Object Edge Detection in Images\n",
        "\n",
        "Let us take a moment to parse [**a simple application of a convolutional layer:\n",
        "detecting the edge of an object in an image**]\n",
        "by finding the location of the pixel change.\n",
        "First, we construct an \"image\" of $6\\times 8$ pixels.\n",
        "The middle four columns are black (0) and the rest are white (1).\n"
      ]
    },
    {
      "cell_type": "code",
      "execution_count": 17,
      "metadata": {
        "origin_pos": 12,
        "tab": [
          "mxnet"
        ],
        "id": "JKl4exag3_QP",
        "outputId": "12a353c7-5181-4bd3-d309-902747d22e83",
        "colab": {
          "base_uri": "https://localhost:8080/"
        }
      },
      "outputs": [
        {
          "output_type": "execute_result",
          "data": {
            "text/plain": [
              "array([[1., 1., 0., 0., 0., 0., 1., 1.],\n",
              "       [1., 1., 0., 0., 0., 0., 1., 1.],\n",
              "       [1., 1., 0., 0., 0., 0., 1., 1.],\n",
              "       [1., 1., 0., 0., 0., 0., 1., 1.],\n",
              "       [1., 1., 0., 0., 0., 0., 1., 1.],\n",
              "       [1., 1., 0., 0., 0., 0., 1., 1.]], dtype=float32)"
            ]
          },
          "metadata": {},
          "execution_count": 17
        }
      ],
      "source": [
        "X = tf.Variable(tf.ones((6, 8)))\n",
        "X[:, 2:6].assign(tf.zeros(X[:, 2:6].shape))\n",
        "X.numpy()"
      ]
    },
    {
      "cell_type": "code",
      "source": [
        "import matplotlib.pyplot as plt\n",
        "plt.imshow(tf.reshape(X, (6, 8)), cmap=\"gray\")\n",
        "plt.show()"
      ],
      "metadata": {
        "colab": {
          "base_uri": "https://localhost:8080/",
          "height": 430
        },
        "id": "Yr_fgR9uyNpY",
        "outputId": "fbb566ad-7f6c-4a94-eb1a-ebc8fd065048"
      },
      "execution_count": 18,
      "outputs": [
        {
          "output_type": "display_data",
          "data": {
            "text/plain": [
              "<Figure size 640x480 with 1 Axes>"
            ],
            "image/png": "[encoded data removed]"
          },
          "metadata": {}
        }
      ]
    },
    {
      "cell_type": "markdown",
      "metadata": {
        "origin_pos": 14,
        "id": "QOqtdGs33_QQ"
      },
      "source": [
        "Next, we construct a kernel `K` with a height of 1 and a width of 2.\n",
        "When we perform the cross-correlation operation with the input,\n",
        "if the horizontally adjacent elements are the same,\n",
        "the output is 0. Otherwise, the output is non-zero.\n"
      ]
    },
    {
      "cell_type": "code",
      "execution_count": 19,
      "metadata": {
        "origin_pos": 15,
        "tab": [
          "mxnet"
        ],
        "id": "f1zaUw3z3_QQ"
      },
      "outputs": [],
      "source": [
        "K = tf.constant([[1.0, -1.0]])"
      ]
    },
    {
      "cell_type": "markdown",
      "metadata": {
        "origin_pos": 16,
        "id": "tplu2M573_QQ"
      },
      "source": [
        "We are ready to perform the cross-correlation operation\n",
        "with arguments `X` (our input) and `K` (our kernel).\n",
        "As you can see, **we detect 1 for the edge from white to black\n",
        "and -1 for the edge from black to white.**\n",
        "All other outputs take value 0.\n"
      ]
    },
    {
      "cell_type": "code",
      "execution_count": 20,
      "metadata": {
        "origin_pos": 17,
        "tab": [
          "mxnet"
        ],
        "id": "L1nlE6uR3_QR",
        "outputId": "876b6fad-2904-4732-8cf4-18e4df02b03b",
        "colab": {
          "base_uri": "https://localhost:8080/"
        }
      },
      "outputs": [
        {
          "output_type": "execute_result",
          "data": {
            "text/plain": [
              "array([[ 0.,  1.,  0.,  0.,  0., -1.,  0.],\n",
              "       [ 0.,  1.,  0.,  0.,  0., -1.,  0.],\n",
              "       [ 0.,  1.,  0.,  0.,  0., -1.,  0.],\n",
              "       [ 0.,  1.,  0.,  0.,  0., -1.,  0.],\n",
              "       [ 0.,  1.,  0.,  0.,  0., -1.,  0.],\n",
              "       [ 0.,  1.,  0.,  0.,  0., -1.,  0.]], dtype=float32)"
            ]
          },
          "metadata": {},
          "execution_count": 20
        }
      ],
      "source": [
        "Y = corr2d(X, K)\n",
        "Y.numpy()"
      ]
    },
    {
      "cell_type": "code",
      "source": [
        "plt.imshow(tf.reshape(tf.abs(Y), (6, 7)), cmap = \"gray\")\n",
        "plt.show()"
      ],
      "metadata": {
        "colab": {
          "base_uri": "https://localhost:8080/",
          "height": 430
        },
        "id": "xIzZu0l9zGQF",
        "outputId": "a9ca5d4f-0cae-4cc2-933c-cd32e491b886"
      },
      "execution_count": 21,
      "outputs": [
        {
          "output_type": "display_data",
          "data": {
            "text/plain": [
              "<Figure size 640x480 with 1 Axes>"
            ],
            "image/png": "[encoded data removed]"
          },
          "metadata": {}
        }
      ]
    },
    {
      "cell_type": "markdown",
      "metadata": {
        "origin_pos": 18,
        "id": "PgfwJEF43_QR"
      },
      "source": [
        "We can now apply the kernel to the transposed image.\n",
        "As expected, it vanishes. **The kernel `K` only detects vertical edges.**\n"
      ]
    },
    {
      "cell_type": "code",
      "source": [
        "plt.imshow(tf.reshape(tf.transpose(X), (8, 6)), cmap=\"gray\")\n",
        "plt.show()"
      ],
      "metadata": {
        "colab": {
          "base_uri": "https://localhost:8080/",
          "height": 430
        },
        "id": "gGt9CYmfcfpl",
        "outputId": "53121cc1-57b4-4c63-8e53-eba506725145"
      },
      "execution_count": 22,
      "outputs": [
        {
          "output_type": "display_data",
          "data": {
            "text/plain": [
              "<Figure size 640x480 with 1 Axes>"
            ],
            "image/png": "[encoded data removed]"
          },
          "metadata": {}
        }
      ]
    },
    {
      "cell_type": "code",
      "execution_count": 23,
      "metadata": {
        "origin_pos": 19,
        "tab": [
          "mxnet"
        ],
        "id": "020DT5te3_QR",
        "outputId": "c76580f0-b93c-4d5f-fffe-65853ab553a2",
        "colab": {
          "base_uri": "https://localhost:8080/"
        }
      },
      "outputs": [
        {
          "output_type": "execute_result",
          "data": {
            "text/plain": [
              "array([[0., 0., 0., 0., 0.],\n",
              "       [0., 0., 0., 0., 0.],\n",
              "       [0., 0., 0., 0., 0.],\n",
              "       [0., 0., 0., 0., 0.],\n",
              "       [0., 0., 0., 0., 0.],\n",
              "       [0., 0., 0., 0., 0.],\n",
              "       [0., 0., 0., 0., 0.],\n",
              "       [0., 0., 0., 0., 0.]], dtype=float32)"
            ]
          },
          "metadata": {},
          "execution_count": 23
        }
      ],
      "source": [
        "Y2 = corr2d(tf.transpose(X), K)\n",
        "Y2.numpy()"
      ]
    },
    {
      "cell_type": "code",
      "source": [
        "plt.imshow(tf.reshape(tf.abs(Y2), (8, 5)), cmap = \"gray\")\n",
        "plt.show()"
      ],
      "metadata": {
        "colab": {
          "base_uri": "https://localhost:8080/",
          "height": 430
        },
        "id": "GUuvqWFtzuFe",
        "outputId": "96babb7d-6916-4696-ca98-b90c9ffffba6"
      },
      "execution_count": 24,
      "outputs": [
        {
          "output_type": "display_data",
          "data": {
            "text/plain": [
              "<Figure size 640x480 with 1 Axes>"
            ],
            "image/png": "[encoded data removed]"
          },
          "metadata": {}
        }
      ]
    },
    {
      "cell_type": "markdown",
      "metadata": {
        "origin_pos": 20,
        "id": "H4zVPP-S3_QR"
      },
      "source": [
        "## Learning a Kernel: 让 model 在 learning 的过程中自己更改 kernel 的 entries 的值.\n",
        "\n",
        "Designing an edge detector by finite differences `[1, -1]` is neat\n",
        "if we know this is precisely what we are looking for.\n",
        "However, as we look at larger kernels,\n",
        "and consider successive layers of convolutions,\n",
        "it might be impossible to specify\n",
        "precisely what each filter should be doing manually.\n",
        "\n",
        "Now let us see whether we can **learn the kernel that generated `Y` from `X`**\n",
        "by looking at the input--output pairs only.\n",
        "We first construct a convolutional layer\n",
        "and initialize its kernel as a random tensor.\n",
        "Next, in each iteration, we will use the squared error\n",
        "to compare `Y` with the output of the convolutional layer.\n",
        "We can then calculate the gradient to update the kernel.\n",
        "For the sake of simplicity,\n",
        "in the following\n",
        "we use the built-in class\n",
        "for two-dimensional convolutional layers\n",
        "and ignore the bias.\n"
      ]
    },
    {
      "cell_type": "code",
      "execution_count": 25,
      "metadata": {
        "origin_pos": 21,
        "tab": [
          "mxnet"
        ],
        "id": "-u_p84WV3_QR",
        "outputId": "8520aa74-cf61-4434-a2b1-b6516b11b08f",
        "colab": {
          "base_uri": "https://localhost:8080/"
        }
      },
      "outputs": [
        {
          "output_type": "stream",
          "name": "stdout",
          "text": [
            "epoch 2, loss 22.212\n",
            "epoch 4, loss 7.297\n",
            "epoch 6, loss 2.434\n",
            "epoch 8, loss 0.812\n",
            "epoch 10, loss 0.271\n"
          ]
        }
      ],
      "source": [
        "# Construct a two-dimensional convolutional layer with 1 output channel and a\n",
        "# kernel of shape (1, 2). For the sake of simplicity, we ignore the bias here\n",
        "# 在我们建立这个 object 的同时, 它完成了 initialization, 现在有随机的 weight 和 bias\n",
        "conv2d = tf.keras.layers.Conv2D(1, (1, 2), use_bias=False)\n",
        "\n",
        "# The two-dimensional convolutional layer uses four-dimensional input and\n",
        "# output in the format of (example, height, width, channel), where the batch\n",
        "# size (number of examples in the batch) and the number of channels are both 1\n",
        "X = tf.reshape(X, (1, 6, 8, 1))\n",
        "Y = tf.reshape(Y, (1, 6, 7, 1))\n",
        "lr = 2e-2  # Learning rate\n",
        "\n",
        "Y_hat = conv2d(X)\n",
        "for i in range(10):\n",
        "    with tf.GradientTape() as tape:\n",
        "        # 当前的 kernel 影响下 Y 的估计值\n",
        "        Y_hat = conv2d(X)\n",
        "        # 计算当前的 Y 估计值和实际 Y 的 squared error 作为 loss function\n",
        "        loss = tf.reduce_sum(tf.abs(Y_hat - Y) ** 2)\n",
        "        # 计算 loss fucntion 相对于 kernel tensor 的 gradient\n",
        "        loss_gradient = tape.gradient(loss, conv2d.weights[0])\n",
        "        # 更新 kernel\n",
        "        update = tf.multiply(lr, loss_gradient)\n",
        "        weights = conv2d.get_weights()\n",
        "        weights[0] = conv2d.weights[0] - update\n",
        "        conv2d.set_weights(weights)\n",
        "        if (i + 1) % 2 == 0:\n",
        "            print(f'epoch {i + 1}, loss {loss:.3f}')"
      ]
    },
    {
      "cell_type": "markdown",
      "metadata": {
        "origin_pos": 24,
        "id": "4DsH2KWz3_QS"
      },
      "source": [
        "Note that the error has dropped to a small value after 10 iterations. Now we will **take a look at the kernel tensor we learned.**\n"
      ]
    },
    {
      "cell_type": "code",
      "execution_count": 26,
      "metadata": {
        "origin_pos": 25,
        "tab": [
          "mxnet"
        ],
        "id": "AJavowTM3_QS",
        "outputId": "ff354b1f-8372-4e0c-fdaa-664735193e17",
        "colab": {
          "base_uri": "https://localhost:8080/"
        }
      },
      "outputs": [
        {
          "output_type": "execute_result",
          "data": {
            "text/plain": [
              "array([[ 0.8858046 , -0.88580453]], dtype=float32)"
            ]
          },
          "metadata": {},
          "execution_count": 26
        }
      ],
      "source": [
        "tf.reshape(conv2d.get_weights()[0], (1, 2)).numpy()"
      ]
    },
    {
      "cell_type": "markdown",
      "metadata": {
        "origin_pos": 28,
        "id": "MHVae6SF3_QS"
      },
      "source": [
        "Indeed, the learned kernel tensor is remarkably close\n",
        "to the kernel tensor `K` we defined earlier.\n"
      ]
    },
    {
      "cell_type": "markdown",
      "source": [
        "\n",
        "## Cross-Correlation and Convolution: 对于 deep learning 而言结果(翻折后)相同\n",
        "\n",
        "回想一下我们之前观察到的交叉相关和卷积操作之间的对应关系. 在这里，让我们继续考虑 2d Convilution Layer: 如果这个 layer 执行的是严格的 Convolution 而不是 cross-correlation operation 呢？**想要得到严格 convolution 的输出, 我们只需要将 2d kernel tensor 进行水平和垂直翻转，然后与 input tensor 进行 cross correlation operation 即可.**\n",
        "\n",
        "Note that: 由于深度学习中的 kernel 是从数据中学习的, 因此无论 Convolution Layer 执行严格 convolution operation 还是 corss-correlation operation, 其 output 都不会受到影响.\n",
        "\n",
        "假设有一个 convolutional layer 采用 *cross-correlation* 并且学习了上面的图片, 用 matrix $\\mathbf{K}$ 来表示.\n",
        "并假设另一个 convolutional layer 采用 *convolution*, 其他条件不变, 学习了上面的图片, 用 matrix $\\mathbf{K'}$ 来表示. After $\\mathbf{K}'$ is flipped both horizontally and vertically, $\\mathbf{K}$ 和 $\\mathbf{K'}$ 将是相同的.\n",
        "\n",
        "\n",
        "为了与深度学习文献中的标准术语保持一致，我们将继续把 cross-correlation operation 称为 convolution operation, 尽管严格来说，它略有不同.\n",
        "此外，我们使用 element 这一词来称呼表示一个 layer representation 或者 convolution kernel 的 tensor 的一个 entry (component).\n"
      ],
      "metadata": {
        "id": "ObvRga0X8_66"
      }
    },
    {
      "cell_type": "markdown",
      "source": [
        "\n",
        "## Feature Map(特征图) and Receptive Field(感知野)\n",
        "\n",
        "![Two-dimensional cross-correlation operation. The shaded portions are the first output element as well as the input and kernel tensor elements used for the output computation: $0\\times0+1\\times1+3\\times2+4\\times3=19$.](http://d2l.ai/_images/correlation.svg)\n",
        "\n",
        "一个 ***feature map*** 指的就是某个 input 在 convolutional layer 下的一个 output. 它可以被看作 learned representations (features)\n",
        "in the spatial dimensions (e.g., width and height) to the subsequent layer.\n",
        "\n",
        "***receptive field*** 指的对于 CNNs 的某个 layer 中的某个元素, 在这个 layer 前面的 layers 中(即 forward propagation 的过程中)影响这个元素的所有元素的集合.\n",
        "\n",
        "以上图为例子, output 所在的 layer 中, 值为 $19$ 的这个元素的 receptive field 就包括了 input 的 $0, 1, 3, 4$ 这四个元素. 但是它可能不止于这些元素: 如果前面还有其他的 layers, 那么 $19$ 这个元素的 receptive field 就会更大.\n",
        "\n",
        "现在，让我们将 $19, 25, 37, 43$ 这个 output 表示为 𝐘, 并考虑一个额外的 convolutional layer, 它将 𝐘 作为 input, 输出单个元素 𝑧。在这种情况下，𝑧对𝐘的 receptive field 包括了 𝐘 的所有四个元素 $19, 25, 37, 43$, 而对更前一层 input 的 receptive field 包括了 $0,...,8$ 这全部 9 个元素.\n",
        "\n",
        "因此，当 feature map 中的任何元素需要更大的 receptive field 来检测更广阔区域的 input features 时，我们就可以构建一个 deeper network.\n",
        "\n"
      ],
      "metadata": {
        "id": "xZHVj5Tk89Kq"
      }
    },
    {
      "cell_type": "markdown",
      "source": [
        "\n",
        "\n",
        "## Summary\n",
        "\n",
        "* The core computation of a two-dimensional convolutional layer is a two-dimensional cross-correlation operation. In its simplest form, this performs a cross-correlation operation on the two-dimensional input data and the kernel, and then adds a bias.\n",
        "* We can design a kernel to detect edges in images.\n",
        "* We can learn the kernel's parameters from data.\n",
        "* With kernels learned from data, the outputs of convolutional layers remain unaffected regardless of such layers' performed operations (either strict convolution or cross-correlation).\n",
        "* When any element in a feature map needs a larger receptive field to detect broader features on the input, a deeper network can be considered.\n",
        "\n",
        "\n"
      ],
      "metadata": {
        "id": "4LtRuV9z85Sx"
      }
    }
  ],
  "metadata": {
    "kernelspec": {
      "display_name": "Python 3",
      "name": "python3"
    },
    "language_info": {
      "name": "python"
    },
    "colab": {
      "provenance": [],
      "toc_visible": true
    }
  },
  "nbformat": 4,
  "nbformat_minor": 0
}