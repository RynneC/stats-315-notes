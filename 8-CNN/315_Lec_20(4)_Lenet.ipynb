{
  "cells": [
    {
      "cell_type": "markdown",
      "metadata": {
        "id": "QtZxbW5tmBQm"
      },
      "source": [
        "**Notebook credit**: Based on the original D2L notebook [here](https://github.com/d2l-ai/d2l-tensorflow-colab/blob/master/chapter_convolutional-neural-networks/lenet.ipynb).\n"
      ]
    },
    {
      "cell_type": "markdown",
      "metadata": {
        "origin_pos": 0,
        "id": "z28SxNx1mBQq"
      },
      "source": [
        "# Convolutional Neural Networks (LeNet)\n",
        "\n",
        "We now have all the ingredients required to assemble\n",
        "a fully-functional CNN.\n",
        "In our earlier encounter with image data,\n",
        "we applied\n",
        "a softmax regression model\n",
        "and\n",
        "an MLP model\n",
        "to MNIST dataset.\n",
        "To make such data amenable to softmax regression and MLPs,\n",
        "we first flattened each image from a $28\\times28$ matrix\n",
        "into a fixed-length $784$-dimensional vector,\n",
        "and thereafter processed them with fully-connected layers.\n",
        "Now that we have a handle on convolutional layers,\n",
        "we can retain the spatial structure in our images.\n",
        "As an additional benefit of replacing fully-connected layers with convolutional layers,\n",
        "we will enjoy more parsimonious models that require far fewer parameters.\n",
        "\n",
        "In this section, we will introduce *LeNet*,\n",
        "among the first published CNNs\n",
        "to capture wide attention for its performance on computer vision tasks.\n",
        "The model was introduced by (and named for) Yann LeCun,\n",
        "then a researcher at AT&T Bell Labs,\n",
        "for the purpose of recognizing handwritten digits in images.\n",
        "This work represented the culmination\n",
        "of a decade of research developing the technology.\n",
        "In 1989, LeCun published the first study to successfully\n",
        "train CNNs via backpropagation.\n",
        "\n",
        "\n",
        "At the time LeNet achieved outstanding results\n",
        "matching the performance of support vector machines,\n",
        "then a dominant approach in supervised learning.\n",
        "LeNet was eventually adapted to recognize digits\n",
        "for processing deposits in ATM machines.\n",
        "To this day, some ATMs still run the code\n",
        "that Yann and his colleague Leon Bottou wrote in the 1990s!\n"
      ]
    },
    {
      "cell_type": "markdown",
      "source": [
        "\n",
        "\n",
        "## LeNet\n",
        "\n",
        "At a high level, (**LeNet (LeNet-5) consists of two parts:\n",
        "(i) a convolutional encoder consisting of two convolutional layers; and\n",
        "(ii) a dense block consisting of three fully-connected layers**);\n",
        "The architecture is summarized below.\n",
        "\n",
        "![Data flow in LeNet. The input is a handwritten digit, the output a probability over 10 possible outcomes.](http://d2l.ai/_images/lenet.svg)\n",
        "\n",
        "\n",
        "The basic units in each convolutional block\n",
        "are a convolutional layer, a sigmoid activation function,\n",
        "and a subsequent average pooling operation.\n",
        "Note that while ReLUs and max-pooling work better,\n",
        "these discoveries had not yet been made in the 1990s.\n",
        "Each convolutional layer uses a $5\\times 5$ kernel\n",
        "and a sigmoid activation function.\n",
        "These layers map spatially arranged inputs\n",
        "to a number of two-dimensional feature maps, typically\n",
        "increasing the number of channels.\n",
        "The first convolutional layer has 6 output channels,\n",
        "while the second has 16.\n",
        "Each $2\\times2$ pooling operation (stride 2)\n",
        "reduces dimensionality by a factor of $4$ via spatial downsampling.\n",
        "The convolutional block emits an output with shape given by\n",
        "(batch size, number of channel, height, width).\n",
        "\n",
        "In order to pass output from the convolutional block\n",
        "to the dense block,\n",
        "we must flatten each example in the minibatch.\n",
        "In other words, we take this four-dimensional input and transform it\n",
        "into the two-dimensional input expected by fully-connected layers:\n",
        "as a reminder, the two-dimensional representation that we desire uses the first dimension to index examples in the minibatch\n",
        "and the second to give the flat vector representation of each example.\n",
        "LeNet's dense block has three fully-connected layers,\n",
        "with 120, 84, and 10 outputs, respectively.\n",
        "Because we are still performing classification,\n",
        "the 10-dimensional output layer corresponds\n",
        "to the number of possible output classes.\n",
        "\n",
        "While getting to the point where you truly understand\n",
        "what is going on inside LeNet may have taken a bit of work,\n",
        "hopefully the following code snippet will convince you\n",
        "that implementing such models with modern deep learning frameworks\n",
        "is remarkably simple.\n",
        "We need only to instantiate a `Sequential` block\n",
        "and chain together the appropriate layers.\n"
      ],
      "metadata": {
        "id": "EIIHdUpl7VHV"
      }
    },
    {
      "cell_type": "code",
      "execution_count": null,
      "metadata": {
        "origin_pos": 3,
        "tab": [
          "tensorflow"
        ],
        "id": "IvdOvY0ZmBQs"
      },
      "outputs": [],
      "source": [
        "import tensorflow as tf\n",
        "from tensorflow import keras\n",
        "from tensorflow.keras import layers"
      ]
    },
    {
      "cell_type": "markdown",
      "metadata": {
        "origin_pos": 4,
        "id": "gOXF-qkHmBQt"
      },
      "source": [
        "We took a small liberty with the original model,\n",
        "removing the Gaussian activation in the final layer.\n",
        "Other than that, this network matches\n",
        "the original LeNet-5 architecture.\n",
        "\n",
        "By passing a single-channel (black and white)\n",
        "$28 \\times 28$ image through the network\n",
        "and printing the output shape at each layer,\n",
        "we can [**inspect the model**] to make sure\n",
        "that its operations line up with\n",
        "what we expect from the figure above.\n",
        "\n",
        "![Compressed notation for LeNet-5.](https://github.com/d2l-ai/d2l-tensorflow-colab/blob/master/img/lenet-vert.svg?raw=1)\n"
      ]
    },
    {
      "cell_type": "markdown",
      "metadata": {
        "origin_pos": 8,
        "id": "78d-m1ygmBQu"
      },
      "source": [
        "Note that the height and width of the representation\n",
        "at each layer throughout the convolutional block\n",
        "is reduced (compared with the previous layer).\n",
        "The first convolutional layer uses 2 pixels of padding\n",
        "to compensate for the reduction in height and width\n",
        "that would otherwise result from using a $5 \\times 5$ kernel.\n",
        "In contrast, the second convolutional layer forgoes padding,\n",
        "and thus the height and width are both reduced by 4 pixels.\n",
        "As we go up the stack of layers,\n",
        "the number of channels increases layer-over-layer\n",
        "from 1 in the input to 6 after the first convolutional layer\n",
        "and 16 after the second convolutional layer.\n",
        "However, each pooling layer halves the height and width.\n",
        "Finally, each fully-connected layer reduces dimensionality,\n",
        "finally emitting an output whose dimension\n",
        "matches the number of classes.\n",
        "\n",
        "\n",
        "\n",
        "## Training\n",
        "\n",
        "Now that we have implemented the model,\n",
        "let us [**run an experiment to see how LeNet fares on Fashion-MNIST**].\n"
      ]
    },
    {
      "cell_type": "code",
      "execution_count": null,
      "metadata": {
        "origin_pos": 9,
        "tab": [
          "tensorflow"
        ],
        "id": "b8-dzxrsmBQv",
        "colab": {
          "base_uri": "https://localhost:8080/"
        },
        "outputId": "ada17726-65bc-48e3-e2a4-7a50af6ec22f"
      },
      "outputs": [
        {
          "output_type": "stream",
          "name": "stdout",
          "text": [
            "Downloading data from https://storage.googleapis.com/tensorflow/tf-keras-datasets/train-labels-idx1-ubyte.gz\n",
            "29515/29515 [==============================] - 0s 0us/step\n",
            "Downloading data from https://storage.googleapis.com/tensorflow/tf-keras-datasets/train-images-idx3-ubyte.gz\n",
            "26421880/26421880 [==============================] - 1s 0us/step\n",
            "Downloading data from https://storage.googleapis.com/tensorflow/tf-keras-datasets/t10k-labels-idx1-ubyte.gz\n",
            "5148/5148 [==============================] - 0s 0us/step\n",
            "Downloading data from https://storage.googleapis.com/tensorflow/tf-keras-datasets/t10k-images-idx3-ubyte.gz\n",
            "4422102/4422102 [==============================] - 0s 0us/step\n"
          ]
        }
      ],
      "source": [
        "batch_size = 256\n",
        "(x_train, y_train), (x_test, y_test) = tf.keras.datasets.fashion_mnist.load_data()\n",
        "x_train = x_train.astype(\"float32\") / 255\n",
        "x_test = x_test.astype(\"float32\") / 255"
      ]
    },
    {
      "cell_type": "markdown",
      "metadata": {
        "origin_pos": 10,
        "id": "rvZvGGm6mBQv"
      },
      "source": [
        "While CNNs have fewer parameters,\n",
        "they can still be more expensive to compute\n",
        "than similarly deep MLPs\n",
        "because each parameter participates in many more\n",
        "multiplications.\n",
        "**If you have access to a GPU, this might be a good time\n",
        "to put it into action to speed up training.**"
      ]
    },
    {
      "cell_type": "markdown",
      "metadata": {
        "origin_pos": 18,
        "id": "DmukZOj7mBQx"
      },
      "source": [
        "[**Now let us train and evaluate the LeNet-5 model.**]\n"
      ]
    },
    {
      "cell_type": "code",
      "execution_count": null,
      "metadata": {
        "origin_pos": 19,
        "tab": [
          "tensorflow"
        ],
        "id": "GqZC5QLamBQx"
      },
      "outputs": [],
      "source": [
        "num_epochs = 20\n",
        "model = keras.Sequential([\n",
        "        layers.Conv2D(filters=6, kernel_size=5, activation='sigmoid',\n",
        "                               padding='same', input_shape=(28, 28, 1)),\n",
        "        layers.AvgPool2D(pool_size=2, strides=2),\n",
        "        layers.Conv2D(filters=16, kernel_size=5,\n",
        "                               activation='sigmoid'),\n",
        "        layers.AvgPool2D(pool_size=2, strides=2),\n",
        "        layers.Flatten(),\n",
        "        layers.Dense(120, activation='sigmoid'),\n",
        "        layers.Dense(84, activation='sigmoid'),\n",
        "        layers.Dense(10, activation='softmax')])\n",
        "model.compile(optimizer=\"rmsprop\",\n",
        "              loss=\"sparse_categorical_crossentropy\",\n",
        "              metrics=[\"accuracy\"])"
      ]
    },
    {
      "cell_type": "code",
      "source": [
        "history = model.fit(x_train, y_train, epochs=num_epochs, batch_size=batch_size, validation_split=0.2)"
      ],
      "metadata": {
        "colab": {
          "base_uri": "https://localhost:8080/"
        },
        "id": "Rhn_YwGZrPYL",
        "outputId": "3c34f978-c6a5-4ad4-9411-fdf9c2516b7a"
      },
      "execution_count": null,
      "outputs": [
        {
          "output_type": "stream",
          "name": "stdout",
          "text": [
            "Epoch 1/20\n",
            "188/188 [==============================] - 15s 7ms/step - loss: 2.0212 - accuracy: 0.2709 - val_loss: 1.3627 - val_accuracy: 0.5026\n",
            "Epoch 2/20\n",
            "188/188 [==============================] - 1s 7ms/step - loss: 1.0770 - accuracy: 0.6108 - val_loss: 0.9189 - val_accuracy: 0.6575\n",
            "Epoch 3/20\n",
            "188/188 [==============================] - 1s 6ms/step - loss: 0.8575 - accuracy: 0.6843 - val_loss: 0.7876 - val_accuracy: 0.7113\n",
            "Epoch 4/20\n",
            "188/188 [==============================] - 1s 5ms/step - loss: 0.7761 - accuracy: 0.7100 - val_loss: 0.7364 - val_accuracy: 0.7323\n",
            "Epoch 5/20\n",
            "188/188 [==============================] - 1s 5ms/step - loss: 0.7160 - accuracy: 0.7284 - val_loss: 0.6886 - val_accuracy: 0.7393\n",
            "Epoch 6/20\n",
            "188/188 [==============================] - 1s 5ms/step - loss: 0.6734 - accuracy: 0.7406 - val_loss: 0.6535 - val_accuracy: 0.7512\n",
            "Epoch 7/20\n",
            "188/188 [==============================] - 1s 5ms/step - loss: 0.6413 - accuracy: 0.7525 - val_loss: 0.6149 - val_accuracy: 0.7648\n",
            "Epoch 8/20\n",
            "188/188 [==============================] - 1s 6ms/step - loss: 0.6145 - accuracy: 0.7633 - val_loss: 0.6311 - val_accuracy: 0.7606\n",
            "Epoch 9/20\n",
            "188/188 [==============================] - 1s 5ms/step - loss: 0.5907 - accuracy: 0.7724 - val_loss: 0.5855 - val_accuracy: 0.7639\n",
            "Epoch 10/20\n",
            "188/188 [==============================] - 1s 5ms/step - loss: 0.5663 - accuracy: 0.7832 - val_loss: 0.5521 - val_accuracy: 0.7918\n",
            "Epoch 11/20\n",
            "188/188 [==============================] - 1s 5ms/step - loss: 0.5446 - accuracy: 0.7918 - val_loss: 0.5275 - val_accuracy: 0.8011\n",
            "Epoch 12/20\n",
            "188/188 [==============================] - 1s 5ms/step - loss: 0.5253 - accuracy: 0.8008 - val_loss: 0.5425 - val_accuracy: 0.7936\n",
            "Epoch 13/20\n",
            "188/188 [==============================] - 1s 7ms/step - loss: 0.5074 - accuracy: 0.8094 - val_loss: 0.5218 - val_accuracy: 0.8008\n",
            "Epoch 14/20\n",
            "188/188 [==============================] - 1s 7ms/step - loss: 0.4906 - accuracy: 0.8167 - val_loss: 0.4829 - val_accuracy: 0.8217\n",
            "Epoch 15/20\n",
            "188/188 [==============================] - 1s 5ms/step - loss: 0.4779 - accuracy: 0.8225 - val_loss: 0.4838 - val_accuracy: 0.8119\n",
            "Epoch 16/20\n",
            "188/188 [==============================] - 1s 5ms/step - loss: 0.4653 - accuracy: 0.8278 - val_loss: 0.4764 - val_accuracy: 0.8269\n",
            "Epoch 17/20\n",
            "188/188 [==============================] - 1s 5ms/step - loss: 0.4549 - accuracy: 0.8334 - val_loss: 0.4531 - val_accuracy: 0.8305\n",
            "Epoch 18/20\n",
            "188/188 [==============================] - 1s 5ms/step - loss: 0.4454 - accuracy: 0.8363 - val_loss: 0.4581 - val_accuracy: 0.8306\n",
            "Epoch 19/20\n",
            "188/188 [==============================] - 1s 5ms/step - loss: 0.4372 - accuracy: 0.8400 - val_loss: 0.4480 - val_accuracy: 0.8343\n",
            "Epoch 20/20\n",
            "188/188 [==============================] - 1s 5ms/step - loss: 0.4293 - accuracy: 0.8427 - val_loss: 0.4525 - val_accuracy: 0.8308\n"
          ]
        }
      ]
    },
    {
      "cell_type": "code",
      "source": [
        "model.summary()"
      ],
      "metadata": {
        "colab": {
          "base_uri": "https://localhost:8080/"
        },
        "id": "RaGZY1vItuE_",
        "outputId": "bef32258-a3e3-4f6b-c828-177f684dff9a"
      },
      "execution_count": null,
      "outputs": [
        {
          "output_type": "stream",
          "name": "stdout",
          "text": [
            "Model: \"sequential\"\n",
            "_________________________________________________________________\n",
            " Layer (type)                Output Shape              Param #   \n",
            "=================================================================\n",
            " conv2d (Conv2D)             (None, 28, 28, 6)         156       \n",
            "                                                                 \n",
            " average_pooling2d (AverageP  (None, 14, 14, 6)        0         \n",
            " ooling2D)                                                       \n",
            "                                                                 \n",
            " conv2d_1 (Conv2D)           (None, 10, 10, 16)        2416      \n",
            "                                                                 \n",
            " average_pooling2d_1 (Averag  (None, 5, 5, 16)         0         \n",
            " ePooling2D)                                                     \n",
            "                                                                 \n",
            " flatten (Flatten)           (None, 400)               0         \n",
            "                                                                 \n",
            " dense (Dense)               (None, 120)               48120     \n",
            "                                                                 \n",
            " dense_1 (Dense)             (None, 84)                10164     \n",
            "                                                                 \n",
            " dense_2 (Dense)             (None, 10)                850       \n",
            "                                                                 \n",
            "=================================================================\n",
            "Total params: 61,706\n",
            "Trainable params: 61,706\n",
            "Non-trainable params: 0\n",
            "_________________________________________________________________\n"
          ]
        }
      ]
    },
    {
      "cell_type": "code",
      "source": [
        "import matplotlib.pyplot as plt\n",
        "\n",
        "val_acc = history.history[\"val_accuracy\"]\n",
        "acc = history.history[\"accuracy\"]\n",
        "epochs = range(1, 21)\n",
        "plt.plot(epochs, val_acc, \"b--\",\n",
        "         label=\"Validation loss\")\n",
        "plt.plot(epochs, acc, \"b\",\n",
        "         label=\"Training loss\")\n",
        "plt.title(\"Training and Validation Accuracies on Fashion MNIST\")\n",
        "plt.xlabel(\"Epochs\")\n",
        "plt.ylabel(\"Accuracy\")\n",
        "plt.legend()\n",
        "plt.show()"
      ],
      "metadata": {
        "colab": {
          "base_uri": "https://localhost:8080/",
          "height": 295
        },
        "id": "3W831M8GwQGt",
        "outputId": "45648b0b-5857-4e86-b146-005c37d7a914"
      },
      "execution_count": null,
      "outputs": [
        {
          "output_type": "display_data",
          "data": {
            "text/plain": [
              "<Figure size 432x288 with 1 Axes>"
            ],
            "image/png": "[encoded data removed]"
          },
          "metadata": {
            "needs_background": "light"
          }
        }
      ]
    },
    {
      "cell_type": "code",
      "source": [
        "model.evaluate(x_test, y_test)"
      ],
      "metadata": {
        "colab": {
          "base_uri": "https://localhost:8080/"
        },
        "id": "9qrYdOoctyF8",
        "outputId": "fae899cc-a26d-434a-a89e-38b60e41dbf6"
      },
      "execution_count": null,
      "outputs": [
        {
          "output_type": "stream",
          "name": "stdout",
          "text": [
            "313/313 [==============================] - 2s 5ms/step - loss: 0.4747 - accuracy: 0.8260\n"
          ]
        },
        {
          "output_type": "execute_result",
          "data": {
            "text/plain": [
              "[0.4747280180454254, 0.8259999752044678]"
            ]
          },
          "metadata": {},
          "execution_count": 7
        }
      ]
    },
    {
      "cell_type": "markdown",
      "source": [
        "## Function API"
      ],
      "metadata": {
        "id": "eZau-NKCf8rj"
      }
    },
    {
      "cell_type": "markdown",
      "source": [
        "We have only used the Sequential API in Keras to build deep learning model. However, there are two more choices:\n",
        "\n",
        "- Functional API\n",
        "- Model subclassing\n",
        "\n",
        "Let's look at each of them to redo the LeNet example above. If your architecture is not just a simple linear sequence of layers, you cannot use the Sequential API. A common use case is **residual connections**. For example, see this [toy ResNet model](https://keras.io/guides/functional_api/#a-toy-resnet-model)."
      ],
      "metadata": {
        "id": "rbfN0BtZgLHA"
      }
    },
    {
      "cell_type": "code",
      "source": [
        "inputs = keras.Input(shape=(28,28,1))\n",
        "\n",
        "conv1 = layers.Conv2D(filters=6, kernel_size=5, activation='sigmoid', padding='same')\n",
        "x = conv1(inputs)\n",
        "\n",
        "pool1 = layers.AvgPool2D(pool_size=2, strides=2)\n",
        "x = pool1(x)\n",
        "\n",
        "conv2 = layers.Conv2D(filters=16, kernel_size=5, activation='sigmoid')\n",
        "x = conv2(x)\n",
        "\n",
        "pool2 = layers.AvgPool2D(pool_size=2, strides=2)\n",
        "x = pool2(x)\n",
        "\n",
        "flatten = layers.Flatten()\n",
        "x = flatten(x)\n",
        "\n",
        "fc1 = layers.Dense(120, activation='sigmoid')\n",
        "x = fc1(x)\n",
        "\n",
        "fc2 = layers.Dense(84, activation='sigmoid')\n",
        "x = fc2(x)\n",
        "\n",
        "fc3 = layers.Dense(10, activation='softmax')\n",
        "outputs = fc3(x)\n",
        "\n",
        "model = keras.Model(inputs=inputs, outputs=outputs, name=\"LeNet_model\")"
      ],
      "metadata": {
        "id": "Jkps7yK3gn-z"
      },
      "execution_count": null,
      "outputs": []
    },
    {
      "cell_type": "code",
      "source": [
        "model.summary()"
      ],
      "metadata": {
        "id": "fnqa-r4Niq7i",
        "outputId": "fefdcd92-13b5-40b7-8e15-1d75344ccae3",
        "colab": {
          "base_uri": "https://localhost:8080/"
        }
      },
      "execution_count": null,
      "outputs": [
        {
          "output_type": "stream",
          "name": "stdout",
          "text": [
            "Model: \"LeNet_model\"\n",
            "_________________________________________________________________\n",
            " Layer (type)                Output Shape              Param #   \n",
            "=================================================================\n",
            " input_1 (InputLayer)        [(None, 28, 28, 1)]       0         \n",
            "                                                                 \n",
            " conv2d_2 (Conv2D)           (None, 28, 28, 6)         156       \n",
            "                                                                 \n",
            " average_pooling2d_2 (Averag  (None, 14, 14, 6)        0         \n",
            " ePooling2D)                                                     \n",
            "                                                                 \n",
            " conv2d_3 (Conv2D)           (None, 10, 10, 16)        2416      \n",
            "                                                                 \n",
            " average_pooling2d_3 (Averag  (None, 5, 5, 16)         0         \n",
            " ePooling2D)                                                     \n",
            "                                                                 \n",
            " flatten_1 (Flatten)         (None, 400)               0         \n",
            "                                                                 \n",
            " dense_3 (Dense)             (None, 120)               48120     \n",
            "                                                                 \n",
            " dense_4 (Dense)             (None, 84)                10164     \n",
            "                                                                 \n",
            " dense_5 (Dense)             (None, 10)                850       \n",
            "                                                                 \n",
            "=================================================================\n",
            "Total params: 61,706\n",
            "Trainable params: 61,706\n",
            "Non-trainable params: 0\n",
            "_________________________________________________________________\n"
          ]
        }
      ]
    },
    {
      "cell_type": "code",
      "source": [
        "keras.utils.plot_model(model, show_shapes=True)"
      ],
      "metadata": {
        "id": "l_DoDY63ixoI",
        "outputId": "08523e2f-b49d-4420-dde1-93fd020f8c3e",
        "colab": {
          "base_uri": "https://localhost:8080/",
          "height": 976
        }
      },
      "execution_count": null,
      "outputs": [
        {
          "output_type": "execute_result",
          "data": {
            "image/png": "[encoded data removed]",
            "text/plain": [
              "<IPython.core.display.Image object>"
            ]
          },
          "metadata": {},
          "execution_count": 10
        }
      ]
    },
    {
      "cell_type": "markdown",
      "source": [
        "Model fitting works exactly the same as with sequential API."
      ],
      "metadata": {
        "id": "bEHDW64fjJEZ"
      }
    },
    {
      "cell_type": "code",
      "source": [
        "model.compile(optimizer=\"rmsprop\",\n",
        "              loss=\"sparse_categorical_crossentropy\",\n",
        "              metrics=[\"accuracy\"])"
      ],
      "metadata": {
        "id": "3n1xFD4gjRO5"
      },
      "execution_count": null,
      "outputs": []
    },
    {
      "cell_type": "code",
      "source": [
        "history = model.fit(x_train, y_train, epochs=num_epochs, batch_size=batch_size, validation_split=0.2)"
      ],
      "metadata": {
        "id": "QIOZEa3HjIWJ",
        "outputId": "80679943-41af-4b16-f46f-23c470c88fb3",
        "colab": {
          "base_uri": "https://localhost:8080/"
        }
      },
      "execution_count": null,
      "outputs": [
        {
          "output_type": "stream",
          "name": "stdout",
          "text": [
            "Epoch 1/20\n",
            "188/188 [==============================] - 6s 16ms/step - loss: 2.1938 - accuracy: 0.1985 - val_loss: 1.6004 - val_accuracy: 0.5004\n",
            "Epoch 2/20\n",
            "188/188 [==============================] - 2s 8ms/step - loss: 1.1798 - accuracy: 0.5826 - val_loss: 0.9470 - val_accuracy: 0.6470\n",
            "Epoch 3/20\n",
            "188/188 [==============================] - 2s 8ms/step - loss: 0.8607 - accuracy: 0.6775 - val_loss: 0.7850 - val_accuracy: 0.6969\n",
            "Epoch 4/20\n",
            "188/188 [==============================] - 1s 6ms/step - loss: 0.7500 - accuracy: 0.7135 - val_loss: 0.7219 - val_accuracy: 0.7215\n",
            "Epoch 5/20\n",
            "188/188 [==============================] - 1s 8ms/step - loss: 0.6978 - accuracy: 0.7272 - val_loss: 0.6729 - val_accuracy: 0.7407\n",
            "Epoch 6/20\n",
            "188/188 [==============================] - 2s 8ms/step - loss: 0.6645 - accuracy: 0.7409 - val_loss: 0.6474 - val_accuracy: 0.7421\n",
            "Epoch 7/20\n",
            "188/188 [==============================] - 2s 9ms/step - loss: 0.6362 - accuracy: 0.7521 - val_loss: 0.6148 - val_accuracy: 0.7567\n",
            "Epoch 8/20\n",
            "188/188 [==============================] - 1s 8ms/step - loss: 0.6126 - accuracy: 0.7631 - val_loss: 0.6159 - val_accuracy: 0.7531\n",
            "Epoch 9/20\n",
            "188/188 [==============================] - 2s 8ms/step - loss: 0.5883 - accuracy: 0.7738 - val_loss: 0.5678 - val_accuracy: 0.7713\n",
            "Epoch 10/20\n",
            "188/188 [==============================] - 1s 8ms/step - loss: 0.5658 - accuracy: 0.7826 - val_loss: 0.5390 - val_accuracy: 0.7937\n",
            "Epoch 11/20\n",
            "188/188 [==============================] - 1s 7ms/step - loss: 0.5464 - accuracy: 0.7922 - val_loss: 0.5405 - val_accuracy: 0.7918\n",
            "Epoch 12/20\n",
            "188/188 [==============================] - 1s 8ms/step - loss: 0.5280 - accuracy: 0.8017 - val_loss: 0.5065 - val_accuracy: 0.8104\n",
            "Epoch 13/20\n",
            "188/188 [==============================] - 1s 7ms/step - loss: 0.5118 - accuracy: 0.8067 - val_loss: 0.5227 - val_accuracy: 0.8042\n",
            "Epoch 14/20\n",
            "188/188 [==============================] - 1s 7ms/step - loss: 0.4976 - accuracy: 0.8138 - val_loss: 0.5207 - val_accuracy: 0.7966\n",
            "Epoch 15/20\n",
            "188/188 [==============================] - 1s 7ms/step - loss: 0.4841 - accuracy: 0.8214 - val_loss: 0.4806 - val_accuracy: 0.8234\n",
            "Epoch 16/20\n",
            "188/188 [==============================] - 2s 8ms/step - loss: 0.4721 - accuracy: 0.8262 - val_loss: 0.4597 - val_accuracy: 0.8253\n",
            "Epoch 17/20\n",
            "188/188 [==============================] - 1s 7ms/step - loss: 0.4627 - accuracy: 0.8300 - val_loss: 0.4623 - val_accuracy: 0.8284\n",
            "Epoch 18/20\n",
            "188/188 [==============================] - 1s 7ms/step - loss: 0.4517 - accuracy: 0.8330 - val_loss: 0.4722 - val_accuracy: 0.8232\n",
            "Epoch 19/20\n",
            "188/188 [==============================] - 1s 6ms/step - loss: 0.4431 - accuracy: 0.8382 - val_loss: 0.4575 - val_accuracy: 0.8279\n",
            "Epoch 20/20\n",
            "188/188 [==============================] - 1s 6ms/step - loss: 0.4363 - accuracy: 0.8413 - val_loss: 0.4474 - val_accuracy: 0.8332\n"
          ]
        }
      ]
    },
    {
      "cell_type": "markdown",
      "source": [
        "## Model Subclassing"
      ],
      "metadata": {
        "id": "1Hk3pBjcjlcb"
      }
    },
    {
      "cell_type": "code",
      "source": [
        "class LeNet_Model(keras.Model):\n",
        "\n",
        "  def __init__(self, num_classes, input_shape):\n",
        "    super(LeNet_Model, self).__init__()\n",
        "\n",
        "    self.conv1 = layers.Conv2D(filters=6, kernel_size=5, activation='sigmoid', padding='same', input_shape=input_shape)\n",
        "    self.pool1 = layers.AvgPool2D(pool_size=2, strides=2)\n",
        "    self.conv2 = layers.Conv2D(filters=16, kernel_size=5, activation='sigmoid')\n",
        "    self.pool2 = layers.AvgPool2D(pool_size=2, strides=2)\n",
        "    self.flatten = layers.Flatten()\n",
        "    self.fc1 = layers.Dense(120, activation='sigmoid')\n",
        "    self.fc2 = layers.Dense(84, activation='sigmoid')\n",
        "    self.fc3 = layers.Dense(num_classes, activation='softmax')\n",
        "\n",
        "  def call(self, inputs):\n",
        "    x = self.conv1(inputs)\n",
        "    x = self.pool1(x)\n",
        "    x = self.conv2(x)\n",
        "    x = self.pool2(x)\n",
        "    x = self.flatten(x)\n",
        "    x = self.fc1(x)\n",
        "    x = self.fc2(x)\n",
        "    outputs = self.fc3(x)\n",
        "    return outputs"
      ],
      "metadata": {
        "id": "3Sa-0_P6k_8c"
      },
      "execution_count": null,
      "outputs": []
    },
    {
      "cell_type": "code",
      "source": [
        "lenet_model = LeNet_Model(10, (None, 28, 28, 1))\n",
        "lenet_model.compile(optimizer=\"rmsprop\",\n",
        "              loss=\"sparse_categorical_crossentropy\",\n",
        "              metrics=[\"accuracy\"])"
      ],
      "metadata": {
        "id": "nCybvsrAnAqg"
      },
      "execution_count": null,
      "outputs": []
    },
    {
      "cell_type": "code",
      "source": [
        "x_train = tf.expand_dims(x_train, -1)\n",
        "x_train.shape"
      ],
      "metadata": {
        "id": "YfjmK4nHrg2c",
        "outputId": "94ea8c09-8579-4f99-a71a-cc3f62842566",
        "colab": {
          "base_uri": "https://localhost:8080/"
        }
      },
      "execution_count": null,
      "outputs": [
        {
          "output_type": "execute_result",
          "data": {
            "text/plain": [
              "TensorShape([60000, 28, 28, 1])"
            ]
          },
          "metadata": {},
          "execution_count": 15
        }
      ]
    },
    {
      "cell_type": "code",
      "source": [
        "history = lenet_model.fit(x_train, y_train, epochs=num_epochs, batch_size=batch_size, validation_split=0.2)"
      ],
      "metadata": {
        "id": "8foENq7TnOEH",
        "outputId": "d69d3b7f-1995-41ef-c1bd-13b51c34276a",
        "colab": {
          "base_uri": "https://localhost:8080/"
        }
      },
      "execution_count": null,
      "outputs": [
        {
          "output_type": "stream",
          "name": "stdout",
          "text": [
            "Epoch 1/20\n",
            "188/188 [==============================] - 3s 7ms/step - loss: 1.9922 - accuracy: 0.2834 - val_loss: 1.3103 - val_accuracy: 0.4982\n",
            "Epoch 2/20\n",
            "188/188 [==============================] - 1s 6ms/step - loss: 1.0558 - accuracy: 0.6134 - val_loss: 0.8841 - val_accuracy: 0.6789\n",
            "Epoch 3/20\n",
            "188/188 [==============================] - 1s 6ms/step - loss: 0.8290 - accuracy: 0.6912 - val_loss: 0.7708 - val_accuracy: 0.7120\n",
            "Epoch 4/20\n",
            "188/188 [==============================] - 1s 5ms/step - loss: 0.7360 - accuracy: 0.7208 - val_loss: 0.6975 - val_accuracy: 0.7330\n",
            "Epoch 5/20\n",
            "188/188 [==============================] - 1s 5ms/step - loss: 0.6897 - accuracy: 0.7328 - val_loss: 0.6625 - val_accuracy: 0.7459\n",
            "Epoch 6/20\n",
            "188/188 [==============================] - 1s 5ms/step - loss: 0.6597 - accuracy: 0.7425 - val_loss: 0.6343 - val_accuracy: 0.7510\n",
            "Epoch 7/20\n",
            "188/188 [==============================] - 1s 5ms/step - loss: 0.6368 - accuracy: 0.7516 - val_loss: 0.6133 - val_accuracy: 0.7639\n",
            "Epoch 8/20\n",
            "188/188 [==============================] - 1s 8ms/step - loss: 0.6161 - accuracy: 0.7600 - val_loss: 0.6028 - val_accuracy: 0.7714\n",
            "Epoch 9/20\n",
            "188/188 [==============================] - 1s 7ms/step - loss: 0.5979 - accuracy: 0.7706 - val_loss: 0.5845 - val_accuracy: 0.7644\n",
            "Epoch 10/20\n",
            "188/188 [==============================] - 1s 6ms/step - loss: 0.5775 - accuracy: 0.7784 - val_loss: 0.5510 - val_accuracy: 0.7928\n",
            "Epoch 11/20\n",
            "188/188 [==============================] - 1s 6ms/step - loss: 0.5599 - accuracy: 0.7861 - val_loss: 0.5719 - val_accuracy: 0.7795\n",
            "Epoch 12/20\n",
            "188/188 [==============================] - 1s 6ms/step - loss: 0.5433 - accuracy: 0.7940 - val_loss: 0.5343 - val_accuracy: 0.7960\n",
            "Epoch 13/20\n",
            "188/188 [==============================] - 1s 5ms/step - loss: 0.5279 - accuracy: 0.7997 - val_loss: 0.5138 - val_accuracy: 0.8037\n",
            "Epoch 14/20\n",
            "188/188 [==============================] - 1s 5ms/step - loss: 0.5109 - accuracy: 0.8080 - val_loss: 0.5358 - val_accuracy: 0.7895\n",
            "Epoch 15/20\n",
            "188/188 [==============================] - 1s 5ms/step - loss: 0.4963 - accuracy: 0.8148 - val_loss: 0.4848 - val_accuracy: 0.8209\n",
            "Epoch 16/20\n",
            "188/188 [==============================] - 1s 5ms/step - loss: 0.4852 - accuracy: 0.8195 - val_loss: 0.4818 - val_accuracy: 0.8216\n",
            "Epoch 17/20\n",
            "188/188 [==============================] - 1s 5ms/step - loss: 0.4745 - accuracy: 0.8239 - val_loss: 0.4713 - val_accuracy: 0.8205\n",
            "Epoch 18/20\n",
            "188/188 [==============================] - 1s 6ms/step - loss: 0.4639 - accuracy: 0.8287 - val_loss: 0.5160 - val_accuracy: 0.8047\n",
            "Epoch 19/20\n",
            "188/188 [==============================] - 1s 7ms/step - loss: 0.4550 - accuracy: 0.8319 - val_loss: 0.4510 - val_accuracy: 0.8352\n",
            "Epoch 20/20\n",
            "188/188 [==============================] - 2s 8ms/step - loss: 0.4450 - accuracy: 0.8368 - val_loss: 0.4403 - val_accuracy: 0.8388\n"
          ]
        }
      ]
    },
    {
      "cell_type": "markdown",
      "metadata": {
        "origin_pos": 20,
        "id": "aPeJcu_PmBQy"
      },
      "source": [
        "## Summary\n",
        "\n",
        "* A CNN is a network that employs convolutional layers.\n",
        "* In a CNN, we interleave convolutions, nonlinearities, and (often) pooling operations.\n",
        "* In a CNN, convolutional layers are typically arranged so that they gradually decrease the spatial resolution of the representations, while increasing the number of channels.\n",
        "* In traditional CNNs, the representations encoded by the convolutional blocks are processed by one or more fully-connected layers prior to emitting output.\n",
        "* LeNet was arguably the first successful deployment of such a network\n",
        "* In Keras, we can build models using the Sequential API, the Functional API, or Model Subclassing\n"
      ]
    }
  ],
  "metadata": {
    "accelerator": "GPU",
    "kernelspec": {
      "display_name": "Python 3",
      "name": "python3"
    },
    "language_info": {
      "name": "python"
    },
    "colab": {
      "provenance": []
    }
  },
  "nbformat": 4,
  "nbformat_minor": 0
}